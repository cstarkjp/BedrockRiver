{
 "cells": [
  {
   "cell_type": "markdown",
   "metadata": {
    "slideshow": {
     "slide_type": "slide"
    }
   },
   "source": [
    "# Channel cross-section evolution\n"
   ]
  },
  {
   "cell_type": "markdown",
   "metadata": {
    "slideshow": {
     "slide_type": "slide"
    }
   },
   "source": [
    "## Python setup"
   ]
  },
  {
   "cell_type": "code",
   "execution_count": 1,
   "metadata": {
    "slideshow": {
     "slide_type": "subslide"
    }
   },
   "outputs": [],
   "source": [
    "import bedrock_river as br, sympy as sy, numpy as np, matplotlib.pyplot as plt\n",
    "from dill.source import getsource\n",
    "sy.init_printing(pretty_print=True,wrap_line=True)\n",
    "from symbols import *"
   ]
  },
  {
   "cell_type": "code",
   "execution_count": 2,
   "metadata": {
    "slideshow": {
     "slide_type": "subslide"
    }
   },
   "outputs": [
    {
     "name": "stdout",
     "output_type": "stream",
     "text": [
      "Initializing open channel flow hydraulics...done\n"
     ]
    }
   ],
   "source": [
    "cm = br.channel.new_model()"
   ]
  },
  {
   "cell_type": "markdown",
   "metadata": {
    "slideshow": {
     "slide_type": "slide"
    }
   },
   "source": [
    "## Recipe"
   ]
  },
  {
   "cell_type": "markdown",
   "metadata": {},
   "source": [
    "1. Fix base width $w$, slope $\\beta_0$, sinuosity $\\chi=0$\n",
    "2. Fix wall angle $\\theta=\\pi/2$ thus imposing simple initial rectangular cross-section (ignoring beveled corners)\n",
    "\n",
    "Loop:\n",
    "3. Compute flow speed $u$ and flow depth $d$\n",
    "4. Compute bedload flux $q_b$\n",
    "5. Compute suspended load flux profile fractions at (i) wall-base corner $q_c$ (ii) remainder above corner $q_w$\n",
    "6. Optionally compute wall & corner weathering rates to modulate their erodibility\n",
    "7. Compute base wear rate $\\xi_b$, corner wear rate $\\xi_c$ and wall wear rate $\\xi_w$\n",
    "8. Compute base-corner vector $\\vec{\\xi}_{bc}$, base-corner vector dip (from vertical) $\\theta$\n",
    "9. Convert into rate of change of base channel width $\\dot{w}$;  secondarily compute base elevation $\\dot{h}$\n",
    "10. Compute wall base-corner-driven motion vector $\\vec{\\xi}_{wc}$ and wall rotation rate $\\dot{\\theta}$\n",
    "11. Time step by $\\Delta{t}$ the ODE system $(\\dot{w}, \\dot{\\theta})$ of rates of change of channel base width and wall dip; secondarily evolve base elevation $\\dot{h}$ \n",
    "12. Repeat"
   ]
  },
  {
   "cell_type": "markdown",
   "metadata": {
    "slideshow": {
     "slide_type": "slide"
    }
   },
   "source": [
    "## Derivation"
   ]
  },
  {
   "cell_type": "markdown",
   "metadata": {
    "slideshow": {
     "slide_type": "slide"
    }
   },
   "source": [
    "### Wall geometry evolution"
   ]
  },
  {
   "cell_type": "markdown",
   "metadata": {},
   "source": [
    "The base-corner vector magnitude is:"
   ]
  },
  {
   "cell_type": "code",
   "execution_count": 3,
   "metadata": {},
   "outputs": [
    {
     "data": {
      "image/png": "[encoded data removed]",
      "text/latex": [
       "$$\\xi_{bc} = \\sqrt{\\xi_{b}^{2} + \\frac{\\left(- \\xi_{b} + \\xi_{c}\\right)^{2}}{2}}$$"
      ],
      "text/plain": [
       "            ______________________\n",
       "           ╱                    2 \n",
       "          ╱     2   (-ξ_b + ξ_c)  \n",
       "ξ_bc =   ╱   ξ_b  + ───────────── \n",
       "       ╲╱                 2       "
      ]
     },
     "execution_count": 3,
     "metadata": {},
     "output_type": "execute_result"
    }
   ],
   "source": [
    "sy.Eq(xi_bc, sy.sqrt(xi_b**2+(xi_c-xi_b)**2/2)) "
   ]
  },
  {
   "cell_type": "markdown",
   "metadata": {},
   "source": [
    "The angle $\\alpha$ between corner-wall vector, with dip $\\phi$ from vertical, and the wall normal, with dip $\\phi$ from horizontal, is:"
   ]
  },
  {
   "cell_type": "code",
   "execution_count": 4,
   "metadata": {},
   "outputs": [
    {
     "data": {
      "image/png": "[encoded data removed]",
      "text/latex": [
       "$$\\alpha = - \\phi + \\theta$$"
      ],
      "text/plain": [
       "α = -φ + θ"
      ]
     },
     "execution_count": 4,
     "metadata": {},
     "output_type": "execute_result"
    },
    {
     "data": {
      "image/png": "[encoded data removed]",
      "text/latex": [
       "$$\\tan{\\left (\\phi \\right )} = \\frac{\\sqrt{2} \\left(- \\xi_{b} + \\xi_{c}\\right)}{2 \\xi_{b}}$$"
      ],
      "text/plain": [
       "         √2⋅(-ξ_b + ξ_c)\n",
       "tan(φ) = ───────────────\n",
       "              2⋅ξ_b     "
      ]
     },
     "execution_count": 4,
     "metadata": {},
     "output_type": "execute_result"
    },
    {
     "data": {
      "image/png": "[encoded data removed]",
      "text/latex": [
       "$$\\cos{\\left (\\phi \\right )} = \\frac{\\xi_{b}}{\\sqrt{\\xi_{b}^{2} + \\frac{\\left(- \\xi_{b} + \\xi_{c}\\right)^{2}}{2}}}$$"
      ],
      "text/plain": [
       "                     ξ_b            \n",
       "cos(φ) = ───────────────────────────\n",
       "              ______________________\n",
       "             ╱                    2 \n",
       "            ╱     2   (-ξ_b + ξ_c)  \n",
       "           ╱   ξ_b  + ───────────── \n",
       "         ╲╱                 2       "
      ]
     },
     "execution_count": 4,
     "metadata": {},
     "output_type": "execute_result"
    }
   ],
   "source": [
    "sy.Eq(alpha,theta-phi)\n",
    "sy.Eq(sy.tan(phi),(xi_c-xi_b)/(sy.sqrt(2)*xi_b))\n",
    "sy.Eq(sy.cos(phi),xi_b/sy.sqrt(xi_b**2+(xi_c-xi_b)**2/2))"
   ]
  },
  {
   "cell_type": "markdown",
   "metadata": {},
   "source": [
    "The difference between the projection of $\\vec{\\xi}_{bc}$ onto the wall-normal direction and the wall-normal erosion rate $\\xi_w$ leads to the rate of change of wall dip $\\dot{\\theta}(t)$:"
   ]
  },
  {
   "cell_type": "code",
   "execution_count": 5,
   "metadata": {},
   "outputs": [
    {
     "data": {
      "image/png": "[encoded data removed]",
      "text/latex": [
       "$$\\dot{\\theta}{\\left (t \\right )} = \\frac{2 \\left(\\xi_{bc} \\cos{\\left (\\phi - \\theta \\right )} - \\xi_{w}\\right)}{h}$$"
      ],
      "text/plain": [
       "                  2⋅(ξ_bc⋅cos(φ - θ) - ξ_w)\n",
       "\\dot{\\theta}(t) = ─────────────────────────\n",
       "                              h            "
      ]
     },
     "execution_count": 5,
     "metadata": {},
     "output_type": "execute_result"
    }
   ],
   "source": [
    "f_dot_theta   = sy.Function('\\dot{\\\\theta}', real=True)(t)\n",
    "sy.Eq(f_dot_theta, (xi_bc*sy.cos(theta-phi)-xi_w)*(2/h))"
   ]
  },
  {
   "cell_type": "markdown",
   "metadata": {},
   "source": [
    "Since we track $\\xi_{bc}(t), \\xi_{w}(t), \\theta(t)$ and since wall height $h(t)$ will be a simple function of (equal to?) flow depth $d(t)$, we have enought to compute $\\dot{\\theta}(t)$ at each time step."
   ]
  },
  {
   "cell_type": "markdown",
   "metadata": {},
   "source": [
    "At steady-state, $\\dot\\theta=0$, thus $\\xi_w=\\xi_{bc}\\cos(\\phi-\\theta_{ss})$, and thus:"
   ]
  },
  {
   "cell_type": "code",
   "execution_count": 6,
   "metadata": {},
   "outputs": [
    {
     "data": {
      "image/png": "[encoded data removed]",
      "text/latex": [
       "$$\\cos{\\left (\\phi - \\theta_{ss} \\right )} = \\frac{\\xi_{w}}{\\sqrt{\\xi_{b}^{2} + \\frac{\\left(- \\xi_{b} + \\xi_{c}\\right)^{2}}{2}}}$$"
      ],
      "text/plain": [
       "                           ξ_w            \n",
       "cos(φ - θₛₛ) = ───────────────────────────\n",
       "                    ______________________\n",
       "                   ╱                    2 \n",
       "                  ╱     2   (-ξ_b + ξ_c)  \n",
       "                 ╱   ξ_b  + ───────────── \n",
       "               ╲╱                 2       "
      ]
     },
     "execution_count": 6,
     "metadata": {},
     "output_type": "execute_result"
    },
    {
     "data": {
      "image/png": "[encoded data removed]",
      "text/latex": [
       "$$\\theta_{ss} = \\phi - \\operatorname{acos}{\\left (\\frac{\\xi_{w}}{\\sqrt{\\xi_{b}^{2} + \\frac{\\left(- \\xi_{b} + \\xi_{c}\\right)^{2}}{2}}} \\right )}$$"
      ],
      "text/plain": [
       "              ⎛            ξ_w            ⎞\n",
       "θₛₛ = φ - acos⎜───────────────────────────⎟\n",
       "              ⎜     ______________________⎟\n",
       "              ⎜    ╱                    2 ⎟\n",
       "              ⎜   ╱     2   (-ξ_b + ξ_c)  ⎟\n",
       "              ⎜  ╱   ξ_b  + ───────────── ⎟\n",
       "              ⎝╲╱                 2       ⎠"
      ]
     },
     "execution_count": 6,
     "metadata": {},
     "output_type": "execute_result"
    }
   ],
   "source": [
    "sy.Eq(sy.cos(theta_ss-phi),xi_w/sy.sqrt(xi_b**2+(xi_c-xi_b)**2/2))\n",
    "sy.Eq(theta_ss,phi-sy.acos(xi_w/sy.sqrt(xi_b**2+(xi_c-xi_b)**2/2)))"
   ]
  },
  {
   "cell_type": "markdown",
   "metadata": {
    "slideshow": {
     "slide_type": "slide"
    }
   },
   "source": [
    "### Open channel flow: cross-sectional area and wetted perimeter $p$"
   ]
  },
  {
   "cell_type": "markdown",
   "metadata": {
    "slideshow": {
     "slide_type": "slide"
    }
   },
   "source": [
    "Flow cross-sectional area $A$:"
   ]
  },
  {
   "cell_type": "code",
   "execution_count": 7,
   "metadata": {},
   "outputs": [
    {
     "data": {
      "image/png": "[encoded data removed]",
      "text/latex": [
       "$$A = d \\left(\\frac{d}{\\tan{\\left (\\theta \\right )}} + w\\right)$$"
      ],
      "text/plain": [
       "      ⎛  d       ⎞\n",
       "A = d⋅⎜────── + w⎟\n",
       "      ⎝tan(θ)    ⎠"
      ]
     },
     "execution_count": 7,
     "metadata": {},
     "output_type": "execute_result"
    }
   ],
   "source": [
    "cm.A_eqn_geom()"
   ]
  },
  {
   "cell_type": "code",
   "execution_count": 8,
   "metadata": {},
   "outputs": [
    {
     "data": {
      "image/png": "[encoded data removed]",
      "text/latex": [
       "$$A = \\frac{Q}{u}$$"
      ],
      "text/plain": [
       "    Q\n",
       "A = ─\n",
       "    u"
      ]
     },
     "execution_count": 8,
     "metadata": {},
     "output_type": "execute_result"
    }
   ],
   "source": [
    "cm.A_eqn_dyn()"
   ]
  },
  {
   "cell_type": "markdown",
   "metadata": {
    "slideshow": {
     "slide_type": "slide"
    }
   },
   "source": [
    "Wetted perimeter $p$:"
   ]
  },
  {
   "cell_type": "code",
   "execution_count": 9,
   "metadata": {},
   "outputs": [
    {
     "data": {
      "image/png": "[encoded data removed]",
      "text/latex": [
       "$$p = \\frac{2 d}{\\sin{\\left (\\theta \\right )}} + w$$"
      ],
      "text/plain": [
       "     2⋅d      \n",
       "p = ────── + w\n",
       "    sin(θ)    "
      ]
     },
     "execution_count": 9,
     "metadata": {},
     "output_type": "execute_result"
    }
   ],
   "source": [
    "cm.p_eqn()"
   ]
  },
  {
   "cell_type": "code",
   "execution_count": 10,
   "metadata": {},
   "outputs": [
    {
     "name": "stdout",
     "output_type": "stream",
     "text": [
      "    def R_eqn(self):\n",
      "        return sy.Eq(R, self.A_eqn_dyn().rhs/self.p_eqn().rhs).simplify()\n",
      "\n"
     ]
    },
    {
     "data": {
      "image/png": "[encoded data removed]",
      "text/latex": [
       "$$R = \\frac{Q \\sin{\\left (\\theta \\right )}}{u \\left(2 d + w \\sin{\\left (\\theta \\right )}\\right)}$$"
      ],
      "text/plain": [
       "         Q⋅sin(θ)     \n",
       "R = ──────────────────\n",
       "    u⋅(2⋅d + w⋅sin(θ))"
      ]
     },
     "execution_count": 10,
     "metadata": {},
     "output_type": "execute_result"
    }
   ],
   "source": [
    "print(getsource(cm.R_eqn))\n",
    "cm.R_eqn()"
   ]
  },
  {
   "cell_type": "markdown",
   "metadata": {
    "slideshow": {
     "slide_type": "slide"
    }
   },
   "source": [
    "### Open channel flow:  boundary shear stress $\\tau$ and shear velocity $u^*$"
   ]
  },
  {
   "cell_type": "markdown",
   "metadata": {
    "slideshow": {
     "slide_type": "slide"
    }
   },
   "source": [
    "Mean boundary shear stress $\\tau$, averaged along wetted perimeter $p$:"
   ]
  },
  {
   "cell_type": "code",
   "execution_count": 11,
   "metadata": {},
   "outputs": [
    {
     "name": "stdout",
     "output_type": "stream",
     "text": [
      "    def tau_eqn_raw(self):\n",
      "        return sy.Eq(tau,(rho*g*A*sy.sin(beta)/p).subs(A,self.A_eqn_dyn().rhs))\n",
      "\n"
     ]
    },
    {
     "data": {
      "image/png": "[encoded data removed]",
      "text/latex": [
       "$$\\tau = \\frac{Q g \\rho \\sin{\\left (\\beta \\right )}}{p u}$$"
      ],
      "text/plain": [
       "    Q⋅g⋅ρ⋅sin(β)\n",
       "τ = ────────────\n",
       "        p⋅u     "
      ]
     },
     "execution_count": 11,
     "metadata": {},
     "output_type": "execute_result"
    }
   ],
   "source": [
    "print(getsource(cm.tau_eqn_raw))\n",
    "cm.tau_eqn_raw()"
   ]
  },
  {
   "cell_type": "code",
   "execution_count": 12,
   "metadata": {},
   "outputs": [
    {
     "name": "stdout",
     "output_type": "stream",
     "text": [
      "    def tau_eqn_geom(self):\n",
      "        return self.tau_eqn_raw().subs(p,self.p_eqn().rhs).simplify()\n",
      "\n"
     ]
    },
    {
     "data": {
      "image/png": "[encoded data removed]",
      "text/latex": [
       "$$\\tau = \\frac{Q g \\rho \\sin{\\left (\\beta \\right )} \\sin{\\left (\\theta \\right )}}{u \\left(2 d + w \\sin{\\left (\\theta \\right )}\\right)}$$"
      ],
      "text/plain": [
       "    Q⋅g⋅ρ⋅sin(β)⋅sin(θ)\n",
       "τ = ───────────────────\n",
       "     u⋅(2⋅d + w⋅sin(θ))"
      ]
     },
     "execution_count": 12,
     "metadata": {},
     "output_type": "execute_result"
    }
   ],
   "source": [
    "print(getsource(cm.tau_eqn_geom))\n",
    "cm.tau_eqn_geom()"
   ]
  },
  {
   "cell_type": "markdown",
   "metadata": {
    "slideshow": {
     "slide_type": "slide"
    }
   },
   "source": [
    "Mean shear stress at a rough boundary:"
   ]
  },
  {
   "cell_type": "code",
   "execution_count": 13,
   "metadata": {},
   "outputs": [
    {
     "data": {
      "image/png": "[encoded data removed]",
      "text/latex": [
       "$$\\tau = f \\rho u^{2}$$"
      ],
      "text/plain": [
       "         2\n",
       "τ = f⋅ρ⋅u "
      ]
     },
     "execution_count": 13,
     "metadata": {},
     "output_type": "execute_result"
    }
   ],
   "source": [
    "cm.tau_eqn_friction()\n",
    "# cm.tau_eqn_manning_friction()"
   ]
  },
  {
   "cell_type": "markdown",
   "metadata": {
    "slideshow": {
     "slide_type": "slide"
    }
   },
   "source": [
    "Dimensionless friction factor $f$ and Chézy roughness coefficient $C$ (for which $C_Z = \\dfrac{1}{\\sqrt{g}C}$):"
   ]
  },
  {
   "cell_type": "code",
   "execution_count": 14,
   "metadata": {},
   "outputs": [
    {
     "data": {
      "image/png": "[encoded data removed]",
      "text/latex": [
       "$$f = C^{2} g$$"
      ],
      "text/plain": [
       "     2  \n",
       "f = C ⋅g"
      ]
     },
     "execution_count": 14,
     "metadata": {},
     "output_type": "execute_result"
    },
    {
     "data": {
      "image/png": "[encoded data removed]",
      "text/latex": [
       "$$f = 0.01$$"
      ],
      "text/plain": [
       "f = 0.01"
      ]
     },
     "execution_count": 14,
     "metadata": {},
     "output_type": "execute_result"
    }
   ],
   "source": [
    "cm.set_friction_model('chezy')\n",
    "cm.friction_eqn()\n",
    "_.subs(cm.get_params())"
   ]
  },
  {
   "cell_type": "markdown",
   "metadata": {
    "slideshow": {
     "slide_type": "slide"
    }
   },
   "source": [
    "Friction factor $f$ and Manning's $n$:"
   ]
  },
  {
   "cell_type": "code",
   "execution_count": 15,
   "metadata": {},
   "outputs": [
    {
     "data": {
      "image/png": "[encoded data removed]",
      "text/latex": [
       "$$f = \\frac{g n_{m}^{2}}{\\sqrt[3]{R}}$$"
      ],
      "text/plain": [
       "        2\n",
       "    g⋅nₘ \n",
       "f = ─────\n",
       "    3 ___\n",
       "    ╲╱ R "
      ]
     },
     "execution_count": 15,
     "metadata": {},
     "output_type": "execute_result"
    },
    {
     "data": {
      "image/png": "[encoded data removed]",
      "text/latex": [
       "$$f = \\frac{0.009}{\\sqrt[3]{R}}$$"
      ],
      "text/plain": [
       "    0.009\n",
       "f = ─────\n",
       "    3 ___\n",
       "    ╲╱ R "
      ]
     },
     "execution_count": 15,
     "metadata": {},
     "output_type": "execute_result"
    },
    {
     "data": {
      "image/png": "[encoded data removed]",
      "text/latex": [
       "$$f = \\frac{g n_{m}^{2} \\sqrt[3]{u} \\sqrt[3]{2 d + w \\sin{\\left (\\theta \\right )}}}{\\sqrt[3]{Q} \\sqrt[3]{\\sin{\\left (\\theta \\right )}}}$$"
      ],
      "text/plain": [
       "        2 3 ___ 3 ________________\n",
       "    g⋅nₘ ⋅╲╱ u ⋅╲╱ 2⋅d + w⋅sin(θ) \n",
       "f = ──────────────────────────────\n",
       "           3 ___ 3 ________       \n",
       "           ╲╱ Q ⋅╲╱ sin(θ)        "
      ]
     },
     "execution_count": 15,
     "metadata": {},
     "output_type": "execute_result"
    },
    {
     "data": {
      "image/png": "[encoded data removed]",
      "text/latex": [
       "$$f = \\frac{0.0009 \\sqrt[3]{u} \\sqrt[3]{2 d + w \\sin{\\left (\\theta \\right )}}}{\\sqrt[3]{\\sin{\\left (\\theta \\right )}}}$$"
      ],
      "text/plain": [
       "           3 ___ 3 ________________\n",
       "    0.0009⋅╲╱ u ⋅╲╱ 2⋅d + w⋅sin(θ) \n",
       "f = ───────────────────────────────\n",
       "               3 ________          \n",
       "               ╲╱ sin(θ)           "
      ]
     },
     "execution_count": 15,
     "metadata": {},
     "output_type": "execute_result"
    }
   ],
   "source": [
    "cm.set_friction_model('manning')\n",
    "cm.friction_eqn_manning_raw()\n",
    "_.subs(cm.get_params())\n",
    "cm.friction_eqn()\n",
    "_.subs(cm.get_params())"
   ]
  },
  {
   "cell_type": "markdown",
   "metadata": {
    "slideshow": {
     "slide_type": "slide"
    }
   },
   "source": [
    "Combining for each roughness model, we have mean boundary shear stress for Chézy versus Manning:"
   ]
  },
  {
   "cell_type": "code",
   "execution_count": 16,
   "metadata": {},
   "outputs": [
    {
     "data": {
      "image/png": "[encoded data removed]",
      "text/latex": [
       "$$\\tau = C^{2} g \\rho u^{2}$$"
      ],
      "text/plain": [
       "     2      2\n",
       "τ = C ⋅g⋅ρ⋅u "
      ]
     },
     "execution_count": 16,
     "metadata": {},
     "output_type": "execute_result"
    },
    {
     "data": {
      "image/png": "[encoded data removed]",
      "text/latex": [
       "$$\\tau = \\frac{g n_{m}^{2} \\rho u^{\\frac{7}{3}} \\sqrt[3]{2 d + w \\sin{\\left (\\theta \\right )}}}{\\sqrt[3]{Q} \\sqrt[3]{\\sin{\\left (\\theta \\right )}}}$$"
      ],
      "text/plain": [
       "        2    7/3 3 ________________\n",
       "    g⋅nₘ ⋅ρ⋅u   ⋅╲╱ 2⋅d + w⋅sin(θ) \n",
       "τ = ───────────────────────────────\n",
       "            3 ___ 3 ________       \n",
       "            ╲╱ Q ⋅╲╱ sin(θ)        "
      ]
     },
     "execution_count": 16,
     "metadata": {},
     "output_type": "execute_result"
    }
   ],
   "source": [
    "cm.tau_eqn_friction().subs(f,cm.friction_eqn_chezy().rhs)\n",
    "cm.tau_eqn_friction().subs(f,cm.friction_eqn_manning().rhs)"
   ]
  },
  {
   "cell_type": "markdown",
   "metadata": {
    "slideshow": {
     "slide_type": "slide"
    }
   },
   "source": [
    "The choice here is for:"
   ]
  },
  {
   "cell_type": "code",
   "execution_count": 17,
   "metadata": {},
   "outputs": [
    {
     "data": {
      "image/png": "[encoded data removed]",
      "text/latex": [
       "$$\\tau = \\frac{g n_{m}^{2} \\rho u^{\\frac{7}{3}} \\sqrt[3]{2 d + w \\sin{\\left (\\theta \\right )}}}{\\sqrt[3]{Q} \\sqrt[3]{\\sin{\\left (\\theta \\right )}}}$$"
      ],
      "text/plain": [
       "        2    7/3 3 ________________\n",
       "    g⋅nₘ ⋅ρ⋅u   ⋅╲╱ 2⋅d + w⋅sin(θ) \n",
       "τ = ───────────────────────────────\n",
       "            3 ___ 3 ________       \n",
       "            ╲╱ Q ⋅╲╱ sin(θ)        "
      ]
     },
     "execution_count": 17,
     "metadata": {},
     "output_type": "execute_result"
    }
   ],
   "source": [
    "cm.tau_eqn_dyn()"
   ]
  },
  {
   "cell_type": "markdown",
   "metadata": {
    "slideshow": {
     "slide_type": "slide"
    }
   },
   "source": [
    "Shear or friction \"velocity\" $u^*$:"
   ]
  },
  {
   "cell_type": "code",
   "execution_count": 18,
   "metadata": {},
   "outputs": [
    {
     "data": {
      "image/png": "[encoded data removed]",
      "text/latex": [
       "$$u^{*} = \\frac{\\sqrt{\\tau}}{\\sqrt{\\rho}}$$"
      ],
      "text/plain": [
       "       √τ\n",
       "u__* = ──\n",
       "       √ρ"
      ]
     },
     "execution_count": 18,
     "metadata": {},
     "output_type": "execute_result"
    }
   ],
   "source": [
    "cm.u_star_eqn_raw()"
   ]
  },
  {
   "cell_type": "code",
   "execution_count": 19,
   "metadata": {},
   "outputs": [
    {
     "data": {
      "image/png": "[encoded data removed]",
      "text/latex": [
       "$$\\left(u^{*}\\right)^{2} = C^{2} g u^{2}$$"
      ],
      "text/plain": [
       "    2    2    2\n",
       "u__*  = C ⋅g⋅u "
      ]
     },
     "execution_count": 19,
     "metadata": {},
     "output_type": "execute_result"
    },
    {
     "data": {
      "image/png": "[encoded data removed]",
      "text/latex": [
       "$$C = \\frac{1}{C_{Z} \\sqrt{g}}$$"
      ],
      "text/plain": [
       "      1   \n",
       "C = ──────\n",
       "    C_Z⋅√g"
      ]
     },
     "execution_count": 19,
     "metadata": {},
     "output_type": "execute_result"
    },
    {
     "data": {
      "image/png": "[encoded data removed]",
      "text/latex": [
       "$$C_{Z} = \\frac{u}{u^{*}}$$"
      ],
      "text/plain": [
       "       u  \n",
       "C_Z = ────\n",
       "      u__*"
      ]
     },
     "execution_count": 19,
     "metadata": {},
     "output_type": "execute_result"
    }
   ],
   "source": [
    "tmp = sy.Eq(u_star**2,(cm.u_star_eqn_raw().rhs**2).subs(tau,\n",
    "    cm.tau_eqn_friction().subs(f,cm.friction_eqn_chezy().rhs).rhs))\n",
    "tmp\n",
    "sy.Eq(C,1/(sy.sqrt(g)*Cz))\n",
    "sy.Eq(Cz,sy.solve(sy.Eq(C,sy.solve(tmp,C)[0]).subs(C,1/(sy.sqrt(g)*Cz)),Cz)[0])"
   ]
  },
  {
   "cell_type": "code",
   "execution_count": 20,
   "metadata": {},
   "outputs": [
    {
     "data": {
      "image/png": "[encoded data removed]",
      "text/latex": [
       "$$u^{*} = \\frac{\\sqrt{g} n_{m} u^{\\frac{7}{6}} \\sqrt{\\frac{\\sqrt[3]{2 d + w \\sin{\\left (\\theta \\right )}}}{\\sqrt[3]{\\sin{\\left (\\theta \\right )}}}}}{\\sqrt[6]{Q}}$$"
      ],
      "text/plain": [
       "                        ____________________\n",
       "                       ╱ 3 ________________ \n",
       "              7/6     ╱  ╲╱ 2⋅d + w⋅sin(θ)  \n",
       "       √g⋅nₘ⋅u   ⋅   ╱   ────────────────── \n",
       "                    ╱        3 ________     \n",
       "                  ╲╱         ╲╱ sin(θ)      \n",
       "u__* = ─────────────────────────────────────\n",
       "                       6 ___                \n",
       "                       ╲╱ Q                 "
      ]
     },
     "execution_count": 20,
     "metadata": {},
     "output_type": "execute_result"
    }
   ],
   "source": [
    "cm.u_star_eqn().simplify()"
   ]
  },
  {
   "cell_type": "markdown",
   "metadata": {
    "slideshow": {
     "slide_type": "slide"
    }
   },
   "source": [
    "### Open channel flow: speed $u$"
   ]
  },
  {
   "cell_type": "code",
   "execution_count": 21,
   "metadata": {},
   "outputs": [
    {
     "data": {
      "image/png": "[encoded data removed]",
      "text/latex": [
       "$$\\left \\{ C : 0.0316227766016838, \\quad D_{coarse} : 0.02, \\quad D_{fine} : 0.002, \\quad L : 1000.0, \\quad Q : 1000.0, \\quad U : 1.0, \\quad W : 50.0, \\quad \\beta_{0} : 0.001, \\quad d : d, \\quad d_{i} : 50.0, \\quad \\eta : 0.5, \\quad g : 10.0, \\quad \\mu : 0.75, \\quad n_{m} : 0.03, \\quad \\nu : 1.0, \\quad \\phi : \\phi, \\quad \\rho : 1000.0, \\quad \\rho_{\\Delta} : 1650.0, \\quad \\rho_{s} : 1000.0, \\quad u : u, \\quad u_{c} : 0, \\quad u_{i} : 5.0\\right \\}$$"
      ],
      "text/plain": [
       "{C: 0.0316227766016838, D_coarse: 0.02, D_fine: 0.002, L: 1000.0, Q: 1000.0, U\n",
       ": 1.0, W: 50.0, β₀: 0.001, d: d, dᵢ: 50.0, η: 0.5, g: 10.0, μ: 0.75, nₘ: 0.03,\n",
       " ν: 1.0, φ: φ, ρ: 1000.0, ρ_Δ: 1650.0, ρₛ: 1000.0, u: u, u_c: 0, uᵢ: 5.0}"
      ]
     },
     "execution_count": 21,
     "metadata": {},
     "output_type": "execute_result"
    }
   ],
   "source": [
    "pdict = cm.get_params()\n",
    "pdict.update({u:u,d:d})\n",
    "pdict"
   ]
  },
  {
   "cell_type": "markdown",
   "metadata": {},
   "source": [
    "Mean flow speed $u$ equations assuming an isoceles trapezoidal cross-section:"
   ]
  },
  {
   "cell_type": "code",
   "execution_count": 22,
   "metadata": {},
   "outputs": [
    {
     "data": {
      "image/png": "[encoded data removed]",
      "text/latex": [
       "$$u = \\frac{Q \\tan{\\left (\\theta \\right )}}{d \\left(d + w \\tan{\\left (\\theta \\right )}\\right)}$$"
      ],
      "text/plain": [
       "        Q⋅tan(θ)    \n",
       "u = ────────────────\n",
       "    d⋅(d + w⋅tan(θ))"
      ]
     },
     "execution_count": 22,
     "metadata": {},
     "output_type": "execute_result"
    },
    {
     "data": {
      "image/png": "[encoded data removed]",
      "text/latex": [
       "$$u = \\frac{200.0 \\tan{\\left (\\theta \\right )}}{w \\tan{\\left (\\theta \\right )} + 5}$$"
      ],
      "text/plain": [
       "    200.0⋅tan(θ)\n",
       "u = ────────────\n",
       "    w⋅tan(θ) + 5"
      ]
     },
     "execution_count": 22,
     "metadata": {},
     "output_type": "execute_result"
    }
   ],
   "source": [
    "cm.u_eqn_geom()\n",
    "_.subs(pdict).subs(d,5)"
   ]
  },
  {
   "cell_type": "code",
   "execution_count": 23,
   "metadata": {},
   "outputs": [
    {
     "data": {
      "image/png": "[encoded data removed]",
      "text/latex": [
       "$$\\tau = C^{2} g \\rho u^{2}$$"
      ],
      "text/plain": [
       "     2      2\n",
       "τ = C ⋅g⋅ρ⋅u "
      ]
     },
     "execution_count": 23,
     "metadata": {},
     "output_type": "execute_result"
    },
    {
     "data": {
      "image/png": "[encoded data removed]",
      "text/latex": [
       "$$u^{3} = \\frac{Q \\sin{\\left (\\beta \\right )} \\sin{\\left (\\theta \\right )}}{C^{2} \\left(2 d + w \\sin{\\left (\\theta \\right )}\\right)}$$"
      ],
      "text/plain": [
       " 3     Q⋅sin(β)⋅sin(θ)  \n",
       "u  = ───────────────────\n",
       "      2                 \n",
       "     C ⋅(2⋅d + w⋅sin(θ))"
      ]
     },
     "execution_count": 23,
     "metadata": {},
     "output_type": "execute_result"
    }
   ],
   "source": [
    "cm.set_friction_model('chezy')\n",
    "cm.tau_eqn_dyn()\n",
    "cm.u_eqn_dyn()"
   ]
  },
  {
   "cell_type": "code",
   "execution_count": 24,
   "metadata": {},
   "outputs": [
    {
     "data": {
      "image/png": "[encoded data removed]",
      "text/latex": [
       "$$\\tau = \\frac{g n_{m}^{2} \\rho u^{\\frac{7}{3}} \\sqrt[3]{2 d + w \\sin{\\left (\\theta \\right )}}}{\\sqrt[3]{Q} \\sqrt[3]{\\sin{\\left (\\theta \\right )}}}$$"
      ],
      "text/plain": [
       "        2    7/3 3 ________________\n",
       "    g⋅nₘ ⋅ρ⋅u   ⋅╲╱ 2⋅d + w⋅sin(θ) \n",
       "τ = ───────────────────────────────\n",
       "            3 ___ 3 ________       \n",
       "            ╲╱ Q ⋅╲╱ sin(θ)        "
      ]
     },
     "execution_count": 24,
     "metadata": {},
     "output_type": "execute_result"
    },
    {
     "data": {
      "image/png": "[encoded data removed]",
      "text/latex": [
       "$$u^{5} = \\frac{Q^{2} \\sqrt{\\sin^{3}{\\left (\\beta \\right )}} \\sin^{2}{\\left (\\theta \\right )}}{n_{m}^{3} \\left(2 d + w \\sin{\\left (\\theta \\right )}\\right)^{2}}$$"
      ],
      "text/plain": [
       "           _________        \n",
       "      2   ╱    3        2   \n",
       " 5   Q ⋅╲╱  sin (β) ⋅sin (θ)\n",
       "u  = ───────────────────────\n",
       "        3                 2 \n",
       "      nₘ ⋅(2⋅d + w⋅sin(θ))  "
      ]
     },
     "execution_count": 24,
     "metadata": {},
     "output_type": "execute_result"
    }
   ],
   "source": [
    "cm.set_friction_model('manning')\n",
    "cm.tau_eqn_dyn()\n",
    "u_eqn = cm.u_eqn_dyn()\n",
    "u_eqn"
   ]
  },
  {
   "cell_type": "code",
   "execution_count": 25,
   "metadata": {},
   "outputs": [
    {
     "data": {
      "image/png": "[encoded data removed]",
      "text/latex": [
       "$$\\tau = \\frac{g n_{m}^{2} \\rho u^{2}}{\\sqrt[3]{d}}$$"
      ],
      "text/plain": [
       "        2    2\n",
       "    g⋅nₘ ⋅ρ⋅u \n",
       "τ = ──────────\n",
       "      3 ___   \n",
       "      ╲╱ d    "
      ]
     },
     "execution_count": 25,
     "metadata": {},
     "output_type": "execute_result"
    },
    {
     "data": {
      "image/png": "[encoded data removed]",
      "text/latex": [
       "$$u^{3} = \\frac{Q \\sqrt[3]{d} \\sin{\\left (\\beta \\right )} \\sin{\\left (\\theta \\right )}}{n_{m}^{2} \\left(2 d + w \\sin{\\left (\\theta \\right )}\\right)}$$"
      ],
      "text/plain": [
       "       3 ___              \n",
       " 3   Q⋅╲╱ d ⋅sin(β)⋅sin(θ)\n",
       "u  = ─────────────────────\n",
       "        2                 \n",
       "      nₘ ⋅(2⋅d + w⋅sin(θ))"
      ]
     },
     "execution_count": 25,
     "metadata": {},
     "output_type": "execute_result"
    }
   ],
   "source": [
    "cm.set_friction_model('manning_depth')\n",
    "cm.tau_eqn_dyn()\n",
    "cm.u_eqn_dyn()"
   ]
  },
  {
   "cell_type": "markdown",
   "metadata": {
    "slideshow": {
     "slide_type": "slide"
    }
   },
   "source": [
    "### Open channel flow: depth $d$"
   ]
  },
  {
   "cell_type": "markdown",
   "metadata": {},
   "source": [
    "Flow depth $d$ (above centerline) equations assuming an isoceles trapezoidal cross-section:"
   ]
  },
  {
   "cell_type": "code",
   "execution_count": 26,
   "metadata": {},
   "outputs": [
    {
     "data": {
      "image/png": "[encoded data removed]",
      "text/latex": [
       "$$d = \\left(- \\frac{w}{2} + \\frac{Q \\sin{\\left (\\beta \\right )}}{2 C^{2} u^{3}}\\right) \\sin{\\left (\\theta \\right )}$$"
      ],
      "text/plain": [
       "    ⎛  w   Q⋅sin(β)⎞       \n",
       "d = ⎜- ─ + ────────⎟⋅sin(θ)\n",
       "    ⎜  2      2  3 ⎟       \n",
       "    ⎝      2⋅C ⋅u  ⎠       "
      ]
     },
     "execution_count": 26,
     "metadata": {},
     "output_type": "execute_result"
    }
   ],
   "source": [
    "cm.set_friction_model('chezy')\n",
    "cm.d_eqn_dyn()"
   ]
  },
  {
   "cell_type": "code",
   "execution_count": 27,
   "metadata": {},
   "outputs": [
    {
     "data": {
      "image/png": "[encoded data removed]",
      "text/latex": [
       "$$d = \\left(\\frac{Q \\sqrt[4]{\\sin^{3}{\\left (\\beta \\right )}}}{2 n_{m}^{\\frac{3}{2}} u^{\\frac{5}{2}}} - \\frac{w}{2}\\right) \\sin{\\left (\\theta \\right )}$$"
      ],
      "text/plain": [
       "    ⎛     _________    ⎞       \n",
       "    ⎜  4 ╱    3        ⎟       \n",
       "    ⎜Q⋅╲╱  sin (β)    w⎟       \n",
       "d = ⎜────────────── - ─⎟⋅sin(θ)\n",
       "    ⎜     3/2  5/2    2⎟       \n",
       "    ⎝ 2⋅nₘ   ⋅u        ⎠       "
      ]
     },
     "execution_count": 27,
     "metadata": {},
     "output_type": "execute_result"
    }
   ],
   "source": [
    "cm.set_friction_model('manning')\n",
    "cm.d_eqn_dyn()"
   ]
  },
  {
   "cell_type": "code",
   "execution_count": 28,
   "metadata": {},
   "outputs": [
    {
     "data": {
      "image/png": "[encoded data removed]",
      "text/latex": [
       "$$n_{m}^{6} u^{9} \\left(2 d + w \\sin{\\left (\\theta \\right )}\\right)^{3} = Q^{3} d \\sin^{3}{\\left (\\beta \\right )} \\sin^{3}{\\left (\\theta \\right )}$$"
      ],
      "text/plain": [
       "  6  9                 3    3      3       3   \n",
       "nₘ ⋅u ⋅(2⋅d + w⋅sin(θ))  = Q ⋅d⋅sin (β)⋅sin (θ)"
      ]
     },
     "execution_count": 28,
     "metadata": {},
     "output_type": "execute_result"
    }
   ],
   "source": [
    "cm.set_friction_model('manning_depth')\n",
    "d_eqn = sy.Eq( (cm.u_eqn_dyn().lhs*(2*d+w*sy.sin(theta))*n_m**2)**3,\n",
    "               (cm.u_eqn_dyn().rhs*(2*d+w*sy.sin(theta))*n_m**2)**3 )\n",
    "d_eqn"
   ]
  },
  {
   "cell_type": "code",
   "execution_count": 29,
   "metadata": {},
   "outputs": [
    {
     "data": {
      "image/png": "[encoded data removed]",
      "text/latex": [
       "$$d = - \\frac{w \\sin{\\left (\\theta \\right )}}{2} - \\frac{\\frac{9 w^{2} \\sin^{2}{\\left (\\theta \\right )}}{4} - \\frac{3 \\left(- Q^{3} \\sin^{3}{\\left (\\beta \\right )} \\sin^{3}{\\left (\\theta \\right )} + 6 n_{m}^{6} u^{9} w^{2} \\sin^{2}{\\left (\\theta \\right )}\\right)}{8 n_{m}^{6} u^{9}}}{3 \\left(- \\frac{1}{2} - \\frac{\\sqrt{3} i}{2}\\right) \\sqrt[3]{\\frac{81 w^{3} \\sin^{3}{\\left (\\theta \\right )}}{16} + \\frac{\\sqrt{- 4 \\left(\\frac{9 w^{2} \\sin^{2}{\\left (\\theta \\right )}}{4} - \\frac{3 \\left(- Q^{3} \\sin^{3}{\\left (\\beta \\right )} \\sin^{3}{\\left (\\theta \\right )} + 6 n_{m}^{6} u^{9} w^{2} \\sin^{2}{\\left (\\theta \\right )}\\right)}{8 n_{m}^{6} u^{9}}\\right)^{3} + \\left(\\frac{81 w^{3} \\sin^{3}{\\left (\\theta \\right )}}{8} - \\frac{27 w \\left(- Q^{3} \\sin^{3}{\\left (\\beta \\right )} \\sin^{3}{\\left (\\theta \\right )} + 6 n_{m}^{6} u^{9} w^{2} \\sin^{2}{\\left (\\theta \\right )}\\right) \\sin{\\left (\\theta \\right )}}{16 n_{m}^{6} u^{9}}\\right)^{2}}}{2} - \\frac{27 w \\left(- Q^{3} \\sin^{3}{\\left (\\beta \\right )} \\sin^{3}{\\left (\\theta \\right )} + 6 n_{m}^{6} u^{9} w^{2} \\sin^{2}{\\left (\\theta \\right )}\\right) \\sin{\\left (\\theta \\right )}}{32 n_{m}^{6} u^{9}}}} - \\frac{\\left(- \\frac{1}{2} - \\frac{\\sqrt{3} i}{2}\\right) \\sqrt[3]{\\frac{81 w^{3} \\sin^{3}{\\left (\\theta \\right )}}{16} + \\frac{\\sqrt{- 4 \\left(\\frac{9 w^{2} \\sin^{2}{\\left (\\theta \\right )}}{4} - \\frac{3 \\left(- Q^{3} \\sin^{3}{\\left (\\beta \\right )} \\sin^{3}{\\left (\\theta \\right )} + 6 n_{m}^{6} u^{9} w^{2} \\sin^{2}{\\left (\\theta \\right )}\\right)}{8 n_{m}^{6} u^{9}}\\right)^{3} + \\left(\\frac{81 w^{3} \\sin^{3}{\\left (\\theta \\right )}}{8} - \\frac{27 w \\left(- Q^{3} \\sin^{3}{\\left (\\beta \\right )} \\sin^{3}{\\left (\\theta \\right )} + 6 n_{m}^{6} u^{9} w^{2} \\sin^{2}{\\left (\\theta \\right )}\\right) \\sin{\\left (\\theta \\right )}}{16 n_{m}^{6} u^{9}}\\right)^{2}}}{2} - \\frac{27 w \\left(- Q^{3} \\sin^{3}{\\left (\\beta \\right )} \\sin^{3}{\\left (\\theta \\right )} + 6 n_{m}^{6} u^{9} w^{2} \\sin^{2}{\\left (\\theta \\right )}\\right) \\sin{\\left (\\theta \\right )}}{32 n_{m}^{6} u^{9}}}}{3}$$"
      ],
      "text/plain": [
       "                                                                              \n",
       "                                                                              \n",
       "                                                                              \n",
       "                                                                              \n",
       "                                                                              \n",
       "                                                                              \n",
       "                                                                              \n",
       "                                                                              \n",
       "                                                                              \n",
       "                                                                              \n",
       "      w⋅sin(θ)                                                                \n",
       "d = - ──────── - ─────────────────────────────────────────────────────────────\n",
       "         2                                 ___________________________________\n",
       "                                          ╱                        ___________\n",
       "                                         ╱                        ╱           \n",
       "                                        ╱                        ╱      ⎛   2 \n",
       "                                       ╱                        ╱       ⎜9⋅w ⋅\n",
       "                                      ╱                        ╱    - 4⋅⎜─────\n",
       "                                     ╱          3    3        ╱         ⎜     \n",
       "                   ⎛  1   √3⋅ⅈ⎞     ╱       81⋅w ⋅sin (θ)   ╲╱          ⎝     \n",
       "                 3⋅⎜- ─ - ────⎟⋅   ╱        ───────────── + ──────────────────\n",
       "                   ⎝  2    2  ⎠ 3 ╱               16                          \n",
       "                                ╲╱                                            \n",
       "\n",
       "                                                                              \n",
       "                                                                              \n",
       "                                                                              \n",
       "                                                                              \n",
       "                                                                              \n",
       "                                                                              \n",
       "                                        2    2        ⎛   3    3       3      \n",
       "                                     9⋅w ⋅sin (θ)   3⋅⎝- Q ⋅sin (β)⋅sin (θ) + \n",
       "                                     ──────────── - ──────────────────────────\n",
       "                                          4                                6  \n",
       "                                                                       8⋅nₘ ⋅u\n",
       "──────────────────────────────────────────────────────────────────────────────\n",
       "______________________________________________________________________________\n",
       "______________________________________________________________________________\n",
       "                                                         3                    \n",
       "   2        ⎛   3    3       3          6  9  2    2   ⎞⎞    ⎛    3    3      \n",
       "sin (θ)   3⋅⎝- Q ⋅sin (β)⋅sin (θ) + 6⋅nₘ ⋅u ⋅w ⋅sin (θ)⎠⎟    ⎜81⋅w ⋅sin (θ)   \n",
       "─────── - ──────────────────────────────────────────────⎟  + ⎜───────────── - \n",
       "4                                6  9                   ⎟    ⎜      8         \n",
       "                             8⋅nₘ ⋅u                    ⎠    ⎝                \n",
       "──────────────────────────────────────────────────────────────────────────────\n",
       "                                                           2                  \n",
       "                                                                              \n",
       "\n",
       "                                                                              \n",
       "                                                                              \n",
       "                                                                              \n",
       "                                                                              \n",
       "                                                                              \n",
       "                                                                              \n",
       "    6  9  2    2   ⎞                                                          \n",
       "6⋅nₘ ⋅u ⋅w ⋅sin (θ)⎠                                                          \n",
       "────────────────────                                                          \n",
       "9                                                                             \n",
       "                                                                              \n",
       "──────────────────────────────────────────────────────────────────────────────\n",
       "______________________________________________________________________________\n",
       "___________________________________________________________                   \n",
       "                                                         2                    \n",
       "     ⎛   3    3       3          6  9  2    2   ⎞       ⎞                     \n",
       "27⋅w⋅⎝- Q ⋅sin (β)⋅sin (θ) + 6⋅nₘ ⋅u ⋅w ⋅sin (θ)⎠⋅sin(θ)⎟                     \n",
       "────────────────────────────────────────────────────────⎟                     \n",
       "                            6  9                        ⎟          ⎛   3    3 \n",
       "                       16⋅nₘ ⋅u                         ⎠     27⋅w⋅⎝- Q ⋅sin (\n",
       "─────────────────────────────────────────────────────────── - ────────────────\n",
       "                                                                              \n",
       "                                                                              \n",
       "\n",
       "                                                                    __________\n",
       "                                                                   ╱          \n",
       "                                                                  ╱           \n",
       "                                                                 ╱            \n",
       "                                                                ╱             \n",
       "                                                               ╱              \n",
       "                                                              ╱          3    \n",
       "                                            ⎛  1   √3⋅ⅈ⎞     ╱       81⋅w ⋅sin\n",
       "                                            ⎜- ─ - ────⎟⋅   ╱        ─────────\n",
       "                                            ⎝  2    2  ⎠ 3 ╱               16 \n",
       "                                                         ╲╱                   \n",
       "───────────────────────────────────────── - ──────────────────────────────────\n",
       "_________________________________________                                     \n",
       "                                                                              \n",
       "                                                                              \n",
       "                                                                              \n",
       "                                                                              \n",
       "                                                                              \n",
       "      3          6  9  2    2   ⎞                                             \n",
       "β)⋅sin (θ) + 6⋅nₘ ⋅u ⋅w ⋅sin (θ)⎠⋅sin(θ)                                      \n",
       "────────────────────────────────────────                                      \n",
       "            6  9                                                              \n",
       "       32⋅nₘ ⋅u                                                               \n",
       "\n",
       "______________________________________________________________________________\n",
       "              ________________________________________________________________\n",
       "             ╱                                                                \n",
       "            ╱      ⎛   2    2        ⎛   3    3       3          6  9  2    2 \n",
       "           ╱       ⎜9⋅w ⋅sin (θ)   3⋅⎝- Q ⋅sin (β)⋅sin (θ) + 6⋅nₘ ⋅u ⋅w ⋅sin (\n",
       "          ╱    - 4⋅⎜──────────── - ───────────────────────────────────────────\n",
       "3        ╱         ⎜     4                                6  9                \n",
       " (θ)   ╲╱          ⎝                                  8⋅nₘ ⋅u                 \n",
       "──── + ───────────────────────────────────────────────────────────────────────\n",
       "                                                                              \n",
       "                                                                              \n",
       "──────────────────────────────────────────────────────────────────────────────\n",
       "                                                                              \n",
       "                                                                              \n",
       "                                                                              \n",
       "                                                                              \n",
       "                                                                              \n",
       "                                                                              \n",
       "                                                                              \n",
       "                                                                              \n",
       "                                                                              \n",
       "                                                                              \n",
       "                                                                              \n",
       "\n",
       "______________________________________________________________________________\n",
       "______________________________________________________________________________\n",
       "    3                                                                         \n",
       "  ⎞⎞    ⎛    3    3           ⎛   3    3       3          6  9  2    2   ⎞    \n",
       "θ)⎠⎟    ⎜81⋅w ⋅sin (θ)   27⋅w⋅⎝- Q ⋅sin (β)⋅sin (θ) + 6⋅nₘ ⋅u ⋅w ⋅sin (θ)⎠⋅sin\n",
       "───⎟  + ⎜───────────── - ─────────────────────────────────────────────────────\n",
       "   ⎟    ⎜      8                                     6  9                     \n",
       "   ⎠    ⎝                                       16⋅nₘ ⋅u                      \n",
       "──────────────────────────────────────────────────────────────────────────────\n",
       "      2                                                                       \n",
       "                                                                              \n",
       "──────────────────────────────────────────────────────────────────────────────\n",
       "               3                                                              \n",
       "                                                                              \n",
       "                                                                              \n",
       "                                                                              \n",
       "                                                                              \n",
       "                                                                              \n",
       "                                                                              \n",
       "                                                                              \n",
       "                                                                              \n",
       "                                                                              \n",
       "                                                                              \n",
       "\n",
       "__________________________________________________________________\n",
       "______                                                            \n",
       "    2                                                             \n",
       "   ⎞                                                              \n",
       "(θ)⎟                                                              \n",
       "───⎟                                                              \n",
       "   ⎟          ⎛   3    3       3          6  9  2    2   ⎞        \n",
       "   ⎠     27⋅w⋅⎝- Q ⋅sin (β)⋅sin (θ) + 6⋅nₘ ⋅u ⋅w ⋅sin (θ)⎠⋅sin(θ) \n",
       "────── - ──────────────────────────────────────────────────────── \n",
       "                                     6  9                         \n",
       "                                32⋅nₘ ⋅u                          \n",
       "──────────────────────────────────────────────────────────────────\n",
       "                                                                  \n",
       "                                                                  \n",
       "                                                                  \n",
       "                                                                  \n",
       "                                                                  \n",
       "                                                                  \n",
       "                                                                  \n",
       "                                                                  \n",
       "                                                                  \n",
       "                                                                  \n",
       "                                                                  "
      ]
     },
     "execution_count": 29,
     "metadata": {},
     "output_type": "execute_result"
    }
   ],
   "source": [
    "cm.set_friction_model('manning_depth')\n",
    "d_eqn = cm.d_eqn_dyn()\n",
    "d_eqn"
   ]
  },
  {
   "cell_type": "code",
   "execution_count": 30,
   "metadata": {},
   "outputs": [
    {
     "data": {
      "image/png": "[encoded data removed]",
      "text/latex": [
       "$$3.39248248594981$$"
      ],
      "text/plain": [
       "3.39248248594981"
      ]
     },
     "execution_count": 30,
     "metadata": {},
     "output_type": "execute_result"
    }
   ],
   "source": [
    "sy.N(sy.re(d_eqn.rhs.subs({Q:1000,w:100,beta:0.0035,theta:sy.pi/4,n_m:0.0375}).subs({u:3.8})), chop=True)"
   ]
  },
  {
   "cell_type": "markdown",
   "metadata": {
    "slideshow": {
     "slide_type": "slide"
    }
   },
   "source": [
    "### Open channel flow: explicit solutions for depth $d$ and flow $u$"
   ]
  },
  {
   "cell_type": "markdown",
   "metadata": {},
   "source": [
    "Combining to yield polynomials for $u$ and $d$:"
   ]
  },
  {
   "cell_type": "code",
   "execution_count": 31,
   "metadata": {},
   "outputs": [],
   "source": [
    "cm.set_friction_model('chezy')"
   ]
  },
  {
   "cell_type": "code",
   "execution_count": 32,
   "metadata": {},
   "outputs": [
    {
     "data": {
      "image/png": "[encoded data removed]",
      "text/latex": [
       "$$- \\frac{2 C^{2} d}{Q \\sin{\\left (\\beta \\right )} \\sin{\\left (\\theta \\right )}} - \\frac{C^{2} w}{Q \\sin{\\left (\\beta \\right )}} + \\frac{d^{6}}{Q^{3} \\tan^{3}{\\left (\\theta \\right )}} + \\frac{3 d^{5} w}{Q^{3} \\tan^{2}{\\left (\\theta \\right )}} + \\frac{3 d^{4} w^{2}}{Q^{3} \\tan{\\left (\\theta \\right )}} + \\frac{d^{3} w^{3}}{Q^{3}} = 0$$"
      ],
      "text/plain": [
       "          2            2            6            5           4  2     3  3    \n",
       "       2⋅C ⋅d         C ⋅w         d          3⋅d ⋅w      3⋅d ⋅w     d ⋅w     \n",
       "- ─────────────── - ──────── + ────────── + ────────── + ───────── + ───── = 0\n",
       "  Q⋅sin(β)⋅sin(θ)   Q⋅sin(β)    3    3       3    2       3             3     \n",
       "                               Q ⋅tan (θ)   Q ⋅tan (θ)   Q ⋅tan(θ)     Q      "
      ]
     },
     "execution_count": 32,
     "metadata": {},
     "output_type": "execute_result"
    },
    {
     "data": {
      "image/png": "[encoded data removed]",
      "text/latex": [
       "$$d^{6} + 3 d^{5} + 3 d^{4} + d^{3} - 4 d - \\sqrt{2} = 0$$"
      ],
      "text/plain": [
       " 6      5      4    3               \n",
       "d  + 3⋅d  + 3⋅d  + d  - 4⋅d - √2 = 0"
      ]
     },
     "execution_count": 32,
     "metadata": {},
     "output_type": "execute_result"
    }
   ],
   "source": [
    "d_eqn = cm.d_eqn_poly()\n",
    "d_eqn\n",
    "_.subs({C:1,Q:1,beta:sy.pi/4,theta:sy.pi/4,w:1,n_m:1}).simplify()"
   ]
  },
  {
   "cell_type": "code",
   "execution_count": 33,
   "metadata": {},
   "outputs": [
    {
     "data": {
      "image/png": "[encoded data removed]",
      "text/latex": [
       "$$\\frac{u^{\\frac{5}{2}} \\sqrt{4 Q + u w^{2} \\tan{\\left (\\theta \\right )}} \\sqrt{\\tan{\\left (\\theta \\right )}}}{2} + \\frac{u^{3} w \\sin{\\left (\\theta \\right )}}{2} - \\frac{u^{3} w \\tan{\\left (\\theta \\right )}}{2} - \\frac{Q \\sin{\\left (\\beta \\right )} \\sin{\\left (\\theta \\right )}}{2 C^{2}} = 0$$"
      ],
      "text/plain": [
       "        ___________________                                                   \n",
       " 5/2   ╱          2           ________    3             3                     \n",
       "u   ⋅╲╱  4⋅Q + u⋅w ⋅tan(θ) ⋅╲╱ tan(θ)    u ⋅w⋅sin(θ)   u ⋅w⋅tan(θ)   Q⋅sin(β)⋅\n",
       "────────────────────────────────────── + ─────────── - ─────────── - ─────────\n",
       "                  2                           2             2                 \n",
       "                                                                           2⋅C\n",
       "\n",
       "          \n",
       "          \n",
       "sin(θ)    \n",
       "────── = 0\n",
       "2         \n",
       "          "
      ]
     },
     "execution_count": 33,
     "metadata": {},
     "output_type": "execute_result"
    },
    {
     "data": {
      "image/png": "[encoded data removed]",
      "text/latex": [
       "$$\\frac{u^{\\frac{5}{2}} \\sqrt{u + 4}}{2} - \\frac{u^{3}}{2} + \\frac{\\sqrt{2} u^{3}}{4} - \\frac{1}{4} = 0$$"
      ],
      "text/plain": [
       " 5/2   _______    3       3        \n",
       "u   ⋅╲╱ u + 4    u    √2⋅u    1    \n",
       "────────────── - ── + ───── - ─ = 0\n",
       "      2          2      4     4    "
      ]
     },
     "execution_count": 33,
     "metadata": {},
     "output_type": "execute_result"
    }
   ],
   "source": [
    "u_eqn = cm.u_eqn_poly()\n",
    "u_eqn\n",
    "u_eqn.subs({C:1,Q:1,beta:sy.pi/4,theta:sy.pi/4,w:1,n_m:1}).simplify()"
   ]
  },
  {
   "cell_type": "code",
   "execution_count": 34,
   "metadata": {},
   "outputs": [],
   "source": [
    "cm.set_friction_model('manning')"
   ]
  },
  {
   "cell_type": "code",
   "execution_count": 35,
   "metadata": {},
   "outputs": [
    {
     "data": {
      "image/png": "[encoded data removed]",
      "text/latex": [
       "$$- \\frac{4 d^{2} n_{m}^{3}}{Q^{2} \\sqrt{\\sin^{3}{\\left (\\beta \\right )}} \\sin^{2}{\\left (\\theta \\right )}} - \\frac{4 d n_{m}^{3} w}{Q^{2} \\sqrt{\\sin^{3}{\\left (\\beta \\right )}} \\sin{\\left (\\theta \\right )}} - \\frac{n_{m}^{3} w^{2}}{Q^{2} \\sqrt{\\sin^{3}{\\left (\\beta \\right )}}} + \\frac{d^{6}}{Q^{3} \\tan^{3}{\\left (\\theta \\right )}} + \\frac{3 d^{5} w}{Q^{3} \\tan^{2}{\\left (\\theta \\right )}} + \\frac{3 d^{4} w^{2}}{Q^{3} \\tan{\\left (\\theta \\right )}} + \\frac{d^{3} w^{3}}{Q^{3}} = 0$$"
      ],
      "text/plain": [
       "             2   3                      3                   3  2            6 \n",
       "          4⋅d ⋅nₘ                 4⋅d⋅nₘ ⋅w               nₘ ⋅w            d  \n",
       "- ─────────────────────── - ────────────────────── - ─────────────── + ───────\n",
       "        _________                 _________                _________    3    3\n",
       "   2   ╱    3        2       2   ╱    3               2   ╱    3       Q ⋅tan \n",
       "  Q ⋅╲╱  sin (β) ⋅sin (θ)   Q ⋅╲╱  sin (β) ⋅sin(θ)   Q ⋅╲╱  sin (β)           \n",
       "\n",
       "           5           4  2     3  3    \n",
       "        3⋅d ⋅w      3⋅d ⋅w     d ⋅w     \n",
       "─── + ────────── + ───────── + ───── = 0\n",
       "       3    2       3             3     \n",
       "(θ)   Q ⋅tan (θ)   Q ⋅tan(θ)     Q      \n",
       "                                        "
      ]
     },
     "execution_count": 35,
     "metadata": {},
     "output_type": "execute_result"
    },
    {
     "data": {
      "image/png": "[encoded data removed]",
      "text/latex": [
       "$$d^{6} + 3 d^{5} + 3 d^{4} + d^{3} - 8 \\cdot 2^{\\frac{3}{4}} d^{2} - 8 \\sqrt[4]{2} d - 2^{\\frac{3}{4}} = 0$$"
      ],
      "text/plain": [
       " 6      5      4    3      3/4  2     4 ___      3/4    \n",
       "d  + 3⋅d  + 3⋅d  + d  - 8⋅2   ⋅d  - 8⋅╲╱ 2 ⋅d - 2    = 0"
      ]
     },
     "execution_count": 35,
     "metadata": {},
     "output_type": "execute_result"
    }
   ],
   "source": [
    "d_eqn = cm.d_eqn_poly()\n",
    "d_eqn\n",
    "_.subs({C:1,Q:1,beta:sy.pi/4,theta:sy.pi/4,w:1,n_m:1}).simplify()"
   ]
  },
  {
   "cell_type": "code",
   "execution_count": 36,
   "metadata": {},
   "outputs": [
    {
     "data": {
      "image/png": "[encoded data removed]",
      "text/latex": [
       "$$- \\frac{Q \\sqrt[4]{\\sin^{3}{\\left (\\beta \\right )}} \\sin{\\left (\\theta \\right )}}{2} + \\frac{n_{m}^{\\frac{3}{2}} u^{\\frac{5}{2}} w \\left(\\sin{\\left (\\theta \\right )} - \\tan{\\left (\\theta \\right )}\\right)}{2} + \\frac{n_{m}^{\\frac{3}{2}} u^{2} \\sqrt{4 Q + u w^{2} \\tan{\\left (\\theta \\right )}} \\sqrt{\\tan{\\left (\\theta \\right )}}}{2} = 0$$"
      ],
      "text/plain": [
       "       _________                                                       _______\n",
       "    4 ╱    3                3/2  5/2                         3/2  2   ╱       \n",
       "  Q⋅╲╱  sin (β) ⋅sin(θ)   nₘ   ⋅u   ⋅w⋅(sin(θ) - tan(θ))   nₘ   ⋅u ⋅╲╱  4⋅Q + \n",
       "- ───────────────────── + ────────────────────────────── + ───────────────────\n",
       "            2                           2                                     \n",
       "\n",
       "____________               \n",
       "   2           ________    \n",
       "u⋅w ⋅tan(θ) ⋅╲╱ tan(θ)     \n",
       "─────────────────────── = 0\n",
       " 2                         "
      ]
     },
     "execution_count": 36,
     "metadata": {},
     "output_type": "execute_result"
    },
    {
     "data": {
      "image/png": "[encoded data removed]",
      "text/latex": [
       "$$\\frac{u^{\\frac{5}{2}} \\left(-2 + \\sqrt{2}\\right)}{4} + \\frac{u^{2} \\sqrt{u + 4}}{2} - \\frac{\\sqrt[8]{2}}{4} = 0$$"
      ],
      "text/plain": [
       " 5/2              2   _______   8 ___    \n",
       "u   ⋅(-2 + √2)   u ⋅╲╱ u + 4    ╲╱ 2     \n",
       "────────────── + ──────────── - ───── = 0\n",
       "      4               2           4      "
      ]
     },
     "execution_count": 36,
     "metadata": {},
     "output_type": "execute_result"
    }
   ],
   "source": [
    "u_eqn = cm.u_eqn_poly()\n",
    "u_eqn\n",
    "u_eqn.subs({C:1,Q:1,beta:sy.pi/4,theta:sy.pi/4,w:1,n_m:1}).simplify()"
   ]
  },
  {
   "cell_type": "markdown",
   "metadata": {},
   "source": [
    "By finding the positive real roots of these equations, we can obtain $d$ and then $u$ from wall tilt $\\theta$, base width $w$ and channel base slope $\\beta$, together with $C$ and $Q$. We can then obtain values for boundary shear stress $\\tau$ and shear velocity $u^*$."
   ]
  },
  {
   "cell_type": "markdown",
   "metadata": {
    "slideshow": {
     "slide_type": "slide"
    }
   },
   "source": [
    "### Open channel flow: Chézy roughness example numerical solutions for depth $d$, speed $u$, shear \"velocity\" $u^*$, and boundary shear stress $\\tau$"
   ]
  },
  {
   "cell_type": "code",
   "execution_count": 56,
   "metadata": {},
   "outputs": [
    {
     "data": {
      "image/png": "[encoded data removed]",
      "text/latex": [
       "$$\\left \\{ C : 0.0316227766016838, \\quad D_{coarse} : 0.02, \\quad D_{fine} : 0.002, \\quad L : 1000.0, \\quad Q : 1000.0, \\quad U : 1.0, \\quad W : 50.0, \\quad \\beta_{0} : 0.001, \\quad d_{i} : 50.0, \\quad \\eta : 0.5, \\quad g : 10.0, \\quad \\mu : 0.75, \\quad n_{m} : 0.03, \\quad \\nu : 1.0, \\quad \\phi : \\phi, \\quad \\rho : 1000.0, \\quad \\rho_{\\Delta} : 1650.0, \\quad \\rho_{s} : 1000.0, \\quad u_{c} : 0, \\quad u_{i} : 5.0\\right \\}$$"
      ],
      "text/plain": [
       "{C: 0.0316227766016838, D_coarse: 0.02, D_fine: 0.002, L: 1000.0, Q: 1000.0, U\n",
       ": 1.0, W: 50.0, β₀: 0.001, dᵢ: 50.0, η: 0.5, g: 10.0, μ: 0.75, nₘ: 0.03, ν: 1.\n",
       "0, φ: φ, ρ: 1000.0, ρ_Δ: 1650.0, ρₛ: 1000.0, u_c: 0, uᵢ: 5.0}"
      ]
     },
     "execution_count": 56,
     "metadata": {},
     "output_type": "execute_result"
    }
   ],
   "source": [
    "cm.reset_params()\n",
    "cm.get_params()\n",
    "wx = 100\n",
    "thetax=sy.pi/4"
   ]
  },
  {
   "cell_type": "code",
   "execution_count": 39,
   "metadata": {},
   "outputs": [
    {
     "data": {
      "image/png": "[encoded data removed]",
      "text/latex": [
       "$$\\frac{1.0 \\cdot 10^{-9} d^{6}}{\\tan^{3}{\\left (\\theta \\right )}} + \\frac{3.0 \\cdot 10^{-9} d^{5} w}{\\tan^{2}{\\left (\\theta \\right )}} + \\frac{3.0 \\cdot 10^{-9} d^{4} w^{2}}{\\tan{\\left (\\theta \\right )}} + 1.0 \\cdot 10^{-9} d^{3} w^{3} - \\frac{0.00200000033333337 d}{\\sin{\\left (\\theta \\right )}} - 0.00100000016666669 w = 0$$"
      ],
      "text/plain": [
       "        6           5             4  2                                        \n",
       "1.0e-9⋅d    3.0e-9⋅d ⋅w   3.0e-9⋅d ⋅w            3  3   0.00200000033333337⋅d \n",
       "───────── + ─────────── + ──────────── + 1.0e-9⋅d ⋅w  - ───────────────────── \n",
       "    3            2           tan(θ)                             sin(θ)        \n",
       " tan (θ)      tan (θ)                                                         \n",
       "\n",
       "                           \n",
       "                           \n",
       "- 0.00100000016666669⋅w = 0\n",
       "                           \n",
       "                           "
      ]
     },
     "execution_count": 39,
     "metadata": {},
     "output_type": "execute_result"
    },
    {
     "data": {
      "image/png": "[encoded data removed]",
      "text/latex": [
       "$$\\frac{u^{\\frac{5}{2}} \\sqrt{u w^{2} \\tan{\\left (\\theta \\right )} + 4000.0} \\sqrt{\\tan{\\left (\\theta \\right )}}}{2} + \\frac{u^{3} w \\sin{\\left (\\theta \\right )}}{2} - \\frac{u^{3} w \\tan{\\left (\\theta \\right )}}{2} - 499.999916666671 \\sin{\\left (\\theta \\right )} = 0$$"
      ],
      "text/plain": [
       "        ______________________                                                \n",
       " 5/2   ╱    2                    ________    3             3                  \n",
       "u   ⋅╲╱  u⋅w ⋅tan(θ) + 4000.0 ⋅╲╱ tan(θ)    u ⋅w⋅sin(θ)   u ⋅w⋅tan(θ)         \n",
       "───────────────────────────────────────── + ─────────── - ─────────── - 499.99\n",
       "                    2                            2             2              \n",
       "\n",
       "                     \n",
       "                     \n",
       "                     \n",
       "9916666671⋅sin(θ) = 0\n",
       "                     "
      ]
     },
     "execution_count": 39,
     "metadata": {},
     "output_type": "execute_result"
    }
   ],
   "source": [
    "cm.set_friction_model('chezy')\n",
    "cm.set_ud_lambdas()\n",
    "cm.d_polynomial_specified\n",
    "cm.u_polynomial_specified"
   ]
  },
  {
   "cell_type": "code",
   "execution_count": 94,
   "metadata": {},
   "outputs": [
    {
     "data": {
      "image/png": "[encoded data removed]",
      "text/latex": [
       "$$u_{root} = 2.06798324589185$$"
      ],
      "text/plain": [
       "uᵣₒₒₜ = 2.06798324589185"
      ]
     },
     "execution_count": 94,
     "metadata": {},
     "output_type": "execute_result"
    },
    {
     "data": {
      "image/png": "[encoded data removed]",
      "text/latex": [
       "$$d_{root} = 4.62200025475475$$"
      ],
      "text/plain": [
       "dᵣₒₒₜ = 4.62200025475475"
      ]
     },
     "execution_count": 94,
     "metadata": {},
     "output_type": "execute_result"
    },
    {
     "data": {
      "image/png": "[encoded data removed]",
      "text/latex": [
       "$$u - u_{root} = 4.48275749853673 \\cdot 10^{-14}$$"
      ],
      "text/plain": [
       "u - uᵣₒₒₜ = 4.48275749853673e-14"
      ]
     },
     "execution_count": 94,
     "metadata": {},
     "output_type": "execute_result"
    },
    {
     "data": {
      "image/png": "[encoded data removed]",
      "text/latex": [
       "$$d - d_{root} = 0$$"
      ],
      "text/plain": [
       "d - dᵣₒₒₜ = 0"
      ]
     },
     "execution_count": 94,
     "metadata": {},
     "output_type": "execute_result"
    }
   ],
   "source": [
    "ux, dx = cm.nsolve_u_d_for_w_theta(wx,thetax)\n",
    "sy.Eq(u_root,ux)\n",
    "sy.Eq(d_root,dx)\n",
    "sy.Eq(u-u_root,sy.N(cm.u_poly_lambda((ux,wx,thetax)),chop=True))\n",
    "sy.Eq(d-d_root,sy.N(cm.d_poly_lambda((dx,wx,thetax)),chop=True))"
   ]
  },
  {
   "cell_type": "markdown",
   "metadata": {},
   "source": [
    "Shear velocity $u^*$ (dimensionless) and mean boundary shear stress $\\tau$ (Pa or N$\\,$m$^{-1}$)"
   ]
  },
  {
   "cell_type": "code",
   "execution_count": 95,
   "metadata": {},
   "outputs": [
    {
     "data": {
      "image/png": "[encoded data removed]",
      "text/latex": [
       "$$u^{*} = 0.206798324589185$$"
      ],
      "text/plain": [
       "u__* = 0.206798324589185"
      ]
     },
     "execution_count": 95,
     "metadata": {},
     "output_type": "execute_result"
    },
    {
     "data": {
      "image/png": "[encoded data removed]",
      "text/latex": [
       "$$\\tau = 42.7655470528937$$"
      ],
      "text/plain": [
       "τ = 42.7655470528937"
      ]
     },
     "execution_count": 95,
     "metadata": {},
     "output_type": "execute_result"
    }
   ],
   "source": [
    "sy.N(cm.u_star_eqn().simplify() \\\n",
    "     .subs({u:ux,d:dx}).subs({w:wx,theta:thetax}).subs(cm.get_params()))\n",
    "sy.N(cm.tau_eqn_dyn().simplify() \\\n",
    "     .subs({u:ux,d:dx}).subs({w:wx,theta:thetax}).subs(cm.get_params()))"
   ]
  },
  {
   "cell_type": "markdown",
   "metadata": {
    "slideshow": {
     "slide_type": "slide"
    }
   },
   "source": [
    "### Open channel flow: Manning roughess example numerical solutions for depth $d$, speed $u$, shear \"velocity\" $u^*$, and boundary shear stress $\\tau$"
   ]
  },
  {
   "cell_type": "code",
   "execution_count": 42,
   "metadata": {},
   "outputs": [
    {
     "data": {
      "image/png": "[encoded data removed]",
      "text/latex": [
       "$$\\frac{1.0 \\cdot 10^{-15} d^{10}}{\\tan^{5}{\\left (\\theta \\right )}} + \\frac{5.0 \\cdot 10^{-15} d^{9} w}{\\tan^{4}{\\left (\\theta \\right )}} + \\frac{1.0 \\cdot 10^{-14} d^{8} w^{2}}{\\tan^{3}{\\left (\\theta \\right )}} + \\frac{1.0 \\cdot 10^{-14} d^{7} w^{3}}{\\tan^{2}{\\left (\\theta \\right )}} + \\frac{5.0 \\cdot 10^{-15} d^{6} w^{4}}{\\tan{\\left (\\theta \\right )}} + 1.0 \\cdot 10^{-15} d^{5} w^{5} - \\frac{3.41526072679695 \\cdot 10^{-6} d^{2}}{\\sin^{2}{\\left (\\theta \\right )}} - \\frac{3.41526072679695 \\cdot 10^{-6} d w}{\\sin{\\left (\\theta \\right )}} - 8.53815181699238 \\cdot 10^{-7} w^{2} = 0$$"
      ],
      "text/plain": [
       "         10            9              8  2            7  3            6  4    \n",
       "1.0e-15⋅d     5.0e-15⋅d ⋅w   1.0e-14⋅d ⋅w    1.0e-14⋅d ⋅w    5.0e-15⋅d ⋅w     \n",
       "─────────── + ──────────── + ───────────── + ───────────── + ───────────── + 1\n",
       "     5             4               3               2             tan(θ)       \n",
       "  tan (θ)       tan (θ)         tan (θ)         tan (θ)                       \n",
       "\n",
       "                                    2                                         \n",
       "        5  5   3.41526072679695e-6⋅d    3.41526072679695e-6⋅d⋅w               \n",
       ".0e-15⋅d ⋅w  - ────────────────────── - ─────────────────────── - 8.5381518169\n",
       "                         2                       sin(θ)                       \n",
       "                      sin (θ)                                                 \n",
       "\n",
       "              \n",
       "         2    \n",
       "9238e-7⋅w  = 0\n",
       "              \n",
       "              "
      ]
     },
     "execution_count": 42,
     "metadata": {},
     "output_type": "execute_result"
    },
    {
     "data": {
      "image/png": "[encoded data removed]",
      "text/latex": [
       "$$0.00259807621135332 u^{\\frac{5}{2}} w \\left(\\sin{\\left (\\theta \\right )} - \\tan{\\left (\\theta \\right )}\\right) + 0.00259807621135332 u^{2} \\sqrt{u w^{2} \\tan{\\left (\\theta \\right )} + 4000.0} \\sqrt{\\tan{\\left (\\theta \\right )}} - 2.81170627448843 \\sin{\\left (\\theta \\right )} = 0$$"
      ],
      "text/plain": [
       "                                                                         _____\n",
       "                     5/2                                            2   ╱    2\n",
       "0.00259807621135332⋅u   ⋅w⋅(sin(θ) - tan(θ)) + 0.00259807621135332⋅u ⋅╲╱  u⋅w \n",
       "\n",
       "_________________                                         \n",
       "                    ________                              \n",
       "⋅tan(θ) + 4000.0 ⋅╲╱ tan(θ)  - 2.81170627448843⋅sin(θ) = 0"
      ]
     },
     "execution_count": 42,
     "metadata": {},
     "output_type": "execute_result"
    }
   ],
   "source": [
    "cm.set_friction_model('manning')\n",
    "cm.set_ud_lambdas()\n",
    "cm.d_polynomial_specified\n",
    "cm.u_polynomial_specified"
   ]
  },
  {
   "cell_type": "code",
   "execution_count": 43,
   "metadata": {},
   "outputs": [
    {
     "data": {
      "image/png": "[encoded data removed]",
      "text/latex": [
       "$$u_{root} = 2.48701235553595$$"
      ],
      "text/plain": [
       "uᵣₒₒₜ = 2.48701235553595"
      ]
     },
     "execution_count": 43,
     "metadata": {},
     "output_type": "execute_result"
    },
    {
     "data": {
      "image/png": "[encoded data removed]",
      "text/latex": [
       "$$d_{root} = 3.87103929701254$$"
      ],
      "text/plain": [
       "dᵣₒₒₜ = 3.87103929701254"
      ]
     },
     "execution_count": 43,
     "metadata": {},
     "output_type": "execute_result"
    },
    {
     "data": {
      "image/png": "[encoded data removed]",
      "text/latex": [
       "$$u - u_{root} = 7.8824453002593 \\cdot 10^{-17}$$"
      ],
      "text/plain": [
       "u - uᵣₒₒₜ = 7.8824453002593e-17"
      ]
     },
     "execution_count": 43,
     "metadata": {},
     "output_type": "execute_result"
    },
    {
     "data": {
      "image/png": "[encoded data removed]",
      "text/latex": [
       "$$d - d_{root} = 0$$"
      ],
      "text/plain": [
       "d - dᵣₒₒₜ = 0"
      ]
     },
     "execution_count": 43,
     "metadata": {},
     "output_type": "execute_result"
    }
   ],
   "source": [
    "ux, dx = cm.nsolve_u_d_for_w_theta(wx,thetax)\n",
    "sy.Eq(u_root,ux)\n",
    "sy.Eq(d_root,dx)\n",
    "sy.Eq(u-u_root,sy.N(cm.u_poly_lambda((ux,wx,thetax)),chop=True))\n",
    "sy.Eq(d-d_root,sy.N(cm.d_poly_lambda((dx,wx,thetax)),chop=True))"
   ]
  },
  {
   "cell_type": "markdown",
   "metadata": {},
   "source": [
    "Shear velocity $u^*$ (dimensionless) and mean boundary shear stress $\\tau$ (Pa or N$\\,$m$^{-1}$)"
   ]
  },
  {
   "cell_type": "code",
   "execution_count": 44,
   "metadata": {},
   "outputs": [
    {
     "data": {
      "image/png": "[encoded data removed]",
      "text/latex": [
       "$$u^{*} = 0.190370385406024$$"
      ],
      "text/plain": [
       "u__* = 0.190370385406024"
      ]
     },
     "execution_count": 44,
     "metadata": {},
     "output_type": "execute_result"
    },
    {
     "data": {
      "image/png": "[encoded data removed]",
      "text/latex": [
       "$$\\tau = 36.2408836396383$$"
      ],
      "text/plain": [
       "τ = 36.2408836396383"
      ]
     },
     "execution_count": 44,
     "metadata": {},
     "output_type": "execute_result"
    }
   ],
   "source": [
    "sy.N(cm.u_star_eqn().simplify() \\\n",
    "     .subs({u:ux,d:dx}).subs({w:wx,theta:thetax}).subs(cm.get_params()))\n",
    "sy.N(cm.tau_eqn_dyn().simplify() \\\n",
    "     .subs({u:ux,d:dx}).subs({w:wx,theta:thetax}).subs(cm.get_params()))"
   ]
  },
  {
   "cell_type": "markdown",
   "metadata": {
    "slideshow": {
     "slide_type": "slide"
    }
   },
   "source": [
    "### Bed sediment entrainment: Shields number for fine $\\tau^*_{fine}$ and coarse $\\tau^*_{fine}$ fractions -- Chézy roughness"
   ]
  },
  {
   "cell_type": "code",
   "execution_count": 97,
   "metadata": {},
   "outputs": [
    {
     "data": {
      "image/png": "[encoded data removed]",
      "text/latex": [
       "$$\\left \\{ C : 0.0316227766016838, \\quad D_{coarse} : 0.02, \\quad D_{fine} : 0.002, \\quad L : 1000.0, \\quad Q : 1000.0, \\quad U : 1.0, \\quad W : 50.0, \\quad \\beta_{0} : 0.001, \\quad d_{i} : 50.0, \\quad \\eta : 0.5, \\quad g : 10.0, \\quad \\mu : 0.75, \\quad n_{m} : 0.03, \\quad \\nu : 1.0, \\quad \\phi : \\phi, \\quad \\rho : 1000.0, \\quad \\rho_{\\Delta} : 1650.0, \\quad \\rho_{s} : 1000.0, \\quad u_{c} : 0, \\quad u_{i} : 5.0\\right \\}$$"
      ],
      "text/plain": [
       "{C: 0.0316227766016838, D_coarse: 0.02, D_fine: 0.002, L: 1000.0, Q: 1000.0, U\n",
       ": 1.0, W: 50.0, β₀: 0.001, dᵢ: 50.0, η: 0.5, g: 10.0, μ: 0.75, nₘ: 0.03, ν: 1.\n",
       "0, φ: φ, ρ: 1000.0, ρ_Δ: 1650.0, ρₛ: 1000.0, u_c: 0, uᵢ: 5.0}"
      ]
     },
     "execution_count": 97,
     "metadata": {},
     "output_type": "execute_result"
    }
   ],
   "source": [
    "cm.reset_params()\n",
    "cm.get_params()\n",
    "wx = 100\n",
    "thetax=sy.pi/4"
   ]
  },
  {
   "cell_type": "code",
   "execution_count": 98,
   "metadata": {},
   "outputs": [],
   "source": [
    "cm.set_friction_model('chezy')\n",
    "cm.set_ud_lambdas()\n",
    "ux, dx = cm.nsolve_u_d_for_w_theta(wx,thetax)"
   ]
  },
  {
   "cell_type": "code",
   "execution_count": 99,
   "metadata": {},
   "outputs": [
    {
     "data": {
      "image/png": "[encoded data removed]",
      "text/latex": [
       "$$\\tau = 42.7655470528937$$"
      ],
      "text/plain": [
       "τ = 42.7655470528937"
      ]
     },
     "execution_count": 99,
     "metadata": {},
     "output_type": "execute_result"
    }
   ],
   "source": [
    "taux = cm.tau_eqn_dyn()\n",
    "sy.N(taux.subs({u:ux,d:dx}).subs({w:wx,theta:thetax})\n",
    "     .subs(cm.get_params()))"
   ]
  },
  {
   "cell_type": "code",
   "execution_count": 100,
   "metadata": {},
   "outputs": [
    {
     "data": {
      "image/png": "[encoded data removed]",
      "text/latex": [
       "$$\\tau^{*}_{fine} = \\frac{C^{2} \\rho u^{2}}{D_{fine} \\rho_{\\Delta}}$$"
      ],
      "text/plain": [
       "              2    2  \n",
       "             C ⋅ρ⋅u   \n",
       "τ_fine__* = ──────────\n",
       "            D_fine⋅ρ_Δ"
      ]
     },
     "execution_count": 100,
     "metadata": {},
     "output_type": "execute_result"
    },
    {
     "data": {
      "image/png": "[encoded data removed]",
      "text/latex": [
       "$$\\tau^{*}_{fine} = 1.29592566826951$$"
      ],
      "text/plain": [
       "τ_fine__* = 1.29592566826951"
      ]
     },
     "execution_count": 100,
     "metadata": {},
     "output_type": "execute_result"
    }
   ],
   "source": [
    "sy.Eq(tau_star_fine,taux.rhs/(rho_Delta*g*D_fine))\n",
    "_.subs({u:ux,d:dx}).subs({w:wx,theta:thetax}).subs(cm.get_params())"
   ]
  },
  {
   "cell_type": "code",
   "execution_count": 101,
   "metadata": {},
   "outputs": [
    {
     "data": {
      "image/png": "[encoded data removed]",
      "text/latex": [
       "$$\\tau^{*}_{coarse} = \\frac{C^{2} \\rho u^{2}}{D_{coarse} \\rho_{\\Delta}}$$"
      ],
      "text/plain": [
       "                 2    2   \n",
       "                C ⋅ρ⋅u    \n",
       "τ_coarse__* = ────────────\n",
       "              D_coarse⋅ρ_Δ"
      ]
     },
     "execution_count": 101,
     "metadata": {},
     "output_type": "execute_result"
    },
    {
     "data": {
      "image/png": "[encoded data removed]",
      "text/latex": [
       "$$\\tau^{*}_{coarse} = 0.129592566826951$$"
      ],
      "text/plain": [
       "τ_coarse__* = 0.129592566826951"
      ]
     },
     "execution_count": 101,
     "metadata": {},
     "output_type": "execute_result"
    }
   ],
   "source": [
    "sy.Eq(tau_star_coarse,taux.rhs/(rho_Delta*g*D_coarse))\n",
    "_.subs({u:ux,d:dx}).subs({w:wx,theta:thetax}).subs(cm.get_params())"
   ]
  },
  {
   "cell_type": "markdown",
   "metadata": {
    "slideshow": {
     "slide_type": "slide"
    }
   },
   "source": [
    "### Bed sediment entrainment: Shields number for fine $\\tau^*_{fine}$ and coarse $\\tau^*_{fine}$ fractions -- Manning roughness"
   ]
  },
  {
   "cell_type": "code",
   "execution_count": 102,
   "metadata": {},
   "outputs": [],
   "source": [
    "cm.set_friction_model('manning')\n",
    "cm.set_ud_lambdas()\n",
    "ux, dx = cm.nsolve_u_d_for_w_theta(wx,thetax)"
   ]
  },
  {
   "cell_type": "code",
   "execution_count": 103,
   "metadata": {},
   "outputs": [
    {
     "data": {
      "image/png": "[encoded data removed]",
      "text/latex": [
       "$$\\tau = 36.2408836396383$$"
      ],
      "text/plain": [
       "τ = 36.2408836396383"
      ]
     },
     "execution_count": 103,
     "metadata": {},
     "output_type": "execute_result"
    }
   ],
   "source": [
    "taux = cm.tau_eqn_dyn()\n",
    "sy.N(taux.subs({u:ux,d:dx}).subs({w:wx,theta:thetax})\n",
    "     .subs(cm.get_params()))"
   ]
  },
  {
   "cell_type": "code",
   "execution_count": 104,
   "metadata": {},
   "outputs": [
    {
     "data": {
      "image/png": "[encoded data removed]",
      "text/latex": [
       "$$\\tau^{*}_{fine} = \\frac{n_{m}^{2} \\rho u^{\\frac{7}{3}} \\sqrt[3]{2 d + w \\sin{\\left (\\theta \\right )}}}{D_{fine} \\sqrt[3]{Q} \\rho_{\\Delta} \\sqrt[3]{\\sin{\\left (\\theta \\right )}}}$$"
      ],
      "text/plain": [
       "              2    7/3 3 ________________\n",
       "            nₘ ⋅ρ⋅u   ⋅╲╱ 2⋅d + w⋅sin(θ) \n",
       "τ_fine__* = ─────────────────────────────\n",
       "                    3 ___     3 ________ \n",
       "             D_fine⋅╲╱ Q ⋅ρ_Δ⋅╲╱ sin(θ)  "
      ]
     },
     "execution_count": 104,
     "metadata": {},
     "output_type": "execute_result"
    },
    {
     "data": {
      "image/png": "[encoded data removed]",
      "text/latex": [
       "$$\\tau^{*}_{fine} = 1.09820859514055$$"
      ],
      "text/plain": [
       "τ_fine__* = 1.09820859514055"
      ]
     },
     "execution_count": 104,
     "metadata": {},
     "output_type": "execute_result"
    }
   ],
   "source": [
    "sy.Eq(tau_star_fine,taux.rhs/(rho_Delta*g*D_fine))\n",
    "sy.N(_.subs({u:ux,d:dx}).subs({w:wx,theta:thetax}).subs(cm.get_params()))"
   ]
  },
  {
   "cell_type": "code",
   "execution_count": 105,
   "metadata": {},
   "outputs": [
    {
     "data": {
      "image/png": "[encoded data removed]",
      "text/latex": [
       "$$\\tau^{*}_{coarse} = \\frac{n_{m}^{2} \\rho u^{\\frac{7}{3}} \\sqrt[3]{2 d + w \\sin{\\left (\\theta \\right )}}}{D_{coarse} \\sqrt[3]{Q} \\rho_{\\Delta} \\sqrt[3]{\\sin{\\left (\\theta \\right )}}}$$"
      ],
      "text/plain": [
       "                2    7/3 3 ________________\n",
       "              nₘ ⋅ρ⋅u   ⋅╲╱ 2⋅d + w⋅sin(θ) \n",
       "τ_coarse__* = ─────────────────────────────\n",
       "                       3 ___     3 ________\n",
       "              D_coarse⋅╲╱ Q ⋅ρ_Δ⋅╲╱ sin(θ) "
      ]
     },
     "execution_count": 105,
     "metadata": {},
     "output_type": "execute_result"
    },
    {
     "data": {
      "image/png": "[encoded data removed]",
      "text/latex": [
       "$$\\tau^{*}_{coarse} = 0.109820859514055$$"
      ],
      "text/plain": [
       "τ_coarse__* = 0.109820859514055"
      ]
     },
     "execution_count": 105,
     "metadata": {},
     "output_type": "execute_result"
    }
   ],
   "source": [
    "sy.Eq(tau_star_coarse,taux.rhs/(rho_Delta*g*D_coarse))\n",
    "sy.N(_.subs({u:ux,d:dx}).subs({w:wx,theta:thetax}).subs(cm.get_params()))"
   ]
  },
  {
   "cell_type": "markdown",
   "metadata": {
    "slideshow": {
     "slide_type": "slide"
    }
   },
   "source": [
    "### Bedload sediment flux $q_b$"
   ]
  },
  {
   "cell_type": "code",
   "execution_count": null,
   "metadata": {},
   "outputs": [],
   "source": []
  },
  {
   "cell_type": "code",
   "execution_count": null,
   "metadata": {},
   "outputs": [],
   "source": []
  },
  {
   "cell_type": "code",
   "execution_count": null,
   "metadata": {},
   "outputs": [],
   "source": [
    "raise NameError('stop')"
   ]
  },
  {
   "cell_type": "markdown",
   "metadata": {
    "slideshow": {
     "slide_type": "slide"
    }
   },
   "source": [
    "### Suspended sediment flux fractions on wall $q_w$ and corner $q_c$"
   ]
  },
  {
   "cell_type": "code",
   "execution_count": null,
   "metadata": {},
   "outputs": [],
   "source": [
    "# varphi = sy.symbols('varphi',  positive=True ) \n",
    "# f_varphi = sy.Function('varphi', positive=True)(Z)\n",
    "# q_ss  = sy.symbols('q_ss',  positive=True ) \n",
    "# f_q_ss = sy.Function('q_ss', positive=True)(Z)\n",
    "# q_w, q_c, q_b  = sy.symbols('q_w, q_c, q_b',  positive=True ) \n"
   ]
  },
  {
   "cell_type": "code",
   "execution_count": null,
   "metadata": {},
   "outputs": [],
   "source": [
    "varphi_eqn = sy.Eq(f_varphi, sy.log(Z/k)*((1-Z)/Z)**nu / ((1-Z_0)/Z_0)**nu)\n",
    "varphi_eqn\n",
    "varphi_lambda = sy.lambdify((Z,nu,k,Z_0),varphi_eqn.rhs,'sympy')"
   ]
  },
  {
   "cell_type": "code",
   "execution_count": null,
   "metadata": {},
   "outputs": [],
   "source": [
    "# sy.integrate(varphi_eqn.rhs.subs(nu,sy.Rational(3,2)),(Z,Z_0,x))"
   ]
  },
  {
   "cell_type": "code",
   "execution_count": null,
   "metadata": {},
   "outputs": [],
   "source": [
    "# sy.integrate(varphi_eqn.rhs.subs(nu,nu+1),(Z,Z_0,Z_0+x))"
   ]
  },
  {
   "cell_type": "code",
   "execution_count": null,
   "metadata": {},
   "outputs": [],
   "source": [
    "# varphi_eqn2 = sy.Eq(f_varphi, sy.log(Z/k)*((1-Z)/Z)**nu)\n",
    "# varphi_eqn2.rhs.subs(nu,nu+1).subs(Z,Z+Z_0)\n",
    "# sy.integrate( varphi_eqn2.rhs.subs(nu,nu+1).subs(Z,Z+Z_0) ,Z)"
   ]
  },
  {
   "cell_type": "code",
   "execution_count": null,
   "metadata": {},
   "outputs": [],
   "source": [
    "# ((Z_0/(1-Z_0))**nu)*(nu*sy.pi/sy.sin(nu*sy.pi))*(\n",
    "#     -sy.log(Z_0)+sy.digamma(1-nu)+sy.digamma(2)\n",
    "#     +Z_0\n",
    "# )"
   ]
  },
  {
   "cell_type": "code",
   "execution_count": null,
   "metadata": {},
   "outputs": [],
   "source": [
    "# sy.simplify(qss_integral.rhs.subs(nu,2))"
   ]
  },
  {
   "cell_type": "code",
   "execution_count": null,
   "metadata": {},
   "outputs": [],
   "source": [
    "nZ = 10\n",
    "dZ = 1/nZ\n",
    "k_x = 0.1/30\n",
    "Z_0x = 0.01\n",
    "z_0x = 0.01\n",
    "nu_x = 0.03/(0.4*0.2)\n",
    "# nu_x = 0.06/(0.4*0.2)\n",
    "varphi_lambda(Z_0x,nu_x,k_x,Z_0x)"
   ]
  },
  {
   "cell_type": "code",
   "execution_count": null,
   "metadata": {},
   "outputs": [],
   "source": [
    "qss_integral = \\\n",
    "    sy.Eq(f_q_ss,\n",
    "            1/(nu-1) * Z**(1-nu)*(\n",
    "                       nu*sy.hyper([1-nu,1-nu,1-nu],[2-nu,2-nu],Z)/(1-nu)\n",
    "                    - sy.hyper([1-nu,-nu],[2-nu],Z)*(sy.log(Z/k)-1)\n",
    "            )/ ((1-Z_0)/Z_0)**nu)\n",
    "qss_integral\n",
    "qss_lambda = sy.lambdify((Z,nu,k,Z_0),qss_integral.rhs,'sympy')"
   ]
  },
  {
   "cell_type": "code",
   "execution_count": null,
   "metadata": {},
   "outputs": [],
   "source": [
    "delta_Z_x = 0.0001\n",
    "Z_x = 0.1\n",
    "sy.N( \n",
    "   qss_integral.rhs.subs({Z:Z_x+delta_Z_x/2,nu:nu_x,k:k_x,Z_0:Z_0x})\n",
    "  -qss_integral.rhs.subs({Z:Z_x-delta_Z_x/2,nu:nu_x,k:k_x,Z_0:Z_0x})\n",
    "   )/delta_Z_x\n",
    "np.float( (qss_lambda(Z_x+delta_Z_x/2,nu_x,k_x,Z_0x)\n",
    "          -qss_lambda(Z_x-delta_Z_x/2,nu_x,k_x,Z_0x))/delta_Z_x )"
   ]
  },
  {
   "cell_type": "code",
   "execution_count": null,
   "metadata": {},
   "outputs": [],
   "source": [
    "def qss_portions_dimless(Z,nu,k,Z_0):\n",
    "    qss_upper = sy.N(qss_lambda(1,nu,k,Z_0))\n",
    "    qss_Z     = sy.N(qss_lambda(Z,nu,k,Z_0))\n",
    "    qss_lower = sy.N(qss_lambda(Z_0,nu,k,Z_0))\n",
    "    return np.float((qss_Z-qss_lower)/(Z-Z_0)), np.float((qss_upper-qss_lower)/(1-(Z-Z_0)))\n",
    "def qss_portions(d,z,nu,k,z_0):\n",
    "    return qss_portions_dimless(z/d,nu,k,z_0/d)"
   ]
  },
  {
   "cell_type": "code",
   "execution_count": null,
   "metadata": {},
   "outputs": [],
   "source": [
    "d_x = 1\n",
    "qss_portions_dimless(Z_x,nu_x,k_x,Z_0x)\n",
    "qss_portions(d_x,Z_x*d_x,nu_x,k_x,Z_0x*d_x)"
   ]
  },
  {
   "cell_type": "code",
   "execution_count": null,
   "metadata": {},
   "outputs": [],
   "source": [
    "q_cx, q_wx = qss_portions(d_x,Z_x*d_x,nu_x,k_x,Z_0x*d_x)\n",
    "sy.Eq(q_w, q_wx)\n",
    "sy.Eq(q_c, q_cx)"
   ]
  },
  {
   "cell_type": "markdown",
   "metadata": {
    "slideshow": {
     "slide_type": "slide"
    }
   },
   "source": [
    "## Numerical exploration"
   ]
  },
  {
   "cell_type": "markdown",
   "metadata": {
    "slideshow": {
     "slide_type": "slide"
    }
   },
   "source": [
    "### Parameters"
   ]
  },
  {
   "cell_type": "code",
   "execution_count": null,
   "metadata": {},
   "outputs": [],
   "source": [
    "cm.set_params(  {chi:0} )\n",
    "cm.set_params(  {theta:cm.pi/4, Omega_r:10} )\n",
    "cm.set_params(  {epsilon_r:0.1} )\n",
    "cm.set_params(  {u_i:5,d_i:30} )\n",
    "cm.get_params()"
   ]
  },
  {
   "cell_type": "markdown",
   "metadata": {
    "slideshow": {
     "slide_type": "slide"
    }
   },
   "source": [
    "### Channel base width and wall tilt evolution: $\\{\\dot{w},\\dot\\theta\\}(t)$"
   ]
  },
  {
   "cell_type": "code",
   "execution_count": null,
   "metadata": {
    "scrolled": true
   },
   "outputs": [],
   "source": [
    "cm.set_params(  {Q:250,mu:0.2,eta:2} )\n",
    "cm.get_params()\n",
    "w_range = (0.1,300)\n",
    "import numpy as np\n",
    "(ode_integrations_list, t_w_chi_beta0_vecs_list, \n",
    " w_chi_beta0_interp_as_t_list, t_w_chi_beta0_resampled_vecs_list) \\\n",
    "  = cm.ode_integrate_w_chi_beta0(t_span=[0.0,1500],\n",
    "                                 initial_state=np.array([50,0.05,0.001]))"
   ]
  },
  {
   "cell_type": "code",
   "execution_count": null,
   "metadata": {
    "scrolled": false
   },
   "outputs": [],
   "source": [
    "t_w_chi_beta0_resampled_vecs_list.round(4)\n",
    "np.mean(t_w_chi_beta0_resampled_vecs_list[:,3])\n",
    "cm.get_params({beta_0:None, Q:None})"
   ]
  },
  {
   "cell_type": "code",
   "execution_count": null,
   "metadata": {
    "scrolled": true
   },
   "outputs": [],
   "source": [
    "cm.reset_params()\n",
    "cm.set_params(  {Q:3000,mu:1,eta:2} )\n",
    "cm.get_params()\n",
    "w_range = (0.1,300)\n",
    "import numpy as np\n",
    "(ode_integrations_list, t_w_chi_beta0_vecs_list, \n",
    " w_chi_beta0_interp_as_t_list, t_w_chi_beta0_resampled_vecs_list) \\\n",
    "  = cm.ode_integrate_w_chi_beta0(t_span=[0.0,1500],\n",
    "                                 initial_state=np.array([50,0.05,0.001]))"
   ]
  },
  {
   "cell_type": "code",
   "execution_count": null,
   "metadata": {},
   "outputs": [],
   "source": [
    "t_w_chi_beta0_resampled_vecs_list.round(4)\n",
    "np.mean(t_w_chi_beta0_resampled_vecs_list[:,3])\n",
    "cm.get_params({beta_0:5, Q:None})\n",
    "cm.get_params()"
   ]
  },
  {
   "cell_type": "code",
   "execution_count": null,
   "metadata": {},
   "outputs": [],
   "source": [
    "plt.plot(t_w_chi_beta0_resampled_vecs_list[:,0],\n",
    "         t_w_chi_beta0_resampled_vecs_list[:,3]);"
   ]
  }
 ],
 "metadata": {
  "hide_input": false,
  "kernelspec": {
   "display_name": "Python 3",
   "language": "python",
   "name": "python3"
  },
  "language_info": {
   "codemirror_mode": {
    "name": "ipython",
    "version": 3
   },
   "file_extension": ".py",
   "mimetype": "text/x-python",
   "name": "python",
   "nbconvert_exporter": "python",
   "pygments_lexer": "ipython3",
   "version": "3.6.6"
  },
  "toc": {
   "colors": {
    "hover_highlight": "#daa520",
    "navigate_num": "#000000",
    "navigate_text": "#333333",
    "running_highlight": "#FF0000",
    "selected_highlight": "#FFD700",
    "sidebar_border": "#EEEEEE",
    "wrapper_background": "#FFFFFF"
   },
   "moveMenuLeft": false,
   "nav_menu": {
    "height": "324px",
    "width": "252px"
   },
   "navigate_menu": true,
   "number_sections": true,
   "sideBar": true,
   "threshold": "2",
   "toc_cell": true,
   "toc_position": {
    "height": "998px",
    "left": "0px",
    "right": "708px",
    "top": "92px",
    "width": "212px"
   },
   "toc_section_display": "block",
   "toc_window_display": false,
   "widenNotebook": false
  }
 },
 "nbformat": 4,
 "nbformat_minor": 2
}
