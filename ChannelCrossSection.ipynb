{
 "cells": [
  {
   "cell_type": "markdown",
   "metadata": {
    "slideshow": {
     "slide_type": "slide"
    }
   },
   "source": [
    "# Channel cross-section evolution\n"
   ]
  },
  {
   "cell_type": "markdown",
   "metadata": {
    "heading_collapsed": true,
    "slideshow": {
     "slide_type": "slide"
    }
   },
   "source": [
    "## Python setup"
   ]
  },
  {
   "cell_type": "code",
   "execution_count": 1,
   "metadata": {
    "hidden": true,
    "slideshow": {
     "slide_type": "subslide"
    }
   },
   "outputs": [],
   "source": [
    "import bedrock_river as br, sympy as sy, numpy as np, matplotlib.pyplot as plt\n",
    "from sympy import Eq\n",
    "from dill.source import getsource\n",
    "sy.init_printing(pretty_print=True,wrap_line=True)\n",
    "from symbols import *"
   ]
  },
  {
   "cell_type": "code",
   "execution_count": 2,
   "metadata": {
    "hidden": true,
    "slideshow": {
     "slide_type": "subslide"
    }
   },
   "outputs": [
    {
     "name": "stdout",
     "output_type": "stream",
     "text": [
      "Initializing open channel flow hydraulics...done\n"
     ]
    },
    {
     "data": {
      "image/png": "[encoded data removed]",
      "text/latex": [
       "$$\\left \\{ C : 0.0316227766016838, \\quad D_{50} : 0.004, \\quad D_{coarse} : 0.02, \\quad D_{fine} : 0.002, \\quad L : 1000.0, \\quad Q : 1000.0, \\quad U : 1.0, \\quad W : 50.0, \\quad \\Delta\\rho : 1650.0, \\quad \\Delta\\rho^* : 1.65, \\quad \\beta_{0} : 0.001, \\quad d_{i} : 50.0, \\quad g : 9.81, \\quad \\mu : 0.75, \\quad n_{m} : 0.03, \\quad \\nu : 1.0 \\cdot 10^{-6}, \\quad \\rho : 1000.0, \\quad \\rho_{s} : 2650.0, \\quad \\tau^{*}_{c} : 0.04, \\quad u_{c} : 0, \\quad u_{i} : 5.0\\right \\}$$"
      ],
      "text/plain": [
       "{C: 0.0316227766016838, D₅₀: 0.004, D_coarse: 0.02, D_fine: 0.002, L: 1000.0, \n",
       "Q: 1000.0, U: 1.0, W: 50.0, \\Delta\\rho: 1650.0, \\Delta\\rho__*: 1.65, β₀: 0.001\n",
       ", dᵢ: 50.0, g: 9.81, μ: 0.75, nₘ: 0.03, ν: 1.0e-6, ρ: 1000.0, ρₛ: 2650.0, τ_c_\n",
       "_*: 0.04, u_c: 0, uᵢ: 5.0}"
      ]
     },
     "execution_count": 2,
     "metadata": {},
     "output_type": "execute_result"
    }
   ],
   "source": [
    "cm = br.channel.new_model()\n",
    "cm.get_params()\n"
   ]
  },
  {
   "cell_type": "markdown",
   "metadata": {
    "heading_collapsed": true,
    "slideshow": {
     "slide_type": "slide"
    }
   },
   "source": [
    "## Recipe"
   ]
  },
  {
   "cell_type": "markdown",
   "metadata": {
    "hidden": true
   },
   "source": [
    "1. Fix base width $w$, slope $\\beta_0$, sinuosity $\\chi=0$\n",
    "2. Fix wall angle $\\theta=\\pi/2$ thus imposing simple initial rectangular cross-section (ignoring beveled corners)\n",
    "\n",
    "Loop:\n",
    "3. Compute flow speed $u$ and flow depth $d$\n",
    "4. Compute bedload flux $q_b$\n",
    "5. Compute suspended load flux profile fractions at (i) wall-base corner $q_c$ (ii) remainder above corner $q_w$\n",
    "6. Optionally compute wall & corner weathering rates to modulate their erodibility\n",
    "7. Compute base wear rate $\\xi_b$, corner wear rate $\\xi_c$ and wall wear rate $\\xi_w$\n",
    "8. Compute base-corner vector $\\vec{\\xi}_{bc}$, base-corner vector dip (from vertical) $\\theta$\n",
    "9. Convert into rate of change of base channel width $\\dot{w}$;  secondarily compute base elevation $\\dot{h}$\n",
    "10. Compute wall base-corner-driven motion vector $\\vec{\\xi}_{wc}$ and wall rotation rate $\\dot{\\theta}$\n",
    "11. Time step by $\\Delta{t}$ the ODE system $(\\dot{w}, \\dot{\\theta})$ of rates of change of channel base width and wall dip; secondarily evolve base elevation $\\dot{h}$ \n",
    "12. Repeat"
   ]
  },
  {
   "cell_type": "markdown",
   "metadata": {
    "heading_collapsed": true,
    "slideshow": {
     "slide_type": "slide"
    }
   },
   "source": [
    "## Open channel flow"
   ]
  },
  {
   "cell_type": "markdown",
   "metadata": {
    "heading_collapsed": true,
    "hidden": true,
    "slideshow": {
     "slide_type": "slide"
    }
   },
   "source": [
    "### Cross-sectional area and wetted perimeter $p$"
   ]
  },
  {
   "cell_type": "markdown",
   "metadata": {
    "hidden": true,
    "slideshow": {
     "slide_type": "slide"
    }
   },
   "source": [
    "Flow cross-sectional area $A$:"
   ]
  },
  {
   "cell_type": "code",
   "execution_count": 3,
   "metadata": {
    "hidden": true
   },
   "outputs": [
    {
     "data": {
      "image/png": "[encoded data removed]",
      "text/latex": [
       "$$A = d \\left(\\frac{d}{\\tan{\\left (\\theta \\right )}} + w\\right)$$"
      ],
      "text/plain": [
       "      ⎛  d       ⎞\n",
       "A = d⋅⎜────── + w⎟\n",
       "      ⎝tan(θ)    ⎠"
      ]
     },
     "execution_count": 3,
     "metadata": {},
     "output_type": "execute_result"
    }
   ],
   "source": [
    "cm.A_eqn_geom()"
   ]
  },
  {
   "cell_type": "code",
   "execution_count": 4,
   "metadata": {
    "hidden": true
   },
   "outputs": [
    {
     "data": {
      "image/png": "[encoded data removed]",
      "text/latex": [
       "$$A = \\frac{Q}{u}$$"
      ],
      "text/plain": [
       "    Q\n",
       "A = ─\n",
       "    u"
      ]
     },
     "execution_count": 4,
     "metadata": {},
     "output_type": "execute_result"
    }
   ],
   "source": [
    "cm.A_eqn_dyn()"
   ]
  },
  {
   "cell_type": "markdown",
   "metadata": {
    "hidden": true,
    "slideshow": {
     "slide_type": "slide"
    }
   },
   "source": [
    "Wetted perimeter $p$:"
   ]
  },
  {
   "cell_type": "code",
   "execution_count": 5,
   "metadata": {
    "hidden": true
   },
   "outputs": [
    {
     "data": {
      "image/png": "[encoded data removed]",
      "text/latex": [
       "$$p = \\frac{2 d}{\\sin{\\left (\\theta \\right )}} + w$$"
      ],
      "text/plain": [
       "     2⋅d      \n",
       "p = ────── + w\n",
       "    sin(θ)    "
      ]
     },
     "execution_count": 5,
     "metadata": {},
     "output_type": "execute_result"
    }
   ],
   "source": [
    "cm.p_eqn()"
   ]
  },
  {
   "cell_type": "code",
   "execution_count": 6,
   "metadata": {
    "hidden": true
   },
   "outputs": [
    {
     "name": "stdout",
     "output_type": "stream",
     "text": [
      "    def R_eqn(self):\n",
      "        return Eq(R, self.A_eqn_dyn().rhs/self.p_eqn().rhs).simplify()\n",
      "\n"
     ]
    },
    {
     "data": {
      "image/png": "[encoded data removed]",
      "text/latex": [
       "$$R = \\frac{Q \\sin{\\left (\\theta \\right )}}{u \\left(2 d + w \\sin{\\left (\\theta \\right )}\\right)}$$"
      ],
      "text/plain": [
       "         Q⋅sin(θ)     \n",
       "R = ──────────────────\n",
       "    u⋅(2⋅d + w⋅sin(θ))"
      ]
     },
     "execution_count": 6,
     "metadata": {},
     "output_type": "execute_result"
    }
   ],
   "source": [
    "print(getsource(cm.R_eqn))\n",
    "cm.R_eqn()"
   ]
  },
  {
   "cell_type": "markdown",
   "metadata": {
    "heading_collapsed": true,
    "hidden": true,
    "slideshow": {
     "slide_type": "slide"
    }
   },
   "source": [
    "### Boundary friction"
   ]
  },
  {
   "cell_type": "markdown",
   "metadata": {
    "hidden": true,
    "slideshow": {
     "slide_type": "slide"
    }
   },
   "source": [
    "Dimensionless $C_Z$ vs dimensioned $C$ Chézy roughness (resistance) coefficients "
   ]
  },
  {
   "cell_type": "code",
   "execution_count": 7,
   "metadata": {
    "hidden": true
   },
   "outputs": [
    {
     "data": {
      "image/png": "[encoded data removed]",
      "text/latex": [
       "$$C = 0.0316227766016838$$"
      ],
      "text/plain": [
       "C = 0.0316227766016838"
      ]
     },
     "execution_count": 7,
     "metadata": {},
     "output_type": "execute_result"
    },
    {
     "data": {
      "image/png": "[encoded data removed]",
      "text/latex": [
       "$$C_{Z} = \\frac{1}{C \\sqrt{g}}$$"
      ],
      "text/plain": [
       "       1  \n",
       "C_Z = ────\n",
       "      C⋅√g"
      ]
     },
     "execution_count": 7,
     "metadata": {},
     "output_type": "execute_result"
    },
    {
     "data": {
      "image/png": "[encoded data removed]",
      "text/latex": [
       "$$C_{Z} = 10.096375546923$$"
      ],
      "text/plain": [
       "C_Z = 10.096375546923"
      ]
     },
     "execution_count": 7,
     "metadata": {},
     "output_type": "execute_result"
    }
   ],
   "source": [
    "Eq(C,C.subs(cm.get_params()))\n",
    "Cz_eqn = Eq(Cz, 1/(sy.sqrt(g)*C))\n",
    "Cz_eqn\n",
    "Cz_eqn.subs(cm.get_params())"
   ]
  },
  {
   "cell_type": "markdown",
   "metadata": {
    "hidden": true,
    "slideshow": {
     "slide_type": "slide"
    }
   },
   "source": [
    "Dimensionless friction factor $f=1/C_Z^2$"
   ]
  },
  {
   "cell_type": "code",
   "execution_count": 8,
   "metadata": {
    "hidden": true
   },
   "outputs": [
    {
     "data": {
      "image/png": "[encoded data removed]",
      "text/latex": [
       "$$f = C^{2} g$$"
      ],
      "text/plain": [
       "     2  \n",
       "f = C ⋅g"
      ]
     },
     "execution_count": 8,
     "metadata": {},
     "output_type": "execute_result"
    },
    {
     "data": {
      "image/png": "[encoded data removed]",
      "text/latex": [
       "$$f = 0.00981$$"
      ],
      "text/plain": [
       "f = 0.00981"
      ]
     },
     "execution_count": 8,
     "metadata": {},
     "output_type": "execute_result"
    }
   ],
   "source": [
    "cm.set_friction_model('chezy')\n",
    "cm.friction_eqn()\n",
    "_.subs(cm.get_params())"
   ]
  },
  {
   "cell_type": "markdown",
   "metadata": {
    "hidden": true,
    "slideshow": {
     "slide_type": "slide"
    }
   },
   "source": [
    "Friction factor $f$ and Manning's $n$:"
   ]
  },
  {
   "cell_type": "code",
   "execution_count": 9,
   "metadata": {
    "hidden": true
   },
   "outputs": [
    {
     "data": {
      "image/png": "[encoded data removed]",
      "text/latex": [
       "$$f = \\frac{g n_{m}^{2}}{\\sqrt[3]{R}}$$"
      ],
      "text/plain": [
       "        2\n",
       "    g⋅nₘ \n",
       "f = ─────\n",
       "    3 ___\n",
       "    ╲╱ R "
      ]
     },
     "execution_count": 9,
     "metadata": {},
     "output_type": "execute_result"
    },
    {
     "data": {
      "image/png": "[encoded data removed]",
      "text/latex": [
       "$$f = \\frac{0.008829}{\\sqrt[3]{R}}$$"
      ],
      "text/plain": [
       "    0.008829\n",
       "f = ────────\n",
       "     3 ___  \n",
       "     ╲╱ R   "
      ]
     },
     "execution_count": 9,
     "metadata": {},
     "output_type": "execute_result"
    },
    {
     "data": {
      "image/png": "[encoded data removed]",
      "text/latex": [
       "$$f = \\frac{g n_{m}^{2} \\sqrt[3]{u} \\sqrt[3]{2 d + w \\sin{\\left (\\theta \\right )}}}{\\sqrt[3]{Q} \\sqrt[3]{\\sin{\\left (\\theta \\right )}}}$$"
      ],
      "text/plain": [
       "        2 3 ___ 3 ________________\n",
       "    g⋅nₘ ⋅╲╱ u ⋅╲╱ 2⋅d + w⋅sin(θ) \n",
       "f = ──────────────────────────────\n",
       "           3 ___ 3 ________       \n",
       "           ╲╱ Q ⋅╲╱ sin(θ)        "
      ]
     },
     "execution_count": 9,
     "metadata": {},
     "output_type": "execute_result"
    },
    {
     "data": {
      "image/png": "[encoded data removed]",
      "text/latex": [
       "$$f = \\frac{0.0008829 \\sqrt[3]{u} \\sqrt[3]{2 d + w \\sin{\\left (\\theta \\right )}}}{\\sqrt[3]{\\sin{\\left (\\theta \\right )}}}$$"
      ],
      "text/plain": [
       "              3 ___ 3 ________________\n",
       "    0.0008829⋅╲╱ u ⋅╲╱ 2⋅d + w⋅sin(θ) \n",
       "f = ──────────────────────────────────\n",
       "                3 ________            \n",
       "                ╲╱ sin(θ)             "
      ]
     },
     "execution_count": 9,
     "metadata": {},
     "output_type": "execute_result"
    }
   ],
   "source": [
    "cm.set_friction_model('manning')\n",
    "cm.friction_eqn_manning_raw()\n",
    "_.subs(cm.get_params())\n",
    "cm.friction_eqn()\n",
    "_.subs(cm.get_params())"
   ]
  },
  {
   "cell_type": "markdown",
   "metadata": {
    "heading_collapsed": true,
    "hidden": true,
    "slideshow": {
     "slide_type": "slide"
    }
   },
   "source": [
    "### Boundary shear stress $\\tau$ from force (momentum) balance"
   ]
  },
  {
   "cell_type": "markdown",
   "metadata": {
    "hidden": true,
    "slideshow": {
     "slide_type": "slide"
    }
   },
   "source": [
    "Mean boundary shear stress $\\tau$, averaged along wetted perimeter $p$:"
   ]
  },
  {
   "cell_type": "code",
   "execution_count": 10,
   "metadata": {
    "hidden": true
   },
   "outputs": [
    {
     "name": "stdout",
     "output_type": "stream",
     "text": [
      "    def tau_eqn_raw(self):\n",
      "        return Eq(tau,(rho*g*A*sy.sin(beta)/p).subs(A,self.A_eqn_dyn().rhs))\n",
      "\n"
     ]
    },
    {
     "data": {
      "image/png": "[encoded data removed]",
      "text/latex": [
       "$$\\tau = \\frac{Q g \\rho \\sin{\\left (\\beta \\right )}}{p u}$$"
      ],
      "text/plain": [
       "    Q⋅g⋅ρ⋅sin(β)\n",
       "τ = ────────────\n",
       "        p⋅u     "
      ]
     },
     "execution_count": 10,
     "metadata": {},
     "output_type": "execute_result"
    }
   ],
   "source": [
    "print(getsource(cm.tau_eqn_raw))\n",
    "cm.tau_eqn_raw()"
   ]
  },
  {
   "cell_type": "code",
   "execution_count": 11,
   "metadata": {
    "hidden": true
   },
   "outputs": [
    {
     "name": "stdout",
     "output_type": "stream",
     "text": [
      "    def tau_eqn_geom(self):\n",
      "        return self.tau_eqn_raw().subs(p,self.p_eqn().rhs).simplify()\n",
      "\n"
     ]
    },
    {
     "data": {
      "image/png": "[encoded data removed]",
      "text/latex": [
       "$$\\tau = \\frac{Q g \\rho \\sin{\\left (\\beta \\right )} \\sin{\\left (\\theta \\right )}}{u \\left(2 d + w \\sin{\\left (\\theta \\right )}\\right)}$$"
      ],
      "text/plain": [
       "    Q⋅g⋅ρ⋅sin(β)⋅sin(θ)\n",
       "τ = ───────────────────\n",
       "     u⋅(2⋅d + w⋅sin(θ))"
      ]
     },
     "execution_count": 11,
     "metadata": {},
     "output_type": "execute_result"
    }
   ],
   "source": [
    "print(getsource(cm.tau_eqn_geom))\n",
    "cm.tau_eqn_geom()"
   ]
  },
  {
   "cell_type": "markdown",
   "metadata": {
    "heading_collapsed": true,
    "hidden": true,
    "slideshow": {
     "slide_type": "slide"
    }
   },
   "source": [
    "### Boundary shear stress $\\tau$ from friction"
   ]
  },
  {
   "cell_type": "markdown",
   "metadata": {
    "hidden": true,
    "slideshow": {
     "slide_type": "slide"
    }
   },
   "source": [
    "Mean shear stress at a rough boundary:"
   ]
  },
  {
   "cell_type": "code",
   "execution_count": 12,
   "metadata": {
    "hidden": true,
    "scrolled": true
   },
   "outputs": [
    {
     "data": {
      "image/png": "[encoded data removed]",
      "text/latex": [
       "$$\\tau = f \\rho u^{2}$$"
      ],
      "text/plain": [
       "         2\n",
       "τ = f⋅ρ⋅u "
      ]
     },
     "execution_count": 12,
     "metadata": {},
     "output_type": "execute_result"
    }
   ],
   "source": [
    "cm.tau_eqn_friction()\n",
    "# cm.tau_eqn_manning_friction()"
   ]
  },
  {
   "cell_type": "markdown",
   "metadata": {
    "hidden": true,
    "slideshow": {
     "slide_type": "slide"
    }
   },
   "source": [
    "Combining for each roughness model, we have mean boundary shear stress for Chézy versus Manning:"
   ]
  },
  {
   "cell_type": "code",
   "execution_count": 13,
   "metadata": {
    "hidden": true
   },
   "outputs": [
    {
     "data": {
      "image/png": "[encoded data removed]",
      "text/latex": [
       "$$\\tau = C^{2} g \\rho u^{2}$$"
      ],
      "text/plain": [
       "     2      2\n",
       "τ = C ⋅g⋅ρ⋅u "
      ]
     },
     "execution_count": 13,
     "metadata": {},
     "output_type": "execute_result"
    }
   ],
   "source": [
    "cm.set_friction_model('chezy')\n",
    "cm.tau_eqn_friction().subs(f,cm.friction_eqn().rhs)"
   ]
  },
  {
   "cell_type": "code",
   "execution_count": 14,
   "metadata": {
    "hidden": true
   },
   "outputs": [
    {
     "data": {
      "image/png": "[encoded data removed]",
      "text/latex": [
       "$$\\tau = \\frac{g n_{m}^{2} \\rho u^{\\frac{7}{3}} \\sqrt[3]{2 d + w \\sin{\\left (\\theta \\right )}}}{\\sqrt[3]{Q} \\sqrt[3]{\\sin{\\left (\\theta \\right )}}}$$"
      ],
      "text/plain": [
       "        2    7/3 3 ________________\n",
       "    g⋅nₘ ⋅ρ⋅u   ⋅╲╱ 2⋅d + w⋅sin(θ) \n",
       "τ = ───────────────────────────────\n",
       "            3 ___ 3 ________       \n",
       "            ╲╱ Q ⋅╲╱ sin(θ)        "
      ]
     },
     "execution_count": 14,
     "metadata": {},
     "output_type": "execute_result"
    }
   ],
   "source": [
    "cm.set_friction_model('manning')\n",
    "cm.tau_eqn_friction().subs(f,cm.friction_eqn_manning().rhs)"
   ]
  },
  {
   "cell_type": "markdown",
   "metadata": {
    "heading_collapsed": true,
    "hidden": true,
    "slideshow": {
     "slide_type": "slide"
    }
   },
   "source": [
    "### Shear velocity $u^*$"
   ]
  },
  {
   "cell_type": "markdown",
   "metadata": {
    "hidden": true,
    "slideshow": {
     "slide_type": "slide"
    }
   },
   "source": [
    "Shear or friction \"velocity\" $u^*$:"
   ]
  },
  {
   "cell_type": "code",
   "execution_count": 15,
   "metadata": {
    "hidden": true
   },
   "outputs": [
    {
     "data": {
      "image/png": "[encoded data removed]",
      "text/latex": [
       "$$u^{*} = \\frac{\\sqrt{\\tau}}{\\sqrt{\\rho}}$$"
      ],
      "text/plain": [
       "       √τ\n",
       "u__* = ──\n",
       "       √ρ"
      ]
     },
     "execution_count": 15,
     "metadata": {},
     "output_type": "execute_result"
    }
   ],
   "source": [
    "cm.u_star_eqn_raw()"
   ]
  },
  {
   "cell_type": "code",
   "execution_count": 16,
   "metadata": {
    "hidden": true
   },
   "outputs": [
    {
     "data": {
      "image/png": "[encoded data removed]",
      "text/latex": [
       "$$\\left ( \\left(u^{*}\\right)^{2} = C^{2} g u^{2}, \\quad C = \\frac{1}{C_{Z} \\sqrt{g}}\\right )$$"
      ],
      "text/plain": [
       "⎛    2    2    2        1   ⎞\n",
       "⎜u__*  = C ⋅g⋅u , C = ──────⎟\n",
       "⎝                     C_Z⋅√g⎠"
      ]
     },
     "execution_count": 16,
     "metadata": {},
     "output_type": "execute_result"
    },
    {
     "data": {
      "image/png": "[encoded data removed]",
      "text/latex": [
       "$$\\frac{u}{u^{*}} = C_{Z}$$"
      ],
      "text/plain": [
       " u        \n",
       "──── = C_Z\n",
       "u__*      "
      ]
     },
     "execution_count": 16,
     "metadata": {},
     "output_type": "execute_result"
    }
   ],
   "source": [
    "tmp = sy.Eq(u_star**2,(cm.u_star_eqn_raw().rhs**2).subs(tau,\n",
    "    cm.tau_eqn_friction().subs(f,cm.friction_eqn_chezy().rhs).rhs))\n",
    "tmp, Eq(C,1/(sy.sqrt(g)*Cz))\n",
    "Eq(sy.solve(sy.Eq(C,sy.solve(tmp,C)[0]).subs(C,1/(sy.sqrt(g)*Cz)),Cz)[0],Cz)"
   ]
  },
  {
   "cell_type": "code",
   "execution_count": 17,
   "metadata": {
    "hidden": true
   },
   "outputs": [
    {
     "data": {
      "image/png": "[encoded data removed]",
      "text/latex": [
       "$$u^{*} = C \\sqrt{g} u$$"
      ],
      "text/plain": [
       "u__* = C⋅√g⋅u"
      ]
     },
     "execution_count": 17,
     "metadata": {},
     "output_type": "execute_result"
    }
   ],
   "source": [
    "cm.set_friction_model('chezy')\n",
    "cm.u_star_eqn().simplify()"
   ]
  },
  {
   "cell_type": "code",
   "execution_count": 18,
   "metadata": {
    "hidden": true
   },
   "outputs": [
    {
     "data": {
      "image/png": "[encoded data removed]",
      "text/latex": [
       "$$u^{*} = \\frac{\\sqrt{g} n_{m} u^{\\frac{7}{6}} \\sqrt{\\frac{\\sqrt[3]{2 d + w \\sin{\\left (\\theta \\right )}}}{\\sqrt[3]{\\sin{\\left (\\theta \\right )}}}}}{\\sqrt[6]{Q}}$$"
      ],
      "text/plain": [
       "                        ____________________\n",
       "                       ╱ 3 ________________ \n",
       "              7/6     ╱  ╲╱ 2⋅d + w⋅sin(θ)  \n",
       "       √g⋅nₘ⋅u   ⋅   ╱   ────────────────── \n",
       "                    ╱        3 ________     \n",
       "                  ╲╱         ╲╱ sin(θ)      \n",
       "u__* = ─────────────────────────────────────\n",
       "                       6 ___                \n",
       "                       ╲╱ Q                 "
      ]
     },
     "execution_count": 18,
     "metadata": {},
     "output_type": "execute_result"
    }
   ],
   "source": [
    "cm.set_friction_model('manning')\n",
    "cm.u_star_eqn().simplify()"
   ]
  },
  {
   "cell_type": "markdown",
   "metadata": {
    "heading_collapsed": true,
    "hidden": true,
    "slideshow": {
     "slide_type": "slide"
    }
   },
   "source": [
    "### Speed $u$"
   ]
  },
  {
   "cell_type": "code",
   "execution_count": 19,
   "metadata": {
    "hidden": true
   },
   "outputs": [
    {
     "data": {
      "image/png": "[encoded data removed]",
      "text/latex": [
       "$$\\left \\{ C : 0.0316227766016838, \\quad D_{50} : 0.004, \\quad D_{coarse} : 0.02, \\quad D_{fine} : 0.002, \\quad L : 1000.0, \\quad Q : 1000.0, \\quad U : 1.0, \\quad W : 50.0, \\quad \\Delta\\rho : 1650.0, \\quad \\Delta\\rho^* : 1.65, \\quad \\beta_{0} : 0.001, \\quad d : d, \\quad d_{i} : 50.0, \\quad g : 9.81, \\quad \\mu : 0.75, \\quad n_{m} : 0.03, \\quad \\nu : 1.0 \\cdot 10^{-6}, \\quad \\rho : 1000.0, \\quad \\rho_{s} : 2650.0, \\quad \\tau^{*}_{c} : 0.04, \\quad u : u, \\quad u_{c} : 0, \\quad u_{i} : 5.0\\right \\}$$"
      ],
      "text/plain": [
       "{C: 0.0316227766016838, D₅₀: 0.004, D_coarse: 0.02, D_fine: 0.002, L: 1000.0, \n",
       "Q: 1000.0, U: 1.0, W: 50.0, \\Delta\\rho: 1650.0, \\Delta\\rho__*: 1.65, β₀: 0.001\n",
       ", d: d, dᵢ: 50.0, g: 9.81, μ: 0.75, nₘ: 0.03, ν: 1.0e-6, ρ: 1000.0, ρₛ: 2650.0\n",
       ", τ_c__*: 0.04, u: u, u_c: 0, uᵢ: 5.0}"
      ]
     },
     "execution_count": 19,
     "metadata": {},
     "output_type": "execute_result"
    }
   ],
   "source": [
    "pdict = cm.get_params()\n",
    "pdict.update({u:u,d:d})\n",
    "pdict"
   ]
  },
  {
   "cell_type": "markdown",
   "metadata": {
    "hidden": true
   },
   "source": [
    "Mean flow speed $u$ equations assuming an isoceles trapezoidal cross-section:"
   ]
  },
  {
   "cell_type": "code",
   "execution_count": 20,
   "metadata": {
    "hidden": true
   },
   "outputs": [
    {
     "data": {
      "image/png": "[encoded data removed]",
      "text/latex": [
       "$$u = \\frac{Q \\tan{\\left (\\theta \\right )}}{d \\left(d + w \\tan{\\left (\\theta \\right )}\\right)}$$"
      ],
      "text/plain": [
       "        Q⋅tan(θ)    \n",
       "u = ────────────────\n",
       "    d⋅(d + w⋅tan(θ))"
      ]
     },
     "execution_count": 20,
     "metadata": {},
     "output_type": "execute_result"
    },
    {
     "data": {
      "image/png": "[encoded data removed]",
      "text/latex": [
       "$$u = \\frac{200.0 \\tan{\\left (\\theta \\right )}}{w \\tan{\\left (\\theta \\right )} + 5}$$"
      ],
      "text/plain": [
       "    200.0⋅tan(θ)\n",
       "u = ────────────\n",
       "    w⋅tan(θ) + 5"
      ]
     },
     "execution_count": 20,
     "metadata": {},
     "output_type": "execute_result"
    }
   ],
   "source": [
    "cm.u_eqn_geom()\n",
    "_.subs(pdict).subs(d,5)"
   ]
  },
  {
   "cell_type": "code",
   "execution_count": 21,
   "metadata": {
    "hidden": true
   },
   "outputs": [
    {
     "data": {
      "image/png": "[encoded data removed]",
      "text/latex": [
       "$$\\tau = C^{2} g \\rho u^{2}$$"
      ],
      "text/plain": [
       "     2      2\n",
       "τ = C ⋅g⋅ρ⋅u "
      ]
     },
     "execution_count": 21,
     "metadata": {},
     "output_type": "execute_result"
    },
    {
     "data": {
      "image/png": "[encoded data removed]",
      "text/latex": [
       "$$u^{3} = \\frac{Q \\sin{\\left (\\beta \\right )} \\sin{\\left (\\theta \\right )}}{C^{2} \\left(2 d + w \\sin{\\left (\\theta \\right )}\\right)}$$"
      ],
      "text/plain": [
       " 3     Q⋅sin(β)⋅sin(θ)  \n",
       "u  = ───────────────────\n",
       "      2                 \n",
       "     C ⋅(2⋅d + w⋅sin(θ))"
      ]
     },
     "execution_count": 21,
     "metadata": {},
     "output_type": "execute_result"
    }
   ],
   "source": [
    "cm.set_friction_model('chezy')\n",
    "cm.tau_eqn_dyn()\n",
    "cm.u_eqn_dyn()"
   ]
  },
  {
   "cell_type": "code",
   "execution_count": 22,
   "metadata": {
    "hidden": true
   },
   "outputs": [
    {
     "data": {
      "image/png": "[encoded data removed]",
      "text/latex": [
       "$$\\tau = \\frac{g n_{m}^{2} \\rho u^{\\frac{7}{3}} \\sqrt[3]{2 d + w \\sin{\\left (\\theta \\right )}}}{\\sqrt[3]{Q} \\sqrt[3]{\\sin{\\left (\\theta \\right )}}}$$"
      ],
      "text/plain": [
       "        2    7/3 3 ________________\n",
       "    g⋅nₘ ⋅ρ⋅u   ⋅╲╱ 2⋅d + w⋅sin(θ) \n",
       "τ = ───────────────────────────────\n",
       "            3 ___ 3 ________       \n",
       "            ╲╱ Q ⋅╲╱ sin(θ)        "
      ]
     },
     "execution_count": 22,
     "metadata": {},
     "output_type": "execute_result"
    },
    {
     "data": {
      "image/png": "[encoded data removed]",
      "text/latex": [
       "$$u^{5} = \\frac{Q^{2} \\sqrt{\\sin^{3}{\\left (\\beta \\right )}} \\sin^{2}{\\left (\\theta \\right )}}{n_{m}^{3} \\left(2 d + w \\sin{\\left (\\theta \\right )}\\right)^{2}}$$"
      ],
      "text/plain": [
       "           _________        \n",
       "      2   ╱    3        2   \n",
       " 5   Q ⋅╲╱  sin (β) ⋅sin (θ)\n",
       "u  = ───────────────────────\n",
       "        3                 2 \n",
       "      nₘ ⋅(2⋅d + w⋅sin(θ))  "
      ]
     },
     "execution_count": 22,
     "metadata": {},
     "output_type": "execute_result"
    }
   ],
   "source": [
    "cm.set_friction_model('manning')\n",
    "cm.tau_eqn_dyn()\n",
    "u_eqn = cm.u_eqn_dyn()\n",
    "u_eqn"
   ]
  },
  {
   "cell_type": "code",
   "execution_count": 23,
   "metadata": {
    "hidden": true
   },
   "outputs": [
    {
     "data": {
      "image/png": "[encoded data removed]",
      "text/latex": [
       "$$\\tau = \\frac{g n_{m}^{2} \\rho u^{2}}{\\sqrt[3]{d}}$$"
      ],
      "text/plain": [
       "        2    2\n",
       "    g⋅nₘ ⋅ρ⋅u \n",
       "τ = ──────────\n",
       "      3 ___   \n",
       "      ╲╱ d    "
      ]
     },
     "execution_count": 23,
     "metadata": {},
     "output_type": "execute_result"
    },
    {
     "data": {
      "image/png": "[encoded data removed]",
      "text/latex": [
       "$$u^{3} = \\frac{Q \\sqrt[3]{d} \\sin{\\left (\\beta \\right )} \\sin{\\left (\\theta \\right )}}{n_{m}^{2} \\left(2 d + w \\sin{\\left (\\theta \\right )}\\right)}$$"
      ],
      "text/plain": [
       "       3 ___              \n",
       " 3   Q⋅╲╱ d ⋅sin(β)⋅sin(θ)\n",
       "u  = ─────────────────────\n",
       "        2                 \n",
       "      nₘ ⋅(2⋅d + w⋅sin(θ))"
      ]
     },
     "execution_count": 23,
     "metadata": {},
     "output_type": "execute_result"
    }
   ],
   "source": [
    "cm.set_friction_model('manning_depth')\n",
    "cm.tau_eqn_dyn()\n",
    "cm.u_eqn_dyn()"
   ]
  },
  {
   "cell_type": "markdown",
   "metadata": {
    "heading_collapsed": true,
    "hidden": true,
    "slideshow": {
     "slide_type": "slide"
    }
   },
   "source": [
    "### Depth $d$"
   ]
  },
  {
   "cell_type": "markdown",
   "metadata": {
    "hidden": true
   },
   "source": [
    "Flow depth $d$ (above centerline) equations assuming an isoceles trapezoidal cross-section:"
   ]
  },
  {
   "cell_type": "code",
   "execution_count": 24,
   "metadata": {
    "hidden": true
   },
   "outputs": [
    {
     "data": {
      "image/png": "[encoded data removed]",
      "text/latex": [
       "$$d = \\left(- \\frac{w}{2} + \\frac{Q \\sin{\\left (\\beta \\right )}}{2 C^{2} u^{3}}\\right) \\sin{\\left (\\theta \\right )}$$"
      ],
      "text/plain": [
       "    ⎛  w   Q⋅sin(β)⎞       \n",
       "d = ⎜- ─ + ────────⎟⋅sin(θ)\n",
       "    ⎜  2      2  3 ⎟       \n",
       "    ⎝      2⋅C ⋅u  ⎠       "
      ]
     },
     "execution_count": 24,
     "metadata": {},
     "output_type": "execute_result"
    }
   ],
   "source": [
    "cm.set_friction_model('chezy')\n",
    "cm.d_eqn_dyn()"
   ]
  },
  {
   "cell_type": "code",
   "execution_count": 25,
   "metadata": {
    "hidden": true
   },
   "outputs": [
    {
     "data": {
      "image/png": "[encoded data removed]",
      "text/latex": [
       "$$d = \\left(\\frac{Q \\sqrt[4]{\\sin^{3}{\\left (\\beta \\right )}}}{2 n_{m}^{\\frac{3}{2}} u^{\\frac{5}{2}}} - \\frac{w}{2}\\right) \\sin{\\left (\\theta \\right )}$$"
      ],
      "text/plain": [
       "    ⎛     _________    ⎞       \n",
       "    ⎜  4 ╱    3        ⎟       \n",
       "    ⎜Q⋅╲╱  sin (β)    w⎟       \n",
       "d = ⎜────────────── - ─⎟⋅sin(θ)\n",
       "    ⎜     3/2  5/2    2⎟       \n",
       "    ⎝ 2⋅nₘ   ⋅u        ⎠       "
      ]
     },
     "execution_count": 25,
     "metadata": {},
     "output_type": "execute_result"
    }
   ],
   "source": [
    "cm.set_friction_model('manning')\n",
    "cm.d_eqn_dyn()"
   ]
  },
  {
   "cell_type": "code",
   "execution_count": 26,
   "metadata": {
    "hidden": true
   },
   "outputs": [
    {
     "data": {
      "image/png": "[encoded data removed]",
      "text/latex": [
       "$$n_{m}^{6} u^{9} \\left(2 d + w \\sin{\\left (\\theta \\right )}\\right)^{3} = Q^{3} d \\sin^{3}{\\left (\\beta \\right )} \\sin^{3}{\\left (\\theta \\right )}$$"
      ],
      "text/plain": [
       "  6  9                 3    3      3       3   \n",
       "nₘ ⋅u ⋅(2⋅d + w⋅sin(θ))  = Q ⋅d⋅sin (β)⋅sin (θ)"
      ]
     },
     "execution_count": 26,
     "metadata": {},
     "output_type": "execute_result"
    }
   ],
   "source": [
    "cm.set_friction_model('manning_depth')\n",
    "d_eqn = Eq( (cm.u_eqn_dyn().lhs*(2*d+w*sy.sin(theta))*n_m**2)**3,\n",
    "            (cm.u_eqn_dyn().rhs*(2*d+w*sy.sin(theta))*n_m**2)**3 )\n",
    "d_eqn"
   ]
  },
  {
   "cell_type": "code",
   "execution_count": 27,
   "metadata": {
    "hidden": true
   },
   "outputs": [
    {
     "data": {
      "image/png": "[encoded data removed]",
      "text/latex": [
       "$$d = - \\frac{w \\sin{\\left (\\theta \\right )}}{2} - \\frac{\\frac{9 w^{2} \\sin^{2}{\\left (\\theta \\right )}}{4} - \\frac{3 \\left(- Q^{3} \\sin^{3}{\\left (\\beta \\right )} \\sin^{3}{\\left (\\theta \\right )} + 6 n_{m}^{6} u^{9} w^{2} \\sin^{2}{\\left (\\theta \\right )}\\right)}{8 n_{m}^{6} u^{9}}}{3 \\left(- \\frac{1}{2} - \\frac{\\sqrt{3} i}{2}\\right) \\sqrt[3]{\\frac{81 w^{3} \\sin^{3}{\\left (\\theta \\right )}}{16} + \\frac{\\sqrt{- 4 \\left(\\frac{9 w^{2} \\sin^{2}{\\left (\\theta \\right )}}{4} - \\frac{3 \\left(- Q^{3} \\sin^{3}{\\left (\\beta \\right )} \\sin^{3}{\\left (\\theta \\right )} + 6 n_{m}^{6} u^{9} w^{2} \\sin^{2}{\\left (\\theta \\right )}\\right)}{8 n_{m}^{6} u^{9}}\\right)^{3} + \\left(\\frac{81 w^{3} \\sin^{3}{\\left (\\theta \\right )}}{8} - \\frac{27 w \\left(- Q^{3} \\sin^{3}{\\left (\\beta \\right )} \\sin^{3}{\\left (\\theta \\right )} + 6 n_{m}^{6} u^{9} w^{2} \\sin^{2}{\\left (\\theta \\right )}\\right) \\sin{\\left (\\theta \\right )}}{16 n_{m}^{6} u^{9}}\\right)^{2}}}{2} - \\frac{27 w \\left(- Q^{3} \\sin^{3}{\\left (\\beta \\right )} \\sin^{3}{\\left (\\theta \\right )} + 6 n_{m}^{6} u^{9} w^{2} \\sin^{2}{\\left (\\theta \\right )}\\right) \\sin{\\left (\\theta \\right )}}{32 n_{m}^{6} u^{9}}}} - \\frac{\\left(- \\frac{1}{2} - \\frac{\\sqrt{3} i}{2}\\right) \\sqrt[3]{\\frac{81 w^{3} \\sin^{3}{\\left (\\theta \\right )}}{16} + \\frac{\\sqrt{- 4 \\left(\\frac{9 w^{2} \\sin^{2}{\\left (\\theta \\right )}}{4} - \\frac{3 \\left(- Q^{3} \\sin^{3}{\\left (\\beta \\right )} \\sin^{3}{\\left (\\theta \\right )} + 6 n_{m}^{6} u^{9} w^{2} \\sin^{2}{\\left (\\theta \\right )}\\right)}{8 n_{m}^{6} u^{9}}\\right)^{3} + \\left(\\frac{81 w^{3} \\sin^{3}{\\left (\\theta \\right )}}{8} - \\frac{27 w \\left(- Q^{3} \\sin^{3}{\\left (\\beta \\right )} \\sin^{3}{\\left (\\theta \\right )} + 6 n_{m}^{6} u^{9} w^{2} \\sin^{2}{\\left (\\theta \\right )}\\right) \\sin{\\left (\\theta \\right )}}{16 n_{m}^{6} u^{9}}\\right)^{2}}}{2} - \\frac{27 w \\left(- Q^{3} \\sin^{3}{\\left (\\beta \\right )} \\sin^{3}{\\left (\\theta \\right )} + 6 n_{m}^{6} u^{9} w^{2} \\sin^{2}{\\left (\\theta \\right )}\\right) \\sin{\\left (\\theta \\right )}}{32 n_{m}^{6} u^{9}}}}{3}$$"
      ],
      "text/plain": [
       "                                                                              \n",
       "                                                                              \n",
       "                                                                              \n",
       "                                                                              \n",
       "                                                                              \n",
       "                                                                              \n",
       "                                                                              \n",
       "                                                                              \n",
       "                                                                              \n",
       "                                                                              \n",
       "      w⋅sin(θ)                                                                \n",
       "d = - ──────── - ─────────────────────────────────────────────────────────────\n",
       "         2                                 ___________________________________\n",
       "                                          ╱                        ___________\n",
       "                                         ╱                        ╱           \n",
       "                                        ╱                        ╱      ⎛   2 \n",
       "                                       ╱                        ╱       ⎜9⋅w ⋅\n",
       "                                      ╱                        ╱    - 4⋅⎜─────\n",
       "                                     ╱          3    3        ╱         ⎜     \n",
       "                   ⎛  1   √3⋅ⅈ⎞     ╱       81⋅w ⋅sin (θ)   ╲╱          ⎝     \n",
       "                 3⋅⎜- ─ - ────⎟⋅   ╱        ───────────── + ──────────────────\n",
       "                   ⎝  2    2  ⎠ 3 ╱               16                          \n",
       "                                ╲╱                                            \n",
       "\n",
       "                                                                              \n",
       "                                                                              \n",
       "                                                                              \n",
       "                                                                              \n",
       "                                                                              \n",
       "                                                                              \n",
       "                                        2    2        ⎛   3    3       3      \n",
       "                                     9⋅w ⋅sin (θ)   3⋅⎝- Q ⋅sin (β)⋅sin (θ) + \n",
       "                                     ──────────── - ──────────────────────────\n",
       "                                          4                                6  \n",
       "                                                                       8⋅nₘ ⋅u\n",
       "──────────────────────────────────────────────────────────────────────────────\n",
       "______________________________________________________________________________\n",
       "______________________________________________________________________________\n",
       "                                                         3                    \n",
       "   2        ⎛   3    3       3          6  9  2    2   ⎞⎞    ⎛    3    3      \n",
       "sin (θ)   3⋅⎝- Q ⋅sin (β)⋅sin (θ) + 6⋅nₘ ⋅u ⋅w ⋅sin (θ)⎠⎟    ⎜81⋅w ⋅sin (θ)   \n",
       "─────── - ──────────────────────────────────────────────⎟  + ⎜───────────── - \n",
       "4                                6  9                   ⎟    ⎜      8         \n",
       "                             8⋅nₘ ⋅u                    ⎠    ⎝                \n",
       "──────────────────────────────────────────────────────────────────────────────\n",
       "                                                           2                  \n",
       "                                                                              \n",
       "\n",
       "                                                                              \n",
       "                                                                              \n",
       "                                                                              \n",
       "                                                                              \n",
       "                                                                              \n",
       "                                                                              \n",
       "    6  9  2    2   ⎞                                                          \n",
       "6⋅nₘ ⋅u ⋅w ⋅sin (θ)⎠                                                          \n",
       "────────────────────                                                          \n",
       "9                                                                             \n",
       "                                                                              \n",
       "──────────────────────────────────────────────────────────────────────────────\n",
       "______________________________________________________________________________\n",
       "___________________________________________________________                   \n",
       "                                                         2                    \n",
       "     ⎛   3    3       3          6  9  2    2   ⎞       ⎞                     \n",
       "27⋅w⋅⎝- Q ⋅sin (β)⋅sin (θ) + 6⋅nₘ ⋅u ⋅w ⋅sin (θ)⎠⋅sin(θ)⎟                     \n",
       "────────────────────────────────────────────────────────⎟                     \n",
       "                            6  9                        ⎟          ⎛   3    3 \n",
       "                       16⋅nₘ ⋅u                         ⎠     27⋅w⋅⎝- Q ⋅sin (\n",
       "─────────────────────────────────────────────────────────── - ────────────────\n",
       "                                                                              \n",
       "                                                                              \n",
       "\n",
       "                                                                    __________\n",
       "                                                                   ╱          \n",
       "                                                                  ╱           \n",
       "                                                                 ╱            \n",
       "                                                                ╱             \n",
       "                                                               ╱              \n",
       "                                                              ╱          3    \n",
       "                                            ⎛  1   √3⋅ⅈ⎞     ╱       81⋅w ⋅sin\n",
       "                                            ⎜- ─ - ────⎟⋅   ╱        ─────────\n",
       "                                            ⎝  2    2  ⎠ 3 ╱               16 \n",
       "                                                         ╲╱                   \n",
       "───────────────────────────────────────── - ──────────────────────────────────\n",
       "_________________________________________                                     \n",
       "                                                                              \n",
       "                                                                              \n",
       "                                                                              \n",
       "                                                                              \n",
       "                                                                              \n",
       "      3          6  9  2    2   ⎞                                             \n",
       "β)⋅sin (θ) + 6⋅nₘ ⋅u ⋅w ⋅sin (θ)⎠⋅sin(θ)                                      \n",
       "────────────────────────────────────────                                      \n",
       "            6  9                                                              \n",
       "       32⋅nₘ ⋅u                                                               \n",
       "\n",
       "______________________________________________________________________________\n",
       "              ________________________________________________________________\n",
       "             ╱                                                                \n",
       "            ╱      ⎛   2    2        ⎛   3    3       3          6  9  2    2 \n",
       "           ╱       ⎜9⋅w ⋅sin (θ)   3⋅⎝- Q ⋅sin (β)⋅sin (θ) + 6⋅nₘ ⋅u ⋅w ⋅sin (\n",
       "          ╱    - 4⋅⎜──────────── - ───────────────────────────────────────────\n",
       "3        ╱         ⎜     4                                6  9                \n",
       " (θ)   ╲╱          ⎝                                  8⋅nₘ ⋅u                 \n",
       "──── + ───────────────────────────────────────────────────────────────────────\n",
       "                                                                              \n",
       "                                                                              \n",
       "──────────────────────────────────────────────────────────────────────────────\n",
       "                                                                              \n",
       "                                                                              \n",
       "                                                                              \n",
       "                                                                              \n",
       "                                                                              \n",
       "                                                                              \n",
       "                                                                              \n",
       "                                                                              \n",
       "                                                                              \n",
       "                                                                              \n",
       "                                                                              \n",
       "\n",
       "______________________________________________________________________________\n",
       "______________________________________________________________________________\n",
       "    3                                                                         \n",
       "  ⎞⎞    ⎛    3    3           ⎛   3    3       3          6  9  2    2   ⎞    \n",
       "θ)⎠⎟    ⎜81⋅w ⋅sin (θ)   27⋅w⋅⎝- Q ⋅sin (β)⋅sin (θ) + 6⋅nₘ ⋅u ⋅w ⋅sin (θ)⎠⋅sin\n",
       "───⎟  + ⎜───────────── - ─────────────────────────────────────────────────────\n",
       "   ⎟    ⎜      8                                     6  9                     \n",
       "   ⎠    ⎝                                       16⋅nₘ ⋅u                      \n",
       "──────────────────────────────────────────────────────────────────────────────\n",
       "      2                                                                       \n",
       "                                                                              \n",
       "──────────────────────────────────────────────────────────────────────────────\n",
       "               3                                                              \n",
       "                                                                              \n",
       "                                                                              \n",
       "                                                                              \n",
       "                                                                              \n",
       "                                                                              \n",
       "                                                                              \n",
       "                                                                              \n",
       "                                                                              \n",
       "                                                                              \n",
       "                                                                              \n",
       "\n",
       "__________________________________________________________________\n",
       "______                                                            \n",
       "    2                                                             \n",
       "   ⎞                                                              \n",
       "(θ)⎟                                                              \n",
       "───⎟                                                              \n",
       "   ⎟          ⎛   3    3       3          6  9  2    2   ⎞        \n",
       "   ⎠     27⋅w⋅⎝- Q ⋅sin (β)⋅sin (θ) + 6⋅nₘ ⋅u ⋅w ⋅sin (θ)⎠⋅sin(θ) \n",
       "────── - ──────────────────────────────────────────────────────── \n",
       "                                     6  9                         \n",
       "                                32⋅nₘ ⋅u                          \n",
       "──────────────────────────────────────────────────────────────────\n",
       "                                                                  \n",
       "                                                                  \n",
       "                                                                  \n",
       "                                                                  \n",
       "                                                                  \n",
       "                                                                  \n",
       "                                                                  \n",
       "                                                                  \n",
       "                                                                  \n",
       "                                                                  \n",
       "                                                                  "
      ]
     },
     "execution_count": 27,
     "metadata": {},
     "output_type": "execute_result"
    }
   ],
   "source": [
    "cm.set_friction_model('manning_depth')\n",
    "d_eqn = cm.d_eqn_dyn()\n",
    "d_eqn"
   ]
  },
  {
   "cell_type": "code",
   "execution_count": 28,
   "metadata": {
    "hidden": true
   },
   "outputs": [
    {
     "data": {
      "image/png": "[encoded data removed]",
      "text/latex": [
       "$$3.39248248594981$$"
      ],
      "text/plain": [
       "3.39248248594981"
      ]
     },
     "execution_count": 28,
     "metadata": {},
     "output_type": "execute_result"
    }
   ],
   "source": [
    "sy.N(sy.re(d_eqn.rhs.subs({Q:1000,w:100,beta:0.0035,theta:sy.pi/4,n_m:0.0375})\n",
    "           .subs({u:3.8})), chop=True)"
   ]
  },
  {
   "cell_type": "markdown",
   "metadata": {
    "heading_collapsed": true,
    "hidden": true,
    "slideshow": {
     "slide_type": "slide"
    }
   },
   "source": [
    "### Explicit solutions for depth $d$ and speed $u$"
   ]
  },
  {
   "cell_type": "markdown",
   "metadata": {
    "hidden": true
   },
   "source": [
    "Combining to yield polynomials for $u$ and $d$:"
   ]
  },
  {
   "cell_type": "code",
   "execution_count": 29,
   "metadata": {
    "hidden": true
   },
   "outputs": [],
   "source": [
    "cm.set_friction_model('chezy')"
   ]
  },
  {
   "cell_type": "code",
   "execution_count": 30,
   "metadata": {
    "hidden": true
   },
   "outputs": [
    {
     "data": {
      "image/png": "[encoded data removed]",
      "text/latex": [
       "$$- \\frac{2 C^{2} d}{Q \\sin{\\left (\\beta \\right )} \\sin{\\left (\\theta \\right )}} - \\frac{C^{2} w}{Q \\sin{\\left (\\beta \\right )}} + \\frac{d^{6}}{Q^{3} \\tan^{3}{\\left (\\theta \\right )}} + \\frac{3 d^{5} w}{Q^{3} \\tan^{2}{\\left (\\theta \\right )}} + \\frac{3 d^{4} w^{2}}{Q^{3} \\tan{\\left (\\theta \\right )}} + \\frac{d^{3} w^{3}}{Q^{3}} = 0$$"
      ],
      "text/plain": [
       "          2            2            6            5           4  2     3  3    \n",
       "       2⋅C ⋅d         C ⋅w         d          3⋅d ⋅w      3⋅d ⋅w     d ⋅w     \n",
       "- ─────────────── - ──────── + ────────── + ────────── + ───────── + ───── = 0\n",
       "  Q⋅sin(β)⋅sin(θ)   Q⋅sin(β)    3    3       3    2       3             3     \n",
       "                               Q ⋅tan (θ)   Q ⋅tan (θ)   Q ⋅tan(θ)     Q      "
      ]
     },
     "execution_count": 30,
     "metadata": {},
     "output_type": "execute_result"
    },
    {
     "data": {
      "image/png": "[encoded data removed]",
      "text/latex": [
       "$$d^{6} + 3 d^{5} + 3 d^{4} + d^{3} - 4 d - \\sqrt{2} = 0$$"
      ],
      "text/plain": [
       " 6      5      4    3               \n",
       "d  + 3⋅d  + 3⋅d  + d  - 4⋅d - √2 = 0"
      ]
     },
     "execution_count": 30,
     "metadata": {},
     "output_type": "execute_result"
    }
   ],
   "source": [
    "d_eqn = cm.d_eqn_poly()\n",
    "d_eqn\n",
    "_.subs({C:1,Q:1,beta:sy.pi/4,theta:sy.pi/4,w:1,n_m:1}).simplify()"
   ]
  },
  {
   "cell_type": "code",
   "execution_count": 31,
   "metadata": {
    "hidden": true
   },
   "outputs": [
    {
     "data": {
      "image/png": "[encoded data removed]",
      "text/latex": [
       "$$\\frac{u^{\\frac{5}{2}} \\sqrt{4 Q + u w^{2} \\tan{\\left (\\theta \\right )}} \\sqrt{\\tan{\\left (\\theta \\right )}}}{2} + \\frac{u^{3} w \\sin{\\left (\\theta \\right )}}{2} - \\frac{u^{3} w \\tan{\\left (\\theta \\right )}}{2} - \\frac{Q \\sin{\\left (\\beta \\right )} \\sin{\\left (\\theta \\right )}}{2 C^{2}} = 0$$"
      ],
      "text/plain": [
       "        ___________________                                                   \n",
       " 5/2   ╱          2           ________    3             3                     \n",
       "u   ⋅╲╱  4⋅Q + u⋅w ⋅tan(θ) ⋅╲╱ tan(θ)    u ⋅w⋅sin(θ)   u ⋅w⋅tan(θ)   Q⋅sin(β)⋅\n",
       "────────────────────────────────────── + ─────────── - ─────────── - ─────────\n",
       "                  2                           2             2                 \n",
       "                                                                           2⋅C\n",
       "\n",
       "          \n",
       "          \n",
       "sin(θ)    \n",
       "────── = 0\n",
       "2         \n",
       "          "
      ]
     },
     "execution_count": 31,
     "metadata": {},
     "output_type": "execute_result"
    },
    {
     "data": {
      "image/png": "[encoded data removed]",
      "text/latex": [
       "$$\\frac{u^{\\frac{5}{2}} \\sqrt{u + 4}}{2} - \\frac{u^{3}}{2} + \\frac{\\sqrt{2} u^{3}}{4} - \\frac{1}{4} = 0$$"
      ],
      "text/plain": [
       " 5/2   _______    3       3        \n",
       "u   ⋅╲╱ u + 4    u    √2⋅u    1    \n",
       "────────────── - ── + ───── - ─ = 0\n",
       "      2          2      4     4    "
      ]
     },
     "execution_count": 31,
     "metadata": {},
     "output_type": "execute_result"
    }
   ],
   "source": [
    "u_eqn = cm.u_eqn_poly()\n",
    "u_eqn\n",
    "u_eqn.subs({C:1,Q:1,beta:sy.pi/4,theta:sy.pi/4,w:1,n_m:1}).simplify()"
   ]
  },
  {
   "cell_type": "code",
   "execution_count": 32,
   "metadata": {
    "hidden": true
   },
   "outputs": [],
   "source": [
    "cm.set_friction_model('manning')"
   ]
  },
  {
   "cell_type": "code",
   "execution_count": 33,
   "metadata": {
    "hidden": true
   },
   "outputs": [
    {
     "data": {
      "image/png": "[encoded data removed]",
      "text/latex": [
       "$$- \\frac{4 d^{2} n_{m}^{3}}{Q^{2} \\sqrt{\\sin^{3}{\\left (\\beta \\right )}} \\sin^{2}{\\left (\\theta \\right )}} - \\frac{4 d n_{m}^{3} w}{Q^{2} \\sqrt{\\sin^{3}{\\left (\\beta \\right )}} \\sin{\\left (\\theta \\right )}} - \\frac{n_{m}^{3} w^{2}}{Q^{2} \\sqrt{\\sin^{3}{\\left (\\beta \\right )}}} + \\frac{d^{6}}{Q^{3} \\tan^{3}{\\left (\\theta \\right )}} + \\frac{3 d^{5} w}{Q^{3} \\tan^{2}{\\left (\\theta \\right )}} + \\frac{3 d^{4} w^{2}}{Q^{3} \\tan{\\left (\\theta \\right )}} + \\frac{d^{3} w^{3}}{Q^{3}} = 0$$"
      ],
      "text/plain": [
       "             2   3                      3                   3  2            6 \n",
       "          4⋅d ⋅nₘ                 4⋅d⋅nₘ ⋅w               nₘ ⋅w            d  \n",
       "- ─────────────────────── - ────────────────────── - ─────────────── + ───────\n",
       "        _________                 _________                _________    3    3\n",
       "   2   ╱    3        2       2   ╱    3               2   ╱    3       Q ⋅tan \n",
       "  Q ⋅╲╱  sin (β) ⋅sin (θ)   Q ⋅╲╱  sin (β) ⋅sin(θ)   Q ⋅╲╱  sin (β)           \n",
       "\n",
       "           5           4  2     3  3    \n",
       "        3⋅d ⋅w      3⋅d ⋅w     d ⋅w     \n",
       "─── + ────────── + ───────── + ───── = 0\n",
       "       3    2       3             3     \n",
       "(θ)   Q ⋅tan (θ)   Q ⋅tan(θ)     Q      \n",
       "                                        "
      ]
     },
     "execution_count": 33,
     "metadata": {},
     "output_type": "execute_result"
    },
    {
     "data": {
      "image/png": "[encoded data removed]",
      "text/latex": [
       "$$d^{6} + 3 d^{5} + 3 d^{4} + d^{3} - 8 \\cdot 2^{\\frac{3}{4}} d^{2} - 8 \\sqrt[4]{2} d - 2^{\\frac{3}{4}} = 0$$"
      ],
      "text/plain": [
       " 6      5      4    3      3/4  2     4 ___      3/4    \n",
       "d  + 3⋅d  + 3⋅d  + d  - 8⋅2   ⋅d  - 8⋅╲╱ 2 ⋅d - 2    = 0"
      ]
     },
     "execution_count": 33,
     "metadata": {},
     "output_type": "execute_result"
    }
   ],
   "source": [
    "d_eqn = cm.d_eqn_poly()\n",
    "d_eqn\n",
    "_.subs({C:1,Q:1,beta:sy.pi/4,theta:sy.pi/4,w:1,n_m:1}).simplify()"
   ]
  },
  {
   "cell_type": "code",
   "execution_count": 34,
   "metadata": {
    "hidden": true
   },
   "outputs": [
    {
     "data": {
      "image/png": "[encoded data removed]",
      "text/latex": [
       "$$- \\frac{Q \\sqrt[4]{\\sin^{3}{\\left (\\beta \\right )}} \\sin{\\left (\\theta \\right )}}{2} + \\frac{n_{m}^{\\frac{3}{2}} u^{\\frac{5}{2}} w \\left(\\sin{\\left (\\theta \\right )} - \\tan{\\left (\\theta \\right )}\\right)}{2} + \\frac{n_{m}^{\\frac{3}{2}} u^{2} \\sqrt{4 Q + u w^{2} \\tan{\\left (\\theta \\right )}} \\sqrt{\\tan{\\left (\\theta \\right )}}}{2} = 0$$"
      ],
      "text/plain": [
       "       _________                                                       _______\n",
       "    4 ╱    3                3/2  5/2                         3/2  2   ╱       \n",
       "  Q⋅╲╱  sin (β) ⋅sin(θ)   nₘ   ⋅u   ⋅w⋅(sin(θ) - tan(θ))   nₘ   ⋅u ⋅╲╱  4⋅Q + \n",
       "- ───────────────────── + ────────────────────────────── + ───────────────────\n",
       "            2                           2                                     \n",
       "\n",
       "____________               \n",
       "   2           ________    \n",
       "u⋅w ⋅tan(θ) ⋅╲╱ tan(θ)     \n",
       "─────────────────────── = 0\n",
       " 2                         "
      ]
     },
     "execution_count": 34,
     "metadata": {},
     "output_type": "execute_result"
    },
    {
     "data": {
      "image/png": "[encoded data removed]",
      "text/latex": [
       "$$\\frac{u^{\\frac{5}{2}} \\left(-2 + \\sqrt{2}\\right)}{4} + \\frac{u^{2} \\sqrt{u + 4}}{2} - \\frac{\\sqrt[8]{2}}{4} = 0$$"
      ],
      "text/plain": [
       " 5/2              2   _______   8 ___    \n",
       "u   ⋅(-2 + √2)   u ⋅╲╱ u + 4    ╲╱ 2     \n",
       "────────────── + ──────────── - ───── = 0\n",
       "      4               2           4      "
      ]
     },
     "execution_count": 34,
     "metadata": {},
     "output_type": "execute_result"
    }
   ],
   "source": [
    "u_eqn = cm.u_eqn_poly()\n",
    "u_eqn\n",
    "u_eqn.subs({C:1,Q:1,beta:sy.pi/4,theta:sy.pi/4,w:1,n_m:1}).simplify()"
   ]
  },
  {
   "cell_type": "markdown",
   "metadata": {
    "hidden": true
   },
   "source": [
    "By finding the positive real roots of these equations, we can obtain $d$ and then $u$ from wall tilt $\\theta$, base width $w$ and channel base slope $\\beta$, together with $C$ and $Q$. We can then obtain values for boundary shear stress $\\tau$ and shear velocity $u^*$."
   ]
  },
  {
   "cell_type": "markdown",
   "metadata": {
    "heading_collapsed": true,
    "hidden": true,
    "slideshow": {
     "slide_type": "slide"
    }
   },
   "source": [
    "### Numerical solutions for depth $d$ and speed $u$ (Chézy) "
   ]
  },
  {
   "cell_type": "code",
   "execution_count": 35,
   "metadata": {
    "hidden": true
   },
   "outputs": [
    {
     "data": {
      "image/png": "[encoded data removed]",
      "text/latex": [
       "$$\\left \\{ C : 0.0316227766016838, \\quad D_{50} : 0.004, \\quad D_{coarse} : 0.02, \\quad D_{fine} : 0.002, \\quad L : 1000.0, \\quad Q : 1000.0, \\quad U : 1.0, \\quad W : 50.0, \\quad \\Delta\\rho : 1650.0, \\quad \\Delta\\rho^* : 1.65, \\quad \\beta_{0} : 0.001, \\quad d_{i} : 50.0, \\quad g : 9.81, \\quad \\mu : 0.75, \\quad n_{m} : 0.03, \\quad \\nu : 1.0 \\cdot 10^{-6}, \\quad \\rho : 1000.0, \\quad \\rho_{s} : 2650.0, \\quad \\tau^{*}_{c} : 0.04, \\quad u_{c} : 0, \\quad u_{i} : 5.0\\right \\}$$"
      ],
      "text/plain": [
       "{C: 0.0316227766016838, D₅₀: 0.004, D_coarse: 0.02, D_fine: 0.002, L: 1000.0, \n",
       "Q: 1000.0, U: 1.0, W: 50.0, \\Delta\\rho: 1650.0, \\Delta\\rho__*: 1.65, β₀: 0.001\n",
       ", dᵢ: 50.0, g: 9.81, μ: 0.75, nₘ: 0.03, ν: 1.0e-6, ρ: 1000.0, ρₛ: 2650.0, τ_c_\n",
       "_*: 0.04, u_c: 0, uᵢ: 5.0}"
      ]
     },
     "execution_count": 35,
     "metadata": {},
     "output_type": "execute_result"
    }
   ],
   "source": [
    "cm.reset_params()\n",
    "cm.get_params()\n",
    "w_x = 100\n",
    "theta_x=sy.pi/4"
   ]
  },
  {
   "cell_type": "code",
   "execution_count": 36,
   "metadata": {
    "hidden": true
   },
   "outputs": [
    {
     "data": {
      "image/png": "[encoded data removed]",
      "text/latex": [
       "$$\\frac{1.0 \\cdot 10^{-9} d^{6}}{\\tan^{3}{\\left (\\theta \\right )}} + \\frac{3.0 \\cdot 10^{-9} d^{5} w}{\\tan^{2}{\\left (\\theta \\right )}} + \\frac{3.0 \\cdot 10^{-9} d^{4} w^{2}}{\\tan{\\left (\\theta \\right )}} + 1.0 \\cdot 10^{-9} d^{3} w^{3} - \\frac{0.00200000033333337 d}{\\sin{\\left (\\theta \\right )}} - 0.00100000016666669 w = 0$$"
      ],
      "text/plain": [
       "        6           5             4  2                                        \n",
       "1.0e-9⋅d    3.0e-9⋅d ⋅w   3.0e-9⋅d ⋅w            3  3   0.00200000033333337⋅d \n",
       "───────── + ─────────── + ──────────── + 1.0e-9⋅d ⋅w  - ───────────────────── \n",
       "    3            2           tan(θ)                             sin(θ)        \n",
       " tan (θ)      tan (θ)                                                         \n",
       "\n",
       "                           \n",
       "                           \n",
       "- 0.00100000016666669⋅w = 0\n",
       "                           \n",
       "                           "
      ]
     },
     "execution_count": 36,
     "metadata": {},
     "output_type": "execute_result"
    },
    {
     "data": {
      "image/png": "[encoded data removed]",
      "text/latex": [
       "$$\\frac{u^{\\frac{5}{2}} \\sqrt{u w^{2} \\tan{\\left (\\theta \\right )} + 4000.0} \\sqrt{\\tan{\\left (\\theta \\right )}}}{2} + \\frac{u^{3} w \\sin{\\left (\\theta \\right )}}{2} - \\frac{u^{3} w \\tan{\\left (\\theta \\right )}}{2} - 499.999916666671 \\sin{\\left (\\theta \\right )} = 0$$"
      ],
      "text/plain": [
       "        ______________________                                                \n",
       " 5/2   ╱    2                    ________    3             3                  \n",
       "u   ⋅╲╱  u⋅w ⋅tan(θ) + 4000.0 ⋅╲╱ tan(θ)    u ⋅w⋅sin(θ)   u ⋅w⋅tan(θ)         \n",
       "───────────────────────────────────────── + ─────────── - ─────────── - 499.99\n",
       "                    2                            2             2              \n",
       "\n",
       "                     \n",
       "                     \n",
       "                     \n",
       "9916666671⋅sin(θ) = 0\n",
       "                     "
      ]
     },
     "execution_count": 36,
     "metadata": {},
     "output_type": "execute_result"
    }
   ],
   "source": [
    "cm.set_friction_model('chezy')\n",
    "cm.set_ud_lambdas()\n",
    "cm.d_polynomial_specified\n",
    "cm.u_polynomial_specified"
   ]
  },
  {
   "cell_type": "code",
   "execution_count": 37,
   "metadata": {
    "hidden": true
   },
   "outputs": [
    {
     "data": {
      "image/png": "[encoded data removed]",
      "text/latex": [
       "$$u_{root} = 2.06798324589185$$"
      ],
      "text/plain": [
       "uᵣₒₒₜ = 2.06798324589185"
      ]
     },
     "execution_count": 37,
     "metadata": {},
     "output_type": "execute_result"
    },
    {
     "data": {
      "image/png": "[encoded data removed]",
      "text/latex": [
       "$$d_{root} = 4.62200025475475$$"
      ],
      "text/plain": [
       "dᵣₒₒₜ = 4.62200025475475"
      ]
     },
     "execution_count": 37,
     "metadata": {},
     "output_type": "execute_result"
    },
    {
     "data": {
      "image/png": "[encoded data removed]",
      "text/latex": [
       "$$u - u_{root} = 4.48275749853673 \\cdot 10^{-14}$$"
      ],
      "text/plain": [
       "u - uᵣₒₒₜ = 4.48275749853673e-14"
      ]
     },
     "execution_count": 37,
     "metadata": {},
     "output_type": "execute_result"
    },
    {
     "data": {
      "image/png": "[encoded data removed]",
      "text/latex": [
       "$$d - d_{root} = 0$$"
      ],
      "text/plain": [
       "d - dᵣₒₒₜ = 0"
      ]
     },
     "execution_count": 37,
     "metadata": {},
     "output_type": "execute_result"
    }
   ],
   "source": [
    "u_x, d_x = cm.nsolve_u_d_for_w_theta(w_x,theta_x)\n",
    "Eq(u_root,u_x)\n",
    "Eq(d_root,d_x)\n",
    "Eq(u-u_root,sy.N(cm.u_poly_lambda((u_x,w_x,theta_x)),chop=True))\n",
    "Eq(d-d_root,sy.N(cm.d_poly_lambda((d_x,w_x,theta_x)),chop=True))"
   ]
  },
  {
   "cell_type": "markdown",
   "metadata": {
    "heading_collapsed": true,
    "hidden": true,
    "slideshow": {
     "slide_type": "slide"
    }
   },
   "source": [
    "### Numerical solutions for shear velocity $u^*$, boundary shear stress $\\tau$ (Chézy) "
   ]
  },
  {
   "cell_type": "markdown",
   "metadata": {
    "hidden": true
   },
   "source": [
    "Shear velocity $u^*$ (dimensionless) and mean boundary shear stress $\\tau$ (Pa or N$\\,$m$^{-1}$)"
   ]
  },
  {
   "cell_type": "code",
   "execution_count": 38,
   "metadata": {
    "hidden": true
   },
   "outputs": [
    {
     "data": {
      "image/png": "[encoded data removed]",
      "text/latex": [
       "$$u^{*} = 0.204824319012389$$"
      ],
      "text/plain": [
       "u__* = 0.204824319012389"
      ]
     },
     "execution_count": 38,
     "metadata": {},
     "output_type": "execute_result"
    },
    {
     "data": {
      "image/png": "[encoded data removed]",
      "text/latex": [
       "$$\\tau = 41.9530016588887$$"
      ],
      "text/plain": [
       "τ = 41.9530016588887"
      ]
     },
     "execution_count": 38,
     "metadata": {},
     "output_type": "execute_result"
    }
   ],
   "source": [
    "sy.N(cm.u_star_eqn().simplify() \\\n",
    "     .subs({u:u_x,d:d_x}).subs({w:w_x,theta:theta_x}).subs(cm.get_params()))\n",
    "sy.N(cm.tau_eqn_dyn().simplify() \\\n",
    "     .subs({u:u_x,d:d_x}).subs({w:w_x,theta:theta_x}).subs(cm.get_params()))"
   ]
  },
  {
   "cell_type": "markdown",
   "metadata": {
    "heading_collapsed": true,
    "hidden": true,
    "slideshow": {
     "slide_type": "slide"
    }
   },
   "source": [
    "### Numerical solutions for depth $d$, speed $u$ (Manning) "
   ]
  },
  {
   "cell_type": "code",
   "execution_count": 39,
   "metadata": {
    "hidden": true
   },
   "outputs": [
    {
     "data": {
      "image/png": "[encoded data removed]",
      "text/latex": [
       "$$\\frac{1.0 \\cdot 10^{-15} d^{10}}{\\tan^{5}{\\left (\\theta \\right )}} + \\frac{5.0 \\cdot 10^{-15} d^{9} w}{\\tan^{4}{\\left (\\theta \\right )}} + \\frac{1.0 \\cdot 10^{-14} d^{8} w^{2}}{\\tan^{3}{\\left (\\theta \\right )}} + \\frac{1.0 \\cdot 10^{-14} d^{7} w^{3}}{\\tan^{2}{\\left (\\theta \\right )}} + \\frac{5.0 \\cdot 10^{-15} d^{6} w^{4}}{\\tan{\\left (\\theta \\right )}} + 1.0 \\cdot 10^{-15} d^{5} w^{5} - \\frac{3.41526072679695 \\cdot 10^{-6} d^{2}}{\\sin^{2}{\\left (\\theta \\right )}} - \\frac{3.41526072679695 \\cdot 10^{-6} d w}{\\sin{\\left (\\theta \\right )}} - 8.53815181699238 \\cdot 10^{-7} w^{2} = 0$$"
      ],
      "text/plain": [
       "         10            9              8  2            7  3            6  4    \n",
       "1.0e-15⋅d     5.0e-15⋅d ⋅w   1.0e-14⋅d ⋅w    1.0e-14⋅d ⋅w    5.0e-15⋅d ⋅w     \n",
       "─────────── + ──────────── + ───────────── + ───────────── + ───────────── + 1\n",
       "     5             4               3               2             tan(θ)       \n",
       "  tan (θ)       tan (θ)         tan (θ)         tan (θ)                       \n",
       "\n",
       "                                    2                                         \n",
       "        5  5   3.41526072679695e-6⋅d    3.41526072679695e-6⋅d⋅w               \n",
       ".0e-15⋅d ⋅w  - ────────────────────── - ─────────────────────── - 8.5381518169\n",
       "                         2                       sin(θ)                       \n",
       "                      sin (θ)                                                 \n",
       "\n",
       "              \n",
       "         2    \n",
       "9238e-7⋅w  = 0\n",
       "              \n",
       "              "
      ]
     },
     "execution_count": 39,
     "metadata": {},
     "output_type": "execute_result"
    },
    {
     "data": {
      "image/png": "[encoded data removed]",
      "text/latex": [
       "$$0.00259807621135332 u^{\\frac{5}{2}} w \\left(\\sin{\\left (\\theta \\right )} - \\tan{\\left (\\theta \\right )}\\right) + 0.00259807621135332 u^{2} \\sqrt{u w^{2} \\tan{\\left (\\theta \\right )} + 4000.0} \\sqrt{\\tan{\\left (\\theta \\right )}} - 2.81170627448843 \\sin{\\left (\\theta \\right )} = 0$$"
      ],
      "text/plain": [
       "                                                                         _____\n",
       "                     5/2                                            2   ╱    2\n",
       "0.00259807621135332⋅u   ⋅w⋅(sin(θ) - tan(θ)) + 0.00259807621135332⋅u ⋅╲╱  u⋅w \n",
       "\n",
       "_________________                                         \n",
       "                    ________                              \n",
       "⋅tan(θ) + 4000.0 ⋅╲╱ tan(θ)  - 2.81170627448843⋅sin(θ) = 0"
      ]
     },
     "execution_count": 39,
     "metadata": {},
     "output_type": "execute_result"
    }
   ],
   "source": [
    "cm.set_friction_model('manning')\n",
    "cm.set_ud_lambdas()\n",
    "cm.d_polynomial_specified\n",
    "cm.u_polynomial_specified"
   ]
  },
  {
   "cell_type": "code",
   "execution_count": 40,
   "metadata": {
    "hidden": true
   },
   "outputs": [
    {
     "data": {
      "image/png": "[encoded data removed]",
      "text/latex": [
       "$$u_{root} = 2.48701235553595$$"
      ],
      "text/plain": [
       "uᵣₒₒₜ = 2.48701235553595"
      ]
     },
     "execution_count": 40,
     "metadata": {},
     "output_type": "execute_result"
    },
    {
     "data": {
      "image/png": "[encoded data removed]",
      "text/latex": [
       "$$d_{root} = 3.87103929701254$$"
      ],
      "text/plain": [
       "dᵣₒₒₜ = 3.87103929701254"
      ]
     },
     "execution_count": 40,
     "metadata": {},
     "output_type": "execute_result"
    },
    {
     "data": {
      "image/png": "[encoded data removed]",
      "text/latex": [
       "$$u - u_{root} = 7.8824453002593 \\cdot 10^{-17}$$"
      ],
      "text/plain": [
       "u - uᵣₒₒₜ = 7.8824453002593e-17"
      ]
     },
     "execution_count": 40,
     "metadata": {},
     "output_type": "execute_result"
    },
    {
     "data": {
      "image/png": "[encoded data removed]",
      "text/latex": [
       "$$d - d_{root} = 0$$"
      ],
      "text/plain": [
       "d - dᵣₒₒₜ = 0"
      ]
     },
     "execution_count": 40,
     "metadata": {},
     "output_type": "execute_result"
    }
   ],
   "source": [
    "u_x, d_x = cm.nsolve_u_d_for_w_theta(w_x,theta_x)\n",
    "Eq(u_root,u_x)\n",
    "Eq(d_root,d_x)\n",
    "Eq(u-u_root,sy.N(cm.u_poly_lambda((u_x,w_x,theta_x)),chop=True))\n",
    "Eq(d-d_root,sy.N(cm.d_poly_lambda((d_x,w_x,theta_x)),chop=True))"
   ]
  },
  {
   "cell_type": "markdown",
   "metadata": {
    "heading_collapsed": true,
    "hidden": true,
    "slideshow": {
     "slide_type": "slide"
    }
   },
   "source": [
    "### Numerical solutions for shear velocity $u^*$, boundary shear stress $\\tau$  (Manning) "
   ]
  },
  {
   "cell_type": "markdown",
   "metadata": {
    "hidden": true
   },
   "source": [
    "Shear velocity $u^*$ (dimensionless) and mean boundary shear stress $\\tau$ (Pa or N$\\,$m$^{-1}$)"
   ]
  },
  {
   "cell_type": "code",
   "execution_count": 41,
   "metadata": {
    "hidden": true
   },
   "outputs": [
    {
     "data": {
      "image/png": "[encoded data removed]",
      "text/latex": [
       "$$u^{*} = 0.188553193689434$$"
      ],
      "text/plain": [
       "u__* = 0.188553193689434"
      ]
     },
     "execution_count": 41,
     "metadata": {},
     "output_type": "execute_result"
    },
    {
     "data": {
      "image/png": "[encoded data removed]",
      "text/latex": [
       "$$\\tau = 35.5523068504852$$"
      ],
      "text/plain": [
       "τ = 35.5523068504852"
      ]
     },
     "execution_count": 41,
     "metadata": {},
     "output_type": "execute_result"
    }
   ],
   "source": [
    "sy.N(cm.u_star_eqn().simplify() \\\n",
    "     .subs({u:u_x,d:d_x}).subs({w:w_x,theta:theta_x}).subs(cm.get_params()))\n",
    "sy.N(cm.tau_eqn_dyn().simplify() \\\n",
    "     .subs({u:u_x,d:d_x}).subs({w:w_x,theta:theta_x}).subs(cm.get_params()))"
   ]
  },
  {
   "cell_type": "markdown",
   "metadata": {
    "heading_collapsed": true,
    "slideshow": {
     "slide_type": "slide"
    }
   },
   "source": [
    "## Sediment transport"
   ]
  },
  {
   "cell_type": "markdown",
   "metadata": {
    "heading_collapsed": true,
    "hidden": true,
    "slideshow": {
     "slide_type": "slide"
    }
   },
   "source": [
    "### Bed sediment entrainment: Shields number for $\\tau^*_{fine}$,  $\\tau^*_{coarse}$  (Chézy)"
   ]
  },
  {
   "cell_type": "code",
   "execution_count": 42,
   "metadata": {
    "hidden": true
   },
   "outputs": [
    {
     "data": {
      "image/png": "[encoded data removed]",
      "text/latex": [
       "$$\\left \\{ C : 0.0316227766016838, \\quad D_{50} : 0.004, \\quad D_{coarse} : 0.02, \\quad D_{fine} : 0.002, \\quad L : 1000.0, \\quad Q : 1000.0, \\quad U : 1.0, \\quad W : 50.0, \\quad \\Delta\\rho : 1650.0, \\quad \\Delta\\rho^* : 1.65, \\quad \\beta_{0} : 0.001, \\quad d_{i} : 50.0, \\quad g : 9.81, \\quad \\mu : 0.75, \\quad n_{m} : 0.03, \\quad \\nu : 1.0 \\cdot 10^{-6}, \\quad \\rho : 1000.0, \\quad \\rho_{s} : 2650.0, \\quad \\tau^{*}_{c} : 0.04, \\quad u_{c} : 0, \\quad u_{i} : 5.0\\right \\}$$"
      ],
      "text/plain": [
       "{C: 0.0316227766016838, D₅₀: 0.004, D_coarse: 0.02, D_fine: 0.002, L: 1000.0, \n",
       "Q: 1000.0, U: 1.0, W: 50.0, \\Delta\\rho: 1650.0, \\Delta\\rho__*: 1.65, β₀: 0.001\n",
       ", dᵢ: 50.0, g: 9.81, μ: 0.75, nₘ: 0.03, ν: 1.0e-6, ρ: 1000.0, ρₛ: 2650.0, τ_c_\n",
       "_*: 0.04, u_c: 0, uᵢ: 5.0}"
      ]
     },
     "execution_count": 42,
     "metadata": {},
     "output_type": "execute_result"
    }
   ],
   "source": [
    "cm.reset_params()\n",
    "cm.get_params()\n",
    "w_x = 100\n",
    "theta_x=sy.pi/4"
   ]
  },
  {
   "cell_type": "code",
   "execution_count": 43,
   "metadata": {
    "hidden": true
   },
   "outputs": [],
   "source": [
    "cm.set_friction_model('chezy')\n",
    "cm.set_ud_lambdas()\n",
    "u_x, d_x = cm.nsolve_u_d_for_w_theta(w_x,theta_x)"
   ]
  },
  {
   "cell_type": "code",
   "execution_count": 44,
   "metadata": {
    "hidden": true
   },
   "outputs": [
    {
     "data": {
      "image/png": "[encoded data removed]",
      "text/latex": [
       "$$\\tau = C^{2} g \\rho u^{2}$$"
      ],
      "text/plain": [
       "     2      2\n",
       "τ = C ⋅g⋅ρ⋅u "
      ]
     },
     "execution_count": 44,
     "metadata": {},
     "output_type": "execute_result"
    },
    {
     "data": {
      "image/png": "[encoded data removed]",
      "text/latex": [
       "$$\\tau = 41.9530016588887$$"
      ],
      "text/plain": [
       "τ = 41.9530016588887"
      ]
     },
     "execution_count": 44,
     "metadata": {},
     "output_type": "execute_result"
    }
   ],
   "source": [
    "tau_chezy = cm.tau_eqn_dyn()\n",
    "tau_chezy\n",
    "tau_chezy_x = sy.N(tau_chezy.subs({u:u_x,d:d_x}).subs({w:w_x,theta:theta_x})\n",
    "             .subs(cm.get_params()))\n",
    "tau_chezy_x"
   ]
  },
  {
   "cell_type": "code",
   "execution_count": 45,
   "metadata": {
    "hidden": true
   },
   "outputs": [
    {
     "data": {
      "image/png": "[encoded data removed]",
      "text/latex": [
       "$$\\tau^{*}_{fine} = \\frac{C^{2} \\rho u^{2}}{D_{fine} \\Delta\\rho}$$"
      ],
      "text/plain": [
       "                  2    2     \n",
       "                 C ⋅ρ⋅u      \n",
       "τ_fine__* = ─────────────────\n",
       "            D_fine⋅\\Delta\\rho"
      ]
     },
     "execution_count": 45,
     "metadata": {},
     "output_type": "execute_result"
    },
    {
     "data": {
      "image/png": "[encoded data removed]",
      "text/latex": [
       "$$\\tau^{*}_{fine} = 1.29592566826951$$"
      ],
      "text/plain": [
       "τ_fine__* = 1.29592566826951"
      ]
     },
     "execution_count": 45,
     "metadata": {},
     "output_type": "execute_result"
    }
   ],
   "source": [
    "Eq(tau_star_fine,tau_chezy.rhs/(rho_Delta*g*D_fine))\n",
    "tau_star_fine_chezy_x = sy.N(_.subs({u:u_x,d:d_x}).subs({w:w_x,theta:theta_x})\n",
    "                             .subs(cm.get_params()))\n",
    "tau_star_fine_chezy_x\n",
    "tau_star_fine_chezy_x = tau_star_fine_chezy_x.rhs"
   ]
  },
  {
   "cell_type": "code",
   "execution_count": 46,
   "metadata": {
    "hidden": true
   },
   "outputs": [
    {
     "data": {
      "image/png": "[encoded data removed]",
      "text/latex": [
       "$$\\tau^{*}_{coarse} = \\frac{C^{2} \\rho u^{2}}{D_{coarse} \\Delta\\rho}$$"
      ],
      "text/plain": [
       "                     2    2      \n",
       "                    C ⋅ρ⋅u       \n",
       "τ_coarse__* = ───────────────────\n",
       "              D_coarse⋅\\Delta\\rho"
      ]
     },
     "execution_count": 46,
     "metadata": {},
     "output_type": "execute_result"
    },
    {
     "data": {
      "image/png": "[encoded data removed]",
      "text/latex": [
       "$$\\tau^{*}_{coarse} = 0.129592566826951$$"
      ],
      "text/plain": [
       "τ_coarse__* = 0.129592566826951"
      ]
     },
     "execution_count": 46,
     "metadata": {},
     "output_type": "execute_result"
    }
   ],
   "source": [
    "Eq(tau_star_coarse,tau_chezy.rhs/(rho_Delta*g*D_coarse))\n",
    "tau_star_coarse_chezy_x = sy.N(_.subs({u:u_x,d:d_x}).subs({w:w_x,theta:theta_x})\n",
    "                               .subs(cm.get_params()))\n",
    "tau_star_coarse_chezy_x\n",
    "tau_star_coarse_chezy_x = tau_star_coarse_chezy_x.rhs"
   ]
  },
  {
   "cell_type": "markdown",
   "metadata": {
    "heading_collapsed": true,
    "hidden": true,
    "slideshow": {
     "slide_type": "slide"
    }
   },
   "source": [
    "### Bed sediment entrainment: Shields number for $\\tau^*_{fine}$, $\\tau^*_{coarse}$  (Manning) "
   ]
  },
  {
   "cell_type": "code",
   "execution_count": 47,
   "metadata": {
    "hidden": true
   },
   "outputs": [],
   "source": [
    "cm.set_friction_model('manning')\n",
    "cm.set_ud_lambdas()\n",
    "u_x, d_x = cm.nsolve_u_d_for_w_theta(w_x,theta_x)"
   ]
  },
  {
   "cell_type": "code",
   "execution_count": 48,
   "metadata": {
    "hidden": true
   },
   "outputs": [
    {
     "data": {
      "image/png": "[encoded data removed]",
      "text/latex": [
       "$$\\tau = \\frac{g n_{m}^{2} \\rho u^{\\frac{7}{3}} \\sqrt[3]{2 d + w \\sin{\\left (\\theta \\right )}}}{\\sqrt[3]{Q} \\sqrt[3]{\\sin{\\left (\\theta \\right )}}}$$"
      ],
      "text/plain": [
       "        2    7/3 3 ________________\n",
       "    g⋅nₘ ⋅ρ⋅u   ⋅╲╱ 2⋅d + w⋅sin(θ) \n",
       "τ = ───────────────────────────────\n",
       "            3 ___ 3 ________       \n",
       "            ╲╱ Q ⋅╲╱ sin(θ)        "
      ]
     },
     "execution_count": 48,
     "metadata": {},
     "output_type": "execute_result"
    },
    {
     "data": {
      "image/png": "[encoded data removed]",
      "text/latex": [
       "$$\\tau = 35.5523068504852$$"
      ],
      "text/plain": [
       "τ = 35.5523068504852"
      ]
     },
     "execution_count": 48,
     "metadata": {},
     "output_type": "execute_result"
    }
   ],
   "source": [
    "tau_manning = cm.tau_eqn_dyn()\n",
    "tau_manning\n",
    "tau_manning_x = sy.N(tau_manning.subs({u:u_x,d:d_x}).subs({w:w_x,theta:theta_x})\n",
    "             .subs(cm.get_params()))\n",
    "tau_manning_x"
   ]
  },
  {
   "cell_type": "code",
   "execution_count": 49,
   "metadata": {
    "hidden": true
   },
   "outputs": [
    {
     "data": {
      "image/png": "[encoded data removed]",
      "text/latex": [
       "$$\\tau^{*}_{fine} = \\frac{n_{m}^{2} \\rho u^{\\frac{7}{3}} \\sqrt[3]{2 d + w \\sin{\\left (\\theta \\right )}}}{D_{fine} \\sqrt[3]{Q} \\Delta\\rho \\sqrt[3]{\\sin{\\left (\\theta \\right )}}}$$"
      ],
      "text/plain": [
       "                2    7/3 3 ________________   \n",
       "              nₘ ⋅ρ⋅u   ⋅╲╱ 2⋅d + w⋅sin(θ)    \n",
       "τ_fine__* = ──────────────────────────────────\n",
       "                   3 ___            3 ________\n",
       "            D_fine⋅╲╱ Q ⋅\\Delta\\rho⋅╲╱ sin(θ) "
      ]
     },
     "execution_count": 49,
     "metadata": {},
     "output_type": "execute_result"
    },
    {
     "data": {
      "image/png": "[encoded data removed]",
      "text/latex": [
       "$$\\tau^{*}_{fine} = 1.09820859514055$$"
      ],
      "text/plain": [
       "τ_fine__* = 1.09820859514055"
      ]
     },
     "execution_count": 49,
     "metadata": {},
     "output_type": "execute_result"
    }
   ],
   "source": [
    "Eq(tau_star_fine,tau_manning.rhs/(rho_Delta*g*D_fine))\n",
    "tau_star_fine_manning_x = sy.N(_.subs({u:u_x,d:d_x}).subs({w:w_x,theta:theta_x})\n",
    "                               .subs(cm.get_params()))\n",
    "tau_star_fine_manning_x\n",
    "tau_star_fine_manning_x = tau_star_fine_manning_x.rhs"
   ]
  },
  {
   "cell_type": "code",
   "execution_count": 50,
   "metadata": {
    "hidden": true
   },
   "outputs": [
    {
     "data": {
      "image/png": "[encoded data removed]",
      "text/latex": [
       "$$\\tau^{*}_{coarse} = \\frac{n_{m}^{2} \\rho u^{\\frac{7}{3}} \\sqrt[3]{2 d + w \\sin{\\left (\\theta \\right )}}}{D_{coarse} \\sqrt[3]{Q} \\Delta\\rho \\sqrt[3]{\\sin{\\left (\\theta \\right )}}}$$"
      ],
      "text/plain": [
       "                   2    7/3 3 ________________    \n",
       "                 nₘ ⋅ρ⋅u   ⋅╲╱ 2⋅d + w⋅sin(θ)     \n",
       "τ_coarse__* = ────────────────────────────────────\n",
       "                       3 ___            3 ________\n",
       "              D_coarse⋅╲╱ Q ⋅\\Delta\\rho⋅╲╱ sin(θ) "
      ]
     },
     "execution_count": 50,
     "metadata": {},
     "output_type": "execute_result"
    },
    {
     "data": {
      "image/png": "[encoded data removed]",
      "text/latex": [
       "$$\\tau^{*}_{coarse} = 0.109820859514055$$"
      ],
      "text/plain": [
       "τ_coarse__* = 0.109820859514055"
      ]
     },
     "execution_count": 50,
     "metadata": {},
     "output_type": "execute_result"
    }
   ],
   "source": [
    "Eq(tau_star_coarse,tau_manning.rhs/(rho_Delta*g*D_coarse))\n",
    "tau_star_coarse_manning_x = sy.N(_.subs({u:u_x,d:d_x}).subs({w:w_x,theta:theta_x})\n",
    "                               .subs(cm.get_params()))\n",
    "tau_star_coarse_manning_x\n",
    "tau_star_coarse_manning_x = tau_star_coarse_manning_x.rhs"
   ]
  },
  {
   "cell_type": "markdown",
   "metadata": {
    "heading_collapsed": true,
    "hidden": true,
    "slideshow": {
     "slide_type": "slide"
    }
   },
   "source": [
    "### Capacity bed sediment flux $q^*_{bc}$ (dimensionless) and $q_{bc}$"
   ]
  },
  {
   "cell_type": "markdown",
   "metadata": {
    "hidden": true
   },
   "source": [
    "Fernandez Luque & van Beek (1976):"
   ]
  },
  {
   "cell_type": "code",
   "execution_count": 51,
   "metadata": {
    "hidden": true
   },
   "outputs": [
    {
     "data": {
      "image/png": "[encoded data removed]",
      "text/latex": [
       "$$q^{*}_{bc} = 5.7 \\left(\\tau^{*} - 0.04\\right)^{\\frac{3}{2}}$$"
      ],
      "text/plain": [
       "                           3/2\n",
       "q_bc__* = 5.7⋅(τ__* - 0.04)   "
      ]
     },
     "execution_count": 51,
     "metadata": {},
     "output_type": "execute_result"
    },
    {
     "data": {
      "image/png": "[encoded data removed]",
      "text/latex": [
       "$$q_{bc} = D_{coarse}^{\\frac{3}{2}} \\sqrt{\\Delta\\rho^*} \\sqrt{g} q^{*}_{bc}$$"
      ],
      "text/plain": [
       "               3/2   _______________           \n",
       "q_bc = D_coarse   ⋅╲╱ \\Delta\\rho__* ⋅√g⋅q_bc__*"
      ]
     },
     "execution_count": 51,
     "metadata": {},
     "output_type": "execute_result"
    },
    {
     "data": {
      "image/png": "[encoded data removed]",
      "text/latex": [
       "$$q_{bc} = 5.7 D_{coarse}^{\\frac{3}{2}} \\sqrt{\\Delta\\rho^*} \\sqrt{g} \\left(\\tau^{*} - 0.04\\right)^{\\frac{3}{2}}$$"
      ],
      "text/plain": [
       "                   3/2   _______________                 3/2\n",
       "q_bc = 5.7⋅D_coarse   ⋅╲╱ \\Delta\\rho__* ⋅√g⋅(τ__* - 0.04)   "
      ]
     },
     "execution_count": 51,
     "metadata": {},
     "output_type": "execute_result"
    }
   ],
   "source": [
    "q_bc_eqn = Eq(q_bc, q_star_bc*(sy.sqrt(rho_star_Delta*g)*D_coarse**sy.Rational(3,2)))\n",
    "q_star_bc_eqn = Eq(q_star_bc, \n",
    "                    5.7*(tau_star-tau_star_c)**sy.Rational(3,2)).subs(cm.get_params())\n",
    "q_star_bc_eqn\n",
    "q_bc_eqn\n",
    "q_bc_eqn2 = Eq(q_bc,q_bc_eqn.rhs.subs(q_star_bc,q_star_bc_eqn.rhs))\n",
    "q_bc_eqn2"
   ]
  },
  {
   "cell_type": "markdown",
   "metadata": {
    "heading_collapsed": true,
    "hidden": true,
    "slideshow": {
     "slide_type": "slide"
    }
   },
   "source": [
    "### Capacity bed sediment flux $q_{bc}$    (Chézy) "
   ]
  },
  {
   "cell_type": "markdown",
   "metadata": {
    "hidden": true
   },
   "source": [
    "Coarse bedload (gravel) volume flux per unit channel width in units of m$^2\\,$s$^{-1}$ and then in units of cm$^2\\,$s$^{-1}$"
   ]
  },
  {
   "cell_type": "code",
   "execution_count": 52,
   "metadata": {
    "hidden": true
   },
   "outputs": [
    {
     "data": {
      "image/png": "[encoded data removed]",
      "text/latex": [
       "$$q_{bc} = 0.00173941933755118$$"
      ],
      "text/plain": [
       "q_bc = 0.00173941933755118"
      ]
     },
     "execution_count": 52,
     "metadata": {},
     "output_type": "execute_result"
    },
    {
     "data": {
      "image/png": "[encoded data removed]",
      "text/latex": [
       "$$17.4$$"
      ],
      "text/plain": [
       "17.4"
      ]
     },
     "execution_count": 52,
     "metadata": {},
     "output_type": "execute_result"
    }
   ],
   "source": [
    "q_bc_x = q_bc_eqn2.subs(cm.get_params()).subs(tau_star,tau_star_coarse_chezy_x)\n",
    "q_bc_x\n",
    "(q_bc_x.rhs*10**4).round(1)"
   ]
  },
  {
   "cell_type": "markdown",
   "metadata": {
    "heading_collapsed": true,
    "hidden": true,
    "slideshow": {
     "slide_type": "slide"
    }
   },
   "source": [
    "### Capacity bed sediment flux $q_{bc}$   (Manning) "
   ]
  },
  {
   "cell_type": "markdown",
   "metadata": {
    "hidden": true
   },
   "source": [
    "Coarse bedload (gravel) volume flux per unit channel width in units of m$^2\\,$s$^{-1}$ and then in units of cm$^2\\,$s$^{-1}$"
   ]
  },
  {
   "cell_type": "code",
   "execution_count": 53,
   "metadata": {
    "hidden": true
   },
   "outputs": [
    {
     "data": {
      "image/png": "[encoded data removed]",
      "text/latex": [
       "$$q_{bc} = 0.00119666919422452$$"
      ],
      "text/plain": [
       "q_bc = 0.00119666919422452"
      ]
     },
     "execution_count": 53,
     "metadata": {},
     "output_type": "execute_result"
    },
    {
     "data": {
      "image/png": "[encoded data removed]",
      "text/latex": [
       "$$12.0$$"
      ],
      "text/plain": [
       "12.0"
      ]
     },
     "execution_count": 53,
     "metadata": {},
     "output_type": "execute_result"
    }
   ],
   "source": [
    "q_bc_x = q_bc_eqn2.subs(cm.get_params()).subs(tau_star,tau_star_coarse_manning_x)\n",
    "q_bc_x\n",
    "(q_bc_x.rhs*10**4).round(1)"
   ]
  },
  {
   "cell_type": "markdown",
   "metadata": {
    "heading_collapsed": true,
    "hidden": true,
    "slideshow": {
     "slide_type": "slide"
    }
   },
   "source": [
    "### Suspended sediment entrainment rate $E^*$ (dimensionless)"
   ]
  },
  {
   "cell_type": "markdown",
   "metadata": {
    "hidden": true
   },
   "source": [
    "Settling (terminal) velocity of 2mm sand in water at 10ºC"
   ]
  },
  {
   "cell_type": "code",
   "execution_count": 54,
   "metadata": {
    "hidden": true
   },
   "outputs": [
    {
     "data": {
      "image/png": "[encoded data removed]",
      "text/latex": [
       "$$v_{t} = \\sqrt{D_{fine}} \\sqrt{\\Delta\\rho^*} \\sqrt{g}$$"
      ],
      "text/plain": [
       "       ________   _______________   \n",
       "vₜ = ╲╱ D_fine ⋅╲╱ \\Delta\\rho__* ⋅√g"
      ]
     },
     "execution_count": 54,
     "metadata": {},
     "output_type": "execute_result"
    },
    {
     "data": {
      "image/png": "[encoded data removed]",
      "text/latex": [
       "$$v_{t} = 0.179924984368486$$"
      ],
      "text/plain": [
       "vₜ = 0.179924984368486"
      ]
     },
     "execution_count": 54,
     "metadata": {},
     "output_type": "execute_result"
    },
    {
     "data": {
      "image/png": "[encoded data removed]",
      "text/latex": [
       "$$18.0$$"
      ],
      "text/plain": [
       "18.0"
      ]
     },
     "execution_count": 54,
     "metadata": {},
     "output_type": "execute_result"
    }
   ],
   "source": [
    "v_t_eqn = Eq( v_t, sy.sqrt(rho_star_Delta*g*D_fine) )\n",
    "v_t_eqn\n",
    "v_t_x = v_t_eqn.subs(cm.get_params())\n",
    "v_t_x\n",
    "(v_t_x.rhs*100).round(1)"
   ]
  },
  {
   "cell_type": "markdown",
   "metadata": {
    "hidden": true
   },
   "source": [
    "Settling velocity per Van Rijn (1989) for $D>1\\,$mm:"
   ]
  },
  {
   "cell_type": "code",
   "execution_count": 55,
   "metadata": {
    "hidden": true
   },
   "outputs": [
    {
     "data": {
      "image/png": "[encoded data removed]",
      "text/latex": [
       "$$v_{t} = 1.1 \\sqrt{D_{fine}} \\sqrt{\\Delta\\rho^*} \\sqrt{g}$$"
      ],
      "text/plain": [
       "           ________   _______________   \n",
       "vₜ = 1.1⋅╲╱ D_fine ⋅╲╱ \\Delta\\rho__* ⋅√g"
      ]
     },
     "execution_count": 55,
     "metadata": {},
     "output_type": "execute_result"
    },
    {
     "data": {
      "image/png": "[encoded data removed]",
      "text/latex": [
       "$$v_{t} = 0.197917482805335$$"
      ],
      "text/plain": [
       "vₜ = 0.197917482805335"
      ]
     },
     "execution_count": 55,
     "metadata": {},
     "output_type": "execute_result"
    },
    {
     "data": {
      "image/png": "[encoded data removed]",
      "text/latex": [
       "$$19.8$$"
      ],
      "text/plain": [
       "19.8"
      ]
     },
     "execution_count": 55,
     "metadata": {},
     "output_type": "execute_result"
    }
   ],
   "source": [
    "v_t_eqn = Eq( v_t, 1.1*sy.sqrt(rho_star_Delta*g*D_fine) )\n",
    "v_t_eqn\n",
    "v_t_x = v_t_eqn.rhs.subs(cm.get_params())\n",
    "Eq(v_t,v_t_x)\n",
    "(v_t_x*100).round(1)"
   ]
  },
  {
   "cell_type": "code",
   "execution_count": 56,
   "metadata": {
    "hidden": true
   },
   "outputs": [
    {
     "data": {
      "image/png": "[encoded data removed]",
      "text/latex": [
       "$$Re_{p} = \\frac{1.1 D_{fine}^{\\frac{3}{2}} \\sqrt{\\Delta\\rho^*} \\sqrt{g}}{\\nu}$$"
      ],
      "text/plain": [
       "                3/2   _______________   \n",
       "      1.1⋅D_fine   ⋅╲╱ \\Delta\\rho__* ⋅√g\n",
       "Reₚ = ──────────────────────────────────\n",
       "                      ν                 "
      ]
     },
     "execution_count": 56,
     "metadata": {},
     "output_type": "execute_result"
    },
    {
     "data": {
      "image/png": "[encoded data removed]",
      "text/latex": [
       "$$\\tau^{*}_{s} = \\frac{\\tau}{D_{fine} \\Delta\\rho g}$$"
      ],
      "text/plain": [
       "                  τ         \n",
       "τ_s__* = ───────────────────\n",
       "         D_fine⋅\\Delta\\rho⋅g"
      ]
     },
     "execution_count": 56,
     "metadata": {},
     "output_type": "execute_result"
    },
    {
     "data": {
      "image/png": "[encoded data removed]",
      "text/latex": [
       "$$\\tau^{*}_{cs} = \\frac{0.22}{Re_{p}^{0.6}} + 0.06 \\cdot 10^{- \\frac{7.7}{Re_{p}^{0.6}}}$$"
      ],
      "text/plain": [
       "                                        -0.6\n",
       "                  -0.6          -7.7⋅Reₚ    \n",
       "τ_cs__* = 0.22⋅Reₚ     + 0.06⋅10            "
      ]
     },
     "execution_count": 56,
     "metadata": {},
     "output_type": "execute_result"
    },
    {
     "data": {
      "image/png": "[encoded data removed]",
      "text/latex": [
       "$$E^{*} = \\frac{1.5 D_{50} \\left(-1 + \\frac{\\tau^{*}_{s}}{\\tau^{*}_{cs}}\\right)^{\\frac{3}{2}}}{Re_{p}^{0.2} d}$$"
      ],
      "text/plain": [
       "                                     3/2\n",
       "                  -0.2 ⎛      τ_s__*⎞   \n",
       "       1.5⋅D₅₀⋅Reₚ    ⋅⎜-1 + ───────⎟   \n",
       "                       ⎝     τ_cs__*⎠   \n",
       "E__* = ─────────────────────────────────\n",
       "                       d                "
      ]
     },
     "execution_count": 56,
     "metadata": {},
     "output_type": "execute_result"
    },
    {
     "data": {
      "image/png": "[encoded data removed]",
      "text/latex": [
       "$$F = E^{*} v_{t}$$"
      ],
      "text/plain": [
       "F = E__*⋅vₜ"
      ]
     },
     "execution_count": 56,
     "metadata": {},
     "output_type": "execute_result"
    }
   ],
   "source": [
    "Re_p_eqn = Eq( Re_p, v_t_eqn.rhs*D_fine/nu )\n",
    "tau_star_s_eqn = Eq( tau_star_s,tau/(rho_Delta*g*D_fine) )\n",
    "tau_star_cs_eqn = Eq( tau_star_cs, 0.22*Re_p**(-0.6)+0.06*10**(-7.7*Re_p**(-0.6)) )\n",
    "E_star_eqn = Eq( E_star, \n",
    "                ((0.015*D_50)/(0.01*d))\n",
    "                *(tau_star_s/tau_star_cs-1)**sy.Rational(3,2)\n",
    "                *Re_p**(-0.2) )\n",
    "Re_p_eqn\n",
    "tau_star_s_eqn\n",
    "tau_star_cs_eqn\n",
    "E_star_eqn\n",
    "F_eqn = Eq(F,E_star*v_t)\n",
    "F_eqn"
   ]
  },
  {
   "cell_type": "markdown",
   "metadata": {
    "heading_collapsed": true,
    "hidden": true,
    "slideshow": {
     "slide_type": "slide"
    }
   },
   "source": [
    "### Suspended sediment entrainment rate $E^*$ and bed flux $F$ (Chézy)"
   ]
  },
  {
   "cell_type": "code",
   "execution_count": 57,
   "metadata": {
    "hidden": true
   },
   "outputs": [
    {
     "data": {
      "image/png": "[encoded data removed]",
      "text/latex": [
       "$$Re_{p} = 395.83496561067$$"
      ],
      "text/plain": [
       "Reₚ = 395.83496561067"
      ]
     },
     "execution_count": 57,
     "metadata": {},
     "output_type": "execute_result"
    },
    {
     "data": {
      "image/png": "[encoded data removed]",
      "text/latex": [
       "$$\\tau^{*}_{s} = 1.29592566826951$$"
      ],
      "text/plain": [
       "τ_s__* = 1.29592566826951"
      ]
     },
     "execution_count": 57,
     "metadata": {},
     "output_type": "execute_result"
    },
    {
     "data": {
      "image/png": "[encoded data removed]",
      "text/latex": [
       "$$\\tau^{*}_{cs} = 0.0428376558163265$$"
      ],
      "text/plain": [
       "τ_cs__* = 0.0428376558163265"
      ]
     },
     "execution_count": 57,
     "metadata": {},
     "output_type": "execute_result"
    },
    {
     "data": {
      "image/png": "[encoded data removed]",
      "text/latex": [
       "$$\\frac{\\tau^{*}_{s}}{\\tau^{*}_{cs}} = 30.2520211149275$$"
      ],
      "text/plain": [
       " τ_s__*                   \n",
       "─────── = 30.2520211149275\n",
       "τ_cs__*                   "
      ]
     },
     "execution_count": 57,
     "metadata": {},
     "output_type": "execute_result"
    },
    {
     "data": {
      "image/png": "[encoded data removed]",
      "text/latex": [
       "$$E^{*} = \\frac{0.287000224763513}{d}$$"
      ],
      "text/plain": [
       "       0.287000224763513\n",
       "E__* = ─────────────────\n",
       "               d        "
      ]
     },
     "execution_count": 57,
     "metadata": {},
     "output_type": "execute_result"
    },
    {
     "data": {
      "image/png": "[encoded data removed]",
      "text/latex": [
       "$$F = \\frac{0.0568023620497599}{d}$$"
      ],
      "text/plain": [
       "    0.0568023620497599\n",
       "F = ──────────────────\n",
       "            d         "
      ]
     },
     "execution_count": 57,
     "metadata": {},
     "output_type": "execute_result"
    }
   ],
   "source": [
    "tau_x = tau_chezy_x\n",
    "Re_p_x = Re_p_eqn.subs({}).subs(cm.get_params())\n",
    "Re_p_x\n",
    "tau_star_s_x = tau_star_s_eqn.rhs.subs(cm.get_params()).subs({d:d_x,tau:tau_x.rhs})\n",
    "tau_star_cs_x = tau_star_cs_eqn.rhs.subs(cm.get_params()).subs(Re_p,Re_p_x.rhs)\n",
    "Eq(tau_star_s,tau_star_s_x)\n",
    "Eq(tau_star_cs,tau_star_cs_x)\n",
    "Eq(tau_star_s/tau_star_cs, tau_star_s_x/tau_star_cs_x)\n",
    "E_star_eqn_x = E_star_eqn.subs(tau_star_s,tau_star_s_x) \\\n",
    "                .subs(tau_star_cs,tau_star_cs_x) \\\n",
    "                .subs(cm.get_params()).subs(Re_p,Re_p_x.rhs)\n",
    "E_star_eqn_x\n",
    "F_star_eqn_x = F_eqn.subs(E_star,E_star_eqn_x.rhs).subs(v_t,v_t_x)\n",
    "F_star_eqn_x"
   ]
  },
  {
   "cell_type": "markdown",
   "metadata": {
    "hidden": true
   },
   "source": [
    "Dimensionless entrainment rate $E^*$ and vertical flux $F$ in cm$^2\\,$s$^{-1}$"
   ]
  },
  {
   "cell_type": "code",
   "execution_count": 58,
   "metadata": {
    "hidden": true
   },
   "outputs": [
    {
     "data": {
      "image/png": "[encoded data removed]",
      "text/latex": [
       "$$E^{*} = 0.074140354241561$$"
      ],
      "text/plain": [
       "E__* = 0.074140354241561"
      ]
     },
     "execution_count": 58,
     "metadata": {},
     "output_type": "execute_result"
    },
    {
     "data": {
      "image/png": "[encoded data removed]",
      "text/latex": [
       "$$F = 0.0146736722857856$$"
      ],
      "text/plain": [
       "F = 0.0146736722857856"
      ]
     },
     "execution_count": 58,
     "metadata": {},
     "output_type": "execute_result"
    },
    {
     "data": {
      "image/png": "[encoded data removed]",
      "text/latex": [
       "$$146.736722857856$$"
      ],
      "text/plain": [
       "146.736722857856"
      ]
     },
     "execution_count": 58,
     "metadata": {},
     "output_type": "execute_result"
    }
   ],
   "source": [
    "E_star_x = E_star_eqn_x.rhs.subs({d:d_x})\n",
    "Eq(E_star,E_star_x)\n",
    "F_x = F_star_eqn_x.rhs.subs({d:d_x})\n",
    "Eq(F,F_x)\n",
    "F_x*1e4"
   ]
  },
  {
   "cell_type": "markdown",
   "metadata": {
    "heading_collapsed": true,
    "hidden": true,
    "slideshow": {
     "slide_type": "slide"
    }
   },
   "source": [
    "### Suspended sediment entrainment rate $E^*$ and bed flux $F$ (Manning)"
   ]
  },
  {
   "cell_type": "code",
   "execution_count": 59,
   "metadata": {
    "hidden": true
   },
   "outputs": [
    {
     "data": {
      "image/png": "[encoded data removed]",
      "text/latex": [
       "$$Re_{p} = 395.83496561067$$"
      ],
      "text/plain": [
       "Reₚ = 395.83496561067"
      ]
     },
     "execution_count": 59,
     "metadata": {},
     "output_type": "execute_result"
    },
    {
     "data": {
      "image/png": "[encoded data removed]",
      "text/latex": [
       "$$\\tau^{*}_{s} = 1.09820859514055$$"
      ],
      "text/plain": [
       "τ_s__* = 1.09820859514055"
      ]
     },
     "execution_count": 59,
     "metadata": {},
     "output_type": "execute_result"
    },
    {
     "data": {
      "image/png": "[encoded data removed]",
      "text/latex": [
       "$$\\tau^{*}_{cs} = 0.0428376558163265$$"
      ],
      "text/plain": [
       "τ_cs__* = 0.0428376558163265"
      ]
     },
     "execution_count": 59,
     "metadata": {},
     "output_type": "execute_result"
    },
    {
     "data": {
      "image/png": "[encoded data removed]",
      "text/latex": [
       "$$\\frac{\\tau^{*}_{s}}{\\tau^{*}_{cs}} = 25.636524086409$$"
      ],
      "text/plain": [
       " τ_s__*                  \n",
       "─────── = 25.636524086409\n",
       "τ_cs__*                  "
      ]
     },
     "execution_count": 59,
     "metadata": {},
     "output_type": "execute_result"
    },
    {
     "data": {
      "image/png": "[encoded data removed]",
      "text/latex": [
       "$$E^{*} = \\frac{0.221828616557695}{d}$$"
      ],
      "text/plain": [
       "       0.221828616557695\n",
       "E__* = ─────────────────\n",
       "               d        "
      ]
     },
     "execution_count": 59,
     "metadata": {},
     "output_type": "execute_result"
    },
    {
     "data": {
      "image/png": "[encoded data removed]",
      "text/latex": [
       "$$F = \\frac{0.0439037614032888}{d}$$"
      ],
      "text/plain": [
       "    0.0439037614032888\n",
       "F = ──────────────────\n",
       "            d         "
      ]
     },
     "execution_count": 59,
     "metadata": {},
     "output_type": "execute_result"
    }
   ],
   "source": [
    "tau_x = tau_manning_x\n",
    "Re_p_x = Re_p_eqn.subs({}).subs(cm.get_params())\n",
    "Re_p_x\n",
    "tau_star_s_x = tau_star_s_eqn.rhs.subs(cm.get_params()).subs({d:d_x,tau:tau_x.rhs})\n",
    "tau_star_cs_x = tau_star_cs_eqn.rhs.subs(cm.get_params()).subs(Re_p,Re_p_x.rhs)\n",
    "Eq(tau_star_s,tau_star_s_x)\n",
    "Eq(tau_star_cs,tau_star_cs_x)\n",
    "Eq(tau_star_s/tau_star_cs, tau_star_s_x/tau_star_cs_x)\n",
    "E_star_eqn_x = E_star_eqn.subs(tau_star_s,tau_star_s_x) \\\n",
    "                .subs(tau_star_cs,tau_star_cs_x) \\\n",
    "                .subs(cm.get_params()).subs(Re_p,Re_p_x.rhs)\n",
    "E_star_eqn_x\n",
    "F_star_eqn_x = F_eqn.subs(E_star,E_star_eqn_x.rhs).subs(v_t,v_t_x)\n",
    "F_star_eqn_x"
   ]
  },
  {
   "cell_type": "markdown",
   "metadata": {
    "hidden": true
   },
   "source": [
    "Dimensionless entrainment rate $E^*$ and vertical flux $F$ in cm$^2\\,$s$^{-1}$"
   ]
  },
  {
   "cell_type": "code",
   "execution_count": 60,
   "metadata": {
    "hidden": true
   },
   "outputs": [
    {
     "data": {
      "image/png": "[encoded data removed]",
      "text/latex": [
       "$$E^{*} = 0.0573046666637795$$"
      ],
      "text/plain": [
       "E__* = 0.0573046666637795"
      ]
     },
     "execution_count": 60,
     "metadata": {},
     "output_type": "execute_result"
    },
    {
     "data": {
      "image/png": "[encoded data removed]",
      "text/latex": [
       "$$F = 0.011341595379094$$"
      ],
      "text/plain": [
       "F = 0.011341595379094"
      ]
     },
     "execution_count": 60,
     "metadata": {},
     "output_type": "execute_result"
    },
    {
     "data": {
      "image/png": "[encoded data removed]",
      "text/latex": [
       "$$113.41595379094$$"
      ],
      "text/plain": [
       "113.415953790940"
      ]
     },
     "execution_count": 60,
     "metadata": {},
     "output_type": "execute_result"
    }
   ],
   "source": [
    "E_star_x = E_star_eqn_x.rhs.subs({d:d_x})\n",
    "Eq(E_star,E_star_x)\n",
    "F_x = F_star_eqn_x.rhs.subs({d:d_x})\n",
    "Eq(F,F_x)\n",
    "F_x*1e4"
   ]
  },
  {
   "cell_type": "markdown",
   "metadata": {
    "heading_collapsed": true,
    "hidden": true,
    "slideshow": {
     "slide_type": "slide"
    }
   },
   "source": [
    "### Suspended sediment flux fractions on wall $q_w$ and corner $q_c$"
   ]
  },
  {
   "cell_type": "code",
   "execution_count": 61,
   "metadata": {
    "hidden": true
   },
   "outputs": [],
   "source": [
    "# varphi = sy.symbols('varphi',  positive=True ) \n",
    "# f_varphi = sy.Function('varphi', positive=True)(Z)\n",
    "# q_ss  = sy.symbols('q_ss',  positive=True ) \n",
    "# f_q_ss = sy.Function('q_ss', positive=True)(Z)\n",
    "# q_w, q_c, q_b  = sy.symbols('q_w, q_c, q_b',  positive=True ) \n"
   ]
  },
  {
   "cell_type": "code",
   "execution_count": 62,
   "metadata": {
    "hidden": true
   },
   "outputs": [
    {
     "data": {
      "image/png": "[encoded data removed]",
      "text/latex": [
       "$$\\varphi{\\left (Z \\right )} = \\left(\\frac{- Z + 1}{Z}\\right)^{\\nu} \\left(\\frac{- Z_{0} + 1}{Z_{0}}\\right)^{- \\nu} \\log{\\left (\\frac{Z}{k} \\right )}$$"
      ],
      "text/plain": [
       "                    ν          -ν       \n",
       "            ⎛-Z + 1⎞  ⎛-Z₀ + 1⎞      ⎛Z⎞\n",
       "varphi(Z) = ⎜──────⎟ ⋅⎜───────⎟  ⋅log⎜─⎟\n",
       "            ⎝  Z   ⎠  ⎝   Z₀  ⎠      ⎝k⎠"
      ]
     },
     "execution_count": 62,
     "metadata": {},
     "output_type": "execute_result"
    }
   ],
   "source": [
    "varphi_eqn = Eq(f_varphi, sy.log(Z/k)*((1-Z)/Z)**nu / ((1-Z_0)/Z_0)**nu)\n",
    "varphi_eqn\n",
    "varphi_lambda = sy.lambdify((Z,nu,k,Z_0),varphi_eqn.rhs,'sympy')"
   ]
  },
  {
   "cell_type": "code",
   "execution_count": 63,
   "metadata": {
    "hidden": true
   },
   "outputs": [],
   "source": [
    "# sy.integrate(varphi_eqn.rhs.subs(nu,sy.Rational(3,2)),(Z,Z_0,x))"
   ]
  },
  {
   "cell_type": "code",
   "execution_count": 64,
   "metadata": {
    "hidden": true
   },
   "outputs": [],
   "source": [
    "# sy.integrate(varphi_eqn.rhs.subs(nu,nu+1),(Z,Z_0,Z_0+x))"
   ]
  },
  {
   "cell_type": "code",
   "execution_count": 65,
   "metadata": {
    "hidden": true
   },
   "outputs": [],
   "source": [
    "# varphi_eqn2 = sy.Eq(f_varphi, sy.log(Z/k)*((1-Z)/Z)**nu)\n",
    "# varphi_eqn2.rhs.subs(nu,nu+1).subs(Z,Z+Z_0)\n",
    "# sy.integrate( varphi_eqn2.rhs.subs(nu,nu+1).subs(Z,Z+Z_0) ,Z)"
   ]
  },
  {
   "cell_type": "code",
   "execution_count": 66,
   "metadata": {
    "hidden": true
   },
   "outputs": [],
   "source": [
    "# ((Z_0/(1-Z_0))**nu)*(nu*sy.pi/sy.sin(nu*sy.pi))*(\n",
    "#     -sy.log(Z_0)+sy.digamma(1-nu)+sy.digamma(2)\n",
    "#     +Z_0\n",
    "# )"
   ]
  },
  {
   "cell_type": "code",
   "execution_count": 67,
   "metadata": {
    "hidden": true
   },
   "outputs": [],
   "source": [
    "# sy.simplify(qss_integral.rhs.subs(nu,2))"
   ]
  },
  {
   "cell_type": "code",
   "execution_count": 68,
   "metadata": {
    "hidden": true
   },
   "outputs": [
    {
     "data": {
      "image/png": "[encoded data removed]",
      "text/latex": [
       "$$1.09861228866811$$"
      ],
      "text/plain": [
       "1.09861228866811"
      ]
     },
     "execution_count": 68,
     "metadata": {},
     "output_type": "execute_result"
    }
   ],
   "source": [
    "nZ = 10\n",
    "dZ = 1/nZ\n",
    "k_x = 0.1/30\n",
    "Z_0x = 0.01\n",
    "z_0x = 0.01\n",
    "nu_x = 0.03/(0.4*0.2)\n",
    "# nu_x = 0.06/(0.4*0.2)\n",
    "varphi_lambda(Z_0x,nu_x,k_x,Z_0x)"
   ]
  },
  {
   "cell_type": "code",
   "execution_count": 69,
   "metadata": {
    "hidden": true
   },
   "outputs": [
    {
     "data": {
      "image/png": "[encoded data removed]",
      "text/latex": [
       "$$\\operatorname{q_{ss}}{\\left (Z \\right )} = \\frac{Z^{- \\nu + 1} \\left(\\frac{- Z_{0} + 1}{Z_{0}}\\right)^{- \\nu} \\left(\\frac{\\nu {{}_{3}F_{2}\\left(\\begin{matrix} - \\nu + 1, - \\nu + 1, - \\nu + 1 \\\\ - \\nu + 2, - \\nu + 2 \\end{matrix}\\middle| {Z} \\right)}}{- \\nu + 1} - \\left(\\log{\\left (\\frac{Z}{k} \\right )} - 1\\right) {{}_{2}F_{1}\\left(\\begin{matrix} - \\nu + 1, - \\nu \\\\ - \\nu + 2 \\end{matrix}\\middle| {Z} \\right)}\\right)}{\\nu - 1}$$"
      ],
      "text/plain": [
       "                             ⎛   ┌─  ⎛-ν + 1, -ν + 1, -ν + 1 │  ⎞             \n",
       "                          -ν ⎜ν⋅ ├─  ⎜                       │ Z⎟             \n",
       "          -ν + 1 ⎛-Z₀ + 1⎞   ⎜  3╵ 2 ⎝    -ν + 2, -ν + 2     │  ⎠   ⎛   ⎛Z⎞   \n",
       "         Z      ⋅⎜───────⎟  ⋅⎜─────────────────────────────────── - ⎜log⎜─⎟ - \n",
       "                 ⎝   Z₀  ⎠   ⎝               -ν + 1                 ⎝   ⎝k⎠   \n",
       "qₛₛ(Z) = ─────────────────────────────────────────────────────────────────────\n",
       "                                                     ν - 1                    \n",
       "\n",
       "                        ⎞\n",
       "                        ⎟\n",
       " ⎞  ┌─  ⎛-ν + 1, -ν │  ⎞⎟\n",
       "1⎟⋅ ├─  ⎜           │ Z⎟⎟\n",
       " ⎠ 2╵ 1 ⎝  -ν + 2   │  ⎠⎠\n",
       "─────────────────────────\n",
       "                         "
      ]
     },
     "execution_count": 69,
     "metadata": {},
     "output_type": "execute_result"
    }
   ],
   "source": [
    "qss_integral = \\\n",
    "    Eq(f_q_ss,\n",
    "            1/(nu-1) * Z**(1-nu)*(\n",
    "                       nu*sy.hyper([1-nu,1-nu,1-nu],[2-nu,2-nu],Z)/(1-nu)\n",
    "                    - sy.hyper([1-nu,-nu],[2-nu],Z)*(sy.log(Z/k)-1)\n",
    "            )/ ((1-Z_0)/Z_0)**nu)\n",
    "qss_integral\n",
    "qss_lambda = sy.lambdify((Z,nu,k,Z_0),qss_integral.rhs,'sympy')"
   ]
  },
  {
   "cell_type": "code",
   "execution_count": 70,
   "metadata": {
    "hidden": true
   },
   "outputs": [
    {
     "data": {
      "image/png": "[encoded data removed]",
      "text/latex": [
       "$$1.38391551825427$$"
      ],
      "text/plain": [
       "1.38391551825427"
      ]
     },
     "execution_count": 70,
     "metadata": {},
     "output_type": "execute_result"
    },
    {
     "data": {
      "image/png": "[encoded data removed]",
      "text/latex": [
       "$$1.3839155182539642$$"
      ],
      "text/plain": [
       "1.3839155182539642"
      ]
     },
     "execution_count": 70,
     "metadata": {},
     "output_type": "execute_result"
    }
   ],
   "source": [
    "delta_Z_x = 0.0001\n",
    "Z_x = 0.1\n",
    "sy.N( \n",
    "   qss_integral.rhs.subs({Z:Z_x+delta_Z_x/2,nu:nu_x,k:k_x,Z_0:Z_0x})\n",
    "  -qss_integral.rhs.subs({Z:Z_x-delta_Z_x/2,nu:nu_x,k:k_x,Z_0:Z_0x})\n",
    "   )/delta_Z_x\n",
    "np.float( (qss_lambda(Z_x+delta_Z_x/2,nu_x,k_x,Z_0x)\n",
    "          -qss_lambda(Z_x-delta_Z_x/2,nu_x,k_x,Z_0x))/delta_Z_x )"
   ]
  },
  {
   "cell_type": "code",
   "execution_count": 71,
   "metadata": {
    "hidden": true
   },
   "outputs": [],
   "source": [
    "def qss_portions_dimless(Z,nu,k,Z_0):\n",
    "    qss_upper = sy.N(qss_lambda(1,nu,k,Z_0))\n",
    "    qss_Z     = sy.N(qss_lambda(Z,nu,k,Z_0))\n",
    "    qss_lower = sy.N(qss_lambda(Z_0,nu,k,Z_0))\n",
    "    return np.float((qss_Z-qss_lower)/(Z-Z_0)), np.float((qss_upper-qss_lower)/(1-(Z-Z_0)))\n",
    "def qss_portions(d,z,nu,k,z_0):\n",
    "    return qss_portions_dimless(z/d,nu,k,z_0/d)"
   ]
  },
  {
   "cell_type": "code",
   "execution_count": 72,
   "metadata": {
    "hidden": true
   },
   "outputs": [
    {
     "data": {
      "image/png": "[encoded data removed]",
      "text/latex": [
       "$$\\left ( 1.4141248765527956, \\quad 0.9664211572611716\\right )$$"
      ],
      "text/plain": [
       "(1.4141248765527956, 0.9664211572611716)"
      ]
     },
     "execution_count": 72,
     "metadata": {},
     "output_type": "execute_result"
    },
    {
     "data": {
      "image/png": "[encoded data removed]",
      "text/latex": [
       "$$\\left ( 1.4141248765527956, \\quad 0.9664211572611716\\right )$$"
      ],
      "text/plain": [
       "(1.4141248765527956, 0.9664211572611716)"
      ]
     },
     "execution_count": 72,
     "metadata": {},
     "output_type": "execute_result"
    }
   ],
   "source": [
    "d_x = 1\n",
    "qss_portions_dimless(Z_x,nu_x,k_x,Z_0x)\n",
    "qss_portions(d_x,Z_x*d_x,nu_x,k_x,Z_0x*d_x)"
   ]
  },
  {
   "cell_type": "code",
   "execution_count": 73,
   "metadata": {
    "hidden": true
   },
   "outputs": [
    {
     "data": {
      "image/png": "[encoded data removed]",
      "text/latex": [
       "$$q_{w} = 0.966421157261172$$"
      ],
      "text/plain": [
       "q_w = 0.966421157261172"
      ]
     },
     "execution_count": 73,
     "metadata": {},
     "output_type": "execute_result"
    },
    {
     "data": {
      "image/png": "[encoded data removed]",
      "text/latex": [
       "$$q_{c} = 1.4141248765528$$"
      ],
      "text/plain": [
       "q_c = 1.4141248765528"
      ]
     },
     "execution_count": 73,
     "metadata": {},
     "output_type": "execute_result"
    }
   ],
   "source": [
    "q_cx, q_wx = qss_portions(d_x,Z_x*d_x,nu_x,k_x,Z_0x*d_x)\n",
    "Eq(q_w, q_wx)\n",
    "Eq(q_c, q_cx)"
   ]
  },
  {
   "cell_type": "code",
   "execution_count": 74,
   "metadata": {
    "hidden": true
   },
   "outputs": [
    {
     "ename": "NameError",
     "evalue": "stop",
     "output_type": "error",
     "traceback": [
      "\u001b[0;31m---------------------------------------------------------------------------\u001b[0m",
      "\u001b[0;31mNameError\u001b[0m                                 Traceback (most recent call last)",
      "\u001b[0;32m<ipython-input-74-26ce6871c2ee>\u001b[0m in \u001b[0;36m<module>\u001b[0;34m()\u001b[0m\n\u001b[0;32m----> 1\u001b[0;31m \u001b[0;32mraise\u001b[0m \u001b[0mNameError\u001b[0m\u001b[0;34m(\u001b[0m\u001b[0;34m'stop'\u001b[0m\u001b[0;34m)\u001b[0m\u001b[0;34m\u001b[0m\u001b[0m\n\u001b[0m",
      "\u001b[0;31mNameError\u001b[0m: stop"
     ]
    }
   ],
   "source": [
    "raise NameError('stop')"
   ]
  },
  {
   "cell_type": "markdown",
   "metadata": {
    "heading_collapsed": true,
    "hidden": true,
    "slideshow": {
     "slide_type": "slide"
    }
   },
   "source": [
    "## Bedrock wear"
   ]
  },
  {
   "cell_type": "markdown",
   "metadata": {
    "heading_collapsed": true,
    "slideshow": {
     "slide_type": "slide"
    }
   },
   "source": [
    "## Channel shape evolution"
   ]
  },
  {
   "cell_type": "markdown",
   "metadata": {
    "heading_collapsed": true,
    "hidden": true,
    "slideshow": {
     "slide_type": "slide"
    }
   },
   "source": [
    "### Wall geometry evolution"
   ]
  },
  {
   "cell_type": "markdown",
   "metadata": {
    "hidden": true
   },
   "source": [
    "The base-corner vector magnitude is:"
   ]
  },
  {
   "cell_type": "code",
   "execution_count": null,
   "metadata": {
    "hidden": true
   },
   "outputs": [],
   "source": [
    "Eq(xi_bc, sy.sqrt(xi_b**2+(xi_c-xi_b)**2/2)) "
   ]
  },
  {
   "cell_type": "markdown",
   "metadata": {
    "hidden": true
   },
   "source": [
    "The angle $\\alpha$ between corner-wall vector, with dip $\\phi$ from vertical, and the wall normal, with dip $\\phi$ from horizontal, is:"
   ]
  },
  {
   "cell_type": "code",
   "execution_count": null,
   "metadata": {
    "hidden": true
   },
   "outputs": [],
   "source": [
    "Eq(alpha,theta-phi)\n",
    "Eq(sy.tan(phi),(xi_c-xi_b)/(sy.sqrt(2)*xi_b))\n",
    "Eq(sy.cos(phi),xi_b/sy.sqrt(xi_b**2+(xi_c-xi_b)**2/2))"
   ]
  },
  {
   "cell_type": "markdown",
   "metadata": {
    "hidden": true
   },
   "source": [
    "The difference between the projection of $\\vec{\\xi}_{bc}$ onto the wall-normal direction and the wall-normal erosion rate $\\xi_w$ leads to the rate of change of wall dip $\\dot{\\theta}(t)$:"
   ]
  },
  {
   "cell_type": "code",
   "execution_count": null,
   "metadata": {
    "hidden": true
   },
   "outputs": [],
   "source": [
    "f_dot_theta   = sy.Function('\\dot{\\\\theta}', real=True)(t)\n",
    "sy.Eq(f_dot_theta, (xi_bc*sy.cos(theta-phi)-xi_w)*(2/h))"
   ]
  },
  {
   "cell_type": "markdown",
   "metadata": {
    "hidden": true
   },
   "source": [
    "Since we track $\\xi_{bc}(t), \\xi_{w}(t), \\theta(t)$ and since wall height $h(t)$ will be a simple function of (equal to?) flow depth $d(t)$, we have enought to compute $\\dot{\\theta}(t)$ at each time step."
   ]
  },
  {
   "cell_type": "markdown",
   "metadata": {
    "hidden": true
   },
   "source": [
    "At steady-state, $\\dot\\theta=0$, thus $\\xi_w=\\xi_{bc}\\cos(\\phi-\\theta_{ss})$, and thus:"
   ]
  },
  {
   "cell_type": "code",
   "execution_count": null,
   "metadata": {
    "hidden": true
   },
   "outputs": [],
   "source": [
    "Eq(sy.cos(theta_ss-phi),xi_w/sy.sqrt(xi_b**2+(xi_c-xi_b)**2/2))\n",
    "Eq(theta_ss,phi-sy.acos(xi_w/sy.sqrt(xi_b**2+(xi_c-xi_b)**2/2)))"
   ]
  },
  {
   "cell_type": "markdown",
   "metadata": {
    "heading_collapsed": true,
    "slideshow": {
     "slide_type": "slide"
    }
   },
   "source": [
    "## Numerical exploration"
   ]
  },
  {
   "cell_type": "markdown",
   "metadata": {
    "heading_collapsed": true,
    "hidden": true,
    "slideshow": {
     "slide_type": "slide"
    }
   },
   "source": [
    "### Parameters"
   ]
  },
  {
   "cell_type": "code",
   "execution_count": null,
   "metadata": {
    "hidden": true
   },
   "outputs": [],
   "source": [
    "cm.set_params(  {chi:0} )\n",
    "cm.set_params(  {theta:cm.pi/4, Omega_r:10} )\n",
    "cm.set_params(  {epsilon_r:0.1} )\n",
    "cm.set_params(  {u_i:5,d_i:30} )\n",
    "cm.get_params()"
   ]
  },
  {
   "cell_type": "markdown",
   "metadata": {
    "heading_collapsed": true,
    "hidden": true,
    "slideshow": {
     "slide_type": "slide"
    }
   },
   "source": [
    "### Channel base width and wall tilt evolution: $\\{\\dot{w},\\dot\\theta\\}(t)$"
   ]
  },
  {
   "cell_type": "code",
   "execution_count": null,
   "metadata": {
    "hidden": true,
    "scrolled": true
   },
   "outputs": [],
   "source": [
    "cm.set_params(  {Q:250,mu:0.2,eta:2} )\n",
    "cm.get_params()\n",
    "w_range = (0.1,300)\n",
    "import numpy as np\n",
    "(ode_integrations_list, t_w_chi_beta0_vecs_list, \n",
    " w_chi_beta0_interp_as_t_list, t_w_chi_beta0_resampled_vecs_list) \\\n",
    "  = cm.ode_integrate_w_chi_beta0(t_span=[0.0,1500],\n",
    "                                 initial_state=np.array([50,0.05,0.001]))"
   ]
  },
  {
   "cell_type": "code",
   "execution_count": null,
   "metadata": {
    "hidden": true,
    "scrolled": false
   },
   "outputs": [],
   "source": [
    "t_w_chi_beta0_resampled_vecs_list.round(4)\n",
    "np.mean(t_w_chi_beta0_resampled_vecs_list[:,3])\n",
    "cm.get_params({beta_0:None, Q:None})"
   ]
  },
  {
   "cell_type": "code",
   "execution_count": null,
   "metadata": {
    "hidden": true,
    "scrolled": true
   },
   "outputs": [],
   "source": [
    "cm.reset_params()\n",
    "cm.set_params(  {Q:3000,mu:1,eta:2} )\n",
    "cm.get_params()\n",
    "w_range = (0.1,300)\n",
    "import numpy as np\n",
    "(ode_integrations_list, t_w_chi_beta0_vecs_list, \n",
    " w_chi_beta0_interp_as_t_list, t_w_chi_beta0_resampled_vecs_list) \\\n",
    "  = cm.ode_integrate_w_chi_beta0(t_span=[0.0,1500],\n",
    "                                 initial_state=np.array([50,0.05,0.001]))"
   ]
  },
  {
   "cell_type": "code",
   "execution_count": null,
   "metadata": {
    "hidden": true
   },
   "outputs": [],
   "source": [
    "t_w_chi_beta0_resampled_vecs_list.round(4)\n",
    "np.mean(t_w_chi_beta0_resampled_vecs_list[:,3])\n",
    "cm.get_params({beta_0:5, Q:None})\n",
    "cm.get_params()"
   ]
  },
  {
   "cell_type": "code",
   "execution_count": null,
   "metadata": {
    "hidden": true
   },
   "outputs": [],
   "source": [
    "plt.plot(t_w_chi_beta0_resampled_vecs_list[:,0],\n",
    "         t_w_chi_beta0_resampled_vecs_list[:,3]);"
   ]
  },
  {
   "cell_type": "code",
   "execution_count": null,
   "metadata": {
    "hidden": true
   },
   "outputs": [],
   "source": []
  }
 ],
 "metadata": {
  "hide_input": false,
  "kernelspec": {
   "display_name": "Python 3",
   "language": "python",
   "name": "python3"
  },
  "language_info": {
   "codemirror_mode": {
    "name": "ipython",
    "version": 3
   },
   "file_extension": ".py",
   "mimetype": "text/x-python",
   "name": "python",
   "nbconvert_exporter": "python",
   "pygments_lexer": "ipython3",
   "version": "3.6.6"
  },
  "toc": {
   "colors": {
    "hover_highlight": "#daa520",
    "navigate_num": "#000000",
    "navigate_text": "#333333",
    "running_highlight": "#FF0000",
    "selected_highlight": "#FFD700",
    "sidebar_border": "#EEEEEE",
    "wrapper_background": "#FFFFFF"
   },
   "moveMenuLeft": false,
   "nav_menu": {
    "height": "324px",
    "width": "252px"
   },
   "navigate_menu": true,
   "number_sections": true,
   "sideBar": true,
   "threshold": "2",
   "toc_cell": true,
   "toc_position": {
    "height": "998px",
    "left": "0px",
    "right": "708px",
    "top": "92px",
    "width": "212px"
   },
   "toc_section_display": "block",
   "toc_window_display": false,
   "widenNotebook": false
  }
 },
 "nbformat": 4,
 "nbformat_minor": 2
}
