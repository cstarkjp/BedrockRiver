{
 "cells": [
  {
   "cell_type": "markdown",
   "metadata": {
    "slideshow": {
     "slide_type": "slide"
    }
   },
   "source": [
    "# Channel cross-section evolution\n"
   ]
  },
  {
   "cell_type": "markdown",
   "metadata": {
    "slideshow": {
     "slide_type": "slide"
    }
   },
   "source": [
    "## Python setup"
   ]
  },
  {
   "cell_type": "code",
   "execution_count": 79,
   "metadata": {
    "slideshow": {
     "slide_type": "subslide"
    }
   },
   "outputs": [],
   "source": [
    "import bedrock_river as br, sympy as sy, numpy as np, matplotlib.pyplot as plt\n",
    "sy.init_printing(pretty_print=True,wrap_line=True)\n",
    "from symbols import *"
   ]
  },
  {
   "cell_type": "code",
   "execution_count": 2,
   "metadata": {
    "slideshow": {
     "slide_type": "subslide"
    }
   },
   "outputs": [
    {
     "name": "stdout",
     "output_type": "stream",
     "text": [
      "Initializing open channel flow hydraulics...done\n"
     ]
    }
   ],
   "source": [
    "cm = br.channel.new_model()"
   ]
  },
  {
   "cell_type": "markdown",
   "metadata": {
    "slideshow": {
     "slide_type": "slide"
    }
   },
   "source": [
    "## Recipe"
   ]
  },
  {
   "cell_type": "markdown",
   "metadata": {},
   "source": [
    "1. Fix base width $w$, slope $\\beta_0$, sinuosity $\\chi=0$\n",
    "2. Fix wall angle $\\theta=\\pi/2$ thus imposing simple initial rectangular cross-section (ignoring beveled corners)\n",
    "\n",
    "Loop:\n",
    "3. Compute flow speed $u$ and flow depth $d$\n",
    "4. Compute bedload flux $q_b$\n",
    "5. Compute suspended load flux profile fractions at (i) wall-base corner $q_c$ (ii) remainder above corner $q_w$\n",
    "6. Optionally compute wall & corner weathering rates to modulate their erodibility\n",
    "7. Compute base wear rate $\\xi_b$, corner wear rate $\\xi_c$ and wall wear rate $\\xi_w$\n",
    "8. Compute base-corner vector $\\vec{\\xi}_{bc}$, base-corner vector dip (from vertical) $\\theta$\n",
    "9. Convert into rate of change of base channel width $\\dot{w}$;  secondarily compute base elevation $\\dot{h}$\n",
    "10. Compute wall base-corner-driven motion vector $\\vec{\\xi}_{wc}$ and wall rotation rate $\\dot{\\theta}$\n",
    "11. Time step by $\\Delta{t}$ the ODE system $(\\dot{w}, \\dot{\\theta})$ of rates of change of channel base width and wall dip; secondarily evolve base elevation $\\dot{h}$ \n",
    "12. Repeat"
   ]
  },
  {
   "cell_type": "markdown",
   "metadata": {
    "slideshow": {
     "slide_type": "slide"
    }
   },
   "source": [
    "## Derivation"
   ]
  },
  {
   "cell_type": "markdown",
   "metadata": {
    "slideshow": {
     "slide_type": "slide"
    }
   },
   "source": [
    "### Wall geometry evolution"
   ]
  },
  {
   "cell_type": "markdown",
   "metadata": {},
   "source": [
    "The base-corner vector magnitude is:"
   ]
  },
  {
   "cell_type": "code",
   "execution_count": 6,
   "metadata": {},
   "outputs": [
    {
     "data": {
      "image/png": "[encoded data removed]",
      "text/latex": [
       "$$\\xi_{bc} = \\sqrt{\\xi_{b}^{2} + \\frac{\\left(- \\xi_{b} + \\xi_{c}\\right)^{2}}{2}}$$"
      ],
      "text/plain": [
       "            ______________________\n",
       "           ╱                    2 \n",
       "          ╱     2   (-ξ_b + ξ_c)  \n",
       "ξ_bc =   ╱   ξ_b  + ───────────── \n",
       "       ╲╱                 2       "
      ]
     },
     "execution_count": 6,
     "metadata": {},
     "output_type": "execute_result"
    }
   ],
   "source": [
    "sy.Eq(xi_bc, sy.sqrt(xi_b**2+(xi_c-xi_b)**2/2)) "
   ]
  },
  {
   "cell_type": "markdown",
   "metadata": {},
   "source": [
    "The angle $\\alpha$ between corner-wall vector, with dip $\\phi$ from vertical, and the wall normal, with dip $\\phi$ from horizontal, is:"
   ]
  },
  {
   "cell_type": "code",
   "execution_count": 7,
   "metadata": {},
   "outputs": [
    {
     "data": {
      "image/png": "[encoded data removed]",
      "text/latex": [
       "$$\\alpha = - \\phi + \\theta$$"
      ],
      "text/plain": [
       "α = -φ + θ"
      ]
     },
     "execution_count": 7,
     "metadata": {},
     "output_type": "execute_result"
    },
    {
     "data": {
      "image/png": "[encoded data removed]",
      "text/latex": [
       "$$\\tan{\\left (\\phi \\right )} = \\frac{\\sqrt{2} \\left(- \\xi_{b} + \\xi_{c}\\right)}{2 \\xi_{b}}$$"
      ],
      "text/plain": [
       "         √2⋅(-ξ_b + ξ_c)\n",
       "tan(φ) = ───────────────\n",
       "              2⋅ξ_b     "
      ]
     },
     "execution_count": 7,
     "metadata": {},
     "output_type": "execute_result"
    },
    {
     "data": {
      "image/png": "[encoded data removed]",
      "text/latex": [
       "$$\\cos{\\left (\\phi \\right )} = \\frac{\\xi_{b}}{\\sqrt{\\xi_{b}^{2} + \\frac{\\left(- \\xi_{b} + \\xi_{c}\\right)^{2}}{2}}}$$"
      ],
      "text/plain": [
       "                     ξ_b            \n",
       "cos(φ) = ───────────────────────────\n",
       "              ______________________\n",
       "             ╱                    2 \n",
       "            ╱     2   (-ξ_b + ξ_c)  \n",
       "           ╱   ξ_b  + ───────────── \n",
       "         ╲╱                 2       "
      ]
     },
     "execution_count": 7,
     "metadata": {},
     "output_type": "execute_result"
    }
   ],
   "source": [
    "sy.Eq(alpha,theta-phi)\n",
    "sy.Eq(sy.tan(phi),(xi_c-xi_b)/(sy.sqrt(2)*xi_b))\n",
    "sy.Eq(sy.cos(phi),xi_b/sy.sqrt(xi_b**2+(xi_c-xi_b)**2/2))"
   ]
  },
  {
   "cell_type": "markdown",
   "metadata": {},
   "source": [
    "The difference between the projection of $\\vec{\\xi}_{bc}$ onto the wall-normal direction and the wall-normal erosion rate $\\xi_w$ leads to the rate of change of wall dip $\\dot{\\theta}(t)$:"
   ]
  },
  {
   "cell_type": "code",
   "execution_count": 8,
   "metadata": {},
   "outputs": [
    {
     "data": {
      "image/png": "[encoded data removed]",
      "text/latex": [
       "$$\\dot{\\theta}{\\left (t \\right )} = \\frac{2 \\left(\\xi_{bc} \\cos{\\left (\\phi - \\theta \\right )} - \\xi_{w}\\right)}{h}$$"
      ],
      "text/plain": [
       "                  2⋅(ξ_bc⋅cos(φ - θ) - ξ_w)\n",
       "\\dot{\\theta}(t) = ─────────────────────────\n",
       "                              h            "
      ]
     },
     "execution_count": 8,
     "metadata": {},
     "output_type": "execute_result"
    }
   ],
   "source": [
    "f_dot_theta   = sy.Function('\\dot{\\\\theta}', real=True)(t)\n",
    "sy.Eq(f_dot_theta, (xi_bc*sy.cos(theta-phi)-xi_w)*(2/h))"
   ]
  },
  {
   "cell_type": "markdown",
   "metadata": {},
   "source": [
    "Since we track $\\xi_{bc}(t), \\xi_{w}(t), \\theta(t)$ and since wall height $h(t)$ will be a simple function of (equal to?) flow depth $d(t)$, we have enought to compute $\\dot{\\theta}(t)$ at each time step."
   ]
  },
  {
   "cell_type": "markdown",
   "metadata": {},
   "source": [
    "At steady-state, $\\dot\\theta=0$, thus $\\xi_w=\\xi_{bc}\\cos(\\phi-\\theta_{ss})$, and thus:"
   ]
  },
  {
   "cell_type": "code",
   "execution_count": 76,
   "metadata": {},
   "outputs": [
    {
     "data": {
      "image/png": "[encoded data removed]",
      "text/latex": [
       "$$\\cos{\\left (\\phi - \\theta_{ss} \\right )} = \\frac{\\xi_{w}}{\\sqrt{\\xi_{b}^{2} + \\frac{\\left(- \\xi_{b} + \\xi_{c}\\right)^{2}}{2}}}$$"
      ],
      "text/plain": [
       "                           ξ_w            \n",
       "cos(φ - θₛₛ) = ───────────────────────────\n",
       "                    ______________________\n",
       "                   ╱                    2 \n",
       "                  ╱     2   (-ξ_b + ξ_c)  \n",
       "                 ╱   ξ_b  + ───────────── \n",
       "               ╲╱                 2       "
      ]
     },
     "execution_count": 76,
     "metadata": {},
     "output_type": "execute_result"
    },
    {
     "data": {
      "image/png": "[encoded data removed]",
      "text/latex": [
       "$$\\theta_{ss} = \\phi - \\operatorname{acos}{\\left (\\frac{\\xi_{w}}{\\sqrt{\\xi_{b}^{2} + \\frac{\\left(- \\xi_{b} + \\xi_{c}\\right)^{2}}{2}}} \\right )}$$"
      ],
      "text/plain": [
       "              ⎛            ξ_w            ⎞\n",
       "θₛₛ = φ - acos⎜───────────────────────────⎟\n",
       "              ⎜     ______________________⎟\n",
       "              ⎜    ╱                    2 ⎟\n",
       "              ⎜   ╱     2   (-ξ_b + ξ_c)  ⎟\n",
       "              ⎜  ╱   ξ_b  + ───────────── ⎟\n",
       "              ⎝╲╱                 2       ⎠"
      ]
     },
     "execution_count": 76,
     "metadata": {},
     "output_type": "execute_result"
    }
   ],
   "source": [
    "sy.Eq(sy.cos(theta_ss-phi),xi_w/sy.sqrt(xi_b**2+(xi_c-xi_b)**2/2))\n",
    "sy.Eq(theta_ss,phi-sy.acos(xi_w/sy.sqrt(xi_b**2+(xi_c-xi_b)**2/2)))"
   ]
  },
  {
   "cell_type": "markdown",
   "metadata": {
    "slideshow": {
     "slide_type": "slide"
    }
   },
   "source": [
    "### Open channel flow: cross-sectional area and wetted perimeter $p$"
   ]
  },
  {
   "cell_type": "markdown",
   "metadata": {
    "slideshow": {
     "slide_type": "slide"
    }
   },
   "source": [
    "Flow cross-sectional area $A$:"
   ]
  },
  {
   "cell_type": "code",
   "execution_count": 130,
   "metadata": {},
   "outputs": [
    {
     "data": {
      "image/png": "[encoded data removed]",
      "text/latex": [
       "$$A = d \\left(\\frac{d}{\\tan{\\left (\\theta \\right )}} + w\\right)$$"
      ],
      "text/plain": [
       "      ⎛  d       ⎞\n",
       "A = d⋅⎜────── + w⎟\n",
       "      ⎝tan(θ)    ⎠"
      ]
     },
     "execution_count": 130,
     "metadata": {},
     "output_type": "execute_result"
    }
   ],
   "source": [
    "A_eqn1 = sy.Eq(A,d*(w+d/sy.tan(theta)))\n",
    "A_eqn1"
   ]
  },
  {
   "cell_type": "code",
   "execution_count": 131,
   "metadata": {},
   "outputs": [
    {
     "data": {
      "image/png": "[encoded data removed]",
      "text/latex": [
       "$$A = \\frac{Q}{u}$$"
      ],
      "text/plain": [
       "    Q\n",
       "A = ─\n",
       "    u"
      ]
     },
     "execution_count": 131,
     "metadata": {},
     "output_type": "execute_result"
    }
   ],
   "source": [
    "A_eqn2 = sy.Eq(A,Q/u)\n",
    "A_eqn2"
   ]
  },
  {
   "cell_type": "markdown",
   "metadata": {
    "slideshow": {
     "slide_type": "slide"
    }
   },
   "source": [
    "Wetted perimeter $p$:"
   ]
  },
  {
   "cell_type": "code",
   "execution_count": 108,
   "metadata": {},
   "outputs": [
    {
     "data": {
      "image/png": "[encoded data removed]",
      "text/latex": [
       "$$p = \\frac{2 d}{\\sin{\\left (\\theta \\right )}} + w$$"
      ],
      "text/plain": [
       "     2⋅d      \n",
       "p = ────── + w\n",
       "    sin(θ)    "
      ]
     },
     "execution_count": 108,
     "metadata": {},
     "output_type": "execute_result"
    }
   ],
   "source": [
    "p_eqn = sy.Eq(p, 2*d/sy.sin(theta)+w)\n",
    "p_eqn"
   ]
  },
  {
   "cell_type": "markdown",
   "metadata": {
    "slideshow": {
     "slide_type": "slide"
    }
   },
   "source": [
    "### Open channel flow:  boundary shear stress $\\tau$ and shear velocity $u^*$"
   ]
  },
  {
   "cell_type": "markdown",
   "metadata": {
    "slideshow": {
     "slide_type": "slide"
    }
   },
   "source": [
    "Mean boundary shear stress $\\tau$, averaged along wetted perimeter $p$:"
   ]
  },
  {
   "cell_type": "code",
   "execution_count": 151,
   "metadata": {},
   "outputs": [
    {
     "data": {
      "image/png": "[encoded data removed]",
      "text/latex": [
       "$$\\tau = \\frac{Q g \\rho \\sin{\\left (\\beta \\right )}}{p u}$$"
      ],
      "text/plain": [
       "    Q⋅g⋅ρ⋅sin(β)\n",
       "τ = ────────────\n",
       "        p⋅u     "
      ]
     },
     "execution_count": 151,
     "metadata": {},
     "output_type": "execute_result"
    }
   ],
   "source": [
    "tau_eqn1a = sy.Eq(tau,(rho*g*A*sy.sin(beta)/p).replace(A,A_eqn2.rhs))\n",
    "tau_eqn1a"
   ]
  },
  {
   "cell_type": "code",
   "execution_count": 171,
   "metadata": {},
   "outputs": [
    {
     "data": {
      "image/png": "[encoded data removed]",
      "text/latex": [
       "$$\\tau = \\frac{Q g \\rho \\sin{\\left (\\beta \\right )} \\sin{\\left (\\theta \\right )}}{u \\left(2 d + w \\sin{\\left (\\theta \\right )}\\right)}$$"
      ],
      "text/plain": [
       "    Q⋅g⋅ρ⋅sin(β)⋅sin(θ)\n",
       "τ = ───────────────────\n",
       "     u⋅(2⋅d + w⋅sin(θ))"
      ]
     },
     "execution_count": 171,
     "metadata": {},
     "output_type": "execute_result"
    }
   ],
   "source": [
    "tau_eqn1b = sy.simplify(tau_eqn1a.subs(p,p_eqn.rhs))\n",
    "tau_eqn1b"
   ]
  },
  {
   "cell_type": "markdown",
   "metadata": {
    "slideshow": {
     "slide_type": "slide"
    }
   },
   "source": [
    "Chézy friction $f$:"
   ]
  },
  {
   "cell_type": "code",
   "execution_count": 153,
   "metadata": {},
   "outputs": [
    {
     "data": {
      "image/png": "[encoded data removed]",
      "text/latex": [
       "$$f = C^{2} g$$"
      ],
      "text/plain": [
       "     2  \n",
       "f = C ⋅g"
      ]
     },
     "execution_count": 153,
     "metadata": {},
     "output_type": "execute_result"
    }
   ],
   "source": [
    "friction_eqn = sy.Eq(f,g*C**2)\n",
    "friction_eqn"
   ]
  },
  {
   "cell_type": "code",
   "execution_count": 154,
   "metadata": {},
   "outputs": [
    {
     "data": {
      "image/png": "[encoded data removed]",
      "text/latex": [
       "$$\\tau = f \\rho u^{2}$$"
      ],
      "text/plain": [
       "         2\n",
       "τ = f⋅ρ⋅u "
      ]
     },
     "execution_count": 154,
     "metadata": {},
     "output_type": "execute_result"
    }
   ],
   "source": [
    "tau_eqn2a = sy.Eq(tau,f*rho*u**2)\n",
    "tau_eqn2a"
   ]
  },
  {
   "cell_type": "code",
   "execution_count": 170,
   "metadata": {},
   "outputs": [
    {
     "data": {
      "image/png": "[encoded data removed]",
      "text/latex": [
       "$$\\tau = C^{2} g \\rho u^{2}$$"
      ],
      "text/plain": [
       "     2      2\n",
       "τ = C ⋅g⋅ρ⋅u "
      ]
     },
     "execution_count": 170,
     "metadata": {},
     "output_type": "execute_result"
    }
   ],
   "source": [
    "tau_eqn2b = sy.simplify(tau_eqn2a.subs(f,friction_eqn.rhs))\n",
    "tau_eqn2b"
   ]
  },
  {
   "cell_type": "code",
   "execution_count": 172,
   "metadata": {},
   "outputs": [
    {
     "data": {
      "image/png": "[encoded data removed]",
      "text/latex": [
       "$$u^{*} = \\frac{\\sqrt{\\tau}}{\\sqrt{\\rho}}$$"
      ],
      "text/plain": [
       "       √τ\n",
       "u__* = ──\n",
       "       √ρ"
      ]
     },
     "execution_count": 172,
     "metadata": {},
     "output_type": "execute_result"
    },
    {
     "data": {
      "image/png": "[encoded data removed]",
      "text/latex": [
       "$$u^{*} = C \\sqrt{g} u$$"
      ],
      "text/plain": [
       "u__* = C⋅√g⋅u"
      ]
     },
     "execution_count": 172,
     "metadata": {},
     "output_type": "execute_result"
    }
   ],
   "source": [
    "u_star_eqn1a = sy.Eq(u_star, sy.sqrt(tau/rho))\n",
    "u_star_eqn1a\n",
    "u_star_eqn1a.subs(tau,tau_eqn2b.rhs)"
   ]
  },
  {
   "cell_type": "markdown",
   "metadata": {
    "slideshow": {
     "slide_type": "slide"
    }
   },
   "source": [
    "### Open channel flow: speed $u$"
   ]
  },
  {
   "cell_type": "markdown",
   "metadata": {},
   "source": [
    "Mean flow speed $u$ equations assuming an isoceles trapezoidal cross-section:"
   ]
  },
  {
   "cell_type": "code",
   "execution_count": 132,
   "metadata": {},
   "outputs": [
    {
     "data": {
      "image/png": "[encoded data removed]",
      "text/latex": [
       "$$u = \\frac{Q \\tan{\\left (\\theta \\right )}}{d \\left(d + w \\tan{\\left (\\theta \\right )}\\right)}$$"
      ],
      "text/plain": [
       "        Q⋅tan(θ)    \n",
       "u = ────────────────\n",
       "    d⋅(d + w⋅tan(θ))"
      ]
     },
     "execution_count": 132,
     "metadata": {},
     "output_type": "execute_result"
    }
   ],
   "source": [
    "u_eqn1 = sy.Eq(u, sy.solve(sy.Eq(A_eqn1.rhs,A_eqn2.rhs),u)[0])\n",
    "u_eqn1"
   ]
  },
  {
   "cell_type": "code",
   "execution_count": 166,
   "metadata": {},
   "outputs": [
    {
     "data": {
      "image/png": "[encoded data removed]",
      "text/latex": [
       "$$u = \\frac{Q \\tan{\\left (\\theta \\right )}}{d \\left(d + w \\tan{\\left (\\theta \\right )}\\right)}$$"
      ],
      "text/plain": [
       "        Q⋅tan(θ)    \n",
       "u = ────────────────\n",
       "    d⋅(d + w⋅tan(θ))"
      ]
     },
     "execution_count": 166,
     "metadata": {},
     "output_type": "execute_result"
    }
   ],
   "source": [
    "cm.u_geometric_eqn"
   ]
  },
  {
   "cell_type": "code",
   "execution_count": 262,
   "metadata": {},
   "outputs": [
    {
     "data": {
      "image/png": "[encoded data removed]",
      "text/latex": [
       "$$u^{3} = \\frac{Q \\sin{\\left (\\beta \\right )} \\sin{\\left (\\theta \\right )}}{C^{2} \\left(2 d + w \\sin{\\left (\\theta \\right )}\\right)}$$"
      ],
      "text/plain": [
       " 3     Q⋅sin(β)⋅sin(θ)  \n",
       "u  = ───────────────────\n",
       "      2                 \n",
       "     C ⋅(2⋅d + w⋅sin(θ))"
      ]
     },
     "execution_count": 262,
     "metadata": {},
     "output_type": "execute_result"
    }
   ],
   "source": [
    "ucubed_solns1 = (sy.solve(sy.Eq(tau_eqn1b.rhs,tau_eqn2b.rhs),u**3))\n",
    "# u_solns1\n",
    "ucubed_eqn2 = sy.simplify(sy.Eq(u**3,ucubed_solns1[0]))\n",
    "ucubed_eqn2"
   ]
  },
  {
   "cell_type": "markdown",
   "metadata": {
    "slideshow": {
     "slide_type": "slide"
    }
   },
   "source": [
    "BUG!! $u^3$ equation should use $\\beta$ not $\\beta_0$"
   ]
  },
  {
   "cell_type": "code",
   "execution_count": 167,
   "metadata": {},
   "outputs": [
    {
     "data": {
      "image/png": "[encoded data removed]",
      "text/latex": [
       "$$u^{3} = \\frac{Q \\sin{\\left (\\beta_{0} \\right )} \\sin{\\left (\\theta \\right )}}{C^{2} \\left(2 d + w \\sin{\\left (\\theta \\right )}\\right)}$$"
      ],
      "text/plain": [
       " 3     Q⋅sin(β₀)⋅sin(θ) \n",
       "u  = ───────────────────\n",
       "      2                 \n",
       "     C ⋅(2⋅d + w⋅sin(θ))"
      ]
     },
     "execution_count": 167,
     "metadata": {},
     "output_type": "execute_result"
    }
   ],
   "source": [
    "sy.simplify(cm.ucubed_dynamic_eqn.subs({chi:0}))"
   ]
  },
  {
   "cell_type": "markdown",
   "metadata": {
    "slideshow": {
     "slide_type": "slide"
    }
   },
   "source": [
    "### Open channel flow: depth $d$"
   ]
  },
  {
   "cell_type": "markdown",
   "metadata": {},
   "source": [
    "Flow depth $d$ (above centerline) equations assuming an isoceles trapezoidal cross-section:"
   ]
  },
  {
   "cell_type": "code",
   "execution_count": 204,
   "metadata": {},
   "outputs": [
    {
     "data": {
      "image/png": "[encoded data removed]",
      "text/latex": [
       "$$d = \\left(- \\frac{w}{2} + \\frac{Q \\sin{\\left (\\beta \\right )}}{2 C^{2} u^{3}}\\right) \\sin{\\left (\\theta \\right )}$$"
      ],
      "text/plain": [
       "    ⎛  w   Q⋅sin(β)⎞       \n",
       "d = ⎜- ─ + ────────⎟⋅sin(θ)\n",
       "    ⎜  2      2  3 ⎟       \n",
       "    ⎝      2⋅C ⋅u  ⎠       "
      ]
     },
     "execution_count": 204,
     "metadata": {},
     "output_type": "execute_result"
    }
   ],
   "source": [
    "d_eqn1 = sy.Eq(d,(sy.solve(u_eqn2,d)[0]).collect(sy.sin(theta)))\n",
    "d_eqn1"
   ]
  },
  {
   "cell_type": "code",
   "execution_count": 254,
   "metadata": {},
   "outputs": [
    {
     "data": {
      "image/png": "[encoded data removed]",
      "text/latex": [
       "$$d = - \\frac{w \\tan{\\left (\\theta \\right )}}{2} + \\frac{\\sqrt{4 Q + u w^{2} \\tan{\\left (\\theta \\right )}} \\sqrt{\\tan{\\left (\\theta \\right )}}}{2 \\sqrt{u}}$$"
      ],
      "text/plain": [
       "                    ___________________           \n",
       "                   ╱          2           ________\n",
       "      w⋅tan(θ)   ╲╱  4⋅Q + u⋅w ⋅tan(θ) ⋅╲╱ tan(θ) \n",
       "d = - ──────── + ─────────────────────────────────\n",
       "         2                      2⋅√u              "
      ]
     },
     "execution_count": 254,
     "metadata": {},
     "output_type": "execute_result"
    }
   ],
   "source": [
    "tmp = sy.Eq(d,sy.simplify(sy.solve(u_eqn1,d)[1]))\n",
    "d_eqn2 = sy.Eq(d,tmp.rhs.subs(sy.tan(theta),t).simplify().collect(t).subs(t,sy.tan(theta)))\n",
    "d_eqn2"
   ]
  },
  {
   "cell_type": "code",
   "execution_count": 255,
   "metadata": {},
   "outputs": [
    {
     "data": {
      "image/png": "[encoded data removed]",
      "text/latex": [
       "$$d = \\left(- \\frac{w}{2} + \\frac{Q \\sin{\\left (\\beta_{0} \\right )}}{2 C^{2} u^{3}}\\right) \\sin{\\left (\\theta \\right )}$$"
      ],
      "text/plain": [
       "    ⎛  w   Q⋅sin(β₀)⎞       \n",
       "d = ⎜- ─ + ─────────⎟⋅sin(θ)\n",
       "    ⎜  2       2  3 ⎟       \n",
       "    ⎝       2⋅C ⋅u  ⎠       "
      ]
     },
     "execution_count": 255,
     "metadata": {},
     "output_type": "execute_result"
    },
    {
     "data": {
      "image/png": "[encoded data removed]",
      "text/latex": [
       "$$d = \\frac{\\left(- \\sqrt{u} w + \\sqrt{\\frac{4 Q}{\\tan{\\left (\\theta \\right )}} + u w^{2}}\\right) \\tan{\\left (\\theta \\right )}}{2 \\sqrt{u}}$$"
      ],
      "text/plain": [
       "    ⎛            _______________⎞       \n",
       "    ⎜           ╱  4⋅Q        2 ⎟       \n",
       "    ⎜-√u⋅w +   ╱  ────── + u⋅w  ⎟⋅tan(θ)\n",
       "    ⎝        ╲╱   tan(θ)        ⎠       \n",
       "d = ────────────────────────────────────\n",
       "                    2⋅√u                "
      ]
     },
     "execution_count": 255,
     "metadata": {},
     "output_type": "execute_result"
    }
   ],
   "source": [
    "sy.Eq(cm.d_dynamic_eqn.lhs,cm.d_dynamic_eqn.rhs.collect(sy.sin(theta)))\n",
    "cm.d_geometric_eqn"
   ]
  },
  {
   "cell_type": "markdown",
   "metadata": {
    "slideshow": {
     "slide_type": "slide"
    }
   },
   "source": [
    "### Open channel flow: explicit solutions for depth $d$ and flow $u$"
   ]
  },
  {
   "cell_type": "markdown",
   "metadata": {},
   "source": [
    "Combining to yield polynomials for $u$ and $d$:"
   ]
  },
  {
   "cell_type": "code",
   "execution_count": 325,
   "metadata": {},
   "outputs": [
    {
     "data": {
      "image/png": "[encoded data removed]",
      "text/latex": [
       "$$\\frac{d^{3} \\left(d + w \\tan{\\left (\\theta \\right )}\\right)^{3}}{Q^{3} \\tan^{3}{\\left (\\theta \\right )}} = \\frac{C^{2} \\left(2 d + w \\sin{\\left (\\theta \\right )}\\right)}{Q \\sin{\\left (\\beta \\right )} \\sin{\\left (\\theta \\right )}}$$"
      ],
      "text/plain": [
       " 3               3    2                 \n",
       "d ⋅(d + w⋅tan(θ))    C ⋅(2⋅d + w⋅sin(θ))\n",
       "────────────────── = ───────────────────\n",
       "     3    3            Q⋅sin(β)⋅sin(θ)  \n",
       "    Q ⋅tan (θ)                          "
      ]
     },
     "execution_count": 325,
     "metadata": {},
     "output_type": "execute_result"
    },
    {
     "data": {
      "image/png": "[encoded data removed]",
      "text/latex": [
       "$$- \\frac{2 C^{2} d}{Q \\sin{\\left (\\beta \\right )} \\sin{\\left (\\theta \\right )}} - \\frac{C^{2} w}{Q \\sin{\\left (\\beta \\right )}} + \\frac{d^{6}}{Q^{3} \\tan^{3}{\\left (\\theta \\right )}} + \\frac{3 d^{5} w}{Q^{3} \\tan^{2}{\\left (\\theta \\right )}} + \\frac{3 d^{4} w^{2}}{Q^{3} \\tan{\\left (\\theta \\right )}} + \\frac{d^{3} w^{3}}{Q^{3}} = 0$$"
      ],
      "text/plain": [
       "          2            2            6            5           4  2     3  3    \n",
       "       2⋅C ⋅d         C ⋅w         d          3⋅d ⋅w      3⋅d ⋅w     d ⋅w     \n",
       "- ─────────────── - ──────── + ────────── + ────────── + ───────── + ───── = 0\n",
       "  Q⋅sin(β)⋅sin(θ)   Q⋅sin(β)    3    3       3    2       3             3     \n",
       "                               Q ⋅tan (θ)   Q ⋅tan (θ)   Q ⋅tan(θ)     Q      "
      ]
     },
     "execution_count": 325,
     "metadata": {},
     "output_type": "execute_result"
    },
    {
     "data": {
      "image/png": "[encoded data removed]",
      "text/latex": [
       "$$d^{6} + 3 d^{5} w + 3 d^{4} w^{2} + d^{3} w^{3} - 4 d - \\sqrt{2} w = 0$$"
      ],
      "text/plain": [
       " 6      5        4  2    3  3                 \n",
       "d  + 3⋅d ⋅w + 3⋅d ⋅w  + d ⋅w  - 4⋅d - √2⋅w = 0"
      ]
     },
     "execution_count": 325,
     "metadata": {},
     "output_type": "execute_result"
    }
   ],
   "source": [
    "tmp_eqn = sy.Eq(1/u_eqn1.rhs**3,1/(ucubed_eqn2.rhs))\n",
    "tmp_eqn\n",
    "d_poly_eqn = sy.Eq(tmp_eqn.as_poly(d).args[0])\n",
    "d_poly_eqn\n",
    "_.subs({C:1,Q:1,chi:1,beta:sy.pi/4,theta:sy.pi/4}).simplify()"
   ]
  },
  {
   "cell_type": "code",
   "execution_count": 327,
   "metadata": {},
   "outputs": [
    {
     "data": {
      "image/png": "[encoded data removed]",
      "text/latex": [
       "$$- 2 C^{2} Q^{2} \\chi w \\sin{\\left (\\theta \\right )} \\tan^{3}{\\left (\\theta \\right )} - 2 C^{2} Q^{2} w \\sin{\\left (\\theta \\right )} \\tan^{3}{\\left (\\theta \\right )} + 2 d^{6} \\sin{\\left (\\beta_{0} \\right )} \\sin{\\left (\\theta \\right )} + 6 d^{5} w \\sin{\\left (\\beta_{0} \\right )} \\sin{\\left (\\theta \\right )} \\tan{\\left (\\theta \\right )} + 6 d^{4} w^{2} \\sin{\\left (\\beta_{0} \\right )} \\sin{\\left (\\theta \\right )} \\tan^{2}{\\left (\\theta \\right )} + 2 d^{3} w^{3} \\sin{\\left (\\beta_{0} \\right )} \\sin{\\left (\\theta \\right )} \\tan^{3}{\\left (\\theta \\right )} + 2 d \\left(- 2 C^{2} Q^{2} \\chi \\tan^{3}{\\left (\\theta \\right )} - 2 C^{2} Q^{2} \\tan^{3}{\\left (\\theta \\right )}\\right) = 0$$"
      ],
      "text/plain": [
       "     2  2               3         2  2             3         6                \n",
       "- 2⋅C ⋅Q ⋅χ⋅w⋅sin(θ)⋅tan (θ) - 2⋅C ⋅Q ⋅w⋅sin(θ)⋅tan (θ) + 2⋅d ⋅sin(β₀)⋅sin(θ) \n",
       "\n",
       "     5                              4  2                   2         3  3     \n",
       "+ 6⋅d ⋅w⋅sin(β₀)⋅sin(θ)⋅tan(θ) + 6⋅d ⋅w ⋅sin(β₀)⋅sin(θ)⋅tan (θ) + 2⋅d ⋅w ⋅sin(\n",
       "\n",
       "              3          ⎛     2  2      3         2  2    3   ⎞    \n",
       "β₀)⋅sin(θ)⋅tan (θ) + 2⋅d⋅⎝- 2⋅C ⋅Q ⋅χ⋅tan (θ) - 2⋅C ⋅Q ⋅tan (θ)⎠ = 0"
      ]
     },
     "execution_count": 327,
     "metadata": {},
     "output_type": "execute_result"
    },
    {
     "data": {
      "image/png": "[encoded data removed]",
      "text/latex": [
       "$$d^{6} + 3 d^{5} w + 3 d^{4} w^{2} + d^{3} w^{3} - 8 d - 2 \\sqrt{2} w = 0$$"
      ],
      "text/plain": [
       " 6      5        4  2    3  3                   \n",
       "d  + 3⋅d ⋅w + 3⋅d ⋅w  + d ⋅w  - 8⋅d - 2⋅√2⋅w = 0"
      ]
     },
     "execution_count": 327,
     "metadata": {},
     "output_type": "execute_result"
    }
   ],
   "source": [
    "sy.Eq(cm.d_polynomial_eqn.as_poly(d).args[0]*2)\n",
    "_.subs({C:1,Q:1,chi:1,beta_0:sy.pi/4,theta:sy.pi/4}).simplify()"
   ]
  },
  {
   "cell_type": "code",
   "execution_count": 313,
   "metadata": {},
   "outputs": [
    {
     "data": {
      "image/png": "[encoded data removed]",
      "text/latex": [
       "$$\\left(- \\frac{w}{2} + \\frac{Q \\sin{\\left (\\beta \\right )}}{2 C^{2} u^{3}}\\right) \\sin{\\left (\\theta \\right )} = - \\frac{w \\tan{\\left (\\theta \\right )}}{2} + \\frac{\\sqrt{4 Q + u w^{2} \\tan{\\left (\\theta \\right )}} \\sqrt{\\tan{\\left (\\theta \\right )}}}{2 \\sqrt{u}}$$"
      ],
      "text/plain": [
       "                                          ___________________           \n",
       "                                         ╱          2           ________\n",
       "⎛  w   Q⋅sin(β)⎞            w⋅tan(θ)   ╲╱  4⋅Q + u⋅w ⋅tan(θ) ⋅╲╱ tan(θ) \n",
       "⎜- ─ + ────────⎟⋅sin(θ) = - ──────── + ─────────────────────────────────\n",
       "⎜  2      2  3 ⎟               2                      2⋅√u              \n",
       "⎝      2⋅C ⋅u  ⎠                                                        "
      ]
     },
     "execution_count": 313,
     "metadata": {},
     "output_type": "execute_result"
    },
    {
     "data": {
      "image/png": "[encoded data removed]",
      "text/latex": [
       "$$- \\frac{w \\sin{\\left (\\theta \\right )}}{2} + \\frac{w \\tan{\\left (\\theta \\right )}}{2} - \\frac{\\sqrt{4 Q + u w^{2} \\tan{\\left (\\theta \\right )}} \\sqrt{\\tan{\\left (\\theta \\right )}}}{2 \\sqrt{u}} + \\frac{Q \\sin{\\left (\\beta \\right )} \\sin{\\left (\\theta \\right )}}{2 C^{2} u^{3}} = 0$$"
      ],
      "text/plain": [
       "                           ___________________                                \n",
       "                          ╱          2           ________                     \n",
       "  w⋅sin(θ)   w⋅tan(θ)   ╲╱  4⋅Q + u⋅w ⋅tan(θ) ⋅╲╱ tan(θ)    Q⋅sin(β)⋅sin(θ)   \n",
       "- ──────── + ──────── - ───────────────────────────────── + ─────────────── = \n",
       "     2          2                      2⋅√u                        2  3       \n",
       "                                                                2⋅C ⋅u        \n",
       "\n",
       " \n",
       " \n",
       " \n",
       "0\n",
       " \n",
       " "
      ]
     },
     "execution_count": 313,
     "metadata": {},
     "output_type": "execute_result"
    }
   ],
   "source": [
    "tmp_eqn = sy.Eq(d_eqn1.rhs,d_eqn2.rhs)\n",
    "tmp_eqn\n",
    "u_poly_eqn = sy.Eq(tmp_eqn.as_poly(1/sy.sqrt(u)).args[0])\n",
    "u_poly_eqn"
   ]
  },
  {
   "cell_type": "code",
   "execution_count": 290,
   "metadata": {},
   "outputs": [
    {
     "data": {
      "image/png": "[encoded data removed]",
      "text/latex": [
       "$$- C^{2} \\chi u^{\\frac{5}{2}} \\sqrt{\\frac{4 Q}{\\tan{\\left (\\theta \\right )}} + u w^{2}} \\tan{\\left (\\theta \\right )} - C^{2} \\chi u^{3} w \\sin{\\left (\\theta \\right )} + C^{2} \\chi u^{3} w \\tan{\\left (\\theta \\right )} - C^{2} u^{\\frac{5}{2}} \\sqrt{\\frac{4 Q}{\\tan{\\left (\\theta \\right )}} + u w^{2}} \\tan{\\left (\\theta \\right )} - C^{2} u^{3} w \\sin{\\left (\\theta \\right )} + C^{2} u^{3} w \\tan{\\left (\\theta \\right )} + Q \\sin{\\left (\\beta_{0} \\right )} \\sin{\\left (\\theta \\right )} = 0$$"
      ],
      "text/plain": [
       "                _______________                                               \n",
       "   2    5/2    ╱  4⋅Q        2            2    3             2    3           \n",
       "- C ⋅χ⋅u   ⋅  ╱  ────── + u⋅w  ⋅tan(θ) - C ⋅χ⋅u ⋅w⋅sin(θ) + C ⋅χ⋅u ⋅w⋅tan(θ) -\n",
       "            ╲╱   tan(θ)                                                       \n",
       "\n",
       "             _______________                                                  \n",
       "  2  5/2    ╱  4⋅Q        2            2  3             2  3                  \n",
       " C ⋅u   ⋅  ╱  ────── + u⋅w  ⋅tan(θ) - C ⋅u ⋅w⋅sin(θ) + C ⋅u ⋅w⋅tan(θ) + Q⋅sin(\n",
       "         ╲╱   tan(θ)                                                          \n",
       "\n",
       "              \n",
       "              \n",
       "β₀)⋅sin(θ) = 0\n",
       "              "
      ]
     },
     "execution_count": 290,
     "metadata": {},
     "output_type": "execute_result"
    }
   ],
   "source": [
    "cm.u_polynomial_eqn"
   ]
  },
  {
   "cell_type": "markdown",
   "metadata": {},
   "source": [
    "By finding positive real roots of these equations, we can obtain $d$ and then $u$ from wall tilt $\\theta$, base width $w$ and channel base slope $\\beta$ (should NOT be $\\beta_0$ above unless chi is substituted in correctly), also controlled by $C$, $Q$ and $\\chi$. We can then obtain values for boundary shear stress $\\tau$ and shear velocity $u^*$."
   ]
  },
  {
   "cell_type": "markdown",
   "metadata": {
    "slideshow": {
     "slide_type": "slide"
    }
   },
   "source": [
    "### Bedload sediment flux $q_b$"
   ]
  },
  {
   "cell_type": "markdown",
   "metadata": {
    "slideshow": {
     "slide_type": "slide"
    }
   },
   "source": [
    "### Suspended sediment flux fractions on wall $q_w$ and corner $q_c$"
   ]
  },
  {
   "cell_type": "code",
   "execution_count": 10,
   "metadata": {},
   "outputs": [],
   "source": [
    "# varphi = sy.symbols('varphi',  positive=True ) \n",
    "# f_varphi = sy.Function('varphi', positive=True)(Z)\n",
    "# q_ss  = sy.symbols('q_ss',  positive=True ) \n",
    "# f_q_ss = sy.Function('q_ss', positive=True)(Z)\n",
    "# q_w, q_c, q_b  = sy.symbols('q_w, q_c, q_b',  positive=True ) \n"
   ]
  },
  {
   "cell_type": "code",
   "execution_count": 11,
   "metadata": {},
   "outputs": [
    {
     "data": {
      "image/png": "[encoded data removed]",
      "text/latex": [
       "$$\\varphi{\\left (Z \\right )} = \\left(\\frac{- Z + 1}{Z}\\right)^{\\nu} \\left(\\frac{- Z_{0} + 1}{Z_{0}}\\right)^{- \\nu} \\log{\\left (\\frac{Z}{k} \\right )}$$"
      ],
      "text/plain": [
       "                    ν          -ν       \n",
       "            ⎛-Z + 1⎞  ⎛-Z₀ + 1⎞      ⎛Z⎞\n",
       "varphi(Z) = ⎜──────⎟ ⋅⎜───────⎟  ⋅log⎜─⎟\n",
       "            ⎝  Z   ⎠  ⎝   Z₀  ⎠      ⎝k⎠"
      ]
     },
     "execution_count": 11,
     "metadata": {},
     "output_type": "execute_result"
    }
   ],
   "source": [
    "varphi_eqn = sy.Eq(f_varphi, sy.log(Z/k)*((1-Z)/Z)**nu / ((1-Z_0)/Z_0)**nu)\n",
    "varphi_eqn\n",
    "varphi_lambda = sy.lambdify((Z,nu,k,Z_0),varphi_eqn.rhs,'sympy')"
   ]
  },
  {
   "cell_type": "code",
   "execution_count": 47,
   "metadata": {},
   "outputs": [
    {
     "data": {
      "image/png": "[encoded data removed]",
      "text/latex": [
       "$$\\frac{Z_{0}^{\\frac{3}{2}} \\left(\\int_{Z_{0}}^{x} \\frac{\\sqrt{- Z + 1} \\log{\\left (Z \\right )}}{Z^{\\frac{3}{2}}}\\, dZ + \\int_{Z_{0}}^{x} \\left(- \\frac{\\sqrt{- Z + 1} \\log{\\left (k \\right )}}{Z^{\\frac{3}{2}}}\\right)\\, dZ + \\int_{Z_{0}}^{x} \\left(- \\frac{\\sqrt{- Z + 1} \\log{\\left (Z \\right )}}{\\sqrt{Z}}\\right)\\, dZ + \\int_{Z_{0}}^{x} \\frac{\\sqrt{- Z + 1} \\log{\\left (k \\right )}}{\\sqrt{Z}}\\, dZ\\right)}{\\left(- Z_{0} + 1\\right)^{\\frac{3}{2}}}$$"
      ],
      "text/plain": [
       "      ⎛x                         x                           x                \n",
       "      ⎜⌠                         ⌠                           ⌠                \n",
       "      ⎜⎮    ________             ⎮     ________              ⎮     ________   \n",
       "  3/2 ⎜⎮  ╲╱ -Z + 1 ⋅log(Z)      ⎮  -╲╱ -Z + 1 ⋅log(k)       ⎮  -╲╱ -Z + 1 ⋅lo\n",
       "Z₀   ⋅⎜⎮  ───────────────── dZ + ⎮  ─────────────────── dZ + ⎮  ──────────────\n",
       "      ⎜⎮          3/2            ⎮           3/2             ⎮           √Z   \n",
       "      ⎜⎮         Z               ⎮          Z                ⌡                \n",
       "      ⎜⌡                         ⌡                           Z₀               \n",
       "      ⎝Z₀                        Z₀                                           \n",
       "──────────────────────────────────────────────────────────────────────────────\n",
       "                                                            3/2               \n",
       "                                                   (-Z₀ + 1)                  \n",
       "\n",
       "           x                      ⎞\n",
       "           ⌠                      ⎟\n",
       "           ⎮    ________          ⎟\n",
       "g(Z)       ⎮  ╲╱ -Z + 1 ⋅log(k)   ⎟\n",
       "───── dZ + ⎮  ───────────────── dZ⎟\n",
       "           ⎮          √Z          ⎟\n",
       "           ⌡                      ⎟\n",
       "           Z₀                     ⎟\n",
       "                                  ⎠\n",
       "───────────────────────────────────\n",
       "                                   \n",
       "                                   "
      ]
     },
     "execution_count": 47,
     "metadata": {},
     "output_type": "execute_result"
    }
   ],
   "source": [
    "sy.integrate(varphi_eqn.rhs.subs(nu,sy.Rational(3,2)),(Z,Z_0,x))"
   ]
  },
  {
   "cell_type": "code",
   "execution_count": 49,
   "metadata": {},
   "outputs": [
    {
     "ename": "KeyboardInterrupt",
     "evalue": "",
     "output_type": "error",
     "traceback": [
      "\u001b[0;31m---------------------------------------------------------------------------\u001b[0m",
      "\u001b[0;31mKeyboardInterrupt\u001b[0m                         Traceback (most recent call last)",
      "\u001b[0;32m<ipython-input-49-15e9527e0c34>\u001b[0m in \u001b[0;36m<module>\u001b[0;34m()\u001b[0m\n\u001b[0;32m----> 1\u001b[0;31m \u001b[0msy\u001b[0m\u001b[0;34m.\u001b[0m\u001b[0mintegrate\u001b[0m\u001b[0;34m(\u001b[0m\u001b[0mvarphi_eqn\u001b[0m\u001b[0;34m.\u001b[0m\u001b[0mrhs\u001b[0m\u001b[0;34m.\u001b[0m\u001b[0msubs\u001b[0m\u001b[0;34m(\u001b[0m\u001b[0mnu\u001b[0m\u001b[0;34m,\u001b[0m\u001b[0mnu\u001b[0m\u001b[0;34m+\u001b[0m\u001b[0;36m1\u001b[0m\u001b[0;34m)\u001b[0m\u001b[0;34m,\u001b[0m\u001b[0;34m(\u001b[0m\u001b[0mZ\u001b[0m\u001b[0;34m,\u001b[0m\u001b[0mZ_0\u001b[0m\u001b[0;34m,\u001b[0m\u001b[0mZ_0\u001b[0m\u001b[0;34m+\u001b[0m\u001b[0mx\u001b[0m\u001b[0;34m)\u001b[0m\u001b[0;34m)\u001b[0m\u001b[0;34m\u001b[0m\u001b[0m\n\u001b[0m",
      "\u001b[0;32m/opt/local/Library/Frameworks/Python.framework/Versions/3.6/lib/python3.6/site-packages/sympy/integrals/integrals.py\u001b[0m in \u001b[0;36mintegrate\u001b[0;34m(*args, **kwargs)\u001b[0m\n\u001b[1;32m   1463\u001b[0m     \u001b[0;32mif\u001b[0m \u001b[0misinstance\u001b[0m\u001b[0;34m(\u001b[0m\u001b[0mintegral\u001b[0m\u001b[0;34m,\u001b[0m \u001b[0mIntegral\u001b[0m\u001b[0;34m)\u001b[0m\u001b[0;34m:\u001b[0m\u001b[0;34m\u001b[0m\u001b[0m\n\u001b[1;32m   1464\u001b[0m         return integral.doit(deep=False, meijerg=meijerg, conds=conds,\n\u001b[0;32m-> 1465\u001b[0;31m                              risch=risch, manual=manual)\n\u001b[0m\u001b[1;32m   1466\u001b[0m     \u001b[0;32melse\u001b[0m\u001b[0;34m:\u001b[0m\u001b[0;34m\u001b[0m\u001b[0m\n\u001b[1;32m   1467\u001b[0m         \u001b[0;32mreturn\u001b[0m \u001b[0mintegral\u001b[0m\u001b[0;34m\u001b[0m\u001b[0m\n",
      "\u001b[0;32m/opt/local/Library/Frameworks/Python.framework/Versions/3.6/lib/python3.6/site-packages/sympy/integrals/integrals.py\u001b[0m in \u001b[0;36mdoit\u001b[0;34m(self, **hints)\u001b[0m\n\u001b[1;32m    536\u001b[0m                 \u001b[0;32melse\u001b[0m\u001b[0;34m:\u001b[0m\u001b[0;34m\u001b[0m\u001b[0m\n\u001b[1;32m    537\u001b[0m                     antideriv = self._eval_integral(\n\u001b[0;32m--> 538\u001b[0;31m                         function, xab[0], **eval_kwargs)\n\u001b[0m\u001b[1;32m    539\u001b[0m                     \u001b[0;32mif\u001b[0m \u001b[0mantideriv\u001b[0m \u001b[0;32mis\u001b[0m \u001b[0;32mNone\u001b[0m \u001b[0;32mand\u001b[0m \u001b[0mmeijerg\u001b[0m \u001b[0;32mis\u001b[0m \u001b[0;32mTrue\u001b[0m\u001b[0;34m:\u001b[0m\u001b[0;34m\u001b[0m\u001b[0m\n\u001b[1;32m    540\u001b[0m                         \u001b[0mret\u001b[0m \u001b[0;34m=\u001b[0m \u001b[0mtry_meijerg\u001b[0m\u001b[0;34m(\u001b[0m\u001b[0mfunction\u001b[0m\u001b[0;34m,\u001b[0m \u001b[0mxab\u001b[0m\u001b[0;34m)\u001b[0m\u001b[0;34m\u001b[0m\u001b[0m\n",
      "\u001b[0;32m/opt/local/Library/Frameworks/Python.framework/Versions/3.6/lib/python3.6/site-packages/sympy/integrals/integrals.py\u001b[0m in \u001b[0;36m_eval_integral\u001b[0;34m(self, f, x, meijerg, risch, manual, conds)\u001b[0m\n\u001b[1;32m    987\u001b[0m                 \u001b[0;32mtry\u001b[0m\u001b[0;34m:\u001b[0m\u001b[0;34m\u001b[0m\u001b[0m\n\u001b[1;32m    988\u001b[0m                     \u001b[0;32mif\u001b[0m \u001b[0mconds\u001b[0m \u001b[0;34m==\u001b[0m \u001b[0;34m'piecewise'\u001b[0m\u001b[0;34m:\u001b[0m\u001b[0;34m\u001b[0m\u001b[0m\n\u001b[0;32m--> 989\u001b[0;31m                         \u001b[0mh\u001b[0m \u001b[0;34m=\u001b[0m \u001b[0mheurisch_wrapper\u001b[0m\u001b[0;34m(\u001b[0m\u001b[0mg\u001b[0m\u001b[0;34m,\u001b[0m \u001b[0mx\u001b[0m\u001b[0;34m,\u001b[0m \u001b[0mhints\u001b[0m\u001b[0;34m=\u001b[0m\u001b[0;34m[\u001b[0m\u001b[0;34m]\u001b[0m\u001b[0;34m)\u001b[0m\u001b[0;34m\u001b[0m\u001b[0m\n\u001b[0m\u001b[1;32m    990\u001b[0m                     \u001b[0;32melse\u001b[0m\u001b[0;34m:\u001b[0m\u001b[0;34m\u001b[0m\u001b[0m\n\u001b[1;32m    991\u001b[0m                         \u001b[0mh\u001b[0m \u001b[0;34m=\u001b[0m \u001b[0mheurisch\u001b[0m\u001b[0;34m(\u001b[0m\u001b[0mg\u001b[0m\u001b[0;34m,\u001b[0m \u001b[0mx\u001b[0m\u001b[0;34m,\u001b[0m \u001b[0mhints\u001b[0m\u001b[0;34m=\u001b[0m\u001b[0;34m[\u001b[0m\u001b[0;34m]\u001b[0m\u001b[0;34m)\u001b[0m\u001b[0;34m\u001b[0m\u001b[0m\n",
      "\u001b[0;32m/opt/local/Library/Frameworks/Python.framework/Versions/3.6/lib/python3.6/site-packages/sympy/integrals/heurisch.py\u001b[0m in \u001b[0;36mheurisch_wrapper\u001b[0;34m(f, x, rewrite, hints, mappings, retries, degree_offset, unnecessary_permutations)\u001b[0m\n\u001b[1;32m    130\u001b[0m \u001b[0;34m\u001b[0m\u001b[0m\n\u001b[1;32m    131\u001b[0m     res = heurisch(f, x, rewrite, hints, mappings, retries, degree_offset,\n\u001b[0;32m--> 132\u001b[0;31m                    unnecessary_permutations)\n\u001b[0m\u001b[1;32m    133\u001b[0m     \u001b[0;32mif\u001b[0m \u001b[0;32mnot\u001b[0m \u001b[0misinstance\u001b[0m\u001b[0;34m(\u001b[0m\u001b[0mres\u001b[0m\u001b[0;34m,\u001b[0m \u001b[0mBasic\u001b[0m\u001b[0;34m)\u001b[0m\u001b[0;34m:\u001b[0m\u001b[0;34m\u001b[0m\u001b[0m\n\u001b[1;32m    134\u001b[0m         \u001b[0;32mreturn\u001b[0m \u001b[0mres\u001b[0m\u001b[0;34m\u001b[0m\u001b[0m\n",
      "\u001b[0;32m/opt/local/Library/Frameworks/Python.framework/Versions/3.6/lib/python3.6/site-packages/sympy/integrals/heurisch.py\u001b[0m in \u001b[0;36mheurisch\u001b[0;34m(f, x, rewrite, hints, mappings, retries, degree_offset, unnecessary_permutations)\u001b[0m\n\u001b[1;32m    717\u001b[0m     \u001b[0;32melse\u001b[0m\u001b[0;34m:\u001b[0m\u001b[0;34m\u001b[0m\u001b[0m\n\u001b[1;32m    718\u001b[0m         \u001b[0;32mif\u001b[0m \u001b[0mretries\u001b[0m \u001b[0;34m>=\u001b[0m \u001b[0;36m0\u001b[0m\u001b[0;34m:\u001b[0m\u001b[0;34m\u001b[0m\u001b[0m\n\u001b[0;32m--> 719\u001b[0;31m             \u001b[0mresult\u001b[0m \u001b[0;34m=\u001b[0m \u001b[0mheurisch\u001b[0m\u001b[0;34m(\u001b[0m\u001b[0mf\u001b[0m\u001b[0;34m,\u001b[0m \u001b[0mx\u001b[0m\u001b[0;34m,\u001b[0m \u001b[0mmappings\u001b[0m\u001b[0;34m=\u001b[0m\u001b[0mmappings\u001b[0m\u001b[0;34m,\u001b[0m \u001b[0mrewrite\u001b[0m\u001b[0;34m=\u001b[0m\u001b[0mrewrite\u001b[0m\u001b[0;34m,\u001b[0m \u001b[0mhints\u001b[0m\u001b[0;34m=\u001b[0m\u001b[0mhints\u001b[0m\u001b[0;34m,\u001b[0m \u001b[0mretries\u001b[0m\u001b[0;34m=\u001b[0m\u001b[0mretries\u001b[0m \u001b[0;34m-\u001b[0m \u001b[0;36m1\u001b[0m\u001b[0;34m,\u001b[0m \u001b[0munnecessary_permutations\u001b[0m\u001b[0;34m=\u001b[0m\u001b[0munnecessary_permutations\u001b[0m\u001b[0;34m)\u001b[0m\u001b[0;34m\u001b[0m\u001b[0m\n\u001b[0m\u001b[1;32m    720\u001b[0m \u001b[0;34m\u001b[0m\u001b[0m\n\u001b[1;32m    721\u001b[0m             \u001b[0;32mif\u001b[0m \u001b[0mresult\u001b[0m \u001b[0;32mis\u001b[0m \u001b[0;32mnot\u001b[0m \u001b[0;32mNone\u001b[0m\u001b[0;34m:\u001b[0m\u001b[0;34m\u001b[0m\u001b[0m\n",
      "\u001b[0;32m/opt/local/Library/Frameworks/Python.framework/Versions/3.6/lib/python3.6/site-packages/sympy/integrals/heurisch.py\u001b[0m in \u001b[0;36mheurisch\u001b[0;34m(f, x, rewrite, hints, mappings, retries, degree_offset, unnecessary_permutations)\u001b[0m\n\u001b[1;32m    717\u001b[0m     \u001b[0;32melse\u001b[0m\u001b[0;34m:\u001b[0m\u001b[0;34m\u001b[0m\u001b[0m\n\u001b[1;32m    718\u001b[0m         \u001b[0;32mif\u001b[0m \u001b[0mretries\u001b[0m \u001b[0;34m>=\u001b[0m \u001b[0;36m0\u001b[0m\u001b[0;34m:\u001b[0m\u001b[0;34m\u001b[0m\u001b[0m\n\u001b[0;32m--> 719\u001b[0;31m             \u001b[0mresult\u001b[0m \u001b[0;34m=\u001b[0m \u001b[0mheurisch\u001b[0m\u001b[0;34m(\u001b[0m\u001b[0mf\u001b[0m\u001b[0;34m,\u001b[0m \u001b[0mx\u001b[0m\u001b[0;34m,\u001b[0m \u001b[0mmappings\u001b[0m\u001b[0;34m=\u001b[0m\u001b[0mmappings\u001b[0m\u001b[0;34m,\u001b[0m \u001b[0mrewrite\u001b[0m\u001b[0;34m=\u001b[0m\u001b[0mrewrite\u001b[0m\u001b[0;34m,\u001b[0m \u001b[0mhints\u001b[0m\u001b[0;34m=\u001b[0m\u001b[0mhints\u001b[0m\u001b[0;34m,\u001b[0m \u001b[0mretries\u001b[0m\u001b[0;34m=\u001b[0m\u001b[0mretries\u001b[0m \u001b[0;34m-\u001b[0m \u001b[0;36m1\u001b[0m\u001b[0;34m,\u001b[0m \u001b[0munnecessary_permutations\u001b[0m\u001b[0;34m=\u001b[0m\u001b[0munnecessary_permutations\u001b[0m\u001b[0;34m)\u001b[0m\u001b[0;34m\u001b[0m\u001b[0m\n\u001b[0m\u001b[1;32m    720\u001b[0m \u001b[0;34m\u001b[0m\u001b[0m\n\u001b[1;32m    721\u001b[0m             \u001b[0;32mif\u001b[0m \u001b[0mresult\u001b[0m \u001b[0;32mis\u001b[0m \u001b[0;32mnot\u001b[0m \u001b[0;32mNone\u001b[0m\u001b[0;34m:\u001b[0m\u001b[0;34m\u001b[0m\u001b[0m\n",
      "\u001b[0;32m/opt/local/Library/Frameworks/Python.framework/Versions/3.6/lib/python3.6/site-packages/sympy/integrals/heurisch.py\u001b[0m in \u001b[0;36mheurisch\u001b[0;34m(f, x, rewrite, hints, mappings, retries, degree_offset, unnecessary_permutations)\u001b[0m\n\u001b[1;32m    717\u001b[0m     \u001b[0;32melse\u001b[0m\u001b[0;34m:\u001b[0m\u001b[0;34m\u001b[0m\u001b[0m\n\u001b[1;32m    718\u001b[0m         \u001b[0;32mif\u001b[0m \u001b[0mretries\u001b[0m \u001b[0;34m>=\u001b[0m \u001b[0;36m0\u001b[0m\u001b[0;34m:\u001b[0m\u001b[0;34m\u001b[0m\u001b[0m\n\u001b[0;32m--> 719\u001b[0;31m             \u001b[0mresult\u001b[0m \u001b[0;34m=\u001b[0m \u001b[0mheurisch\u001b[0m\u001b[0;34m(\u001b[0m\u001b[0mf\u001b[0m\u001b[0;34m,\u001b[0m \u001b[0mx\u001b[0m\u001b[0;34m,\u001b[0m \u001b[0mmappings\u001b[0m\u001b[0;34m=\u001b[0m\u001b[0mmappings\u001b[0m\u001b[0;34m,\u001b[0m \u001b[0mrewrite\u001b[0m\u001b[0;34m=\u001b[0m\u001b[0mrewrite\u001b[0m\u001b[0;34m,\u001b[0m \u001b[0mhints\u001b[0m\u001b[0;34m=\u001b[0m\u001b[0mhints\u001b[0m\u001b[0;34m,\u001b[0m \u001b[0mretries\u001b[0m\u001b[0;34m=\u001b[0m\u001b[0mretries\u001b[0m \u001b[0;34m-\u001b[0m \u001b[0;36m1\u001b[0m\u001b[0;34m,\u001b[0m \u001b[0munnecessary_permutations\u001b[0m\u001b[0;34m=\u001b[0m\u001b[0munnecessary_permutations\u001b[0m\u001b[0;34m)\u001b[0m\u001b[0;34m\u001b[0m\u001b[0m\n\u001b[0m\u001b[1;32m    720\u001b[0m \u001b[0;34m\u001b[0m\u001b[0m\n\u001b[1;32m    721\u001b[0m             \u001b[0;32mif\u001b[0m \u001b[0mresult\u001b[0m \u001b[0;32mis\u001b[0m \u001b[0;32mnot\u001b[0m \u001b[0;32mNone\u001b[0m\u001b[0;34m:\u001b[0m\u001b[0;34m\u001b[0m\u001b[0m\n",
      "\u001b[0;32m/opt/local/Library/Frameworks/Python.framework/Versions/3.6/lib/python3.6/site-packages/sympy/integrals/heurisch.py\u001b[0m in \u001b[0;36mheurisch\u001b[0;34m(f, x, rewrite, hints, mappings, retries, degree_offset, unnecessary_permutations)\u001b[0m\n\u001b[1;32m    717\u001b[0m     \u001b[0;32melse\u001b[0m\u001b[0;34m:\u001b[0m\u001b[0;34m\u001b[0m\u001b[0m\n\u001b[1;32m    718\u001b[0m         \u001b[0;32mif\u001b[0m \u001b[0mretries\u001b[0m \u001b[0;34m>=\u001b[0m \u001b[0;36m0\u001b[0m\u001b[0;34m:\u001b[0m\u001b[0;34m\u001b[0m\u001b[0m\n\u001b[0;32m--> 719\u001b[0;31m             \u001b[0mresult\u001b[0m \u001b[0;34m=\u001b[0m \u001b[0mheurisch\u001b[0m\u001b[0;34m(\u001b[0m\u001b[0mf\u001b[0m\u001b[0;34m,\u001b[0m \u001b[0mx\u001b[0m\u001b[0;34m,\u001b[0m \u001b[0mmappings\u001b[0m\u001b[0;34m=\u001b[0m\u001b[0mmappings\u001b[0m\u001b[0;34m,\u001b[0m \u001b[0mrewrite\u001b[0m\u001b[0;34m=\u001b[0m\u001b[0mrewrite\u001b[0m\u001b[0;34m,\u001b[0m \u001b[0mhints\u001b[0m\u001b[0;34m=\u001b[0m\u001b[0mhints\u001b[0m\u001b[0;34m,\u001b[0m \u001b[0mretries\u001b[0m\u001b[0;34m=\u001b[0m\u001b[0mretries\u001b[0m \u001b[0;34m-\u001b[0m \u001b[0;36m1\u001b[0m\u001b[0;34m,\u001b[0m \u001b[0munnecessary_permutations\u001b[0m\u001b[0;34m=\u001b[0m\u001b[0munnecessary_permutations\u001b[0m\u001b[0;34m)\u001b[0m\u001b[0;34m\u001b[0m\u001b[0m\n\u001b[0m\u001b[1;32m    720\u001b[0m \u001b[0;34m\u001b[0m\u001b[0m\n\u001b[1;32m    721\u001b[0m             \u001b[0;32mif\u001b[0m \u001b[0mresult\u001b[0m \u001b[0;32mis\u001b[0m \u001b[0;32mnot\u001b[0m \u001b[0;32mNone\u001b[0m\u001b[0;34m:\u001b[0m\u001b[0;34m\u001b[0m\u001b[0m\n",
      "\u001b[0;32m/opt/local/Library/Frameworks/Python.framework/Versions/3.6/lib/python3.6/site-packages/sympy/integrals/heurisch.py\u001b[0m in \u001b[0;36mheurisch\u001b[0;34m(f, x, rewrite, hints, mappings, retries, degree_offset, unnecessary_permutations)\u001b[0m\n\u001b[1;32m    703\u001b[0m \u001b[0;34m\u001b[0m\u001b[0m\n\u001b[1;32m    704\u001b[0m         \u001b[0;32mif\u001b[0m \u001b[0msolution\u001b[0m \u001b[0;32mis\u001b[0m \u001b[0;32mNone\u001b[0m\u001b[0;34m:\u001b[0m\u001b[0;34m\u001b[0m\u001b[0m\n\u001b[0;32m--> 705\u001b[0;31m             \u001b[0msolution\u001b[0m \u001b[0;34m=\u001b[0m \u001b[0m_integrate\u001b[0m\u001b[0;34m(\u001b[0m\u001b[0;34m)\u001b[0m\u001b[0;34m\u001b[0m\u001b[0m\n\u001b[0m\u001b[1;32m    706\u001b[0m     \u001b[0;32melse\u001b[0m\u001b[0;34m:\u001b[0m\u001b[0;34m\u001b[0m\u001b[0m\n\u001b[1;32m    707\u001b[0m         \u001b[0msolution\u001b[0m \u001b[0;34m=\u001b[0m \u001b[0m_integrate\u001b[0m\u001b[0;34m(\u001b[0m\u001b[0;34m)\u001b[0m\u001b[0;34m\u001b[0m\u001b[0m\n",
      "\u001b[0;32m/opt/local/Library/Frameworks/Python.framework/Versions/3.6/lib/python3.6/site-packages/sympy/integrals/heurisch.py\u001b[0m in \u001b[0;36m_integrate\u001b[0;34m(field)\u001b[0m\n\u001b[1;32m    691\u001b[0m         \u001b[0;32mexcept\u001b[0m \u001b[0mValueError\u001b[0m\u001b[0;34m:\u001b[0m\u001b[0;34m\u001b[0m\u001b[0m\n\u001b[1;32m    692\u001b[0m             \u001b[0;32mraise\u001b[0m \u001b[0mPolynomialError\u001b[0m\u001b[0;34m\u001b[0m\u001b[0m\n\u001b[0;32m--> 693\u001b[0;31m         \u001b[0msolution\u001b[0m \u001b[0;34m=\u001b[0m \u001b[0msolve_lin_sys\u001b[0m\u001b[0;34m(\u001b[0m\u001b[0mnumer\u001b[0m\u001b[0;34m.\u001b[0m\u001b[0mcoeffs\u001b[0m\u001b[0;34m(\u001b[0m\u001b[0;34m)\u001b[0m\u001b[0;34m,\u001b[0m \u001b[0mcoeff_ring\u001b[0m\u001b[0;34m,\u001b[0m \u001b[0m_raw\u001b[0m\u001b[0;34m=\u001b[0m\u001b[0;32mFalse\u001b[0m\u001b[0;34m)\u001b[0m\u001b[0;34m\u001b[0m\u001b[0m\n\u001b[0m\u001b[1;32m    694\u001b[0m \u001b[0;34m\u001b[0m\u001b[0m\n\u001b[1;32m    695\u001b[0m         \u001b[0;32mif\u001b[0m \u001b[0msolution\u001b[0m \u001b[0;32mis\u001b[0m \u001b[0;32mNone\u001b[0m\u001b[0;34m:\u001b[0m\u001b[0;34m\u001b[0m\u001b[0m\n",
      "\u001b[0;32m/opt/local/Library/Frameworks/Python.framework/Versions/3.6/lib/python3.6/site-packages/sympy/polys/solvers.py\u001b[0m in \u001b[0;36msolve_lin_sys\u001b[0;34m(eqs, ring, _raw)\u001b[0m\n\u001b[1;32m     37\u001b[0m \u001b[0;34m\u001b[0m\u001b[0m\n\u001b[1;32m     38\u001b[0m     \u001b[0;31m# transform from equations to matrix form\u001b[0m\u001b[0;34m\u001b[0m\u001b[0;34m\u001b[0m\u001b[0m\n\u001b[0;32m---> 39\u001b[0;31m     \u001b[0mmatrix\u001b[0m \u001b[0;34m=\u001b[0m \u001b[0meqs_to_matrix\u001b[0m\u001b[0;34m(\u001b[0m\u001b[0meqs\u001b[0m\u001b[0;34m,\u001b[0m \u001b[0mring\u001b[0m\u001b[0;34m)\u001b[0m\u001b[0;34m\u001b[0m\u001b[0m\n\u001b[0m\u001b[1;32m     40\u001b[0m \u001b[0;34m\u001b[0m\u001b[0m\n\u001b[1;32m     41\u001b[0m     \u001b[0;31m# solve by row-reduction\u001b[0m\u001b[0;34m\u001b[0m\u001b[0;34m\u001b[0m\u001b[0m\n",
      "\u001b[0;32m/opt/local/Library/Frameworks/Python.framework/Versions/3.6/lib/python3.6/site-packages/sympy/polys/solvers.py\u001b[0m in \u001b[0;36meqs_to_matrix\u001b[0;34m(eqs, ring)\u001b[0m\n\u001b[1;32m     19\u001b[0m     \u001b[0;32mfor\u001b[0m \u001b[0mj\u001b[0m\u001b[0;34m,\u001b[0m \u001b[0me_j\u001b[0m \u001b[0;32min\u001b[0m \u001b[0menumerate\u001b[0m\u001b[0;34m(\u001b[0m\u001b[0meqs\u001b[0m\u001b[0;34m)\u001b[0m\u001b[0;34m:\u001b[0m\u001b[0;34m\u001b[0m\u001b[0m\n\u001b[1;32m     20\u001b[0m         \u001b[0;32mfor\u001b[0m \u001b[0mi\u001b[0m\u001b[0;34m,\u001b[0m \u001b[0mx_i\u001b[0m \u001b[0;32min\u001b[0m \u001b[0menumerate\u001b[0m\u001b[0;34m(\u001b[0m\u001b[0mxs\u001b[0m\u001b[0;34m)\u001b[0m\u001b[0;34m:\u001b[0m\u001b[0;34m\u001b[0m\u001b[0m\n\u001b[0;32m---> 21\u001b[0;31m             \u001b[0mM\u001b[0m\u001b[0;34m[\u001b[0m\u001b[0mj\u001b[0m\u001b[0;34m,\u001b[0m \u001b[0mi\u001b[0m\u001b[0;34m]\u001b[0m \u001b[0;34m=\u001b[0m \u001b[0me_j\u001b[0m\u001b[0;34m.\u001b[0m\u001b[0mcoeff\u001b[0m\u001b[0;34m(\u001b[0m\u001b[0mx_i\u001b[0m\u001b[0;34m)\u001b[0m\u001b[0;34m\u001b[0m\u001b[0m\n\u001b[0m\u001b[1;32m     22\u001b[0m         \u001b[0mM\u001b[0m\u001b[0;34m[\u001b[0m\u001b[0mj\u001b[0m\u001b[0;34m,\u001b[0m \u001b[0;34m-\u001b[0m\u001b[0;36m1\u001b[0m\u001b[0;34m]\u001b[0m \u001b[0;34m=\u001b[0m \u001b[0;34m-\u001b[0m\u001b[0me_j\u001b[0m\u001b[0;34m.\u001b[0m\u001b[0mcoeff\u001b[0m\u001b[0;34m(\u001b[0m\u001b[0;36m1\u001b[0m\u001b[0;34m)\u001b[0m\u001b[0;34m\u001b[0m\u001b[0m\n\u001b[1;32m     23\u001b[0m \u001b[0;34m\u001b[0m\u001b[0m\n",
      "\u001b[0;32m/opt/local/Library/Frameworks/Python.framework/Versions/3.6/lib/python3.6/site-packages/sympy/polys/rings.py\u001b[0m in \u001b[0;36mcoeff\u001b[0;34m(self, element)\u001b[0m\n\u001b[1;32m   1712\u001b[0m                 \u001b[0mmonom\u001b[0m\u001b[0;34m,\u001b[0m \u001b[0mcoeff\u001b[0m \u001b[0;34m=\u001b[0m \u001b[0mterms\u001b[0m\u001b[0;34m[\u001b[0m\u001b[0;36m0\u001b[0m\u001b[0;34m]\u001b[0m\u001b[0;34m\u001b[0m\u001b[0m\n\u001b[1;32m   1713\u001b[0m                 \u001b[0;32mif\u001b[0m \u001b[0mcoeff\u001b[0m \u001b[0;34m==\u001b[0m \u001b[0mself\u001b[0m\u001b[0;34m.\u001b[0m\u001b[0mring\u001b[0m\u001b[0;34m.\u001b[0m\u001b[0mdomain\u001b[0m\u001b[0;34m.\u001b[0m\u001b[0mone\u001b[0m\u001b[0;34m:\u001b[0m\u001b[0;34m\u001b[0m\u001b[0m\n\u001b[0;32m-> 1714\u001b[0;31m                     \u001b[0;32mreturn\u001b[0m \u001b[0mself\u001b[0m\u001b[0;34m.\u001b[0m\u001b[0m_get_coeff\u001b[0m\u001b[0;34m(\u001b[0m\u001b[0mmonom\u001b[0m\u001b[0;34m)\u001b[0m\u001b[0;34m\u001b[0m\u001b[0m\n\u001b[0m\u001b[1;32m   1715\u001b[0m \u001b[0;34m\u001b[0m\u001b[0m\n\u001b[1;32m   1716\u001b[0m         \u001b[0;32mraise\u001b[0m \u001b[0mValueError\u001b[0m\u001b[0;34m(\u001b[0m\u001b[0;34m\"expected a monomial, got %s\"\u001b[0m \u001b[0;34m%\u001b[0m \u001b[0melement\u001b[0m\u001b[0;34m)\u001b[0m\u001b[0;34m\u001b[0m\u001b[0m\n",
      "\u001b[0;32m/opt/local/Library/Frameworks/Python.framework/Versions/3.6/lib/python3.6/site-packages/sympy/polys/rings.py\u001b[0m in \u001b[0;36m_get_coeff\u001b[0;34m(self, expv)\u001b[0m\n\u001b[1;32m   1678\u001b[0m \u001b[0;34m\u001b[0m\u001b[0m\n\u001b[1;32m   1679\u001b[0m     \u001b[0;32mdef\u001b[0m \u001b[0m_get_coeff\u001b[0m\u001b[0;34m(\u001b[0m\u001b[0mself\u001b[0m\u001b[0;34m,\u001b[0m \u001b[0mexpv\u001b[0m\u001b[0;34m)\u001b[0m\u001b[0;34m:\u001b[0m\u001b[0;34m\u001b[0m\u001b[0m\n\u001b[0;32m-> 1680\u001b[0;31m         \u001b[0;32mreturn\u001b[0m \u001b[0mself\u001b[0m\u001b[0;34m.\u001b[0m\u001b[0mget\u001b[0m\u001b[0;34m(\u001b[0m\u001b[0mexpv\u001b[0m\u001b[0;34m,\u001b[0m \u001b[0mself\u001b[0m\u001b[0;34m.\u001b[0m\u001b[0mring\u001b[0m\u001b[0;34m.\u001b[0m\u001b[0mdomain\u001b[0m\u001b[0;34m.\u001b[0m\u001b[0mzero\u001b[0m\u001b[0;34m)\u001b[0m\u001b[0;34m\u001b[0m\u001b[0m\n\u001b[0m\u001b[1;32m   1681\u001b[0m \u001b[0;34m\u001b[0m\u001b[0m\n\u001b[1;32m   1682\u001b[0m     \u001b[0;32mdef\u001b[0m \u001b[0mcoeff\u001b[0m\u001b[0;34m(\u001b[0m\u001b[0mself\u001b[0m\u001b[0;34m,\u001b[0m \u001b[0melement\u001b[0m\u001b[0;34m)\u001b[0m\u001b[0;34m:\u001b[0m\u001b[0;34m\u001b[0m\u001b[0m\n",
      "\u001b[0;31mKeyboardInterrupt\u001b[0m: "
     ]
    }
   ],
   "source": [
    "sy.integrate(varphi_eqn.rhs.subs(nu,nu+1),(Z,Z_0,Z_0+x))"
   ]
  },
  {
   "cell_type": "code",
   "execution_count": 55,
   "metadata": {},
   "outputs": [
    {
     "data": {
      "image/png": "[encoded data removed]",
      "text/latex": [
       "$$\\left(\\frac{- Z - Z_{0} + 1}{Z + Z_{0}}\\right)^{\\nu + 1} \\log{\\left (\\frac{Z + Z_{0}}{k} \\right )}$$"
      ],
      "text/plain": [
       "             ν + 1            \n",
       "⎛-Z - Z₀ + 1⎞         ⎛Z + Z₀⎞\n",
       "⎜───────────⎟     ⋅log⎜──────⎟\n",
       "⎝   Z + Z₀  ⎠         ⎝  k   ⎠"
      ]
     },
     "execution_count": 55,
     "metadata": {},
     "output_type": "execute_result"
    },
    {
     "ename": "KeyboardInterrupt",
     "evalue": "",
     "output_type": "error",
     "traceback": [
      "\u001b[0;31m---------------------------------------------------------------------------\u001b[0m",
      "\u001b[0;31mKeyboardInterrupt\u001b[0m                         Traceback (most recent call last)",
      "\u001b[0;32m<ipython-input-55-ced463cefed8>\u001b[0m in \u001b[0;36m<module>\u001b[0;34m()\u001b[0m\n\u001b[1;32m      1\u001b[0m \u001b[0mvarphi_eqn2\u001b[0m \u001b[0;34m=\u001b[0m \u001b[0msy\u001b[0m\u001b[0;34m.\u001b[0m\u001b[0mEq\u001b[0m\u001b[0;34m(\u001b[0m\u001b[0mf_varphi\u001b[0m\u001b[0;34m,\u001b[0m \u001b[0msy\u001b[0m\u001b[0;34m.\u001b[0m\u001b[0mlog\u001b[0m\u001b[0;34m(\u001b[0m\u001b[0mZ\u001b[0m\u001b[0;34m/\u001b[0m\u001b[0mk\u001b[0m\u001b[0;34m)\u001b[0m\u001b[0;34m*\u001b[0m\u001b[0;34m(\u001b[0m\u001b[0;34m(\u001b[0m\u001b[0;36m1\u001b[0m\u001b[0;34m-\u001b[0m\u001b[0mZ\u001b[0m\u001b[0;34m)\u001b[0m\u001b[0;34m/\u001b[0m\u001b[0mZ\u001b[0m\u001b[0;34m)\u001b[0m\u001b[0;34m**\u001b[0m\u001b[0mnu\u001b[0m\u001b[0;34m)\u001b[0m\u001b[0;34m\u001b[0m\u001b[0m\n\u001b[1;32m      2\u001b[0m \u001b[0mvarphi_eqn2\u001b[0m\u001b[0;34m.\u001b[0m\u001b[0mrhs\u001b[0m\u001b[0;34m.\u001b[0m\u001b[0msubs\u001b[0m\u001b[0;34m(\u001b[0m\u001b[0mnu\u001b[0m\u001b[0;34m,\u001b[0m\u001b[0mnu\u001b[0m\u001b[0;34m+\u001b[0m\u001b[0;36m1\u001b[0m\u001b[0;34m)\u001b[0m\u001b[0;34m.\u001b[0m\u001b[0msubs\u001b[0m\u001b[0;34m(\u001b[0m\u001b[0mZ\u001b[0m\u001b[0;34m,\u001b[0m\u001b[0mZ\u001b[0m\u001b[0;34m+\u001b[0m\u001b[0mZ_0\u001b[0m\u001b[0;34m)\u001b[0m\u001b[0;34m\u001b[0m\u001b[0m\n\u001b[0;32m----> 3\u001b[0;31m \u001b[0msy\u001b[0m\u001b[0;34m.\u001b[0m\u001b[0mintegrate\u001b[0m\u001b[0;34m(\u001b[0m \u001b[0mvarphi_eqn2\u001b[0m\u001b[0;34m.\u001b[0m\u001b[0mrhs\u001b[0m\u001b[0;34m.\u001b[0m\u001b[0msubs\u001b[0m\u001b[0;34m(\u001b[0m\u001b[0mnu\u001b[0m\u001b[0;34m,\u001b[0m\u001b[0mnu\u001b[0m\u001b[0;34m+\u001b[0m\u001b[0;36m1\u001b[0m\u001b[0;34m)\u001b[0m\u001b[0;34m.\u001b[0m\u001b[0msubs\u001b[0m\u001b[0;34m(\u001b[0m\u001b[0mZ\u001b[0m\u001b[0;34m,\u001b[0m\u001b[0mZ\u001b[0m\u001b[0;34m+\u001b[0m\u001b[0mZ_0\u001b[0m\u001b[0;34m)\u001b[0m \u001b[0;34m,\u001b[0m\u001b[0mZ\u001b[0m\u001b[0;34m)\u001b[0m\u001b[0;34m\u001b[0m\u001b[0m\n\u001b[0m",
      "\u001b[0;32m/opt/local/Library/Frameworks/Python.framework/Versions/3.6/lib/python3.6/site-packages/sympy/integrals/integrals.py\u001b[0m in \u001b[0;36mintegrate\u001b[0;34m(*args, **kwargs)\u001b[0m\n\u001b[1;32m   1463\u001b[0m     \u001b[0;32mif\u001b[0m \u001b[0misinstance\u001b[0m\u001b[0;34m(\u001b[0m\u001b[0mintegral\u001b[0m\u001b[0;34m,\u001b[0m \u001b[0mIntegral\u001b[0m\u001b[0;34m)\u001b[0m\u001b[0;34m:\u001b[0m\u001b[0;34m\u001b[0m\u001b[0m\n\u001b[1;32m   1464\u001b[0m         return integral.doit(deep=False, meijerg=meijerg, conds=conds,\n\u001b[0;32m-> 1465\u001b[0;31m                              risch=risch, manual=manual)\n\u001b[0m\u001b[1;32m   1466\u001b[0m     \u001b[0;32melse\u001b[0m\u001b[0;34m:\u001b[0m\u001b[0;34m\u001b[0m\u001b[0m\n\u001b[1;32m   1467\u001b[0m         \u001b[0;32mreturn\u001b[0m \u001b[0mintegral\u001b[0m\u001b[0;34m\u001b[0m\u001b[0m\n",
      "\u001b[0;32m/opt/local/Library/Frameworks/Python.framework/Versions/3.6/lib/python3.6/site-packages/sympy/integrals/integrals.py\u001b[0m in \u001b[0;36mdoit\u001b[0;34m(self, **hints)\u001b[0m\n\u001b[1;32m    536\u001b[0m                 \u001b[0;32melse\u001b[0m\u001b[0;34m:\u001b[0m\u001b[0;34m\u001b[0m\u001b[0m\n\u001b[1;32m    537\u001b[0m                     antideriv = self._eval_integral(\n\u001b[0;32m--> 538\u001b[0;31m                         function, xab[0], **eval_kwargs)\n\u001b[0m\u001b[1;32m    539\u001b[0m                     \u001b[0;32mif\u001b[0m \u001b[0mantideriv\u001b[0m \u001b[0;32mis\u001b[0m \u001b[0;32mNone\u001b[0m \u001b[0;32mand\u001b[0m \u001b[0mmeijerg\u001b[0m \u001b[0;32mis\u001b[0m \u001b[0;32mTrue\u001b[0m\u001b[0;34m:\u001b[0m\u001b[0;34m\u001b[0m\u001b[0m\n\u001b[1;32m    540\u001b[0m                         \u001b[0mret\u001b[0m \u001b[0;34m=\u001b[0m \u001b[0mtry_meijerg\u001b[0m\u001b[0;34m(\u001b[0m\u001b[0mfunction\u001b[0m\u001b[0;34m,\u001b[0m \u001b[0mxab\u001b[0m\u001b[0;34m)\u001b[0m\u001b[0;34m\u001b[0m\u001b[0m\n",
      "\u001b[0;32m/opt/local/Library/Frameworks/Python.framework/Versions/3.6/lib/python3.6/site-packages/sympy/integrals/integrals.py\u001b[0m in \u001b[0;36m_eval_integral\u001b[0;34m(self, f, x, meijerg, risch, manual, conds)\u001b[0m\n\u001b[1;32m    987\u001b[0m                 \u001b[0;32mtry\u001b[0m\u001b[0;34m:\u001b[0m\u001b[0;34m\u001b[0m\u001b[0m\n\u001b[1;32m    988\u001b[0m                     \u001b[0;32mif\u001b[0m \u001b[0mconds\u001b[0m \u001b[0;34m==\u001b[0m \u001b[0;34m'piecewise'\u001b[0m\u001b[0;34m:\u001b[0m\u001b[0;34m\u001b[0m\u001b[0m\n\u001b[0;32m--> 989\u001b[0;31m                         \u001b[0mh\u001b[0m \u001b[0;34m=\u001b[0m \u001b[0mheurisch_wrapper\u001b[0m\u001b[0;34m(\u001b[0m\u001b[0mg\u001b[0m\u001b[0;34m,\u001b[0m \u001b[0mx\u001b[0m\u001b[0;34m,\u001b[0m \u001b[0mhints\u001b[0m\u001b[0;34m=\u001b[0m\u001b[0;34m[\u001b[0m\u001b[0;34m]\u001b[0m\u001b[0;34m)\u001b[0m\u001b[0;34m\u001b[0m\u001b[0m\n\u001b[0m\u001b[1;32m    990\u001b[0m                     \u001b[0;32melse\u001b[0m\u001b[0;34m:\u001b[0m\u001b[0;34m\u001b[0m\u001b[0m\n\u001b[1;32m    991\u001b[0m                         \u001b[0mh\u001b[0m \u001b[0;34m=\u001b[0m \u001b[0mheurisch\u001b[0m\u001b[0;34m(\u001b[0m\u001b[0mg\u001b[0m\u001b[0;34m,\u001b[0m \u001b[0mx\u001b[0m\u001b[0;34m,\u001b[0m \u001b[0mhints\u001b[0m\u001b[0;34m=\u001b[0m\u001b[0;34m[\u001b[0m\u001b[0;34m]\u001b[0m\u001b[0;34m)\u001b[0m\u001b[0;34m\u001b[0m\u001b[0m\n",
      "\u001b[0;32m/opt/local/Library/Frameworks/Python.framework/Versions/3.6/lib/python3.6/site-packages/sympy/integrals/heurisch.py\u001b[0m in \u001b[0;36mheurisch_wrapper\u001b[0;34m(f, x, rewrite, hints, mappings, retries, degree_offset, unnecessary_permutations)\u001b[0m\n\u001b[1;32m    130\u001b[0m \u001b[0;34m\u001b[0m\u001b[0m\n\u001b[1;32m    131\u001b[0m     res = heurisch(f, x, rewrite, hints, mappings, retries, degree_offset,\n\u001b[0;32m--> 132\u001b[0;31m                    unnecessary_permutations)\n\u001b[0m\u001b[1;32m    133\u001b[0m     \u001b[0;32mif\u001b[0m \u001b[0;32mnot\u001b[0m \u001b[0misinstance\u001b[0m\u001b[0;34m(\u001b[0m\u001b[0mres\u001b[0m\u001b[0;34m,\u001b[0m \u001b[0mBasic\u001b[0m\u001b[0;34m)\u001b[0m\u001b[0;34m:\u001b[0m\u001b[0;34m\u001b[0m\u001b[0m\n\u001b[1;32m    134\u001b[0m         \u001b[0;32mreturn\u001b[0m \u001b[0mres\u001b[0m\u001b[0;34m\u001b[0m\u001b[0m\n",
      "\u001b[0;32m/opt/local/Library/Frameworks/Python.framework/Versions/3.6/lib/python3.6/site-packages/sympy/integrals/heurisch.py\u001b[0m in \u001b[0;36mheurisch\u001b[0;34m(f, x, rewrite, hints, mappings, retries, degree_offset, unnecessary_permutations)\u001b[0m\n\u001b[1;32m    700\u001b[0m \u001b[0;34m\u001b[0m\u001b[0m\n\u001b[1;32m    701\u001b[0m     \u001b[0;32mif\u001b[0m \u001b[0;32mnot\u001b[0m \u001b[0;34m(\u001b[0m\u001b[0mF\u001b[0m\u001b[0;34m.\u001b[0m\u001b[0mfree_symbols\u001b[0m \u001b[0;34m-\u001b[0m \u001b[0mset\u001b[0m\u001b[0;34m(\u001b[0m\u001b[0mV\u001b[0m\u001b[0;34m)\u001b[0m\u001b[0;34m)\u001b[0m\u001b[0;34m:\u001b[0m\u001b[0;34m\u001b[0m\u001b[0m\n\u001b[0;32m--> 702\u001b[0;31m         \u001b[0msolution\u001b[0m \u001b[0;34m=\u001b[0m \u001b[0m_integrate\u001b[0m\u001b[0;34m(\u001b[0m\u001b[0;34m'Q'\u001b[0m\u001b[0;34m)\u001b[0m\u001b[0;34m\u001b[0m\u001b[0m\n\u001b[0m\u001b[1;32m    703\u001b[0m \u001b[0;34m\u001b[0m\u001b[0m\n\u001b[1;32m    704\u001b[0m         \u001b[0;32mif\u001b[0m \u001b[0msolution\u001b[0m \u001b[0;32mis\u001b[0m \u001b[0;32mNone\u001b[0m\u001b[0;34m:\u001b[0m\u001b[0;34m\u001b[0m\u001b[0m\n",
      "\u001b[0;32m/opt/local/Library/Frameworks/Python.framework/Versions/3.6/lib/python3.6/site-packages/sympy/integrals/heurisch.py\u001b[0m in \u001b[0;36m_integrate\u001b[0;34m(field)\u001b[0m\n\u001b[1;32m    691\u001b[0m         \u001b[0;32mexcept\u001b[0m \u001b[0mValueError\u001b[0m\u001b[0;34m:\u001b[0m\u001b[0;34m\u001b[0m\u001b[0m\n\u001b[1;32m    692\u001b[0m             \u001b[0;32mraise\u001b[0m \u001b[0mPolynomialError\u001b[0m\u001b[0;34m\u001b[0m\u001b[0m\n\u001b[0;32m--> 693\u001b[0;31m         \u001b[0msolution\u001b[0m \u001b[0;34m=\u001b[0m \u001b[0msolve_lin_sys\u001b[0m\u001b[0;34m(\u001b[0m\u001b[0mnumer\u001b[0m\u001b[0;34m.\u001b[0m\u001b[0mcoeffs\u001b[0m\u001b[0;34m(\u001b[0m\u001b[0;34m)\u001b[0m\u001b[0;34m,\u001b[0m \u001b[0mcoeff_ring\u001b[0m\u001b[0;34m,\u001b[0m \u001b[0m_raw\u001b[0m\u001b[0;34m=\u001b[0m\u001b[0;32mFalse\u001b[0m\u001b[0;34m)\u001b[0m\u001b[0;34m\u001b[0m\u001b[0m\n\u001b[0m\u001b[1;32m    694\u001b[0m \u001b[0;34m\u001b[0m\u001b[0m\n\u001b[1;32m    695\u001b[0m         \u001b[0;32mif\u001b[0m \u001b[0msolution\u001b[0m \u001b[0;32mis\u001b[0m \u001b[0;32mNone\u001b[0m\u001b[0;34m:\u001b[0m\u001b[0;34m\u001b[0m\u001b[0m\n",
      "\u001b[0;32m/opt/local/Library/Frameworks/Python.framework/Versions/3.6/lib/python3.6/site-packages/sympy/polys/solvers.py\u001b[0m in \u001b[0;36msolve_lin_sys\u001b[0;34m(eqs, ring, _raw)\u001b[0m\n\u001b[1;32m     40\u001b[0m \u001b[0;34m\u001b[0m\u001b[0m\n\u001b[1;32m     41\u001b[0m     \u001b[0;31m# solve by row-reduction\u001b[0m\u001b[0;34m\u001b[0m\u001b[0;34m\u001b[0m\u001b[0m\n\u001b[0;32m---> 42\u001b[0;31m     \u001b[0mechelon\u001b[0m\u001b[0;34m,\u001b[0m \u001b[0mpivots\u001b[0m \u001b[0;34m=\u001b[0m \u001b[0mmatrix\u001b[0m\u001b[0;34m.\u001b[0m\u001b[0mrref\u001b[0m\u001b[0;34m(\u001b[0m\u001b[0miszerofunc\u001b[0m\u001b[0;34m=\u001b[0m\u001b[0;32mlambda\u001b[0m \u001b[0mx\u001b[0m\u001b[0;34m:\u001b[0m \u001b[0;32mnot\u001b[0m \u001b[0mx\u001b[0m\u001b[0;34m,\u001b[0m \u001b[0msimplify\u001b[0m\u001b[0;34m=\u001b[0m\u001b[0;32mlambda\u001b[0m \u001b[0mx\u001b[0m\u001b[0;34m:\u001b[0m \u001b[0mx\u001b[0m\u001b[0;34m)\u001b[0m\u001b[0;34m\u001b[0m\u001b[0m\n\u001b[0m\u001b[1;32m     43\u001b[0m \u001b[0;34m\u001b[0m\u001b[0m\n\u001b[1;32m     44\u001b[0m     \u001b[0;31m# construct the returnable form of the solutions\u001b[0m\u001b[0;34m\u001b[0m\u001b[0;34m\u001b[0m\u001b[0m\n",
      "\u001b[0;32m/opt/local/Library/Frameworks/Python.framework/Versions/3.6/lib/python3.6/site-packages/sympy/matrices/matrices.py\u001b[0m in \u001b[0;36mrref\u001b[0;34m(self, iszerofunc, simplify, pivots, normalize_last)\u001b[0m\n\u001b[1;32m    891\u001b[0m         ret, pivot_cols = self._eval_rref(iszerofunc=iszerofunc,\n\u001b[1;32m    892\u001b[0m                                           \u001b[0msimpfunc\u001b[0m\u001b[0;34m=\u001b[0m\u001b[0msimpfunc\u001b[0m\u001b[0;34m,\u001b[0m\u001b[0;34m\u001b[0m\u001b[0m\n\u001b[0;32m--> 893\u001b[0;31m                                           normalize_last=normalize_last)\n\u001b[0m\u001b[1;32m    894\u001b[0m         \u001b[0;32mif\u001b[0m \u001b[0mpivots\u001b[0m\u001b[0;34m:\u001b[0m\u001b[0;34m\u001b[0m\u001b[0m\n\u001b[1;32m    895\u001b[0m             \u001b[0mret\u001b[0m \u001b[0;34m=\u001b[0m \u001b[0;34m(\u001b[0m\u001b[0mret\u001b[0m\u001b[0;34m,\u001b[0m \u001b[0mpivot_cols\u001b[0m\u001b[0;34m)\u001b[0m\u001b[0;34m\u001b[0m\u001b[0m\n",
      "\u001b[0;32m/opt/local/Library/Frameworks/Python.framework/Versions/3.6/lib/python3.6/site-packages/sympy/matrices/matrices.py\u001b[0m in \u001b[0;36m_eval_rref\u001b[0;34m(self, iszerofunc, simpfunc, normalize_last)\u001b[0m\n\u001b[1;32m    546\u001b[0m         reduced, pivot_cols, swaps = self._row_reduce(iszerofunc, simpfunc,\n\u001b[1;32m    547\u001b[0m                                                       \u001b[0mnormalize_last\u001b[0m\u001b[0;34m,\u001b[0m \u001b[0mnormalize\u001b[0m\u001b[0;34m=\u001b[0m\u001b[0;32mTrue\u001b[0m\u001b[0;34m,\u001b[0m\u001b[0;34m\u001b[0m\u001b[0m\n\u001b[0;32m--> 548\u001b[0;31m                                                       zero_above=True)\n\u001b[0m\u001b[1;32m    549\u001b[0m         \u001b[0;32mreturn\u001b[0m \u001b[0mreduced\u001b[0m\u001b[0;34m,\u001b[0m \u001b[0mpivot_cols\u001b[0m\u001b[0;34m\u001b[0m\u001b[0m\n\u001b[1;32m    550\u001b[0m \u001b[0;34m\u001b[0m\u001b[0m\n",
      "\u001b[0;32m/opt/local/Library/Frameworks/Python.framework/Versions/3.6/lib/python3.6/site-packages/sympy/matrices/matrices.py\u001b[0m in \u001b[0;36m_row_reduce\u001b[0;34m(self, iszerofunc, simpfunc, normalize_last, normalize, zero_above)\u001b[0m\n\u001b[1;32m    702\u001b[0m                     \u001b[0;32mcontinue\u001b[0m\u001b[0;34m\u001b[0m\u001b[0m\n\u001b[1;32m    703\u001b[0m \u001b[0;34m\u001b[0m\u001b[0m\n\u001b[0;32m--> 704\u001b[0;31m                 \u001b[0mcross_cancel\u001b[0m\u001b[0;34m(\u001b[0m\u001b[0mpivot_val\u001b[0m\u001b[0;34m,\u001b[0m \u001b[0mrow\u001b[0m\u001b[0;34m,\u001b[0m \u001b[0mval\u001b[0m\u001b[0;34m,\u001b[0m \u001b[0mpiv_row\u001b[0m\u001b[0;34m)\u001b[0m\u001b[0;34m\u001b[0m\u001b[0m\n\u001b[0m\u001b[1;32m    705\u001b[0m             \u001b[0mpiv_row\u001b[0m \u001b[0;34m+=\u001b[0m \u001b[0;36m1\u001b[0m\u001b[0;34m\u001b[0m\u001b[0m\n\u001b[1;32m    706\u001b[0m \u001b[0;34m\u001b[0m\u001b[0m\n",
      "\u001b[0;32m/opt/local/Library/Frameworks/Python.framework/Versions/3.6/lib/python3.6/site-packages/sympy/matrices/matrices.py\u001b[0m in \u001b[0;36mcross_cancel\u001b[0;34m(a, i, b, j)\u001b[0m\n\u001b[1;32m    653\u001b[0m             \u001b[0mq\u001b[0m \u001b[0;34m=\u001b[0m \u001b[0;34m(\u001b[0m\u001b[0mj\u001b[0m \u001b[0;34m-\u001b[0m \u001b[0mi\u001b[0m\u001b[0;34m)\u001b[0m\u001b[0;34m*\u001b[0m\u001b[0mcols\u001b[0m\u001b[0;34m\u001b[0m\u001b[0m\n\u001b[1;32m    654\u001b[0m             \u001b[0;32mfor\u001b[0m \u001b[0mp\u001b[0m \u001b[0;32min\u001b[0m \u001b[0mrange\u001b[0m\u001b[0;34m(\u001b[0m\u001b[0mi\u001b[0m\u001b[0;34m*\u001b[0m\u001b[0mcols\u001b[0m\u001b[0;34m,\u001b[0m \u001b[0;34m(\u001b[0m\u001b[0mi\u001b[0m \u001b[0;34m+\u001b[0m \u001b[0;36m1\u001b[0m\u001b[0;34m)\u001b[0m\u001b[0;34m*\u001b[0m\u001b[0mcols\u001b[0m\u001b[0;34m)\u001b[0m\u001b[0;34m:\u001b[0m\u001b[0;34m\u001b[0m\u001b[0m\n\u001b[0;32m--> 655\u001b[0;31m                 \u001b[0mmat\u001b[0m\u001b[0;34m[\u001b[0m\u001b[0mp\u001b[0m\u001b[0;34m]\u001b[0m \u001b[0;34m=\u001b[0m \u001b[0ma\u001b[0m\u001b[0;34m*\u001b[0m\u001b[0mmat\u001b[0m\u001b[0;34m[\u001b[0m\u001b[0mp\u001b[0m\u001b[0;34m]\u001b[0m \u001b[0;34m-\u001b[0m \u001b[0mb\u001b[0m\u001b[0;34m*\u001b[0m\u001b[0mmat\u001b[0m\u001b[0;34m[\u001b[0m\u001b[0mp\u001b[0m \u001b[0;34m+\u001b[0m \u001b[0mq\u001b[0m\u001b[0;34m]\u001b[0m\u001b[0;34m\u001b[0m\u001b[0m\n\u001b[0m\u001b[1;32m    656\u001b[0m \u001b[0;34m\u001b[0m\u001b[0m\n\u001b[1;32m    657\u001b[0m         \u001b[0mpiv_row\u001b[0m\u001b[0;34m,\u001b[0m \u001b[0mpiv_col\u001b[0m \u001b[0;34m=\u001b[0m \u001b[0;36m0\u001b[0m\u001b[0;34m,\u001b[0m \u001b[0;36m0\u001b[0m\u001b[0;34m\u001b[0m\u001b[0m\n",
      "\u001b[0;32m/opt/local/Library/Frameworks/Python.framework/Versions/3.6/lib/python3.6/site-packages/sympy/polys/fields.py\u001b[0m in \u001b[0;36m__mul__\u001b[0;34m(f, g)\u001b[0m\n\u001b[1;32m    470\u001b[0m             \u001b[0;32mreturn\u001b[0m \u001b[0mfield\u001b[0m\u001b[0;34m.\u001b[0m\u001b[0mzero\u001b[0m\u001b[0;34m\u001b[0m\u001b[0m\n\u001b[1;32m    471\u001b[0m         \u001b[0;32melif\u001b[0m \u001b[0misinstance\u001b[0m\u001b[0;34m(\u001b[0m\u001b[0mg\u001b[0m\u001b[0;34m,\u001b[0m \u001b[0mfield\u001b[0m\u001b[0;34m.\u001b[0m\u001b[0mdtype\u001b[0m\u001b[0;34m)\u001b[0m\u001b[0;34m:\u001b[0m\u001b[0;34m\u001b[0m\u001b[0m\n\u001b[0;32m--> 472\u001b[0;31m             \u001b[0;32mreturn\u001b[0m \u001b[0mf\u001b[0m\u001b[0;34m.\u001b[0m\u001b[0mnew\u001b[0m\u001b[0;34m(\u001b[0m\u001b[0mf\u001b[0m\u001b[0;34m.\u001b[0m\u001b[0mnumer\u001b[0m\u001b[0;34m*\u001b[0m\u001b[0mg\u001b[0m\u001b[0;34m.\u001b[0m\u001b[0mnumer\u001b[0m\u001b[0;34m,\u001b[0m \u001b[0mf\u001b[0m\u001b[0;34m.\u001b[0m\u001b[0mdenom\u001b[0m\u001b[0;34m*\u001b[0m\u001b[0mg\u001b[0m\u001b[0;34m.\u001b[0m\u001b[0mdenom\u001b[0m\u001b[0;34m)\u001b[0m\u001b[0;34m\u001b[0m\u001b[0m\n\u001b[0m\u001b[1;32m    473\u001b[0m         \u001b[0;32melif\u001b[0m \u001b[0misinstance\u001b[0m\u001b[0;34m(\u001b[0m\u001b[0mg\u001b[0m\u001b[0;34m,\u001b[0m \u001b[0mfield\u001b[0m\u001b[0;34m.\u001b[0m\u001b[0mring\u001b[0m\u001b[0;34m.\u001b[0m\u001b[0mdtype\u001b[0m\u001b[0;34m)\u001b[0m\u001b[0;34m:\u001b[0m\u001b[0;34m\u001b[0m\u001b[0m\n\u001b[1;32m    474\u001b[0m             \u001b[0;32mreturn\u001b[0m \u001b[0mf\u001b[0m\u001b[0;34m.\u001b[0m\u001b[0mnew\u001b[0m\u001b[0;34m(\u001b[0m\u001b[0mf\u001b[0m\u001b[0;34m.\u001b[0m\u001b[0mnumer\u001b[0m\u001b[0;34m*\u001b[0m\u001b[0mg\u001b[0m\u001b[0;34m,\u001b[0m \u001b[0mf\u001b[0m\u001b[0;34m.\u001b[0m\u001b[0mdenom\u001b[0m\u001b[0;34m)\u001b[0m\u001b[0;34m\u001b[0m\u001b[0m\n",
      "\u001b[0;32m/opt/local/Library/Frameworks/Python.framework/Versions/3.6/lib/python3.6/site-packages/sympy/polys/rings.py\u001b[0m in \u001b[0;36m__mul__\u001b[0;34m(p1, p2)\u001b[0m\n\u001b[1;32m   1087\u001b[0m                 \u001b[0;32mfor\u001b[0m \u001b[0mexp2\u001b[0m\u001b[0;34m,\u001b[0m \u001b[0mv2\u001b[0m \u001b[0;32min\u001b[0m \u001b[0mp2it\u001b[0m\u001b[0;34m:\u001b[0m\u001b[0;34m\u001b[0m\u001b[0m\n\u001b[1;32m   1088\u001b[0m                     \u001b[0mexp\u001b[0m \u001b[0;34m=\u001b[0m \u001b[0mmonomial_mul\u001b[0m\u001b[0;34m(\u001b[0m\u001b[0mexp1\u001b[0m\u001b[0;34m,\u001b[0m \u001b[0mexp2\u001b[0m\u001b[0;34m)\u001b[0m\u001b[0;34m\u001b[0m\u001b[0m\n\u001b[0;32m-> 1089\u001b[0;31m                     \u001b[0mp\u001b[0m\u001b[0;34m[\u001b[0m\u001b[0mexp\u001b[0m\u001b[0;34m]\u001b[0m \u001b[0;34m=\u001b[0m \u001b[0mget\u001b[0m\u001b[0;34m(\u001b[0m\u001b[0mexp\u001b[0m\u001b[0;34m,\u001b[0m \u001b[0mzero\u001b[0m\u001b[0;34m)\u001b[0m \u001b[0;34m+\u001b[0m \u001b[0mv1\u001b[0m\u001b[0;34m*\u001b[0m\u001b[0mv2\u001b[0m\u001b[0;34m\u001b[0m\u001b[0m\n\u001b[0m\u001b[1;32m   1090\u001b[0m             \u001b[0mp\u001b[0m\u001b[0;34m.\u001b[0m\u001b[0mstrip_zero\u001b[0m\u001b[0;34m(\u001b[0m\u001b[0;34m)\u001b[0m\u001b[0;34m\u001b[0m\u001b[0m\n\u001b[1;32m   1091\u001b[0m             \u001b[0;32mreturn\u001b[0m \u001b[0mp\u001b[0m\u001b[0;34m\u001b[0m\u001b[0m\n",
      "\u001b[0;31mKeyboardInterrupt\u001b[0m: "
     ]
    }
   ],
   "source": [
    "varphi_eqn2 = sy.Eq(f_varphi, sy.log(Z/k)*((1-Z)/Z)**nu)\n",
    "varphi_eqn2.rhs.subs(nu,nu+1).subs(Z,Z+Z_0)\n",
    "sy.integrate( varphi_eqn2.rhs.subs(nu,nu+1).subs(Z,Z+Z_0) ,Z)"
   ]
  },
  {
   "cell_type": "code",
   "execution_count": 32,
   "metadata": {},
   "outputs": [
    {
     "data": {
      "image/png": "[encoded data removed]",
      "text/latex": [
       "$$\\frac{\\pi \\nu \\left(\\frac{Z_{0}}{- Z_{0} + 1}\\right)^{\\nu} \\left(- \\log{\\left (Z_{0} \\right )} + \\operatorname{polygamma}{\\left (0,- \\nu + 1 \\right )} - \\gamma + 1\\right)}{\\sin{\\left (\\pi \\nu \\right )}}$$"
      ],
      "text/plain": [
       "             ν                                          \n",
       "    ⎛   Z₀  ⎞                                           \n",
       "π⋅ν⋅⎜───────⎟ ⋅(-log(Z₀) + polygamma(0, -ν + 1) - γ + 1)\n",
       "    ⎝-Z₀ + 1⎠                                           \n",
       "────────────────────────────────────────────────────────\n",
       "                        sin(π⋅ν)                        "
      ]
     },
     "execution_count": 32,
     "metadata": {},
     "output_type": "execute_result"
    }
   ],
   "source": [
    "((Z_0/(1-Z_0))**nu)*(nu*sy.pi/sy.sin(nu*sy.pi))*(\n",
    "    -sy.log(Z_0)+sy.digamma(1-nu)+sy.digamma(2)\n",
    "    +Z_0\n",
    ")"
   ]
  },
  {
   "cell_type": "code",
   "execution_count": 40,
   "metadata": {},
   "outputs": [
    {
     "data": {
      "image/png": "[encoded data removed]",
      "text/latex": [
       "$$\\frac{\\infty \\left(- \\log{\\left (Z \\right )} + \\log{\\left (k \\right )}\\right)}{Z_{0}^{2} - 2 Z_{0} + 1}$$"
      ],
      "text/plain": [
       "∞⋅(-log(Z) + log(k))\n",
       "────────────────────\n",
       "     2              \n",
       "   Z₀  - 2⋅Z₀ + 1   "
      ]
     },
     "execution_count": 40,
     "metadata": {},
     "output_type": "execute_result"
    }
   ],
   "source": [
    "sy.simplify(qss_integral.rhs.subs(nu,2))"
   ]
  },
  {
   "cell_type": "code",
   "execution_count": 25,
   "metadata": {},
   "outputs": [
    {
     "data": {
      "image/png": "[encoded data removed]",
      "text/latex": [
       "$$1.09861228866811$$"
      ],
      "text/plain": [
       "1.09861228866811"
      ]
     },
     "execution_count": 25,
     "metadata": {},
     "output_type": "execute_result"
    }
   ],
   "source": [
    "nZ = 10\n",
    "dZ = 1/nZ\n",
    "k_x = 0.1/30\n",
    "Z_0x = 0.01\n",
    "z_0x = 0.01\n",
    "nu_x = 0.03/(0.4*0.2)\n",
    "# nu_x = 0.06/(0.4*0.2)\n",
    "varphi_lambda(Z_0x,nu_x,k_x,Z_0x)"
   ]
  },
  {
   "cell_type": "code",
   "execution_count": 26,
   "metadata": {},
   "outputs": [
    {
     "data": {
      "image/png": "[encoded data removed]",
      "text/latex": [
       "$$\\operatorname{q_{ss}}{\\left (Z \\right )} = \\frac{Z^{- \\nu + 1} \\left(\\frac{- Z_{0} + 1}{Z_{0}}\\right)^{- \\nu} \\left(\\frac{\\nu {{}_{3}F_{2}\\left(\\begin{matrix} - \\nu + 1, - \\nu + 1, - \\nu + 1 \\\\ - \\nu + 2, - \\nu + 2 \\end{matrix}\\middle| {Z} \\right)}}{- \\nu + 1} - \\left(\\log{\\left (\\frac{Z}{k} \\right )} - 1\\right) {{}_{2}F_{1}\\left(\\begin{matrix} - \\nu + 1, - \\nu \\\\ - \\nu + 2 \\end{matrix}\\middle| {Z} \\right)}\\right)}{\\nu - 1}$$"
      ],
      "text/plain": [
       "                             ⎛   ┌─  ⎛-ν + 1, -ν + 1, -ν + 1 │  ⎞             \n",
       "                          -ν ⎜ν⋅ ├─  ⎜                       │ Z⎟             \n",
       "          -ν + 1 ⎛-Z₀ + 1⎞   ⎜  3╵ 2 ⎝    -ν + 2, -ν + 2     │  ⎠   ⎛   ⎛Z⎞   \n",
       "         Z      ⋅⎜───────⎟  ⋅⎜─────────────────────────────────── - ⎜log⎜─⎟ - \n",
       "                 ⎝   Z₀  ⎠   ⎝               -ν + 1                 ⎝   ⎝k⎠   \n",
       "qₛₛ(Z) = ─────────────────────────────────────────────────────────────────────\n",
       "                                                     ν - 1                    \n",
       "\n",
       "                        ⎞\n",
       "                        ⎟\n",
       " ⎞  ┌─  ⎛-ν + 1, -ν │  ⎞⎟\n",
       "1⎟⋅ ├─  ⎜           │ Z⎟⎟\n",
       " ⎠ 2╵ 1 ⎝  -ν + 2   │  ⎠⎠\n",
       "─────────────────────────\n",
       "                         "
      ]
     },
     "execution_count": 26,
     "metadata": {},
     "output_type": "execute_result"
    }
   ],
   "source": [
    "qss_integral = \\\n",
    "    sy.Eq(f_q_ss,\n",
    "            1/(nu-1) * Z**(1-nu)*(\n",
    "                       nu*sy.hyper([1-nu,1-nu,1-nu],[2-nu,2-nu],Z)/(1-nu)\n",
    "                    - sy.hyper([1-nu,-nu],[2-nu],Z)*(sy.log(Z/k)-1)\n",
    "            )/ ((1-Z_0)/Z_0)**nu)\n",
    "qss_integral\n",
    "qss_lambda = sy.lambdify((Z,nu,k,Z_0),qss_integral.rhs,'sympy')"
   ]
  },
  {
   "cell_type": "code",
   "execution_count": 27,
   "metadata": {},
   "outputs": [
    {
     "data": {
      "image/png": "[encoded data removed]",
      "text/latex": [
       "$$1.38391551825427$$"
      ],
      "text/plain": [
       "1.38391551825427"
      ]
     },
     "execution_count": 27,
     "metadata": {},
     "output_type": "execute_result"
    },
    {
     "data": {
      "image/png": "[encoded data removed]",
      "text/latex": [
       "$$1.3839155182539642$$"
      ],
      "text/plain": [
       "1.3839155182539642"
      ]
     },
     "execution_count": 27,
     "metadata": {},
     "output_type": "execute_result"
    }
   ],
   "source": [
    "delta_Z_x = 0.0001\n",
    "Z_x = 0.1\n",
    "sy.N( \n",
    "   qss_integral.rhs.subs({Z:Z_x+delta_Z_x/2,nu:nu_x,k:k_x,Z_0:Z_0x})\n",
    "  -qss_integral.rhs.subs({Z:Z_x-delta_Z_x/2,nu:nu_x,k:k_x,Z_0:Z_0x})\n",
    "   )/delta_Z_x\n",
    "np.float( (qss_lambda(Z_x+delta_Z_x/2,nu_x,k_x,Z_0x)\n",
    "          -qss_lambda(Z_x-delta_Z_x/2,nu_x,k_x,Z_0x))/delta_Z_x )"
   ]
  },
  {
   "cell_type": "code",
   "execution_count": 34,
   "metadata": {},
   "outputs": [],
   "source": [
    "def qss_portions_dimless(Z,nu,k,Z_0):\n",
    "    qss_upper = sy.N(qss_lambda(1,nu,k,Z_0))\n",
    "    qss_Z     = sy.N(qss_lambda(Z,nu,k,Z_0))\n",
    "    qss_lower = sy.N(qss_lambda(Z_0,nu,k,Z_0))\n",
    "    return np.float((qss_Z-qss_lower)/(Z-Z_0)), np.float((qss_upper-qss_lower)/(1-(Z-Z_0)))\n",
    "def qss_portions(d,z,nu,k,z_0):\n",
    "    return qss_portions_dimless(z/d,nu,k,z_0/d)"
   ]
  },
  {
   "cell_type": "code",
   "execution_count": 35,
   "metadata": {},
   "outputs": [
    {
     "data": {
      "image/png": "[encoded data removed]",
      "text/latex": [
       "$$\\left ( 1.4141248765527956, \\quad 0.9664211572611716\\right )$$"
      ],
      "text/plain": [
       "(1.4141248765527956, 0.9664211572611716)"
      ]
     },
     "execution_count": 35,
     "metadata": {},
     "output_type": "execute_result"
    },
    {
     "data": {
      "image/png": "[encoded data removed]",
      "text/latex": [
       "$$\\left ( 1.4141248765527956, \\quad 0.9664211572611716\\right )$$"
      ],
      "text/plain": [
       "(1.4141248765527956, 0.9664211572611716)"
      ]
     },
     "execution_count": 35,
     "metadata": {},
     "output_type": "execute_result"
    }
   ],
   "source": [
    "d_x = 1\n",
    "qss_portions_dimless(Z_x,nu_x,k_x,Z_0x)\n",
    "qss_portions(d_x,Z_x*d_x,nu_x,k_x,Z_0x*d_x)"
   ]
  },
  {
   "cell_type": "code",
   "execution_count": 33,
   "metadata": {},
   "outputs": [
    {
     "data": {
      "image/png": "[encoded data removed]",
      "text/latex": [
       "$$q_{w} = 0.966421157261172$$"
      ],
      "text/plain": [
       "q_w = 0.966421157261172"
      ]
     },
     "execution_count": 33,
     "metadata": {},
     "output_type": "execute_result"
    },
    {
     "data": {
      "image/png": "[encoded data removed]",
      "text/latex": [
       "$$q_{c} = 1.4141248765528$$"
      ],
      "text/plain": [
       "q_c = 1.4141248765528"
      ]
     },
     "execution_count": 33,
     "metadata": {},
     "output_type": "execute_result"
    }
   ],
   "source": [
    "q_cx, q_wx = qss_portions(d_x,Z_x*d_x,nu_x,k_x,Z_0x*d_x)\n",
    "sy.Eq(q_w, q_wx)\n",
    "sy.Eq(q_c, q_cx)"
   ]
  },
  {
   "cell_type": "markdown",
   "metadata": {
    "slideshow": {
     "slide_type": "slide"
    }
   },
   "source": [
    "## Numerical exploration"
   ]
  },
  {
   "cell_type": "markdown",
   "metadata": {
    "slideshow": {
     "slide_type": "slide"
    }
   },
   "source": [
    "### Parameters"
   ]
  },
  {
   "cell_type": "code",
   "execution_count": null,
   "metadata": {},
   "outputs": [],
   "source": [
    "cm.set_params(  {chi:0} )\n",
    "cm.set_params(  {theta:cm.pi/4, Omega_r:10} )\n",
    "cm.set_params(  {epsilon_r:0.1} )\n",
    "cm.set_params(  {u_i:5,d_i:30} )\n",
    "cm.get_params()"
   ]
  },
  {
   "cell_type": "markdown",
   "metadata": {
    "slideshow": {
     "slide_type": "slide"
    }
   },
   "source": [
    "### Channel base width and wall tilt evolution: $\\{\\dot{w},\\dot\\theta\\}(t)$"
   ]
  },
  {
   "cell_type": "code",
   "execution_count": null,
   "metadata": {
    "scrolled": true
   },
   "outputs": [],
   "source": [
    "cm.set_params(  {Q:250,mu:0.2,eta:2} )\n",
    "cm.get_params()\n",
    "w_range = (0.1,300)\n",
    "import numpy as np\n",
    "(ode_integrations_list, t_w_chi_beta0_vecs_list, \n",
    " w_chi_beta0_interp_as_t_list, t_w_chi_beta0_resampled_vecs_list) \\\n",
    "  = cm.ode_integrate_w_chi_beta0(t_span=[0.0,1500],\n",
    "                                 initial_state=np.array([50,0.05,0.001]))"
   ]
  },
  {
   "cell_type": "code",
   "execution_count": null,
   "metadata": {
    "scrolled": false
   },
   "outputs": [],
   "source": [
    "t_w_chi_beta0_resampled_vecs_list.round(4)\n",
    "np.mean(t_w_chi_beta0_resampled_vecs_list[:,3])\n",
    "cm.get_params({beta_0:None, Q:None})"
   ]
  },
  {
   "cell_type": "code",
   "execution_count": null,
   "metadata": {
    "scrolled": true
   },
   "outputs": [],
   "source": [
    "cm.reset_params()\n",
    "cm.set_params(  {Q:3000,mu:1,eta:2} )\n",
    "cm.get_params()\n",
    "w_range = (0.1,300)\n",
    "import numpy as np\n",
    "(ode_integrations_list, t_w_chi_beta0_vecs_list, \n",
    " w_chi_beta0_interp_as_t_list, t_w_chi_beta0_resampled_vecs_list) \\\n",
    "  = cm.ode_integrate_w_chi_beta0(t_span=[0.0,1500],\n",
    "                                 initial_state=np.array([50,0.05,0.001]))"
   ]
  },
  {
   "cell_type": "code",
   "execution_count": null,
   "metadata": {},
   "outputs": [],
   "source": [
    "t_w_chi_beta0_resampled_vecs_list.round(4)\n",
    "np.mean(t_w_chi_beta0_resampled_vecs_list[:,3])\n",
    "cm.get_params({beta_0:5, Q:None})\n",
    "cm.get_params()"
   ]
  },
  {
   "cell_type": "code",
   "execution_count": null,
   "metadata": {},
   "outputs": [],
   "source": [
    "plt.plot(t_w_chi_beta0_resampled_vecs_list[:,0],\n",
    "         t_w_chi_beta0_resampled_vecs_list[:,3]);"
   ]
  },
  {
   "cell_type": "code",
   "execution_count": null,
   "metadata": {},
   "outputs": [],
   "source": []
  },
  {
   "cell_type": "code",
   "execution_count": null,
   "metadata": {},
   "outputs": [],
   "source": []
  }
 ],
 "metadata": {
  "hide_input": false,
  "kernelspec": {
   "display_name": "Python 3",
   "language": "python",
   "name": "python3"
  },
  "language_info": {
   "codemirror_mode": {
    "name": "ipython",
    "version": 3
   },
   "file_extension": ".py",
   "mimetype": "text/x-python",
   "name": "python",
   "nbconvert_exporter": "python",
   "pygments_lexer": "ipython3",
   "version": "3.6.6"
  },
  "toc": {
   "colors": {
    "hover_highlight": "#daa520",
    "navigate_num": "#000000",
    "navigate_text": "#333333",
    "running_highlight": "#FF0000",
    "selected_highlight": "#FFD700",
    "sidebar_border": "#EEEEEE",
    "wrapper_background": "#FFFFFF"
   },
   "moveMenuLeft": false,
   "nav_menu": {
    "height": "324px",
    "width": "252px"
   },
   "navigate_menu": true,
   "number_sections": true,
   "sideBar": true,
   "threshold": "2",
   "toc_cell": true,
   "toc_position": {
    "height": "998px",
    "left": "0px",
    "right": "708px",
    "top": "92px",
    "width": "212px"
   },
   "toc_section_display": "block",
   "toc_window_display": false,
   "widenNotebook": false
  }
 },
 "nbformat": 4,
 "nbformat_minor": 2
}
