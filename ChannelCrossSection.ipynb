{
 "cells": [
  {
   "cell_type": "markdown",
   "metadata": {
    "slideshow": {
     "slide_type": "slide"
    }
   },
   "source": [
    "# Channel cross-section evolution\n"
   ]
  },
  {
   "cell_type": "markdown",
   "metadata": {
    "slideshow": {
     "slide_type": "slide"
    }
   },
   "source": [
    "## Python setup"
   ]
  },
  {
   "cell_type": "code",
   "execution_count": 1,
   "metadata": {
    "slideshow": {
     "slide_type": "subslide"
    }
   },
   "outputs": [],
   "source": [
    "import bedrockriver as br, sympy as sy, numpy as np, matplotlib.pyplot as plt\n",
    "sy.init_printing(pretty_print=True,wrap_line=True)\n",
    "from symbols import *"
   ]
  },
  {
   "cell_type": "code",
   "execution_count": 2,
   "metadata": {
    "slideshow": {
     "slide_type": "subslide"
    }
   },
   "outputs": [],
   "source": [
    "sm = br.sinuosity.bend_model()"
   ]
  },
  {
   "cell_type": "markdown",
   "metadata": {
    "slideshow": {
     "slide_type": "slide"
    }
   },
   "source": [
    "## Recipe"
   ]
  },
  {
   "cell_type": "markdown",
   "metadata": {},
   "source": [
    "1. Fix base width $w$, slope $\\beta_0$, sinuosity $\\chi=0$\n",
    "2. Fix wall angle $\\psi=\\pi/2$ thus imposing simple initial rectangular cross-section\n",
    "\n",
    "Loop:\n",
    "3. Compute flow speed $u$ and flow depth $d$\n",
    "4. Compute bedload flux $q_b$\n",
    "5. Compute suspended load flux profile fractions at (i) wall-base corner $q_c$ (ii) remainder above corner $q_w$\n",
    "6. Optionally compute wall & corner weathering rates to modulate their erodibility\n",
    "7. Compute base wear rate $\\xi_b$, corner wear rate $\\xi_c$ and wall wear rate $\\xi_w$\n",
    "8. Compute base-corner vector $\\vec{\\xi}_{bc}$, base-corner vector dip (from vertical) $\\phi$\n",
    "9. Convert into rate of change of base channel width $\\dot{w}$;  secondarily compute base elevation $\\dot{h}$\n",
    "10. Compute wall base-corner-driven motion vector $\\vec{\\xi}_{wc}$ and wall rotation rate $\\dot{\\psi}$\n",
    "11. Time step by $\\Delta{t}$ the ODE system $(\\dot{w}, \\dot{\\psi})$ of rates of change of channel base width and wall dip; secondarily evolve base elevation $\\dot{h}$ \n",
    "12. Repeat"
   ]
  },
  {
   "cell_type": "markdown",
   "metadata": {
    "slideshow": {
     "slide_type": "slide"
    }
   },
   "source": [
    "## Numerical exploration"
   ]
  },
  {
   "cell_type": "markdown",
   "metadata": {
    "slideshow": {
     "slide_type": "slide"
    }
   },
   "source": [
    "### Parameters"
   ]
  },
  {
   "cell_type": "code",
   "execution_count": 3,
   "metadata": {
    "slideshow": {
     "slide_type": "subslide"
    }
   },
   "outputs": [
    {
     "data": {
      "image/png": "[encoded data removed]",
      "text/latex": [
       "$$\\left \\{ C : 0.0316227766016838, \\quad L : 1000.0, \\quad \\Omega_{r} : 10.0, \\quad Q : 1000.0, \\quad R : 1000.0, \\quad U : 1.0, \\quad W : 50.0, \\quad \\beta_{0} : 0.001, \\quad \\chi : 0.1, \\quad d : 2.76, \\quad d_{i} : 50.0, \\quad \\epsilon_{r} : 0.1, \\quad \\eta : 0.5, \\quad \\mu : 0.75, \\quad \\nu : 1.0, \\quad \\theta : 1.0471975511966, \\quad u : 3.125, \\quad u_{c} : 0, \\quad u_{i} : 5.0, \\quad w : 100.0\\right \\}$$"
      ],
      "text/plain": [
       "{C: 0.0316227766016838, L: 1000.0, Ωᵣ: 10.0, Q: 1000.0, R: 1000.0, U: 1.0, W: \n",
       "50.0, β₀: 0.001, χ: 0.1, d: 2.76, dᵢ: 50.0, εᵣ: 0.1, η: 0.5, μ: 0.75, ν: 1.0, \n",
       "θ: 1.0471975511966, u: 3.125, u_c: 0, uᵢ: 5.0, w: 100.0}"
      ]
     },
     "execution_count": 3,
     "metadata": {},
     "output_type": "execute_result"
    }
   ],
   "source": [
    "sm.get_params()"
   ]
  },
  {
   "cell_type": "code",
   "execution_count": 4,
   "metadata": {},
   "outputs": [],
   "source": [
    "sm.set_params(  {theta:sm.pi/4, Omega_r:10} )\n",
    "sm.set_params(  {epsilon_r:0.1} )\n",
    "sm.set_params(  {u_i:5,d_i:30} )"
   ]
  },
  {
   "cell_type": "markdown",
   "metadata": {
    "slideshow": {
     "slide_type": "slide"
    }
   },
   "source": [
    "### Channel base width and wall tilt evolution: $\\{\\dot{w},\\dot\\psi\\}(t)$"
   ]
  },
  {
   "cell_type": "code",
   "execution_count": 5,
   "metadata": {
    "scrolled": true
   },
   "outputs": [
    {
     "data": {
      "image/png": "[encoded data removed]",
      "text/latex": [
       "$$\\left \\{ C : 0.0316227766016838, \\quad L : 1000.0, \\quad \\Omega_{r} : 10.0, \\quad Q : 250.0, \\quad R : 1000.0, \\quad U : 1.0, \\quad W : 50.0, \\quad \\beta_{0} : 0.001, \\quad \\chi : 0.1, \\quad d : 2.76, \\quad d_{i} : 50.0, \\quad \\epsilon_{r} : 0.1, \\quad \\eta : 2.0, \\quad \\mu : 0.2, \\quad \\nu : 1.0, \\quad \\theta : 1.0471975511966, \\quad u : 3.125, \\quad u_{c} : 0, \\quad u_{i} : 5.0, \\quad w : 100.0\\right \\}$$"
      ],
      "text/plain": [
       "{C: 0.0316227766016838, L: 1000.0, Ωᵣ: 10.0, Q: 250.0, R: 1000.0, U: 1.0, W: 5\n",
       "0.0, β₀: 0.001, χ: 0.1, d: 2.76, dᵢ: 50.0, εᵣ: 0.1, η: 2.0, μ: 0.2, ν: 1.0, θ:\n",
       " 1.0471975511966, u: 3.125, u_c: 0, uᵢ: 5.0, w: 100.0}"
      ]
     },
     "execution_count": 5,
     "metadata": {},
     "output_type": "execute_result"
    }
   ],
   "source": [
    "sm.reset_params()\n",
    "sm.set_params(  {Q:250,mu:0.2,eta:2} )\n",
    "sm.get_params()\n",
    "w_range = (0.1,300)\n",
    "import numpy as np\n",
    "(ode_integrations_list, t_w_chi_beta0_vecs_list, \n",
    " w_chi_beta0_interp_as_t_list, t_w_chi_beta0_resampled_vecs_list) \\\n",
    "  = sm.ode_integrate_w_chi_beta0(t_span=[0.0,1500],\n",
    "                                 initial_state=np.array([50,0.05,0.001]))"
   ]
  },
  {
   "cell_type": "code",
   "execution_count": 6,
   "metadata": {
    "scrolled": false
   },
   "outputs": [
    {
     "data": {
      "text/plain": [
       "array([[0.00000e+00, 5.00000e+01, 5.00000e-02, 1.00000e-03],\n",
       "       [7.50000e+01, 3.95683e+01, 5.63000e-02, 1.50000e-03],\n",
       "       [1.50000e+02, 2.99774e+01, 6.31000e-02, 1.90000e-03],\n",
       "       [2.25000e+02, 2.42330e+01, 7.05000e-02, 2.30000e-03],\n",
       "       [3.00000e+02, 2.15351e+01, 7.82000e-02, 2.70000e-03],\n",
       "       [3.75000e+02, 2.00554e+01, 8.63000e-02, 3.00000e-03],\n",
       "       [4.50000e+02, 1.90313e+01, 9.46000e-02, 3.30000e-03],\n",
       "       [5.25000e+02, 1.82372e+01, 1.03200e-01, 3.60000e-03],\n",
       "       [6.00000e+02, 1.75921e+01, 1.12000e-01, 3.90000e-03],\n",
       "       [6.75000e+02, 1.70543e+01, 1.21100e-01, 4.10000e-03],\n",
       "       [7.50000e+02, 1.65966e+01, 1.30300e-01, 4.40000e-03],\n",
       "       [8.25000e+02, 1.62035e+01, 1.39800e-01, 4.60000e-03],\n",
       "       [9.00000e+02, 1.58671e+01, 1.49400e-01, 4.90000e-03],\n",
       "       [9.75000e+02, 1.55695e+01, 1.59200e-01, 5.10000e-03],\n",
       "       [1.05000e+03, 1.53040e+01, 1.69200e-01, 5.30000e-03],\n",
       "       [1.12500e+03, 1.50680e+01, 1.79200e-01, 5.50000e-03],\n",
       "       [1.20000e+03, 1.48564e+01, 1.89500e-01, 5.70000e-03],\n",
       "       [1.27500e+03, 1.46659e+01, 1.99800e-01, 5.90000e-03],\n",
       "       [1.35000e+03, 1.44936e+01, 2.10300e-01, 6.10000e-03],\n",
       "       [1.42500e+03, 1.43383e+01, 2.20900e-01, 6.30000e-03],\n",
       "       [1.50000e+03, 1.41963e+01, 2.31600e-01, 6.40000e-03]])"
      ]
     },
     "execution_count": 6,
     "metadata": {},
     "output_type": "execute_result"
    },
    {
     "data": {
      "image/png": "[encoded data removed]",
      "text/latex": [
       "$$0.004160302790703179$$"
      ],
      "text/plain": [
       "0.004160302790703179"
      ]
     },
     "execution_count": 6,
     "metadata": {},
     "output_type": "execute_result"
    },
    {
     "data": {
      "image/png": "[encoded data removed]",
      "text/latex": [
       "$$\\left \\{ Q : 250.0, \\quad \\beta_{0} : 0.0064465052769972254\\right \\}$$"
      ],
      "text/plain": [
       "{Q: 250.0, β₀: 0.0064465052769972254}"
      ]
     },
     "execution_count": 6,
     "metadata": {},
     "output_type": "execute_result"
    }
   ],
   "source": [
    "t_w_chi_beta0_resampled_vecs_list.round(4)\n",
    "np.mean(t_w_chi_beta0_resampled_vecs_list[:,3])\n",
    "sm.get_params({beta_0:None, Q:None})"
   ]
  },
  {
   "cell_type": "code",
   "execution_count": 7,
   "metadata": {
    "scrolled": true
   },
   "outputs": [
    {
     "data": {
      "image/png": "[encoded data removed]",
      "text/latex": [
       "$$\\left \\{ C : 0.0316227766016838, \\quad L : 1000.0, \\quad \\Omega_{r} : 10.0, \\quad Q : 3000.0, \\quad R : 1000.0, \\quad U : 1.0, \\quad W : 50.0, \\quad \\beta_{0} : 0.001, \\quad \\chi : 0.1, \\quad d : 2.76, \\quad d_{i} : 50.0, \\quad \\epsilon_{r} : 0.1, \\quad \\eta : 2.0, \\quad \\mu : 1.0, \\quad \\nu : 1.0, \\quad \\theta : 1.0471975511966, \\quad u : 3.125, \\quad u_{c} : 0, \\quad u_{i} : 5.0, \\quad w : 100.0\\right \\}$$"
      ],
      "text/plain": [
       "{C: 0.0316227766016838, L: 1000.0, Ωᵣ: 10.0, Q: 3000.0, R: 1000.0, U: 1.0, W: \n",
       "50.0, β₀: 0.001, χ: 0.1, d: 2.76, dᵢ: 50.0, εᵣ: 0.1, η: 2.0, μ: 1.0, ν: 1.0, θ\n",
       ": 1.0471975511966, u: 3.125, u_c: 0, uᵢ: 5.0, w: 100.0}"
      ]
     },
     "execution_count": 7,
     "metadata": {},
     "output_type": "execute_result"
    }
   ],
   "source": [
    "sm.reset_params()\n",
    "sm.set_params(  {Q:3000,mu:1,eta:2} )\n",
    "sm.get_params()\n",
    "w_range = (0.1,300)\n",
    "import numpy as np\n",
    "(ode_integrations_list, t_w_chi_beta0_vecs_list, \n",
    " w_chi_beta0_interp_as_t_list, t_w_chi_beta0_resampled_vecs_list) \\\n",
    "  = sm.ode_integrate_w_chi_beta0(t_span=[0.0,1500],\n",
    "                                 initial_state=np.array([50,0.05,0.001]))"
   ]
  },
  {
   "cell_type": "code",
   "execution_count": 8,
   "metadata": {},
   "outputs": [
    {
     "data": {
      "text/plain": [
       "array([[0.000000e+00, 5.000000e+01, 5.000000e-02, 1.000000e-03],\n",
       "       [7.500000e+01, 3.361739e+02, 1.065900e+00, 4.000000e-04],\n",
       "       [1.500000e+02, 4.485633e+02, 1.858700e+00, 5.000000e-04],\n",
       "       [2.250000e+02, 5.205603e+02, 2.462900e+00, 6.000000e-04],\n",
       "       [3.000000e+02, 5.712727e+02, 2.965400e+00, 7.000000e-04],\n",
       "       [3.750000e+02, 6.089038e+02, 3.403800e+00, 8.000000e-04],\n",
       "       [4.500000e+02, 6.377787e+02, 3.798000e+00, 9.000000e-04],\n",
       "       [5.250000e+02, 6.603850e+02, 4.159400e+00, 1.100000e-03],\n",
       "       [6.000000e+02, 6.781765e+02, 4.494700e+00, 1.200000e-03],\n",
       "       [6.750000e+02, 6.922296e+02, 4.809000e+00, 1.300000e-03],\n",
       "       [7.500000e+02, 7.032362e+02, 5.105300e+00, 1.400000e-03],\n",
       "       [8.250000e+02, 7.120845e+02, 5.387800e+00, 1.500000e-03],\n",
       "       [9.000000e+02, 7.191171e+02, 5.658200e+00, 1.600000e-03],\n",
       "       [9.750000e+02, 7.246092e+02, 5.917700e+00, 1.700000e-03],\n",
       "       [1.050000e+03, 7.288984e+02, 6.167800e+00, 1.800000e-03],\n",
       "       [1.125000e+03, 7.321557e+02, 6.409500e+00, 1.900000e-03],\n",
       "       [1.200000e+03, 7.346393e+02, 6.643900e+00, 1.900000e-03],\n",
       "       [1.275000e+03, 7.364242e+02, 6.871600e+00, 2.000000e-03],\n",
       "       [1.350000e+03, 7.376638e+02, 7.093200e+00, 2.100000e-03],\n",
       "       [1.425000e+03, 7.383895e+02, 7.308900e+00, 2.200000e-03],\n",
       "       [1.500000e+03, 7.387235e+02, 7.519400e+00, 2.200000e-03]])"
      ]
     },
     "execution_count": 8,
     "metadata": {},
     "output_type": "execute_result"
    },
    {
     "data": {
      "image/png": "[encoded data removed]",
      "text/latex": [
       "$$0.0013646862758268635$$"
      ],
      "text/plain": [
       "0.0013646862758268635"
      ]
     },
     "execution_count": 8,
     "metadata": {},
     "output_type": "execute_result"
    },
    {
     "data": {
      "image/png": "[encoded data removed]",
      "text/latex": [
       "$$\\left \\{ Q : 3000.0, \\quad \\beta_{0} : 0.00225\\right \\}$$"
      ],
      "text/plain": [
       "{Q: 3000.0, β₀: 0.00225}"
      ]
     },
     "execution_count": 8,
     "metadata": {},
     "output_type": "execute_result"
    },
    {
     "data": {
      "image/png": "[encoded data removed]",
      "text/latex": [
       "$$\\left \\{ C : 0.0316227766016838, \\quad L : 1000.0, \\quad \\Omega_{r} : 10.0, \\quad Q : 3000.0, \\quad R : 1000.0, \\quad U : 1.0, \\quad W : 50.0, \\quad \\beta_{0} : 0.0022457494300452026, \\quad \\chi : 0.1, \\quad d : 2.76, \\quad d_{i} : 50.0, \\quad \\epsilon_{r} : 0.1, \\quad \\eta : 2.0, \\quad \\mu : 1.0, \\quad \\nu : 1.0, \\quad \\theta : 1.0471975511966, \\quad u : 3.125, \\quad u_{c} : 0, \\quad u_{i} : 5.0, \\quad w : 100.0\\right \\}$$"
      ],
      "text/plain": [
       "{C: 0.0316227766016838, L: 1000.0, Ωᵣ: 10.0, Q: 3000.0, R: 1000.0, U: 1.0, W: \n",
       "50.0, β₀: 0.0022457494300452026, χ: 0.1, d: 2.76, dᵢ: 50.0, εᵣ: 0.1, η: 2.0, μ\n",
       ": 1.0, ν: 1.0, θ: 1.0471975511966, u: 3.125, u_c: 0, uᵢ: 5.0, w: 100.0}"
      ]
     },
     "execution_count": 8,
     "metadata": {},
     "output_type": "execute_result"
    }
   ],
   "source": [
    "t_w_chi_beta0_resampled_vecs_list.round(4)\n",
    "np.mean(t_w_chi_beta0_resampled_vecs_list[:,3])\n",
    "sm.get_params({beta_0:5, Q:None})\n",
    "sm.get_params()"
   ]
  },
  {
   "cell_type": "code",
   "execution_count": 9,
   "metadata": {},
   "outputs": [
    {
     "data": {
      "image/png": "[encoded data removed]",
      "text/plain": [
       "<Figure size 432x288 with 1 Axes>"
      ]
     },
     "metadata": {
      "image/png": {
       "height": 250,
       "width": 399
      },
      "needs_background": "light"
     },
     "output_type": "display_data"
    }
   ],
   "source": [
    "plt.plot(t_w_chi_beta0_resampled_vecs_list[:,0],\n",
    "         t_w_chi_beta0_resampled_vecs_list[:,3]);"
   ]
  },
  {
   "cell_type": "code",
   "execution_count": null,
   "metadata": {},
   "outputs": [],
   "source": []
  },
  {
   "cell_type": "code",
   "execution_count": null,
   "metadata": {},
   "outputs": [],
   "source": []
  }
 ],
 "metadata": {
  "hide_input": false,
  "kernelspec": {
   "display_name": "Python 3",
   "language": "python",
   "name": "python3"
  },
  "language_info": {
   "codemirror_mode": {
    "name": "ipython",
    "version": 3
   },
   "file_extension": ".py",
   "mimetype": "text/x-python",
   "name": "python",
   "nbconvert_exporter": "python",
   "pygments_lexer": "ipython3",
   "version": "3.6.6"
  },
  "toc": {
   "colors": {
    "hover_highlight": "#daa520",
    "navigate_num": "#000000",
    "navigate_text": "#333333",
    "running_highlight": "#FF0000",
    "selected_highlight": "#FFD700",
    "sidebar_border": "#EEEEEE",
    "wrapper_background": "#FFFFFF"
   },
   "moveMenuLeft": false,
   "nav_menu": {
    "height": "324px",
    "width": "252px"
   },
   "navigate_menu": true,
   "number_sections": true,
   "sideBar": true,
   "threshold": "2",
   "toc_cell": true,
   "toc_position": {
    "height": "998px",
    "left": "0px",
    "right": "708px",
    "top": "92px",
    "width": "212px"
   },
   "toc_section_display": "block",
   "toc_window_display": false,
   "widenNotebook": false
  }
 },
 "nbformat": 4,
 "nbformat_minor": 2
}
