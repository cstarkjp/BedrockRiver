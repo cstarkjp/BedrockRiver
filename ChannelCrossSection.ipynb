{
 "cells": [
  {
   "cell_type": "markdown",
   "metadata": {
    "slideshow": {
     "slide_type": "slide"
    }
   },
   "source": [
    "# Channel cross-section evolution\n"
   ]
  },
  {
   "cell_type": "markdown",
   "metadata": {
    "slideshow": {
     "slide_type": "slide"
    }
   },
   "source": [
    "## Python setup"
   ]
  },
  {
   "cell_type": "code",
   "execution_count": 1,
   "metadata": {
    "slideshow": {
     "slide_type": "subslide"
    }
   },
   "outputs": [],
   "source": [
    "import bedrock_river as br, sympy as sy, numpy as np, matplotlib.pyplot as plt\n",
    "from dill.source import getsource\n",
    "sy.init_printing(pretty_print=True,wrap_line=True)\n",
    "from symbols import *"
   ]
  },
  {
   "cell_type": "code",
   "execution_count": 2,
   "metadata": {
    "slideshow": {
     "slide_type": "subslide"
    }
   },
   "outputs": [
    {
     "name": "stdout",
     "output_type": "stream",
     "text": [
      "Initializing open channel flow hydraulics...done\n"
     ]
    }
   ],
   "source": [
    "cm = br.channel.new_model()"
   ]
  },
  {
   "cell_type": "markdown",
   "metadata": {
    "slideshow": {
     "slide_type": "slide"
    }
   },
   "source": [
    "## Recipe"
   ]
  },
  {
   "cell_type": "markdown",
   "metadata": {},
   "source": [
    "1. Fix base width $w$, slope $\\beta_0$, sinuosity $\\chi=0$\n",
    "2. Fix wall angle $\\theta=\\pi/2$ thus imposing simple initial rectangular cross-section (ignoring beveled corners)\n",
    "\n",
    "Loop:\n",
    "3. Compute flow speed $u$ and flow depth $d$\n",
    "4. Compute bedload flux $q_b$\n",
    "5. Compute suspended load flux profile fractions at (i) wall-base corner $q_c$ (ii) remainder above corner $q_w$\n",
    "6. Optionally compute wall & corner weathering rates to modulate their erodibility\n",
    "7. Compute base wear rate $\\xi_b$, corner wear rate $\\xi_c$ and wall wear rate $\\xi_w$\n",
    "8. Compute base-corner vector $\\vec{\\xi}_{bc}$, base-corner vector dip (from vertical) $\\theta$\n",
    "9. Convert into rate of change of base channel width $\\dot{w}$;  secondarily compute base elevation $\\dot{h}$\n",
    "10. Compute wall base-corner-driven motion vector $\\vec{\\xi}_{wc}$ and wall rotation rate $\\dot{\\theta}$\n",
    "11. Time step by $\\Delta{t}$ the ODE system $(\\dot{w}, \\dot{\\theta})$ of rates of change of channel base width and wall dip; secondarily evolve base elevation $\\dot{h}$ \n",
    "12. Repeat"
   ]
  },
  {
   "cell_type": "markdown",
   "metadata": {
    "slideshow": {
     "slide_type": "slide"
    }
   },
   "source": [
    "## Derivation"
   ]
  },
  {
   "cell_type": "markdown",
   "metadata": {
    "slideshow": {
     "slide_type": "slide"
    }
   },
   "source": [
    "### Wall geometry evolution"
   ]
  },
  {
   "cell_type": "markdown",
   "metadata": {},
   "source": [
    "The base-corner vector magnitude is:"
   ]
  },
  {
   "cell_type": "code",
   "execution_count": 3,
   "metadata": {},
   "outputs": [
    {
     "data": {
      "image/png": "[encoded data removed]",
      "text/latex": [
       "$$\\xi_{bc} = \\sqrt{\\xi_{b}^{2} + \\frac{\\left(- \\xi_{b} + \\xi_{c}\\right)^{2}}{2}}$$"
      ],
      "text/plain": [
       "            ______________________\n",
       "           ╱                    2 \n",
       "          ╱     2   (-ξ_b + ξ_c)  \n",
       "ξ_bc =   ╱   ξ_b  + ───────────── \n",
       "       ╲╱                 2       "
      ]
     },
     "execution_count": 3,
     "metadata": {},
     "output_type": "execute_result"
    }
   ],
   "source": [
    "sy.Eq(xi_bc, sy.sqrt(xi_b**2+(xi_c-xi_b)**2/2)) "
   ]
  },
  {
   "cell_type": "markdown",
   "metadata": {},
   "source": [
    "The angle $\\alpha$ between corner-wall vector, with dip $\\phi$ from vertical, and the wall normal, with dip $\\phi$ from horizontal, is:"
   ]
  },
  {
   "cell_type": "code",
   "execution_count": 4,
   "metadata": {},
   "outputs": [
    {
     "data": {
      "image/png": "[encoded data removed]",
      "text/latex": [
       "$$\\alpha = - \\phi + \\theta$$"
      ],
      "text/plain": [
       "α = -φ + θ"
      ]
     },
     "execution_count": 4,
     "metadata": {},
     "output_type": "execute_result"
    },
    {
     "data": {
      "image/png": "[encoded data removed]",
      "text/latex": [
       "$$\\tan{\\left (\\phi \\right )} = \\frac{\\sqrt{2} \\left(- \\xi_{b} + \\xi_{c}\\right)}{2 \\xi_{b}}$$"
      ],
      "text/plain": [
       "         √2⋅(-ξ_b + ξ_c)\n",
       "tan(φ) = ───────────────\n",
       "              2⋅ξ_b     "
      ]
     },
     "execution_count": 4,
     "metadata": {},
     "output_type": "execute_result"
    },
    {
     "data": {
      "image/png": "[encoded data removed]",
      "text/latex": [
       "$$\\cos{\\left (\\phi \\right )} = \\frac{\\xi_{b}}{\\sqrt{\\xi_{b}^{2} + \\frac{\\left(- \\xi_{b} + \\xi_{c}\\right)^{2}}{2}}}$$"
      ],
      "text/plain": [
       "                     ξ_b            \n",
       "cos(φ) = ───────────────────────────\n",
       "              ______________________\n",
       "             ╱                    2 \n",
       "            ╱     2   (-ξ_b + ξ_c)  \n",
       "           ╱   ξ_b  + ───────────── \n",
       "         ╲╱                 2       "
      ]
     },
     "execution_count": 4,
     "metadata": {},
     "output_type": "execute_result"
    }
   ],
   "source": [
    "sy.Eq(alpha,theta-phi)\n",
    "sy.Eq(sy.tan(phi),(xi_c-xi_b)/(sy.sqrt(2)*xi_b))\n",
    "sy.Eq(sy.cos(phi),xi_b/sy.sqrt(xi_b**2+(xi_c-xi_b)**2/2))"
   ]
  },
  {
   "cell_type": "markdown",
   "metadata": {},
   "source": [
    "The difference between the projection of $\\vec{\\xi}_{bc}$ onto the wall-normal direction and the wall-normal erosion rate $\\xi_w$ leads to the rate of change of wall dip $\\dot{\\theta}(t)$:"
   ]
  },
  {
   "cell_type": "code",
   "execution_count": 5,
   "metadata": {},
   "outputs": [
    {
     "data": {
      "image/png": "[encoded data removed]",
      "text/latex": [
       "$$\\dot{\\theta}{\\left (t \\right )} = \\frac{2 \\left(\\xi_{bc} \\cos{\\left (\\phi - \\theta \\right )} - \\xi_{w}\\right)}{h}$$"
      ],
      "text/plain": [
       "                  2⋅(ξ_bc⋅cos(φ - θ) - ξ_w)\n",
       "\\dot{\\theta}(t) = ─────────────────────────\n",
       "                              h            "
      ]
     },
     "execution_count": 5,
     "metadata": {},
     "output_type": "execute_result"
    }
   ],
   "source": [
    "f_dot_theta   = sy.Function('\\dot{\\\\theta}', real=True)(t)\n",
    "sy.Eq(f_dot_theta, (xi_bc*sy.cos(theta-phi)-xi_w)*(2/h))"
   ]
  },
  {
   "cell_type": "markdown",
   "metadata": {},
   "source": [
    "Since we track $\\xi_{bc}(t), \\xi_{w}(t), \\theta(t)$ and since wall height $h(t)$ will be a simple function of (equal to?) flow depth $d(t)$, we have enought to compute $\\dot{\\theta}(t)$ at each time step."
   ]
  },
  {
   "cell_type": "markdown",
   "metadata": {},
   "source": [
    "At steady-state, $\\dot\\theta=0$, thus $\\xi_w=\\xi_{bc}\\cos(\\phi-\\theta_{ss})$, and thus:"
   ]
  },
  {
   "cell_type": "code",
   "execution_count": 6,
   "metadata": {},
   "outputs": [
    {
     "data": {
      "image/png": "[encoded data removed]",
      "text/latex": [
       "$$\\cos{\\left (\\phi - \\theta_{ss} \\right )} = \\frac{\\xi_{w}}{\\sqrt{\\xi_{b}^{2} + \\frac{\\left(- \\xi_{b} + \\xi_{c}\\right)^{2}}{2}}}$$"
      ],
      "text/plain": [
       "                           ξ_w            \n",
       "cos(φ - θₛₛ) = ───────────────────────────\n",
       "                    ______________________\n",
       "                   ╱                    2 \n",
       "                  ╱     2   (-ξ_b + ξ_c)  \n",
       "                 ╱   ξ_b  + ───────────── \n",
       "               ╲╱                 2       "
      ]
     },
     "execution_count": 6,
     "metadata": {},
     "output_type": "execute_result"
    },
    {
     "data": {
      "image/png": "[encoded data removed]",
      "text/latex": [
       "$$\\theta_{ss} = \\phi - \\operatorname{acos}{\\left (\\frac{\\xi_{w}}{\\sqrt{\\xi_{b}^{2} + \\frac{\\left(- \\xi_{b} + \\xi_{c}\\right)^{2}}{2}}} \\right )}$$"
      ],
      "text/plain": [
       "              ⎛            ξ_w            ⎞\n",
       "θₛₛ = φ - acos⎜───────────────────────────⎟\n",
       "              ⎜     ______________________⎟\n",
       "              ⎜    ╱                    2 ⎟\n",
       "              ⎜   ╱     2   (-ξ_b + ξ_c)  ⎟\n",
       "              ⎜  ╱   ξ_b  + ───────────── ⎟\n",
       "              ⎝╲╱                 2       ⎠"
      ]
     },
     "execution_count": 6,
     "metadata": {},
     "output_type": "execute_result"
    }
   ],
   "source": [
    "sy.Eq(sy.cos(theta_ss-phi),xi_w/sy.sqrt(xi_b**2+(xi_c-xi_b)**2/2))\n",
    "sy.Eq(theta_ss,phi-sy.acos(xi_w/sy.sqrt(xi_b**2+(xi_c-xi_b)**2/2)))"
   ]
  },
  {
   "cell_type": "markdown",
   "metadata": {
    "slideshow": {
     "slide_type": "slide"
    }
   },
   "source": [
    "### Open channel flow: cross-sectional area and wetted perimeter $p$"
   ]
  },
  {
   "cell_type": "markdown",
   "metadata": {
    "slideshow": {
     "slide_type": "slide"
    }
   },
   "source": [
    "Flow cross-sectional area $A$:"
   ]
  },
  {
   "cell_type": "code",
   "execution_count": 7,
   "metadata": {},
   "outputs": [
    {
     "data": {
      "image/png": "[encoded data removed]",
      "text/latex": [
       "$$A = d \\left(\\frac{d}{\\tan{\\left (\\theta \\right )}} + w\\right)$$"
      ],
      "text/plain": [
       "      ⎛  d       ⎞\n",
       "A = d⋅⎜────── + w⎟\n",
       "      ⎝tan(θ)    ⎠"
      ]
     },
     "execution_count": 7,
     "metadata": {},
     "output_type": "execute_result"
    }
   ],
   "source": [
    "cm.A_eqn_geom()"
   ]
  },
  {
   "cell_type": "code",
   "execution_count": 8,
   "metadata": {},
   "outputs": [
    {
     "data": {
      "image/png": "[encoded data removed]",
      "text/latex": [
       "$$A = \\frac{Q}{u}$$"
      ],
      "text/plain": [
       "    Q\n",
       "A = ─\n",
       "    u"
      ]
     },
     "execution_count": 8,
     "metadata": {},
     "output_type": "execute_result"
    }
   ],
   "source": [
    "cm.A_eqn_dyn()"
   ]
  },
  {
   "cell_type": "markdown",
   "metadata": {
    "slideshow": {
     "slide_type": "slide"
    }
   },
   "source": [
    "Wetted perimeter $p$:"
   ]
  },
  {
   "cell_type": "code",
   "execution_count": 9,
   "metadata": {},
   "outputs": [
    {
     "data": {
      "image/png": "[encoded data removed]",
      "text/latex": [
       "$$p = \\frac{2 d}{\\sin{\\left (\\theta \\right )}} + w$$"
      ],
      "text/plain": [
       "     2⋅d      \n",
       "p = ────── + w\n",
       "    sin(θ)    "
      ]
     },
     "execution_count": 9,
     "metadata": {},
     "output_type": "execute_result"
    }
   ],
   "source": [
    "cm.p_eqn()"
   ]
  },
  {
   "cell_type": "code",
   "execution_count": 10,
   "metadata": {},
   "outputs": [
    {
     "name": "stdout",
     "output_type": "stream",
     "text": [
      "    def R_eqn(self):\n",
      "        return sy.Eq(R, self.A_eqn_dyn().rhs/self.p_eqn().rhs).simplify()\n",
      "\n"
     ]
    },
    {
     "data": {
      "image/png": "[encoded data removed]",
      "text/latex": [
       "$$R = \\frac{Q \\sin{\\left (\\theta \\right )}}{u \\left(2 d + w \\sin{\\left (\\theta \\right )}\\right)}$$"
      ],
      "text/plain": [
       "         Q⋅sin(θ)     \n",
       "R = ──────────────────\n",
       "    u⋅(2⋅d + w⋅sin(θ))"
      ]
     },
     "execution_count": 10,
     "metadata": {},
     "output_type": "execute_result"
    }
   ],
   "source": [
    "print(getsource(cm.R_eqn))\n",
    "cm.R_eqn()"
   ]
  },
  {
   "cell_type": "markdown",
   "metadata": {
    "slideshow": {
     "slide_type": "slide"
    }
   },
   "source": [
    "### Open channel flow:  boundary shear stress $\\tau$ and shear velocity $u^*$"
   ]
  },
  {
   "cell_type": "markdown",
   "metadata": {
    "slideshow": {
     "slide_type": "slide"
    }
   },
   "source": [
    "Mean boundary shear stress $\\tau$, averaged along wetted perimeter $p$:"
   ]
  },
  {
   "cell_type": "code",
   "execution_count": 11,
   "metadata": {},
   "outputs": [
    {
     "name": "stdout",
     "output_type": "stream",
     "text": [
      "    def tau_eqn_raw(self):\n",
      "        return sy.Eq(tau,(rho*g*A*sy.sin(beta)/p).subs(A,self.A_eqn_dyn().rhs))\n",
      "\n"
     ]
    },
    {
     "data": {
      "image/png": "[encoded data removed]",
      "text/latex": [
       "$$\\tau = \\frac{Q g \\rho \\sin{\\left (\\beta \\right )}}{p u}$$"
      ],
      "text/plain": [
       "    Q⋅g⋅ρ⋅sin(β)\n",
       "τ = ────────────\n",
       "        p⋅u     "
      ]
     },
     "execution_count": 11,
     "metadata": {},
     "output_type": "execute_result"
    }
   ],
   "source": [
    "print(getsource(cm.tau_eqn_raw))\n",
    "cm.tau_eqn_raw()"
   ]
  },
  {
   "cell_type": "code",
   "execution_count": 12,
   "metadata": {},
   "outputs": [
    {
     "name": "stdout",
     "output_type": "stream",
     "text": [
      "    def tau_eqn_geom(self):\n",
      "        return self.tau_eqn_raw().subs(p,self.p_eqn().rhs).simplify()\n",
      "\n"
     ]
    },
    {
     "data": {
      "image/png": "[encoded data removed]",
      "text/latex": [
       "$$\\tau = \\frac{Q g \\rho \\sin{\\left (\\beta \\right )} \\sin{\\left (\\theta \\right )}}{u \\left(2 d + w \\sin{\\left (\\theta \\right )}\\right)}$$"
      ],
      "text/plain": [
       "    Q⋅g⋅ρ⋅sin(β)⋅sin(θ)\n",
       "τ = ───────────────────\n",
       "     u⋅(2⋅d + w⋅sin(θ))"
      ]
     },
     "execution_count": 12,
     "metadata": {},
     "output_type": "execute_result"
    }
   ],
   "source": [
    "print(getsource(cm.tau_eqn_geom))\n",
    "cm.tau_eqn_geom()"
   ]
  },
  {
   "cell_type": "markdown",
   "metadata": {
    "slideshow": {
     "slide_type": "slide"
    }
   },
   "source": [
    "Mean shear stress at a rough boundary:"
   ]
  },
  {
   "cell_type": "code",
   "execution_count": 13,
   "metadata": {},
   "outputs": [
    {
     "data": {
      "image/png": "[encoded data removed]",
      "text/latex": [
       "$$\\tau = f \\rho u^{2}$$"
      ],
      "text/plain": [
       "         2\n",
       "τ = f⋅ρ⋅u "
      ]
     },
     "execution_count": 13,
     "metadata": {},
     "output_type": "execute_result"
    }
   ],
   "source": [
    "cm.tau_eqn_friction()\n",
    "# cm.tau_eqn_manning_friction()"
   ]
  },
  {
   "cell_type": "markdown",
   "metadata": {
    "slideshow": {
     "slide_type": "slide"
    }
   },
   "source": [
    "Dimensionless friction factor $f$ and Chézy roughness coefficient $C$ (for which $C_Z = \\dfrac{1}{\\sqrt{g}C}$):"
   ]
  },
  {
   "cell_type": "code",
   "execution_count": 14,
   "metadata": {},
   "outputs": [
    {
     "data": {
      "image/png": "[encoded data removed]",
      "text/latex": [
       "$$f = C^{2} g$$"
      ],
      "text/plain": [
       "     2  \n",
       "f = C ⋅g"
      ]
     },
     "execution_count": 14,
     "metadata": {},
     "output_type": "execute_result"
    },
    {
     "data": {
      "image/png": "[encoded data removed]",
      "text/latex": [
       "$$f = 0.01$$"
      ],
      "text/plain": [
       "f = 0.01"
      ]
     },
     "execution_count": 14,
     "metadata": {},
     "output_type": "execute_result"
    }
   ],
   "source": [
    "cm.friction_eqn_chezy()\n",
    "_.subs(cm.get_params())"
   ]
  },
  {
   "cell_type": "markdown",
   "metadata": {
    "slideshow": {
     "slide_type": "slide"
    }
   },
   "source": [
    "Friction factor $f$ and Manning's $n$:"
   ]
  },
  {
   "cell_type": "code",
   "execution_count": 15,
   "metadata": {},
   "outputs": [
    {
     "data": {
      "image/png": "[encoded data removed]",
      "text/latex": [
       "$$f = \\frac{g n_{m}^{2}}{\\sqrt[3]{R}}$$"
      ],
      "text/plain": [
       "        2\n",
       "    g⋅nₘ \n",
       "f = ─────\n",
       "    3 ___\n",
       "    ╲╱ R "
      ]
     },
     "execution_count": 15,
     "metadata": {},
     "output_type": "execute_result"
    },
    {
     "data": {
      "image/png": "[encoded data removed]",
      "text/latex": [
       "$$f = 0.0100251952908636$$"
      ],
      "text/plain": [
       "f = 0.0100251952908636"
      ]
     },
     "execution_count": 15,
     "metadata": {},
     "output_type": "execute_result"
    },
    {
     "data": {
      "image/png": "[encoded data removed]",
      "text/latex": [
       "$$f = \\frac{g n_{m}^{2} \\sqrt[3]{u} \\sqrt[3]{2 d + w \\sin{\\left (\\theta \\right )}}}{\\sqrt[3]{Q} \\sqrt[3]{\\sin{\\left (\\theta \\right )}}}$$"
      ],
      "text/plain": [
       "        2 3 ___ 3 ________________\n",
       "    g⋅nₘ ⋅╲╱ u ⋅╲╱ 2⋅d + w⋅sin(θ) \n",
       "f = ──────────────────────────────\n",
       "           3 ___ 3 ________       \n",
       "           ╲╱ Q ⋅╲╱ sin(θ)        "
      ]
     },
     "execution_count": 15,
     "metadata": {},
     "output_type": "execute_result"
    },
    {
     "data": {
      "image/png": "[encoded data removed]",
      "text/latex": [
       "$$f = 0.00978499939166434$$"
      ],
      "text/plain": [
       "f = 0.00978499939166434"
      ]
     },
     "execution_count": 15,
     "metadata": {},
     "output_type": "execute_result"
    }
   ],
   "source": [
    "cm.friction_eqn_manning_raw()\n",
    "_.subs(cm.get_params())\n",
    "cm.friction_eqn_manning()\n",
    "_.subs(cm.get_params())"
   ]
  },
  {
   "cell_type": "markdown",
   "metadata": {
    "slideshow": {
     "slide_type": "slide"
    }
   },
   "source": [
    "Combining for each roughness model, we have mean boundary shear stress for Chézy versus Manning:"
   ]
  },
  {
   "cell_type": "code",
   "execution_count": 16,
   "metadata": {},
   "outputs": [
    {
     "data": {
      "image/png": "[encoded data removed]",
      "text/latex": [
       "$$\\tau = C^{2} g \\rho u^{2}$$"
      ],
      "text/plain": [
       "     2      2\n",
       "τ = C ⋅g⋅ρ⋅u "
      ]
     },
     "execution_count": 16,
     "metadata": {},
     "output_type": "execute_result"
    },
    {
     "data": {
      "image/png": "[encoded data removed]",
      "text/latex": [
       "$$\\tau = \\frac{g n_{m}^{2} \\rho u^{\\frac{7}{3}} \\sqrt[3]{2 d + w \\sin{\\left (\\theta \\right )}}}{\\sqrt[3]{Q} \\sqrt[3]{\\sin{\\left (\\theta \\right )}}}$$"
      ],
      "text/plain": [
       "        2    7/3 3 ________________\n",
       "    g⋅nₘ ⋅ρ⋅u   ⋅╲╱ 2⋅d + w⋅sin(θ) \n",
       "τ = ───────────────────────────────\n",
       "            3 ___ 3 ________       \n",
       "            ╲╱ Q ⋅╲╱ sin(θ)        "
      ]
     },
     "execution_count": 16,
     "metadata": {},
     "output_type": "execute_result"
    }
   ],
   "source": [
    "cm.tau_eqn_friction().subs(f,cm.friction_eqn_chezy().rhs)\n",
    "cm.tau_eqn_friction().subs(f,cm.friction_eqn_manning().rhs)"
   ]
  },
  {
   "cell_type": "markdown",
   "metadata": {
    "slideshow": {
     "slide_type": "slide"
    }
   },
   "source": [
    "The choice here is for:"
   ]
  },
  {
   "cell_type": "code",
   "execution_count": 17,
   "metadata": {},
   "outputs": [
    {
     "data": {
      "image/png": "[encoded data removed]",
      "text/latex": [
       "$$\\tau = C^{2} g \\rho u^{2}$$"
      ],
      "text/plain": [
       "     2      2\n",
       "τ = C ⋅g⋅ρ⋅u "
      ]
     },
     "execution_count": 17,
     "metadata": {},
     "output_type": "execute_result"
    }
   ],
   "source": [
    "cm.tau_eqn_dyn()"
   ]
  },
  {
   "cell_type": "markdown",
   "metadata": {
    "slideshow": {
     "slide_type": "slide"
    }
   },
   "source": [
    "Shear or friction \"velocity\" $u^*$:"
   ]
  },
  {
   "cell_type": "code",
   "execution_count": 18,
   "metadata": {},
   "outputs": [
    {
     "data": {
      "image/png": "[encoded data removed]",
      "text/latex": [
       "$$u^{*} = \\frac{\\sqrt{\\tau}}{\\sqrt{\\rho}}$$"
      ],
      "text/plain": [
       "       √τ\n",
       "u__* = ──\n",
       "       √ρ"
      ]
     },
     "execution_count": 18,
     "metadata": {},
     "output_type": "execute_result"
    }
   ],
   "source": [
    "cm.u_star_eqn_raw()"
   ]
  },
  {
   "cell_type": "code",
   "execution_count": 19,
   "metadata": {},
   "outputs": [
    {
     "data": {
      "image/png": "[encoded data removed]",
      "text/latex": [
       "$$\\left(u^{*}\\right)^{2} = C^{2} g u^{2}$$"
      ],
      "text/plain": [
       "    2    2    2\n",
       "u__*  = C ⋅g⋅u "
      ]
     },
     "execution_count": 19,
     "metadata": {},
     "output_type": "execute_result"
    },
    {
     "data": {
      "image/png": "[encoded data removed]",
      "text/latex": [
       "$$C = \\frac{1}{C_{Z} \\sqrt{g}}$$"
      ],
      "text/plain": [
       "      1   \n",
       "C = ──────\n",
       "    C_Z⋅√g"
      ]
     },
     "execution_count": 19,
     "metadata": {},
     "output_type": "execute_result"
    },
    {
     "data": {
      "image/png": "[encoded data removed]",
      "text/latex": [
       "$$C_{Z} = \\frac{u}{u^{*}}$$"
      ],
      "text/plain": [
       "       u  \n",
       "C_Z = ────\n",
       "      u__*"
      ]
     },
     "execution_count": 19,
     "metadata": {},
     "output_type": "execute_result"
    }
   ],
   "source": [
    "tmp = sy.Eq(u_star**2,(cm.u_star_eqn_raw().rhs**2).subs(tau,\n",
    "    cm.tau_eqn_friction().subs(f,cm.friction_eqn_chezy().rhs).rhs))\n",
    "tmp\n",
    "sy.Eq(C,1/(sy.sqrt(g)*Cz))\n",
    "sy.Eq(Cz,sy.solve(sy.Eq(C,sy.solve(tmp,C)[0]).subs(C,1/(sy.sqrt(g)*Cz)),Cz)[0])"
   ]
  },
  {
   "cell_type": "code",
   "execution_count": 20,
   "metadata": {},
   "outputs": [
    {
     "data": {
      "image/png": "[encoded data removed]",
      "text/latex": [
       "$$u^{*} = C \\sqrt{g} u$$"
      ],
      "text/plain": [
       "u__* = C⋅√g⋅u"
      ]
     },
     "execution_count": 20,
     "metadata": {},
     "output_type": "execute_result"
    }
   ],
   "source": [
    "cm.u_star_eqn().simplify()"
   ]
  },
  {
   "cell_type": "markdown",
   "metadata": {
    "slideshow": {
     "slide_type": "slide"
    }
   },
   "source": [
    "### Open channel flow: speed $u$"
   ]
  },
  {
   "cell_type": "code",
   "execution_count": 21,
   "metadata": {},
   "outputs": [
    {
     "data": {
      "image/png": "[encoded data removed]",
      "text/latex": [
       "$$\\left \\{ C : 0.0316227766016838, \\quad L : 1000.0, \\quad \\Omega_{r} : 10.0, \\quad Q : 1000.0, \\quad R : 2.76, \\quad U : 1.0, \\quad W : 50.0, \\quad \\beta_{0} : 0.001, \\quad \\chi : 0.1, \\quad d : d, \\quad d_{i} : 50.0, \\quad \\epsilon_{r} : 0.1, \\quad \\eta : 0.5, \\quad g : 10.0, \\quad \\mu : 0.75, \\quad n_{m} : 0.0375, \\quad \\nu : 1.0, \\quad \\phi : 0, \\quad \\theta : 0.785398163397448, \\quad u : u, \\quad u_{c} : 0, \\quad u_{i} : 5.0, \\quad w : 100.0, \\quad \\xi_{b} : 0, \\quad \\xi_{bc} : 0, \\quad \\xi_{c} : 0, \\quad \\xi_{w} : 0\\right \\}$$"
      ],
      "text/plain": [
       "{C: 0.0316227766016838, L: 1000.0, Ωᵣ: 10.0, Q: 1000.0, R: 2.76, U: 1.0, W: 50\n",
       ".0, β₀: 0.001, χ: 0.1, d: d, dᵢ: 50.0, εᵣ: 0.1, η: 0.5, g: 10.0, μ: 0.75, nₘ: \n",
       "0.0375, ν: 1.0, φ: 0, θ: 0.785398163397448, u: u, u_c: 0, uᵢ: 5.0, w: 100.0, ξ\n",
       "_b: 0, ξ_bc: 0, ξ_c: 0, ξ_w: 0}"
      ]
     },
     "execution_count": 21,
     "metadata": {},
     "output_type": "execute_result"
    }
   ],
   "source": [
    "pdict = cm.get_params()\n",
    "pdict.update({u:u,d:d})\n",
    "pdict"
   ]
  },
  {
   "cell_type": "markdown",
   "metadata": {},
   "source": [
    "Mean flow speed $u$ equations assuming an isoceles trapezoidal cross-section:"
   ]
  },
  {
   "cell_type": "code",
   "execution_count": 22,
   "metadata": {},
   "outputs": [
    {
     "data": {
      "image/png": "[encoded data removed]",
      "text/latex": [
       "$$u = \\frac{Q \\tan{\\left (\\theta \\right )}}{d \\left(d + w \\tan{\\left (\\theta \\right )}\\right)}$$"
      ],
      "text/plain": [
       "        Q⋅tan(θ)    \n",
       "u = ────────────────\n",
       "    d⋅(d + w⋅tan(θ))"
      ]
     },
     "execution_count": 22,
     "metadata": {},
     "output_type": "execute_result"
    },
    {
     "data": {
      "image/png": "[encoded data removed]",
      "text/latex": [
       "$$u = 1.9047619047619$$"
      ],
      "text/plain": [
       "u = 1.9047619047619"
      ]
     },
     "execution_count": 22,
     "metadata": {},
     "output_type": "execute_result"
    }
   ],
   "source": [
    "cm.u_eqn_geom()\n",
    "_.subs(pdict).subs(d,5)"
   ]
  },
  {
   "cell_type": "code",
   "execution_count": 31,
   "metadata": {},
   "outputs": [
    {
     "data": {
      "image/png": "[encoded data removed]",
      "text/latex": [
       "$$\\tau = \\frac{g n_{m}^{2} \\rho u^{\\frac{7}{3}} \\sqrt[3]{2 d + w \\sin{\\left (\\theta \\right )}}}{\\sqrt[3]{Q} \\sqrt[3]{\\sin{\\left (\\theta \\right )}}}$$"
      ],
      "text/plain": [
       "        2    7/3 3 ________________\n",
       "    g⋅nₘ ⋅ρ⋅u   ⋅╲╱ 2⋅d + w⋅sin(θ) \n",
       "τ = ───────────────────────────────\n",
       "            3 ___ 3 ________       \n",
       "            ╲╱ Q ⋅╲╱ sin(θ)        "
      ]
     },
     "execution_count": 31,
     "metadata": {},
     "output_type": "execute_result"
    },
    {
     "data": {
      "image/png": "[encoded data removed]",
      "text/latex": [
       "$$u^{10} = \\frac{Q^{4} \\sin^{3}{\\left (\\beta \\right )} \\sin^{4}{\\left (\\theta \\right )}}{n_{m}^{6} \\left(2 d + w \\sin{\\left (\\theta \\right )}\\right)^{4}}$$"
      ],
      "text/plain": [
       "         4    3       4    \n",
       " 10     Q ⋅sin (β)⋅sin (θ) \n",
       "u   = ─────────────────────\n",
       "        6                 4\n",
       "      nₘ ⋅(2⋅d + w⋅sin(θ)) "
      ]
     },
     "execution_count": 31,
     "metadata": {},
     "output_type": "execute_result"
    }
   ],
   "source": [
    "cm.set_friction_model('chezy')\n",
    "cm.tau_eqn_dyn()\n",
    "cm.u_eqn_dyn()"
   ]
  },
  {
   "cell_type": "code",
   "execution_count": 35,
   "metadata": {},
   "outputs": [
    {
     "data": {
      "image/png": "[encoded data removed]",
      "text/latex": [
       "$$\\tau = \\frac{g n_{m}^{2} \\rho u^{\\frac{7}{3}} \\sqrt[3]{2 d + w \\sin{\\left (\\theta \\right )}}}{\\sqrt[3]{Q} \\sqrt[3]{\\sin{\\left (\\theta \\right )}}}$$"
      ],
      "text/plain": [
       "        2    7/3 3 ________________\n",
       "    g⋅nₘ ⋅ρ⋅u   ⋅╲╱ 2⋅d + w⋅sin(θ) \n",
       "τ = ───────────────────────────────\n",
       "            3 ___ 3 ________       \n",
       "            ╲╱ Q ⋅╲╱ sin(θ)        "
      ]
     },
     "execution_count": 35,
     "metadata": {},
     "output_type": "execute_result"
    },
    {
     "data": {
      "image/png": "[encoded data removed]",
      "text/latex": [
       "$$u^{10} = \\frac{Q^{4} \\sin^{3}{\\left (\\beta \\right )} \\sin^{4}{\\left (\\theta \\right )}}{n_{m}^{6} \\left(2 d + w \\sin{\\left (\\theta \\right )}\\right)^{4}}$$"
      ],
      "text/plain": [
       "         4    3       4    \n",
       " 10     Q ⋅sin (β)⋅sin (θ) \n",
       "u   = ─────────────────────\n",
       "        6                 4\n",
       "      nₘ ⋅(2⋅d + w⋅sin(θ)) "
      ]
     },
     "execution_count": 35,
     "metadata": {},
     "output_type": "execute_result"
    }
   ],
   "source": [
    "cm.set_friction_model('manning')\n",
    "cm.tau_eqn_dyn()\n",
    "cm.u_eqn_dyn()"
   ]
  },
  {
   "cell_type": "markdown",
   "metadata": {
    "slideshow": {
     "slide_type": "slide"
    }
   },
   "source": [
    "### Open channel flow: depth $d$"
   ]
  },
  {
   "cell_type": "markdown",
   "metadata": {},
   "source": [
    "Flow depth $d$ (above centerline) equations assuming an isoceles trapezoidal cross-section:"
   ]
  },
  {
   "cell_type": "code",
   "execution_count": 25,
   "metadata": {},
   "outputs": [
    {
     "data": {
      "image/png": "[encoded data removed]",
      "text/latex": [
       "$$d = - \\frac{w \\tan{\\left (\\theta \\right )}}{2} + \\frac{\\sqrt{4 Q + u w^{2} \\tan{\\left (\\theta \\right )}} \\sqrt{\\tan{\\left (\\theta \\right )}}}{2 \\sqrt{u}}$$"
      ],
      "text/plain": [
       "                    ___________________           \n",
       "                   ╱          2           ________\n",
       "      w⋅tan(θ)   ╲╱  4⋅Q + u⋅w ⋅tan(θ) ⋅╲╱ tan(θ) \n",
       "d = - ──────── + ─────────────────────────────────\n",
       "         2                      2⋅√u              "
      ]
     },
     "execution_count": 25,
     "metadata": {},
     "output_type": "execute_result"
    }
   ],
   "source": [
    "cm.d_eqn_geom()"
   ]
  },
  {
   "cell_type": "code",
   "execution_count": 26,
   "metadata": {},
   "outputs": [
    {
     "data": {
      "image/png": "[encoded data removed]",
      "text/latex": [
       "$$d = \\left(- \\frac{w}{2} + \\frac{Q \\sin{\\left (\\beta \\right )}}{2 C^{2} u^{3}}\\right) \\sin{\\left (\\theta \\right )}$$"
      ],
      "text/plain": [
       "    ⎛  w   Q⋅sin(β)⎞       \n",
       "d = ⎜- ─ + ────────⎟⋅sin(θ)\n",
       "    ⎜  2      2  3 ⎟       \n",
       "    ⎝      2⋅C ⋅u  ⎠       "
      ]
     },
     "execution_count": 26,
     "metadata": {},
     "output_type": "execute_result"
    }
   ],
   "source": [
    "cm.set_friction_model('chezy')\n",
    "cm.d_eqn_dyn()"
   ]
  },
  {
   "cell_type": "code",
   "execution_count": 27,
   "metadata": {},
   "outputs": [
    {
     "data": {
      "image/png": "[encoded data removed]",
      "text/latex": [
       "$$d = - \\frac{\\left(- Q \\sqrt[4]{\\sin^{3}{\\left (\\beta \\right )}} + n_{m}^{\\frac{3}{2}} u^{\\frac{5}{2}} w\\right) \\sin{\\left (\\theta \\right )}}{2 n_{m}^{\\frac{3}{2}} u^{\\frac{5}{2}}}$$"
      ],
      "text/plain": [
       "     ⎛       _________               ⎞        \n",
       "     ⎜    4 ╱    3         3/2  5/2  ⎟        \n",
       "    -⎝- Q⋅╲╱  sin (β)  + nₘ   ⋅u   ⋅w⎠⋅sin(θ) \n",
       "d = ──────────────────────────────────────────\n",
       "                       3/2  5/2               \n",
       "                   2⋅nₘ   ⋅u                  "
      ]
     },
     "execution_count": 27,
     "metadata": {},
     "output_type": "execute_result"
    }
   ],
   "source": [
    "cm.set_friction_model('manning')\n",
    "cm.d_eqn_dyn()"
   ]
  },
  {
   "cell_type": "code",
   "execution_count": 36,
   "metadata": {},
   "outputs": [
    {
     "data": {
      "image/png": "[encoded data removed]",
      "text/latex": [
       "$$u^{10} = \\frac{89893996256510.9}{\\left(2 d + 70.7106781186547\\right)^{4}}$$"
      ],
      "text/plain": [
       " 10        89893996256510.9    \n",
       "u   = ─────────────────────────\n",
       "                              4\n",
       "      (2⋅d + 70.7106781186547) "
      ]
     },
     "execution_count": 36,
     "metadata": {},
     "output_type": "execute_result"
    },
    {
     "data": {
      "image/png": "[encoded data removed]",
      "text/latex": [
       "$$d = -35.3553390593273 + \\frac{1539.58147288616}{u^{\\frac{5}{2}}}$$"
      ],
      "text/plain": [
       "                        1539.58147288616\n",
       "d = -35.3553390593273 + ────────────────\n",
       "                               5/2      \n",
       "                              u         "
      ]
     },
     "execution_count": 36,
     "metadata": {},
     "output_type": "execute_result"
    },
    {
     "data": {
      "image/png": "[encoded data removed]",
      "text/latex": [
       "$$4.79891266841208$$"
      ],
      "text/plain": [
       "4.79891266841208"
      ]
     },
     "execution_count": 36,
     "metadata": {},
     "output_type": "execute_result"
    }
   ],
   "source": [
    "cm.u_eqn_dyn().subs(pdict).subs({n_m:8,beta:0.01})\n",
    "sy.Eq(d,sy.solve(_,d)[0].simplify())\n",
    "sy.N(_.rhs.subs(u,4.3))\n",
    "# [soln.subs(pdict).subs({nm:8,beta:0.001}) for soln in cm.u_eqn_dyn()]"
   ]
  },
  {
   "cell_type": "code",
   "execution_count": 38,
   "metadata": {},
   "outputs": [
    {
     "data": {
      "image/png": "[encoded data removed]",
      "text/latex": [
       "$$u^{10} = \\frac{Q^{4} \\sin^{3}{\\left (\\beta \\right )} \\sin^{4}{\\left (\\theta \\right )}}{n_{m}^{6} \\left(2 d + w \\sin{\\left (\\theta \\right )}\\right)^{4}}$$"
      ],
      "text/plain": [
       "         4    3       4    \n",
       " 10     Q ⋅sin (β)⋅sin (θ) \n",
       "u   = ─────────────────────\n",
       "        6                 4\n",
       "      nₘ ⋅(2⋅d + w⋅sin(θ)) "
      ]
     },
     "execution_count": 38,
     "metadata": {},
     "output_type": "execute_result"
    },
    {
     "data": {
      "image/png": "[encoded data removed]",
      "text/latex": [
       "$$d = - \\frac{\\left(- Q \\sqrt[4]{\\sin^{3}{\\left (\\beta \\right )}} + n_{m}^{\\frac{3}{2}} u^{\\frac{5}{2}} w\\right) \\sin{\\left (\\theta \\right )}}{2 n_{m}^{\\frac{3}{2}} u^{\\frac{5}{2}}}$$"
      ],
      "text/plain": [
       "     ⎛       _________               ⎞        \n",
       "     ⎜    4 ╱    3         3/2  5/2  ⎟        \n",
       "    -⎝- Q⋅╲╱  sin (β)  + nₘ   ⋅u   ⋅w⎠⋅sin(θ) \n",
       "d = ──────────────────────────────────────────\n",
       "                       3/2  5/2               \n",
       "                   2⋅nₘ   ⋅u                  "
      ]
     },
     "execution_count": 38,
     "metadata": {},
     "output_type": "execute_result"
    },
    {
     "data": {
      "image/png": "[encoded data removed]",
      "text/latex": [
       "$$5.22665836447989$$"
      ],
      "text/plain": [
       "5.22665836447989"
      ]
     },
     "execution_count": 38,
     "metadata": {},
     "output_type": "execute_result"
    }
   ],
   "source": [
    "cm.u_eqn_dyn()\n",
    "cm.d_eqn_dyn()\n",
    "sy.N(cm.d_eqn_dyn().rhs.subs(cm.get_params()).subs({beta:0.0035})) "
   ]
  },
  {
   "cell_type": "markdown",
   "metadata": {
    "slideshow": {
     "slide_type": "slide"
    }
   },
   "source": [
    "### Open channel flow: explicit solutions for depth $d$ and flow $u$"
   ]
  },
  {
   "cell_type": "markdown",
   "metadata": {},
   "source": [
    "Combining to yield polynomials for $u$ and $d$:"
   ]
  },
  {
   "cell_type": "code",
   "execution_count": 30,
   "metadata": {},
   "outputs": [
    {
     "ename": "AttributeError",
     "evalue": "'new_model' object has no attribute 'ucubed_eqn_dyn'",
     "output_type": "error",
     "traceback": [
      "\u001b[0;31m---------------------------------------------------------------------------\u001b[0m",
      "\u001b[0;31mAttributeError\u001b[0m                            Traceback (most recent call last)",
      "\u001b[0;32m<ipython-input-30-25e80e762532>\u001b[0m in \u001b[0;36m<module>\u001b[0;34m()\u001b[0m\n\u001b[0;32m----> 1\u001b[0;31m \u001b[0mcm\u001b[0m\u001b[0;34m.\u001b[0m\u001b[0md_eqn_poly\u001b[0m\u001b[0;34m(\u001b[0m\u001b[0;34m)\u001b[0m\u001b[0;34m\u001b[0m\u001b[0m\n\u001b[0m\u001b[1;32m      2\u001b[0m \u001b[0m_\u001b[0m\u001b[0;34m.\u001b[0m\u001b[0msubs\u001b[0m\u001b[0;34m(\u001b[0m\u001b[0;34m{\u001b[0m\u001b[0mC\u001b[0m\u001b[0;34m:\u001b[0m\u001b[0;36m1\u001b[0m\u001b[0;34m,\u001b[0m\u001b[0mQ\u001b[0m\u001b[0;34m:\u001b[0m\u001b[0;36m1\u001b[0m\u001b[0;34m,\u001b[0m\u001b[0mbeta\u001b[0m\u001b[0;34m:\u001b[0m\u001b[0msy\u001b[0m\u001b[0;34m.\u001b[0m\u001b[0mpi\u001b[0m\u001b[0;34m/\u001b[0m\u001b[0;36m4\u001b[0m\u001b[0;34m,\u001b[0m\u001b[0mtheta\u001b[0m\u001b[0;34m:\u001b[0m\u001b[0msy\u001b[0m\u001b[0;34m.\u001b[0m\u001b[0mpi\u001b[0m\u001b[0;34m/\u001b[0m\u001b[0;36m4\u001b[0m\u001b[0;34m,\u001b[0m\u001b[0mw\u001b[0m\u001b[0;34m:\u001b[0m\u001b[0;36m1\u001b[0m\u001b[0;34m}\u001b[0m\u001b[0;34m)\u001b[0m\u001b[0;34m.\u001b[0m\u001b[0msimplify\u001b[0m\u001b[0;34m(\u001b[0m\u001b[0;34m)\u001b[0m\u001b[0;34m\u001b[0m\u001b[0m\n",
      "\u001b[0;32m~/Work/BedrockRiver/open_channel_flow.py\u001b[0m in \u001b[0;36md_eqn_poly\u001b[0;34m(self)\u001b[0m\n\u001b[1;32m    125\u001b[0m \u001b[0;34m\u001b[0m\u001b[0m\n\u001b[1;32m    126\u001b[0m     \u001b[0;32mdef\u001b[0m \u001b[0md_eqn_poly\u001b[0m\u001b[0;34m(\u001b[0m\u001b[0mself\u001b[0m\u001b[0;34m)\u001b[0m\u001b[0;34m:\u001b[0m\u001b[0;34m\u001b[0m\u001b[0m\n\u001b[0;32m--> 127\u001b[0;31m         \u001b[0md_eqn\u001b[0m \u001b[0;34m=\u001b[0m \u001b[0msy\u001b[0m\u001b[0;34m.\u001b[0m\u001b[0mEq\u001b[0m\u001b[0;34m(\u001b[0m\u001b[0;36m1\u001b[0m\u001b[0;34m/\u001b[0m\u001b[0mself\u001b[0m\u001b[0;34m.\u001b[0m\u001b[0mu_eqn_geom\u001b[0m\u001b[0;34m(\u001b[0m\u001b[0;34m)\u001b[0m\u001b[0;34m.\u001b[0m\u001b[0mrhs\u001b[0m\u001b[0;34m**\u001b[0m\u001b[0;36m3\u001b[0m\u001b[0;34m,\u001b[0m\u001b[0;36m1\u001b[0m\u001b[0;34m/\u001b[0m\u001b[0;34m(\u001b[0m\u001b[0mself\u001b[0m\u001b[0;34m.\u001b[0m\u001b[0mucubed_eqn_dyn\u001b[0m\u001b[0;34m(\u001b[0m\u001b[0;34m)\u001b[0m\u001b[0;34m.\u001b[0m\u001b[0mrhs\u001b[0m\u001b[0;34m)\u001b[0m\u001b[0;34m)\u001b[0m\u001b[0;34m\u001b[0m\u001b[0m\n\u001b[0m\u001b[1;32m    128\u001b[0m         \u001b[0;32mreturn\u001b[0m \u001b[0msy\u001b[0m\u001b[0;34m.\u001b[0m\u001b[0mEq\u001b[0m\u001b[0;34m(\u001b[0m\u001b[0md_eqn\u001b[0m\u001b[0;34m.\u001b[0m\u001b[0mas_poly\u001b[0m\u001b[0;34m(\u001b[0m\u001b[0md\u001b[0m\u001b[0;34m)\u001b[0m\u001b[0;34m.\u001b[0m\u001b[0margs\u001b[0m\u001b[0;34m[\u001b[0m\u001b[0;36m0\u001b[0m\u001b[0;34m]\u001b[0m\u001b[0;34m)\u001b[0m\u001b[0;34m\u001b[0m\u001b[0m\n\u001b[1;32m    129\u001b[0m \u001b[0;34m\u001b[0m\u001b[0m\n",
      "\u001b[0;31mAttributeError\u001b[0m: 'new_model' object has no attribute 'ucubed_eqn_dyn'"
     ]
    }
   ],
   "source": [
    "cm.d_eqn_poly()\n",
    "_.subs({C:1,Q:1,beta:sy.pi/4,theta:sy.pi/4,w:1}).simplify()"
   ]
  },
  {
   "cell_type": "code",
   "execution_count": null,
   "metadata": {},
   "outputs": [],
   "source": [
    "cm.u_eqn_poly()\n",
    "_.subs({C:1,Q:1,beta:sy.pi/4,theta:sy.pi/4,w:1}).simplify()"
   ]
  },
  {
   "cell_type": "markdown",
   "metadata": {},
   "source": [
    "By finding the positive real roots of these equations, we can obtain $d$ and then $u$ from wall tilt $\\theta$, base width $w$ and channel base slope $\\beta$, together with $C$ and $Q$. We can then obtain values for boundary shear stress $\\tau$ and shear velocity $u^*$."
   ]
  },
  {
   "cell_type": "markdown",
   "metadata": {
    "slideshow": {
     "slide_type": "slide"
    }
   },
   "source": [
    "### Bedload sediment flux $q_b$"
   ]
  },
  {
   "cell_type": "markdown",
   "metadata": {
    "slideshow": {
     "slide_type": "slide"
    }
   },
   "source": [
    "### Suspended sediment flux fractions on wall $q_w$ and corner $q_c$"
   ]
  },
  {
   "cell_type": "code",
   "execution_count": null,
   "metadata": {},
   "outputs": [],
   "source": [
    "# varphi = sy.symbols('varphi',  positive=True ) \n",
    "# f_varphi = sy.Function('varphi', positive=True)(Z)\n",
    "# q_ss  = sy.symbols('q_ss',  positive=True ) \n",
    "# f_q_ss = sy.Function('q_ss', positive=True)(Z)\n",
    "# q_w, q_c, q_b  = sy.symbols('q_w, q_c, q_b',  positive=True ) \n"
   ]
  },
  {
   "cell_type": "code",
   "execution_count": null,
   "metadata": {},
   "outputs": [],
   "source": [
    "varphi_eqn = sy.Eq(f_varphi, sy.log(Z/k)*((1-Z)/Z)**nu / ((1-Z_0)/Z_0)**nu)\n",
    "varphi_eqn\n",
    "varphi_lambda = sy.lambdify((Z,nu,k,Z_0),varphi_eqn.rhs,'sympy')"
   ]
  },
  {
   "cell_type": "code",
   "execution_count": null,
   "metadata": {},
   "outputs": [],
   "source": [
    "# sy.integrate(varphi_eqn.rhs.subs(nu,sy.Rational(3,2)),(Z,Z_0,x))"
   ]
  },
  {
   "cell_type": "code",
   "execution_count": null,
   "metadata": {},
   "outputs": [],
   "source": [
    "# sy.integrate(varphi_eqn.rhs.subs(nu,nu+1),(Z,Z_0,Z_0+x))"
   ]
  },
  {
   "cell_type": "code",
   "execution_count": null,
   "metadata": {},
   "outputs": [],
   "source": [
    "# varphi_eqn2 = sy.Eq(f_varphi, sy.log(Z/k)*((1-Z)/Z)**nu)\n",
    "# varphi_eqn2.rhs.subs(nu,nu+1).subs(Z,Z+Z_0)\n",
    "# sy.integrate( varphi_eqn2.rhs.subs(nu,nu+1).subs(Z,Z+Z_0) ,Z)"
   ]
  },
  {
   "cell_type": "code",
   "execution_count": null,
   "metadata": {},
   "outputs": [],
   "source": [
    "# ((Z_0/(1-Z_0))**nu)*(nu*sy.pi/sy.sin(nu*sy.pi))*(\n",
    "#     -sy.log(Z_0)+sy.digamma(1-nu)+sy.digamma(2)\n",
    "#     +Z_0\n",
    "# )"
   ]
  },
  {
   "cell_type": "code",
   "execution_count": null,
   "metadata": {},
   "outputs": [],
   "source": [
    "# sy.simplify(qss_integral.rhs.subs(nu,2))"
   ]
  },
  {
   "cell_type": "code",
   "execution_count": null,
   "metadata": {},
   "outputs": [],
   "source": [
    "nZ = 10\n",
    "dZ = 1/nZ\n",
    "k_x = 0.1/30\n",
    "Z_0x = 0.01\n",
    "z_0x = 0.01\n",
    "nu_x = 0.03/(0.4*0.2)\n",
    "# nu_x = 0.06/(0.4*0.2)\n",
    "varphi_lambda(Z_0x,nu_x,k_x,Z_0x)"
   ]
  },
  {
   "cell_type": "code",
   "execution_count": null,
   "metadata": {},
   "outputs": [],
   "source": [
    "qss_integral = \\\n",
    "    sy.Eq(f_q_ss,\n",
    "            1/(nu-1) * Z**(1-nu)*(\n",
    "                       nu*sy.hyper([1-nu,1-nu,1-nu],[2-nu,2-nu],Z)/(1-nu)\n",
    "                    - sy.hyper([1-nu,-nu],[2-nu],Z)*(sy.log(Z/k)-1)\n",
    "            )/ ((1-Z_0)/Z_0)**nu)\n",
    "qss_integral\n",
    "qss_lambda = sy.lambdify((Z,nu,k,Z_0),qss_integral.rhs,'sympy')"
   ]
  },
  {
   "cell_type": "code",
   "execution_count": null,
   "metadata": {},
   "outputs": [],
   "source": [
    "delta_Z_x = 0.0001\n",
    "Z_x = 0.1\n",
    "sy.N( \n",
    "   qss_integral.rhs.subs({Z:Z_x+delta_Z_x/2,nu:nu_x,k:k_x,Z_0:Z_0x})\n",
    "  -qss_integral.rhs.subs({Z:Z_x-delta_Z_x/2,nu:nu_x,k:k_x,Z_0:Z_0x})\n",
    "   )/delta_Z_x\n",
    "np.float( (qss_lambda(Z_x+delta_Z_x/2,nu_x,k_x,Z_0x)\n",
    "          -qss_lambda(Z_x-delta_Z_x/2,nu_x,k_x,Z_0x))/delta_Z_x )"
   ]
  },
  {
   "cell_type": "code",
   "execution_count": null,
   "metadata": {},
   "outputs": [],
   "source": [
    "def qss_portions_dimless(Z,nu,k,Z_0):\n",
    "    qss_upper = sy.N(qss_lambda(1,nu,k,Z_0))\n",
    "    qss_Z     = sy.N(qss_lambda(Z,nu,k,Z_0))\n",
    "    qss_lower = sy.N(qss_lambda(Z_0,nu,k,Z_0))\n",
    "    return np.float((qss_Z-qss_lower)/(Z-Z_0)), np.float((qss_upper-qss_lower)/(1-(Z-Z_0)))\n",
    "def qss_portions(d,z,nu,k,z_0):\n",
    "    return qss_portions_dimless(z/d,nu,k,z_0/d)"
   ]
  },
  {
   "cell_type": "code",
   "execution_count": null,
   "metadata": {},
   "outputs": [],
   "source": [
    "d_x = 1\n",
    "qss_portions_dimless(Z_x,nu_x,k_x,Z_0x)\n",
    "qss_portions(d_x,Z_x*d_x,nu_x,k_x,Z_0x*d_x)"
   ]
  },
  {
   "cell_type": "code",
   "execution_count": null,
   "metadata": {},
   "outputs": [],
   "source": [
    "q_cx, q_wx = qss_portions(d_x,Z_x*d_x,nu_x,k_x,Z_0x*d_x)\n",
    "sy.Eq(q_w, q_wx)\n",
    "sy.Eq(q_c, q_cx)"
   ]
  },
  {
   "cell_type": "markdown",
   "metadata": {
    "slideshow": {
     "slide_type": "slide"
    }
   },
   "source": [
    "## Numerical exploration"
   ]
  },
  {
   "cell_type": "markdown",
   "metadata": {
    "slideshow": {
     "slide_type": "slide"
    }
   },
   "source": [
    "### Parameters"
   ]
  },
  {
   "cell_type": "code",
   "execution_count": null,
   "metadata": {},
   "outputs": [],
   "source": [
    "cm.set_params(  {chi:0} )\n",
    "cm.set_params(  {theta:cm.pi/4, Omega_r:10} )\n",
    "cm.set_params(  {epsilon_r:0.1} )\n",
    "cm.set_params(  {u_i:5,d_i:30} )\n",
    "cm.get_params()"
   ]
  },
  {
   "cell_type": "markdown",
   "metadata": {
    "slideshow": {
     "slide_type": "slide"
    }
   },
   "source": [
    "### Channel base width and wall tilt evolution: $\\{\\dot{w},\\dot\\theta\\}(t)$"
   ]
  },
  {
   "cell_type": "code",
   "execution_count": null,
   "metadata": {
    "scrolled": true
   },
   "outputs": [],
   "source": [
    "cm.set_params(  {Q:250,mu:0.2,eta:2} )\n",
    "cm.get_params()\n",
    "w_range = (0.1,300)\n",
    "import numpy as np\n",
    "(ode_integrations_list, t_w_chi_beta0_vecs_list, \n",
    " w_chi_beta0_interp_as_t_list, t_w_chi_beta0_resampled_vecs_list) \\\n",
    "  = cm.ode_integrate_w_chi_beta0(t_span=[0.0,1500],\n",
    "                                 initial_state=np.array([50,0.05,0.001]))"
   ]
  },
  {
   "cell_type": "code",
   "execution_count": null,
   "metadata": {
    "scrolled": false
   },
   "outputs": [],
   "source": [
    "t_w_chi_beta0_resampled_vecs_list.round(4)\n",
    "np.mean(t_w_chi_beta0_resampled_vecs_list[:,3])\n",
    "cm.get_params({beta_0:None, Q:None})"
   ]
  },
  {
   "cell_type": "code",
   "execution_count": null,
   "metadata": {
    "scrolled": true
   },
   "outputs": [],
   "source": [
    "cm.reset_params()\n",
    "cm.set_params(  {Q:3000,mu:1,eta:2} )\n",
    "cm.get_params()\n",
    "w_range = (0.1,300)\n",
    "import numpy as np\n",
    "(ode_integrations_list, t_w_chi_beta0_vecs_list, \n",
    " w_chi_beta0_interp_as_t_list, t_w_chi_beta0_resampled_vecs_list) \\\n",
    "  = cm.ode_integrate_w_chi_beta0(t_span=[0.0,1500],\n",
    "                                 initial_state=np.array([50,0.05,0.001]))"
   ]
  },
  {
   "cell_type": "code",
   "execution_count": null,
   "metadata": {},
   "outputs": [],
   "source": [
    "t_w_chi_beta0_resampled_vecs_list.round(4)\n",
    "np.mean(t_w_chi_beta0_resampled_vecs_list[:,3])\n",
    "cm.get_params({beta_0:5, Q:None})\n",
    "cm.get_params()"
   ]
  },
  {
   "cell_type": "code",
   "execution_count": null,
   "metadata": {},
   "outputs": [],
   "source": [
    "plt.plot(t_w_chi_beta0_resampled_vecs_list[:,0],\n",
    "         t_w_chi_beta0_resampled_vecs_list[:,3]);"
   ]
  }
 ],
 "metadata": {
  "hide_input": false,
  "kernelspec": {
   "display_name": "Python 3",
   "language": "python",
   "name": "python3"
  },
  "language_info": {
   "codemirror_mode": {
    "name": "ipython",
    "version": 3
   },
   "file_extension": ".py",
   "mimetype": "text/x-python",
   "name": "python",
   "nbconvert_exporter": "python",
   "pygments_lexer": "ipython3",
   "version": "3.6.6"
  },
  "toc": {
   "colors": {
    "hover_highlight": "#daa520",
    "navigate_num": "#000000",
    "navigate_text": "#333333",
    "running_highlight": "#FF0000",
    "selected_highlight": "#FFD700",
    "sidebar_border": "#EEEEEE",
    "wrapper_background": "#FFFFFF"
   },
   "moveMenuLeft": false,
   "nav_menu": {
    "height": "324px",
    "width": "252px"
   },
   "navigate_menu": true,
   "number_sections": true,
   "sideBar": true,
   "threshold": "2",
   "toc_cell": true,
   "toc_position": {
    "height": "998px",
    "left": "0px",
    "right": "708px",
    "top": "92px",
    "width": "212px"
   },
   "toc_section_display": "block",
   "toc_window_display": false,
   "widenNotebook": false
  }
 },
 "nbformat": 4,
 "nbformat_minor": 2
}
