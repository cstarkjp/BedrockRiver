{
 "cells": [
  {
   "cell_type": "markdown",
   "metadata": {
    "slideshow": {
     "slide_type": "slide"
    }
   },
   "source": [
    "# Simultaneous bedrock weathering & erosion"
   ]
  },
  {
   "cell_type": "markdown",
   "metadata": {
    "heading_collapsed": true,
    "slideshow": {
     "slide_type": "slide"
    }
   },
   "source": [
    "## Python setup"
   ]
  },
  {
   "cell_type": "code",
   "execution_count": 1,
   "metadata": {
    "hidden": true,
    "slideshow": {
     "slide_type": "subslide"
    }
   },
   "outputs": [],
   "source": [
    "# import bedrock_river as br, \n",
    "import sympy as sy, numpy as np, matplotlib.pyplot as plt\n",
    "from sympy import Eq\n",
    "# from dill.source import getsource\n",
    "sy.init_printing(pretty_print=True,wrap_line=True)\n",
    "# from symbols import *\n",
    "import skfmm\n",
    "xy_inches = (8,6)"
   ]
  },
  {
   "cell_type": "code",
   "execution_count": 2,
   "metadata": {
    "hidden": true,
    "slideshow": {
     "slide_type": "subslide"
    }
   },
   "outputs": [],
   "source": [
    "# cm = br.channel.new_model()\n",
    "# cm.get_params()"
   ]
  },
  {
   "cell_type": "markdown",
   "metadata": {
    "heading_collapsed": true,
    "slideshow": {
     "slide_type": "slide"
    }
   },
   "source": [
    "## Recipe"
   ]
  },
  {
   "cell_type": "markdown",
   "metadata": {
    "hidden": true
   },
   "source": [
    "1. "
   ]
  },
  {
   "cell_type": "markdown",
   "metadata": {
    "slideshow": {
     "slide_type": "slide"
    }
   },
   "source": [
    "## Expts"
   ]
  },
  {
   "cell_type": "code",
   "execution_count": 131,
   "metadata": {},
   "outputs": [
    {
     "data": {
      "image/png": "[encoded data removed]",
      "text/latex": [
       "$$F_{w} = \\frac{w_{0}}{k v_{0}}$$"
      ],
      "text/plain": [
       "       w₀ \n",
       "F_w = ────\n",
       "      k⋅v₀"
      ]
     },
     "execution_count": 131,
     "metadata": {},
     "output_type": "execute_result"
    },
    {
     "data": {
      "image/png": "[encoded data removed]",
      "text/latex": [
       "$$F_{w} = 16.6666666666667$$"
      ],
      "text/plain": [
       "F_w = 16.6666666666667"
      ]
     },
     "execution_count": 131,
     "metadata": {},
     "output_type": "execute_result"
    }
   ],
   "source": [
    "F_w, w_0, v_0, k = sy.symbols('F_w w_0 v_0 k', positive=True)\n",
    "Delta_x, Delta_t = sy.symbols('\\\\Delta{x} \\\\Delta{t}', positive=True)\n",
    "\n",
    "F_w_eqn = sy.Eq(F_w, w_0/(k*v_0))\n",
    "F_w_eqn\n",
    "\n",
    "# w_0__ = np.float64(2.0)\n",
    "# v_0__ = np.float64(0.5)\n",
    "# k__   = np.float64(0.5)\n",
    "\n",
    "# x_domain_size = 20.0\n",
    "# t_domain_size = 200\n",
    "# Delta_x__ = 0.01\n",
    "# Delta_t__ = 0.01\n",
    "\n",
    "w_0__ = np.float64(5.0)\n",
    "v_0__ = np.float64(0.3)\n",
    "k__   = np.float64(1)\n",
    "\n",
    "x_domain_size = 30.0\n",
    "t_domain_size = 200\n",
    "Delta_x__ = 0.01\n",
    "Delta_t__ = 0.02\n",
    "\n",
    "n_x_domain = np.int64(x_domain_size/Delta_x__)+1\n",
    "t_n_steps  = np.int64(t_domain_size/Delta_t__)+1\n",
    "\n",
    "F_w_eqn.subs({w_0:w_0__, v_0:v_0__, k:k__})\n",
    "F_w__ = np.float64(_.rhs)"
   ]
  },
  {
   "cell_type": "code",
   "execution_count": 132,
   "metadata": {
    "scrolled": false
   },
   "outputs": [
    {
     "name": "stdout",
     "output_type": "stream",
     "text": [
      "7314\n",
      "eta = [0. 0. 0. ... 0. 0. 0.]\n",
      "f = [0.0000e+00 1.0000e-03 2.0000e-03 ... 2.9989e+01 2.9994e+01 0.0000e+00]\n",
      "v = [0.000e+00 6.000e-02 6.100e-02 ... 2.420e-01 2.430e-01 1.463e+02]\n"
     ]
    },
    {
     "data": {
      "image/png": "[encoded data removed]",
      "text/latex": [
       "$$F_{w} = 16.6666666666667$$"
      ],
      "text/plain": [
       "F_w = 16.6666666666667"
      ]
     },
     "execution_count": 132,
     "metadata": {},
     "output_type": "execute_result"
    },
    {
     "name": "stdout",
     "output_type": "stream",
     "text": [
      "nu_s = 0.2767792535850613\n"
     ]
    }
   ],
   "source": [
    "eta_array = np.zeros((t_n_steps,n_x_domain),dtype=np.float64)\n",
    "eta_array[0] = np.ones(n_x_domain,dtype=np.float64)\n",
    "phi_array = np.zeros((t_n_steps),dtype=np.float64)\n",
    "x_array   = np.linspace(0,x_domain_size,n_x_domain)\n",
    "t_array   = np.linspace(0,t_domain_size,t_n_steps)\n",
    "v_array   = np.linspace(0,t_domain_size,t_n_steps)\n",
    "H = np.heaviside\n",
    "def expH(x):\n",
    "    return np.exp(-x*H(x,0))\n",
    "\n",
    "# print('x =',x_array)\n",
    "for j,t_step in enumerate(t_array[:-1]):\n",
    "    f__ = np.int64(phi_array[j]/Delta_x__)\n",
    "    fp1__ = f__+1\n",
    "    fp2__ = f__+2\n",
    "    if fp2__>=n_x_domain:\n",
    "        break\n",
    "    Delta_phi__ = (eta_array[j,f__]/F_w__)*Delta_t__\n",
    "    v_array[j+1] = Delta_phi__/Delta_t__\n",
    "    phi_array[j+1] = phi_array[j]+Delta_phi__\n",
    "#     print(eta_array[j,fp1__],eta_array[j,f__],eta_array[j,fp1__]-eta_array[j,f__])\n",
    "    eta_array[j+1,f__] = (\n",
    "          eta_array[j,f__] \n",
    "        + (Delta_phi__/Delta_x__)*(eta_array[j,fp1__]-eta_array[j,f__])\n",
    "        + Delta_t__*expH(x_array[f__]-phi_array[j])\n",
    "    )\n",
    "    eta_array[j+1,fp1__:-1] = (\n",
    "          eta_array[j,fp1__:-1] \n",
    "        + (Delta_phi__/Delta_x__)*(eta_array[j,fp2__:]-eta_array[j,fp1__:-1])\n",
    "        + Delta_t__*expH(x_array[fp1__:-1]-phi_array[j])\n",
    "    )\n",
    "#     d_eta_2 = eta_array[j,-2]-eta_array[j,-3]\n",
    "#     d_eta_1 = eta_array[j,-1]-eta_array[j,-2]\n",
    "#     d_eta_0 = d_eta_1-d_eta_2\n",
    "    eta_array[j+1,-1] = (\n",
    "          eta_array[j,-1] \n",
    "        + (Delta_phi__/Delta_x__)*(eta_array[j,-1]-eta_array[j,-2])*0.98\n",
    "        + Delta_t__*expH(x_array[-1]-phi_array[j])\n",
    "    )\n",
    "print(j)\n",
    "print('eta =',np.round(eta_array[j+1],3))\n",
    "print('f =',np.round(phi_array[:j+2],3))\n",
    "print('v =',np.round(v_array[:j+2],3))\n",
    "F_w_eqn.subs({w_0:w_0__, v_0:v_0__, k:k__})\n",
    "print('nu_s =',0.5*(1+np.sqrt(1+4*F_w__))/F_w__)"
   ]
  },
  {
   "cell_type": "code",
   "execution_count": 133,
   "metadata": {},
   "outputs": [
    {
     "data": {
      "image/png": "[encoded data removed]",
      "text/plain": [
       "<Figure size 700x500 with 1 Axes>"
      ]
     },
     "metadata": {
      "needs_background": "light"
     },
     "output_type": "display_data"
    }
   ],
   "source": [
    "fig = plt.figure()\n",
    "fig.set_size_inches(7,5)\n",
    "fig.set_dpi(100)\n",
    "plt.plot(eta_array[30])\n",
    "plt.plot(eta_array[j//2])\n",
    "plt.plot(eta_array[j+1]);"
   ]
  },
  {
   "cell_type": "code",
   "execution_count": 134,
   "metadata": {},
   "outputs": [],
   "source": [
    "def eta_model(tau,chi,F_w):\n",
    "    nu_s = 0.5*(1+np.sqrt(1+4*F_w))\n",
    "    print(nu_s,F_w)\n",
    "    return 1+(F_w/nu_s)*np.exp(-(chi))\n",
    "\n",
    "tau__ = t_array[-1]\n",
    "# chi__ = x_array\n",
    "# tau__ \n",
    "# chi__"
   ]
  },
  {
   "cell_type": "code",
   "execution_count": 135,
   "metadata": {},
   "outputs": [
    {
     "data": {
      "image/png": "[encoded data removed]",
      "text/latex": [
       "$$3.4401598873353705$$"
      ],
      "text/plain": [
       "3.4401598873353705"
      ]
     },
     "execution_count": 135,
     "metadata": {},
     "output_type": "execute_result"
    },
    {
     "name": "stdout",
     "output_type": "stream",
     "text": [
      "3.4297326385411577 8.333333333333334\n"
     ]
    },
    {
     "data": {
      "text/plain": [
       "[<matplotlib.lines.Line2D at 0x1294fca58>]"
      ]
     },
     "execution_count": 135,
     "metadata": {},
     "output_type": "execute_result"
    },
    {
     "data": {
      "text/plain": [
       "[<matplotlib.lines.Line2D at 0x128f5d630>]"
      ]
     },
     "execution_count": 135,
     "metadata": {},
     "output_type": "execute_result"
    },
    {
     "data": {
      "text/plain": [
       "<matplotlib.legend.Legend at 0x1294fcbe0>"
      ]
     },
     "execution_count": 135,
     "metadata": {},
     "output_type": "execute_result"
    },
    {
     "data": {
      "image/png": "[encoded data removed]",
      "text/plain": [
       "<Figure size 700x500 with 1 Axes>"
      ]
     },
     "metadata": {
      "needs_background": "light"
     },
     "output_type": "display_data"
    }
   ],
   "source": [
    "j__ = (j*3)//4\n",
    "phi__ = phi_array[j__]\n",
    "phi0__ = int(phi__/Delta_x__)\n",
    "y__ = x_array[phi0__:]-x_array[phi0__] #+Delta_x__/2\n",
    "\n",
    "np.max(eta_array[j__,:])\n",
    "eta_numerical = eta_array[j__,phi0__:]\n",
    "eta_analytical = eta_model(tau__,y__,F_w__/2)\n",
    "\n",
    "fig = plt.figure()\n",
    "fig.set_size_inches(7,5)\n",
    "fig.set_dpi(100)\n",
    "plt.plot(y__,eta_numerical, label='numerical');\n",
    "plt.plot(y__,eta_analytical , label='analytical'  );\n",
    "# plt.plot(y__,eta_numerical/eta_analytical , label='numerical/analytical'  );\n",
    "# plt.autoscale(enable=True, tight=True, axis='x')\n",
    "plt.legend()"
   ]
  },
  {
   "cell_type": "code",
   "execution_count": null,
   "metadata": {},
   "outputs": [],
   "source": []
  },
  {
   "cell_type": "code",
   "execution_count": null,
   "metadata": {},
   "outputs": [],
   "source": []
  },
  {
   "cell_type": "code",
   "execution_count": null,
   "metadata": {},
   "outputs": [],
   "source": []
  },
  {
   "cell_type": "code",
   "execution_count": null,
   "metadata": {},
   "outputs": [],
   "source": []
  },
  {
   "cell_type": "code",
   "execution_count": null,
   "metadata": {},
   "outputs": [],
   "source": []
  },
  {
   "cell_type": "code",
   "execution_count": null,
   "metadata": {},
   "outputs": [],
   "source": []
  },
  {
   "cell_type": "code",
   "execution_count": null,
   "metadata": {},
   "outputs": [],
   "source": []
  },
  {
   "cell_type": "code",
   "execution_count": null,
   "metadata": {},
   "outputs": [],
   "source": []
  }
 ],
 "metadata": {
  "hide_input": false,
  "kernelspec": {
   "display_name": "Python 3",
   "language": "python",
   "name": "python3"
  },
  "language_info": {
   "codemirror_mode": {
    "name": "ipython",
    "version": 3
   },
   "file_extension": ".py",
   "mimetype": "text/x-python",
   "name": "python",
   "nbconvert_exporter": "python",
   "pygments_lexer": "ipython3",
   "version": "3.6.7"
  },
  "toc": {
   "colors": {
    "hover_highlight": "#daa520",
    "navigate_num": "#000000",
    "navigate_text": "#333333",
    "running_highlight": "#FF0000",
    "selected_highlight": "#FFD700",
    "sidebar_border": "#EEEEEE",
    "wrapper_background": "#FFFFFF"
   },
   "moveMenuLeft": false,
   "nav_menu": {
    "height": "324px",
    "width": "252px"
   },
   "navigate_menu": true,
   "number_sections": true,
   "sideBar": true,
   "threshold": "2",
   "toc_cell": true,
   "toc_position": {
    "height": "998px",
    "left": "0px",
    "right": "708px",
    "top": "92px",
    "width": "212px"
   },
   "toc_section_display": "block",
   "toc_window_display": false,
   "widenNotebook": false
  }
 },
 "nbformat": 4,
 "nbformat_minor": 2
}
