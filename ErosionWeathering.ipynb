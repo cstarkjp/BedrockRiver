{
 "cells": [
  {
   "cell_type": "markdown",
   "metadata": {
    "slideshow": {
     "slide_type": "slide"
    }
   },
   "source": [
    "# Weathering-limited erosion isn't limited by weathering alone"
   ]
  },
  {
   "cell_type": "markdown",
   "metadata": {},
   "source": [
    "Jakob 2013 (in Encyclopedia of Geomorphology, ed. Andrew Goudie): \n",
    "\n",
    "  - _a weathering-limited system is one in which the supply of material determines the flux of mass_"
   ]
  },
  {
   "cell_type": "markdown",
   "metadata": {
    "heading_collapsed": true,
    "slideshow": {
     "slide_type": "slide"
    }
   },
   "source": [
    "### Python preliminaries"
   ]
  },
  {
   "cell_type": "code",
   "execution_count": 1,
   "metadata": {
    "hidden": true,
    "slideshow": {
     "slide_type": "subslide"
    }
   },
   "outputs": [],
   "source": [
    "import matplotlib as mpl, os, sympy as sy, numpy as np, matplotlib.pyplot as plt\n",
    "from sympy import Eq\n",
    "sy.init_printing(pretty_print=True,wrap_line=True)\n",
    "%config InlineBackend.figure_format = 'retina'\n",
    "mpl.rc( 'font', size=12)"
   ]
  },
  {
   "cell_type": "markdown",
   "metadata": {
    "slideshow": {
     "slide_type": "slide"
    }
   },
   "source": [
    "## Weathering-limited erosion as a moving boundary problem"
   ]
  },
  {
   "cell_type": "markdown",
   "metadata": {},
   "source": [
    "\\begin{equation}\n",
    "    \\dfrac{\\partial\\eta}{\\partial{t}} + \\dfrac{\\partial{f}}{\\partial{t}} \n",
    "                                      \\dfrac{\\partial\\eta}{\\partial{x}}\n",
    "    = w_0\\, e^{-k(x-f)}\n",
    "\\end{equation}\n",
    "\n",
    "\\begin{equation}\n",
    "    \\dfrac{\\partial{f}}{\\partial{t}} = v_0\\,\\eta(f(t))\n",
    "\\end{equation}"
   ]
  },
  {
   "cell_type": "markdown",
   "metadata": {},
   "source": [
    "Once at steady-state, the front $f(t)$ moves at constant speed $v_s$. By fixing an arbitrary time origin $t=0$ at which steady-state has been achieved, the front position $f_s(t)$ translates linearly with time:\n",
    "\n",
    "\\begin{equation}\n",
    "    f_s(t) = v_s t\n",
    "\\end{equation}\n",
    "\n",
    "\\begin{equation}\n",
    "    v_s = \\dfrac{\\partial{f_s}}{\\partial{t}} = v_0\\,\\eta(f_s(t))\n",
    "\\end{equation}"
   ]
  },
  {
   "cell_type": "markdown",
   "metadata": {},
   "source": [
    "At steady-state the weathering profile $\\eta(x,t)$ reaches a stable form $\\eta_s(x-f_s)$ and thus at the front $x=f_s$,\n",
    "\n",
    "\\begin{equation}\n",
    "    \\eta(f_s,t) = \\eta_s(0)\n",
    "\\end{equation}\n",
    "\n",
    "and the steady-state speed of motion of the erosion front is:\n",
    "\n",
    "\\begin{equation}\n",
    "    v_s = v_0\\,\\eta_s(0)\n",
    "\\end{equation}"
   ]
  },
  {
   "cell_type": "markdown",
   "metadata": {},
   "source": [
    "Non-dimensionalizing:\n",
    "\n",
    "\\begin{equation}\n",
    "\\begin{array}{c}\n",
    "    \\tau = w_0 t \\\\\n",
    "    \\chi = k x \\\\\n",
    "    \\varphi = k f \\,,\\,\\, \\varphi_s = k f_s \\\\\n",
    "    \\nu_s = \\dfrac{v_s}{v_0}\n",
    "\\end{array}\n",
    "\\end{equation}\n",
    "\n",
    "suggests the following dimensionless \"weathering number\":\n",
    "\n",
    "\\begin{equation}\n",
    "    W \\equiv \\dfrac{w_0}{k v_0}\n",
    "\\end{equation}\n",
    "\n",
    "which is effectively the ratio of the speed of motion of the weathering front to the speed of erosion of unweathered rock."
   ]
  },
  {
   "cell_type": "markdown",
   "metadata": {},
   "source": [
    "\\begin{equation}\n",
    "    W \\dfrac{\\partial\\varphi}{\\partial\\tau} = \\eta(\\varphi)\n",
    "\\end{equation}\n",
    "\n",
    "\\begin{equation}\n",
    "    \\dfrac{\\partial\\eta}{\\partial\\tau} + \\dfrac{\\partial\\varphi}{\\partial\\tau} \n",
    "                                         \\dfrac{\\partial\\eta}{\\partial\\chi}\n",
    "    = e^{-(\\chi-\\varphi)}\n",
    "\\end{equation}\n",
    "\n"
   ]
  },
  {
   "cell_type": "markdown",
   "metadata": {},
   "source": [
    "Forcing erosion front motion to its steady-state speed leads to its dimensionless position $\\varphi_s$ to be:\n",
    "\n",
    "\\begin{equation}\n",
    "    \\varphi_s = \\frac{\\nu_s}{W} \\tau\n",
    "\\end{equation}"
   ]
  },
  {
   "cell_type": "markdown",
   "metadata": {},
   "source": [
    "Substituting, we have the pde:\n",
    "\n",
    "\\begin{equation}\n",
    "    \\dfrac{\\partial\\eta}{\\partial\\tau} + \\dfrac{\\nu_s}{W}\\dfrac{\\partial\\eta}{\\partial\\chi}\n",
    "    = \\exp\\left[-\\left(\\chi-\\dfrac{\\nu_s}{W}\\tau\\right)\\right]\n",
    "\\end{equation}\n",
    "\n",
    "\\begin{equation}\n",
    "    \\eta(\\chi,0) = \\eta_s(\\chi)\n",
    "\\end{equation}"
   ]
  },
  {
   "cell_type": "markdown",
   "metadata": {},
   "source": [
    "Since the steady solution $\\eta_s(\\chi)$ is time-invariant, we can reduce the pde in $(\\chi,\\tau)$ into an ode in $\\chi-\\nu_s\\tau/W$, i.e., with the variable change:\n",
    "\n",
    "\\begin{equation}\n",
    "    \\chi_s = \\chi - \\dfrac{\\nu_s}{W}\\tau\n",
    "\\end{equation}\n",
    "\n",
    "\\begin{equation}\n",
    "    \\dfrac{\\mathrm{d}\\eta}{\\mathrm{d}\\chi_s} \n",
    "    = \\dfrac{\\partial\\eta}{\\partial\\tau}\\dfrac{\\mathrm{d}\\tau}{\\mathrm{d}\\chi_s}\n",
    "        + \\dfrac{\\partial\\eta}{\\partial\\chi}\\dfrac{\\mathrm{d}\\chi}{\\mathrm{d}\\chi_s}\n",
    "    = -\\dfrac{W}{\\nu_s}\\dfrac{\\partial\\eta}{\\partial\\tau}\n",
    "        + \\dfrac{\\partial\\eta}{\\partial\\chi}\n",
    "\\end{equation}\n",
    "\n",
    "thus\n",
    "\n",
    "\\begin{equation}\n",
    "    -\\dfrac{\\nu_s}{W}\\dfrac{\\mathrm{d}\\eta}{\\mathrm{d}\\chi_s} \n",
    "    = \\dfrac{\\partial\\eta}{\\partial\\tau}\n",
    "         -\\dfrac{\\nu_s}{W}\\dfrac{\\partial\\eta}{\\partial\\chi}\n",
    "\\end{equation}\n"
   ]
  },
  {
   "cell_type": "markdown",
   "metadata": {
    "slideshow": {
     "slide_type": "slide"
    }
   },
   "source": [
    "## Analytical solution"
   ]
  },
  {
   "cell_type": "markdown",
   "metadata": {},
   "source": [
    "1. "
   ]
  },
  {
   "cell_type": "markdown",
   "metadata": {
    "slideshow": {
     "slide_type": "slide"
    }
   },
   "source": [
    "## Numerical solution"
   ]
  },
  {
   "cell_type": "code",
   "execution_count": 2,
   "metadata": {},
   "outputs": [
    {
     "data": {
      "image/png": "[encoded data removed]",
      "text/latex": [
       "$$W = \\frac{w_{0}}{k v_{0}}$$"
      ],
      "text/plain": [
       "     w₀ \n",
       "W = ────\n",
       "    k⋅v₀"
      ]
     },
     "execution_count": 2,
     "metadata": {},
     "output_type": "execute_result"
    },
    {
     "data": {
      "image/png": "[encoded data removed]",
      "text/latex": [
       "$$W = 16.6666666666667$$"
      ],
      "text/plain": [
       "W = 16.6666666666667"
      ]
     },
     "execution_count": 2,
     "metadata": {},
     "output_type": "execute_result"
    }
   ],
   "source": [
    "W, w_0, v_0, k = sy.symbols('W w_0 v_0 k', positive=True)\n",
    "Delta_x, Delta_t = sy.symbols('\\\\Delta{x} \\\\Delta{t}', positive=True)\n",
    "\n",
    "W_eqn = sy.Eq(W, w_0/(k*v_0))\n",
    "W_eqn\n",
    "\n",
    "w_0__ = np.float64(5.0)\n",
    "v_0__ = np.float64(0.3)\n",
    "k__   = np.float64(1)\n",
    "\n",
    "x_domain_size = 30.0\n",
    "t_domain_size = 200\n",
    "Delta_x__ = 0.01\n",
    "Delta_t__ = 0.02\n",
    "\n",
    "n_x_domain = np.int64(x_domain_size/Delta_x__)+1\n",
    "t_n_steps  = np.int64(t_domain_size/Delta_t__)+1\n",
    "\n",
    "W_eqn.subs({w_0:w_0__, v_0:v_0__, k:k__})\n",
    "W__ = np.float64(_.rhs)"
   ]
  },
  {
   "cell_type": "code",
   "execution_count": 3,
   "metadata": {},
   "outputs": [],
   "source": [
    "H = np.heaviside\n",
    "\n",
    "def expH(x):\n",
    "    return np.exp(-x*H(x,0))\n",
    "\n",
    "def eta_model(tau,chi,W):\n",
    "    nu_s = 0.5*(1+np.sqrt(1+4*W))\n",
    "    return (1+(W/nu_s)*np.exp(-(chi)))*H(chi,0)"
   ]
  },
  {
   "cell_type": "code",
   "execution_count": null,
   "metadata": {
    "scrolled": false
   },
   "outputs": [],
   "source": [
    "eta_array = np.zeros((t_n_steps,n_x_domain),dtype=np.float64)\n",
    "eta_array[0] = np.ones(n_x_domain,dtype=np.float64)\n",
    "phi_array = np.zeros((t_n_steps),dtype=np.float64)\n",
    "x_array   = np.linspace(0,x_domain_size,n_x_domain)\n",
    "t_array   = np.linspace(0,t_domain_size,t_n_steps)\n",
    "v_array   = np.linspace(0,t_domain_size,t_n_steps)\n",
    "\n",
    "for j,t_step in enumerate(t_array[:-1]):\n",
    "    f__ = np.int64(phi_array[j]/Delta_x__)\n",
    "    fp1__ = f__+1\n",
    "    fp2__ = f__+2\n",
    "    if fp2__>=n_x_domain:\n",
    "        break\n",
    "    Delta_phi__ = (eta_array[j,f__]/W__)*Delta_t__/2\n",
    "    v_array[j+1] = Delta_phi__/Delta_t__*2\n",
    "    phi_array[j+1] = phi_array[j]+Delta_phi__\n",
    "    eta_array[j+1,f__] = (\n",
    "          eta_array[j,f__] \n",
    "        + (Delta_phi__/Delta_x__)*(eta_array[j,fp1__]-eta_array[j,f__])\n",
    "        + Delta_t__*expH(x_array[f__]-phi_array[j])\n",
    "    )\n",
    "    eta_array[j+1,fp1__:-1] = (\n",
    "          eta_array[j,fp1__:-1] \n",
    "        + (Delta_phi__/Delta_x__)*(eta_array[j,fp2__:]-eta_array[j,fp1__:-1])\n",
    "        + Delta_t__*expH(x_array[fp1__:-1]-phi_array[j])\n",
    "    )\n",
    "    eta_array[j+1,-1] = (\n",
    "          eta_array[j,-1] \n",
    "        + (Delta_phi__/Delta_x__)*(eta_array[j,-1]-eta_array[j,-2])*0.98\n",
    "        + Delta_t__*expH(x_array[-1]-phi_array[j])\n",
    "    )\n",
    "# print('eta =',np.round(eta_array[j+1],3))\n",
    "# print('f =',np.round(phi_array[:j+2],3))\n",
    "print('nu_s (numerical)  ≈',np.round(np.mean(v_array[j-10:j+2]),3))\n",
    "print('nu_s (analytical) =',np.round(0.5*(1+np.sqrt(1+4*W__))/W__,3))"
   ]
  },
  {
   "cell_type": "markdown",
   "metadata": {
    "slideshow": {
     "slide_type": "slide"
    }
   },
   "source": [
    "## Plotting"
   ]
  },
  {
   "cell_type": "code",
   "execution_count": null,
   "metadata": {},
   "outputs": [],
   "source": [
    "fig_solns = plt.figure()\n",
    "fig_solns.set_size_inches(7,5)\n",
    "fig_solns.set_dpi(100)\n",
    "\n",
    "t_slices1 = np.linspace(0,(t_n_steps-1)//25,num=3,endpoint=True,dtype=np.int64)\n",
    "t_slices2 = np.linspace((t_n_steps-1)//10,j+1,num=5,endpoint=True,dtype=np.int64)\n",
    "t_slices = np.concatenate((t_slices1,t_slices2))\n",
    "cmap = plt.cm.brg.reversed()\n",
    "for idx,t_slice in enumerate(t_slices):\n",
    "    plt.plot(x_array,eta_array[t_slice],color=cmap(idx/t_slices.size),\n",
    "             label='$\\\\tau$={}'.format(t_array[t_slice]))\n",
    "plt.legend(loc='upper right')\n",
    "plt.xlabel('Distance  $\\chi$  [-]');\n",
    "plt.ylabel('Weakness  $\\eta(\\chi,\\\\tau)$  [-]');"
   ]
  },
  {
   "cell_type": "code",
   "execution_count": null,
   "metadata": {
    "scrolled": false
   },
   "outputs": [],
   "source": [
    "j__ = (j*3)//4\n",
    "i_offset = n_x_domain//30\n",
    "phi__ = phi_array[j__]\n",
    "phi0__ = int(phi__/Delta_x__)-i_offset\n",
    "y__ = x_array[phi0__:]-x_array[phi0__+i_offset]\n",
    "tau__ = t_array[-1]\n",
    "\n",
    "# print('eta_0 =',np.max(eta_array[j__,:]))\n",
    "eta_numerical = eta_array[j__,phi0__:]\n",
    "eta_analytical = eta_model(tau__,y__,W__)\n",
    "\n",
    "fig_ss = plt.figure()\n",
    "fig_ss.set_size_inches(7,5)\n",
    "fig_ss.set_dpi(100)\n",
    "\n",
    "plt.plot(y__,eta_numerical, c='k', lw=1, label='numerical');\n",
    "plt.plot(y__,eta_analytical, c='r', ls=(0, (4, 5)), lw=2, label='analytical'  );\n",
    "# plt.plot(y__,eta_numerical/eta_analytical , label='numerical/analytical'  );\n",
    "plt.autoscale(enable=True, tight=True, axis='x')\n",
    "plt.legend()\n",
    "plt.xlabel('Distance relative to front  $\\chi-\\\\varphi(\\\\tau)$  [-]');\n",
    "plt.ylabel('Weakness  $\\eta(\\chi,\\\\tau)$  [-]');"
   ]
  },
  {
   "cell_type": "markdown",
   "metadata": {
    "slideshow": {
     "slide_type": "slide"
    }
   },
   "source": [
    "## Export"
   ]
  },
  {
   "cell_type": "code",
   "execution_count": null,
   "metadata": {},
   "outputs": [],
   "source": [
    "import sys\n",
    "results_dir = os.path.join('.','ErosionWeatheringResults')\n",
    "try:\n",
    "    if not os.path.exists(results_dir):\n",
    "        os.mkdir(results_dir)\n",
    "except:  \n",
    "    raise\n",
    "try:\n",
    "    fig_solns.savefig(os.path.join(results_dir,'eroding_weakness_solns.pdf'))\n",
    "    fig_ss.savefig(os.path.join(results_dir,'eroding_weakness_ss.pdf'))\n",
    "except OSError:  \n",
    "    print('Failed to save figures as PDFs')\n",
    "    raise\n",
    "except:\n",
    "    raise"
   ]
  }
 ],
 "metadata": {
  "hide_input": false,
  "kernelspec": {
   "display_name": "Python 3",
   "language": "python",
   "name": "python3"
  },
  "language_info": {
   "codemirror_mode": {
    "name": "ipython",
    "version": 3
   },
   "file_extension": ".py",
   "mimetype": "text/x-python",
   "name": "python",
   "nbconvert_exporter": "python",
   "pygments_lexer": "ipython3",
   "version": "3.6.7"
  },
  "toc": {
   "colors": {
    "hover_highlight": "#daa520",
    "navigate_num": "#000000",
    "navigate_text": "#333333",
    "running_highlight": "#FF0000",
    "selected_highlight": "#FFD700",
    "sidebar_border": "#EEEEEE",
    "wrapper_background": "#FFFFFF"
   },
   "moveMenuLeft": false,
   "nav_menu": {
    "height": "324px",
    "width": "252px"
   },
   "navigate_menu": true,
   "number_sections": true,
   "sideBar": true,
   "threshold": "2",
   "toc_cell": true,
   "toc_position": {
    "height": "998px",
    "left": "0px",
    "right": "708px",
    "top": "92px",
    "width": "212px"
   },
   "toc_section_display": "block",
   "toc_window_display": false,
   "widenNotebook": false
  }
 },
 "nbformat": 4,
 "nbformat_minor": 2
}
